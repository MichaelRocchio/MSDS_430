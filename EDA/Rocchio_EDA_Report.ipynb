{
 "cells": [
  {
   "cell_type": "markdown",
   "metadata": {},
   "source": [
    "# EDA Final"
   ]
  },
  {
   "cell_type": "markdown",
   "metadata": {},
   "source": [
    "## I. Adding Compute Resources"
   ]
  },
  {
   "cell_type": "code",
   "execution_count": 1,
   "metadata": {},
   "outputs": [
    {
     "name": "stdout",
     "output_type": "stream",
     "text": [
      "Architecture:                    x86_64\n",
      "CPU op-mode(s):                  32-bit, 64-bit\n",
      "Address sizes:                   48 bits physical, 48 bits virtual\n",
      "Byte Order:                      Little Endian\n",
      "CPU(s):                          96\n",
      "On-line CPU(s) list:             0-95\n",
      "Vendor ID:                       AuthenticAMD\n",
      "Model name:                      AMD EPYC 7R13 Processor\n",
      "CPU family:                      25\n",
      "Model:                           1\n",
      "Thread(s) per core:              2\n",
      "Core(s) per socket:              48\n",
      "Socket(s):                       1\n",
      "Stepping:                        1\n",
      "BogoMIPS:                        5299.98\n",
      "\n",
      "Total Ram: 184 Gb\n"
     ]
    }
   ],
   "source": [
    "import subprocess\n",
    "import psutil\n",
    "import os\n",
    "## I am going to be using a c6a.24xlarge EC2 instance/\n",
    "\n",
    "## Is this absolute overkill? \n",
    "## Probably.\n",
    "\n",
    "## Do I care? \n",
    "## No. I have free AWS credits that are expiring soon. \n",
    "\n",
    "values = psutil.virtual_memory()\n",
    "total = values.total >> 30\n",
    "print(subprocess.check_output(\"lscpu\", shell=True).strip().decode().split(\"Flags:\",1)[0])\n",
    "print('Total Ram: {} Gb'.format(total))\n"
   ]
  },
  {
   "cell_type": "markdown",
   "metadata": {},
   "source": [
    "## II. Introduction"
   ]
  },
  {
   "cell_type": "markdown",
   "metadata": {},
   "source": [
    "### Info about the dataset:\n",
    "The UN Global Trade database is a free, publicly accessible database of international trade statistics that covers both imports and exports by country. The data is organized in three levels of detail:\n",
    "\n",
    "The UN Global Trade Database contains detailed information on the volume and value of imports and exports for all countries. It cover some 200 categories and include both imports and exports. Imports represent the use by one economy of goods or services produced in another economy, while exports represent the use by one economy of its own goods or services produced for sale to another country."
   ]
  },
  {
   "cell_type": "markdown",
   "metadata": {},
   "source": [
    "### Why this is important to me:\n",
    "The UN Trade Data is important because it helps to track the flow of goods across the world. This data is used to better understand trade patterns, identify countries that are potential trading partners, and monitor how governments are enforcing trade agreements.\n",
    "\n",
    "As a data scientist, UN trade data is important because it helps someone  understand what's happening in the world. I actually used it in my role of risk analysis at Wells Fargo.\n",
    "\n",
    "I can use the data to answer questions such as:\n",
    "What are the most traded goods? \n",
    "How is trade changing over time? \n",
    "What are the top trading partners? \n",
    "What are some of the most interesting trends in trade?"
   ]
  },
  {
   "cell_type": "markdown",
   "metadata": {},
   "source": [
    "### Hypothesis\n",
    "I think there are certian factors that impact GDP and I would like to find them and measure their correlations to my base dataset."
   ]
  },
  {
   "cell_type": "markdown",
   "metadata": {},
   "source": [
    "## III.Data Explained"
   ]
  },
  {
   "cell_type": "markdown",
   "metadata": {},
   "source": [
    "##### Link to Data Source: http://data.un.org"
   ]
  },
  {
   "cell_type": "markdown",
   "metadata": {},
   "source": [
    "#### Data Dictionary\n",
    "##### Column        Dtype   -- Description \n",
    "##### COUNTRY_AREA  object  -- The name of the country.\n",
    "##### YEAR          int64   -- The year of the trading activity.\n",
    "##### COMMODITY     object  -- What type of commodity was traded.\n",
    "##### FLOW          object  -- If the commodity was an import or export.\n",
    "##### TRADEUSD      float64 -- How much, in USD, was exchanged for the items.\n",
    "##### WEIGHTKG      float64 -- How much the total trading weighted; if it was measured in KG. \n",
    "##### QUANTITYNAME  object  -- The identifier to match with the quantity. It can be Weight in any of the following:\n",
    "kilograms, No Quantity, Number of items, Volume in litres, Number of packages, Thousands of items, Dozen of items, Volume in cubic meters, Area in square metres, Length in metres, Number of pairs, Electrical energy in thousands of kilowatt-hours, Weight in carats\n",
    "\n",
    "##### QUANTITY      float64 -- How much of the QUANTITYNAME that was traded.\n",
    "##### ORIGIN_FILE   object  -- The original highlevel category that this data was pulled from."
   ]
  },
  {
   "cell_type": "markdown",
   "metadata": {},
   "source": [
    "### Cleaning the Data:\n",
    "\n",
    "##### This dataset was quite easy to clean. It was very well kept by the UN. I will have to do some additional cleaning steps after I join it to other datasets that contain potential predictors of trade."
   ]
  },
  {
   "cell_type": "markdown",
   "metadata": {},
   "source": [
    "#### This dataset has quite alot of dimensionality. I am going to set out to find if certian metrics of a country can predict its overall trade. "
   ]
  },
  {
   "cell_type": "markdown",
   "metadata": {},
   "source": [
    "## IV. Results"
   ]
  },
  {
   "cell_type": "code",
   "execution_count": 2,
   "metadata": {},
   "outputs": [
    {
     "data": {
      "text/html": [
       "<div>\n",
       "<style scoped>\n",
       "    .dataframe tbody tr th:only-of-type {\n",
       "        vertical-align: middle;\n",
       "    }\n",
       "\n",
       "    .dataframe tbody tr th {\n",
       "        vertical-align: top;\n",
       "    }\n",
       "\n",
       "    .dataframe thead th {\n",
       "        text-align: right;\n",
       "    }\n",
       "</style>\n",
       "<table border=\"1\" class=\"dataframe\">\n",
       "  <thead>\n",
       "    <tr style=\"text-align: right;\">\n",
       "      <th></th>\n",
       "      <th>COUNTRY_AREA</th>\n",
       "      <th>YEAR</th>\n",
       "      <th>COMMODITY</th>\n",
       "      <th>FLOW</th>\n",
       "      <th>TRADEUSD</th>\n",
       "      <th>WEIGHTKG</th>\n",
       "      <th>QUANTITYNAME</th>\n",
       "      <th>QUANTITY</th>\n",
       "      <th>ORIGIN_FILE</th>\n",
       "    </tr>\n",
       "  </thead>\n",
       "  <tbody>\n",
       "    <tr>\n",
       "      <th>0</th>\n",
       "      <td>Afghanistan</td>\n",
       "      <td>2018</td>\n",
       "      <td>Sweet biscuits, waffles and wafers</td>\n",
       "      <td>Import</td>\n",
       "      <td>9.659279e+06</td>\n",
       "      <td>8310819.00</td>\n",
       "      <td>Weight in kilograms</td>\n",
       "      <td>8310819.00</td>\n",
       "      <td>UNdata19</td>\n",
       "    </tr>\n",
       "    <tr>\n",
       "      <th>1</th>\n",
       "      <td>Albania</td>\n",
       "      <td>2018</td>\n",
       "      <td>Infant foods of cereals, flour, starch or milk...</td>\n",
       "      <td>Import</td>\n",
       "      <td>1.034729e+06</td>\n",
       "      <td>104542.60</td>\n",
       "      <td>Weight in kilograms</td>\n",
       "      <td>104542.60</td>\n",
       "      <td>UNdata19</td>\n",
       "    </tr>\n",
       "    <tr>\n",
       "      <th>2</th>\n",
       "      <td>Albania</td>\n",
       "      <td>2018</td>\n",
       "      <td>Mixes and doughs for bread, pastry, biscuits, ...</td>\n",
       "      <td>Import</td>\n",
       "      <td>1.201180e+06</td>\n",
       "      <td>586785.15</td>\n",
       "      <td>Weight in kilograms</td>\n",
       "      <td>586785.15</td>\n",
       "      <td>UNdata19</td>\n",
       "    </tr>\n",
       "    <tr>\n",
       "      <th>3</th>\n",
       "      <td>Albania</td>\n",
       "      <td>2018</td>\n",
       "      <td>Malt extract &amp; limited cocoa pastrycooks produ...</td>\n",
       "      <td>Import</td>\n",
       "      <td>1.521576e+06</td>\n",
       "      <td>619217.12</td>\n",
       "      <td>Weight in kilograms</td>\n",
       "      <td>619217.12</td>\n",
       "      <td>UNdata19</td>\n",
       "    </tr>\n",
       "    <tr>\n",
       "      <th>4</th>\n",
       "      <td>Albania</td>\n",
       "      <td>2018</td>\n",
       "      <td>Uncooked egg pasta not stuffed or prepared</td>\n",
       "      <td>Import</td>\n",
       "      <td>6.307901e+05</td>\n",
       "      <td>290356.00</td>\n",
       "      <td>Weight in kilograms</td>\n",
       "      <td>290356.00</td>\n",
       "      <td>UNdata19</td>\n",
       "    </tr>\n",
       "    <tr>\n",
       "      <th>...</th>\n",
       "      <td>...</td>\n",
       "      <td>...</td>\n",
       "      <td>...</td>\n",
       "      <td>...</td>\n",
       "      <td>...</td>\n",
       "      <td>...</td>\n",
       "      <td>...</td>\n",
       "      <td>...</td>\n",
       "      <td>...</td>\n",
       "    </tr>\n",
       "    <tr>\n",
       "      <th>8410651</th>\n",
       "      <td>Sweden</td>\n",
       "      <td>2012</td>\n",
       "      <td>Bovine and equine leather, full or split grain...</td>\n",
       "      <td>Import</td>\n",
       "      <td>1.821299e+07</td>\n",
       "      <td>658146.00</td>\n",
       "      <td>Weight in kilograms</td>\n",
       "      <td>658146.00</td>\n",
       "      <td>UNdata41</td>\n",
       "    </tr>\n",
       "    <tr>\n",
       "      <th>8410652</th>\n",
       "      <td>Sweden</td>\n",
       "      <td>2012</td>\n",
       "      <td>Bovine and equine leather, full or split grain...</td>\n",
       "      <td>Export</td>\n",
       "      <td>5.147759e+07</td>\n",
       "      <td>1089197.00</td>\n",
       "      <td>Weight in kilograms</td>\n",
       "      <td>1089197.00</td>\n",
       "      <td>UNdata41</td>\n",
       "    </tr>\n",
       "    <tr>\n",
       "      <th>8410653</th>\n",
       "      <td>Sweden</td>\n",
       "      <td>2012</td>\n",
       "      <td>Bovine and equine leather, nes</td>\n",
       "      <td>Import</td>\n",
       "      <td>3.972237e+06</td>\n",
       "      <td>196520.00</td>\n",
       "      <td>Weight in kilograms</td>\n",
       "      <td>196520.00</td>\n",
       "      <td>UNdata41</td>\n",
       "    </tr>\n",
       "    <tr>\n",
       "      <th>8410654</th>\n",
       "      <td>Sweden</td>\n",
       "      <td>2012</td>\n",
       "      <td>Bovine and equine leather, nes</td>\n",
       "      <td>Export</td>\n",
       "      <td>4.652490e+05</td>\n",
       "      <td>10265.00</td>\n",
       "      <td>Weight in kilograms</td>\n",
       "      <td>10265.00</td>\n",
       "      <td>UNdata41</td>\n",
       "    </tr>\n",
       "    <tr>\n",
       "      <th>8410655</th>\n",
       "      <td>Sweden</td>\n",
       "      <td>2012</td>\n",
       "      <td>Sheep or lamb skin leather, nes</td>\n",
       "      <td>Import</td>\n",
       "      <td>7.666580e+05</td>\n",
       "      <td>11214.00</td>\n",
       "      <td>Weight in kilograms</td>\n",
       "      <td>11214.00</td>\n",
       "      <td>UNdata41</td>\n",
       "    </tr>\n",
       "  </tbody>\n",
       "</table>\n",
       "<p>8410656 rows × 9 columns</p>\n",
       "</div>"
      ],
      "text/plain": [
       "        COUNTRY_AREA  YEAR                                          COMMODITY  \\\n",
       "0        Afghanistan  2018                 Sweet biscuits, waffles and wafers   \n",
       "1            Albania  2018  Infant foods of cereals, flour, starch or milk...   \n",
       "2            Albania  2018  Mixes and doughs for bread, pastry, biscuits, ...   \n",
       "3            Albania  2018  Malt extract & limited cocoa pastrycooks produ...   \n",
       "4            Albania  2018         Uncooked egg pasta not stuffed or prepared   \n",
       "...              ...   ...                                                ...   \n",
       "8410651       Sweden  2012  Bovine and equine leather, full or split grain...   \n",
       "8410652       Sweden  2012  Bovine and equine leather, full or split grain...   \n",
       "8410653       Sweden  2012                     Bovine and equine leather, nes   \n",
       "8410654       Sweden  2012                     Bovine and equine leather, nes   \n",
       "8410655       Sweden  2012                    Sheep or lamb skin leather, nes   \n",
       "\n",
       "           FLOW      TRADEUSD    WEIGHTKG         QUANTITYNAME    QUANTITY  \\\n",
       "0        Import  9.659279e+06  8310819.00  Weight in kilograms  8310819.00   \n",
       "1        Import  1.034729e+06   104542.60  Weight in kilograms   104542.60   \n",
       "2        Import  1.201180e+06   586785.15  Weight in kilograms   586785.15   \n",
       "3        Import  1.521576e+06   619217.12  Weight in kilograms   619217.12   \n",
       "4        Import  6.307901e+05   290356.00  Weight in kilograms   290356.00   \n",
       "...         ...           ...         ...                  ...         ...   \n",
       "8410651  Import  1.821299e+07   658146.00  Weight in kilograms   658146.00   \n",
       "8410652  Export  5.147759e+07  1089197.00  Weight in kilograms  1089197.00   \n",
       "8410653  Import  3.972237e+06   196520.00  Weight in kilograms   196520.00   \n",
       "8410654  Export  4.652490e+05    10265.00  Weight in kilograms    10265.00   \n",
       "8410655  Import  7.666580e+05    11214.00  Weight in kilograms    11214.00   \n",
       "\n",
       "        ORIGIN_FILE  \n",
       "0          UNdata19  \n",
       "1          UNdata19  \n",
       "2          UNdata19  \n",
       "3          UNdata19  \n",
       "4          UNdata19  \n",
       "...             ...  \n",
       "8410651    UNdata41  \n",
       "8410652    UNdata41  \n",
       "8410653    UNdata41  \n",
       "8410654    UNdata41  \n",
       "8410655    UNdata41  \n",
       "\n",
       "[8410656 rows x 9 columns]"
      ]
     },
     "execution_count": 2,
     "metadata": {},
     "output_type": "execute_result"
    }
   ],
   "source": [
    "from IPython.core.interactiveshell import InteractiveShell\n",
    "InteractiveShell.ast_node_interactivity = \"all\"\n",
    "import pandas as pd\n",
    "import numpy as np\n",
    "import matplotlib.pyplot as plt\n",
    "import seaborn as sns\n",
    "\n",
    "df=pd.read_parquet('/home/ubuntu/EDA_Final/UNdata_full.parquet.gzip')\n",
    "### I am going to rename some columns\n",
    "df=df.rename(columns={'Country or Area':'Country_Area'})\n",
    "for i in df.columns:\n",
    "    df=df.rename(columns={i:i.replace('(','').replace(')','').replace(' ', '').upper()})\n",
    "df"
   ]
  },
  {
   "cell_type": "code",
   "execution_count": 3,
   "metadata": {},
   "outputs": [
    {
     "data": {
      "text/html": [
       "<div>\n",
       "<style scoped>\n",
       "    .dataframe tbody tr th:only-of-type {\n",
       "        vertical-align: middle;\n",
       "    }\n",
       "\n",
       "    .dataframe tbody tr th {\n",
       "        vertical-align: top;\n",
       "    }\n",
       "\n",
       "    .dataframe thead th {\n",
       "        text-align: right;\n",
       "    }\n",
       "</style>\n",
       "<table border=\"1\" class=\"dataframe\">\n",
       "  <thead>\n",
       "    <tr style=\"text-align: right;\">\n",
       "      <th></th>\n",
       "      <th>COUNTRY_AREA</th>\n",
       "      <th>YEAR</th>\n",
       "      <th>COMMODITY</th>\n",
       "      <th>FLOW</th>\n",
       "      <th>TRADEUSD</th>\n",
       "      <th>WEIGHTKG</th>\n",
       "      <th>QUANTITYNAME</th>\n",
       "      <th>QUANTITY</th>\n",
       "      <th>ORIGIN_FILE</th>\n",
       "      <th>CODE</th>\n",
       "    </tr>\n",
       "  </thead>\n",
       "  <tbody>\n",
       "    <tr>\n",
       "      <th>0</th>\n",
       "      <td>Afghanistan</td>\n",
       "      <td>2018</td>\n",
       "      <td>Sweet biscuits, waffles and wafers</td>\n",
       "      <td>Import</td>\n",
       "      <td>9.659279e+06</td>\n",
       "      <td>8310819.00</td>\n",
       "      <td>Weight in kilograms</td>\n",
       "      <td>8310819.00</td>\n",
       "      <td>UNdata19</td>\n",
       "      <td>AFG</td>\n",
       "    </tr>\n",
       "    <tr>\n",
       "      <th>1</th>\n",
       "      <td>Albania</td>\n",
       "      <td>2018</td>\n",
       "      <td>Infant foods of cereals, flour, starch or milk...</td>\n",
       "      <td>Import</td>\n",
       "      <td>1.034729e+06</td>\n",
       "      <td>104542.60</td>\n",
       "      <td>Weight in kilograms</td>\n",
       "      <td>104542.60</td>\n",
       "      <td>UNdata19</td>\n",
       "      <td>ALB</td>\n",
       "    </tr>\n",
       "    <tr>\n",
       "      <th>2</th>\n",
       "      <td>Albania</td>\n",
       "      <td>2018</td>\n",
       "      <td>Mixes and doughs for bread, pastry, biscuits, ...</td>\n",
       "      <td>Import</td>\n",
       "      <td>1.201180e+06</td>\n",
       "      <td>586785.15</td>\n",
       "      <td>Weight in kilograms</td>\n",
       "      <td>586785.15</td>\n",
       "      <td>UNdata19</td>\n",
       "      <td>ALB</td>\n",
       "    </tr>\n",
       "    <tr>\n",
       "      <th>3</th>\n",
       "      <td>Albania</td>\n",
       "      <td>2018</td>\n",
       "      <td>Malt extract &amp; limited cocoa pastrycooks produ...</td>\n",
       "      <td>Import</td>\n",
       "      <td>1.521576e+06</td>\n",
       "      <td>619217.12</td>\n",
       "      <td>Weight in kilograms</td>\n",
       "      <td>619217.12</td>\n",
       "      <td>UNdata19</td>\n",
       "      <td>ALB</td>\n",
       "    </tr>\n",
       "    <tr>\n",
       "      <th>4</th>\n",
       "      <td>Albania</td>\n",
       "      <td>2018</td>\n",
       "      <td>Uncooked egg pasta not stuffed or prepared</td>\n",
       "      <td>Import</td>\n",
       "      <td>6.307901e+05</td>\n",
       "      <td>290356.00</td>\n",
       "      <td>Weight in kilograms</td>\n",
       "      <td>290356.00</td>\n",
       "      <td>UNdata19</td>\n",
       "      <td>ALB</td>\n",
       "    </tr>\n",
       "    <tr>\n",
       "      <th>...</th>\n",
       "      <td>...</td>\n",
       "      <td>...</td>\n",
       "      <td>...</td>\n",
       "      <td>...</td>\n",
       "      <td>...</td>\n",
       "      <td>...</td>\n",
       "      <td>...</td>\n",
       "      <td>...</td>\n",
       "      <td>...</td>\n",
       "      <td>...</td>\n",
       "    </tr>\n",
       "    <tr>\n",
       "      <th>8410651</th>\n",
       "      <td>Sweden</td>\n",
       "      <td>2012</td>\n",
       "      <td>Bovine and equine leather, full or split grain...</td>\n",
       "      <td>Import</td>\n",
       "      <td>1.821299e+07</td>\n",
       "      <td>658146.00</td>\n",
       "      <td>Weight in kilograms</td>\n",
       "      <td>658146.00</td>\n",
       "      <td>UNdata41</td>\n",
       "      <td>SWE</td>\n",
       "    </tr>\n",
       "    <tr>\n",
       "      <th>8410652</th>\n",
       "      <td>Sweden</td>\n",
       "      <td>2012</td>\n",
       "      <td>Bovine and equine leather, full or split grain...</td>\n",
       "      <td>Export</td>\n",
       "      <td>5.147759e+07</td>\n",
       "      <td>1089197.00</td>\n",
       "      <td>Weight in kilograms</td>\n",
       "      <td>1089197.00</td>\n",
       "      <td>UNdata41</td>\n",
       "      <td>SWE</td>\n",
       "    </tr>\n",
       "    <tr>\n",
       "      <th>8410653</th>\n",
       "      <td>Sweden</td>\n",
       "      <td>2012</td>\n",
       "      <td>Bovine and equine leather, nes</td>\n",
       "      <td>Import</td>\n",
       "      <td>3.972237e+06</td>\n",
       "      <td>196520.00</td>\n",
       "      <td>Weight in kilograms</td>\n",
       "      <td>196520.00</td>\n",
       "      <td>UNdata41</td>\n",
       "      <td>SWE</td>\n",
       "    </tr>\n",
       "    <tr>\n",
       "      <th>8410654</th>\n",
       "      <td>Sweden</td>\n",
       "      <td>2012</td>\n",
       "      <td>Bovine and equine leather, nes</td>\n",
       "      <td>Export</td>\n",
       "      <td>4.652490e+05</td>\n",
       "      <td>10265.00</td>\n",
       "      <td>Weight in kilograms</td>\n",
       "      <td>10265.00</td>\n",
       "      <td>UNdata41</td>\n",
       "      <td>SWE</td>\n",
       "    </tr>\n",
       "    <tr>\n",
       "      <th>8410655</th>\n",
       "      <td>Sweden</td>\n",
       "      <td>2012</td>\n",
       "      <td>Sheep or lamb skin leather, nes</td>\n",
       "      <td>Import</td>\n",
       "      <td>7.666580e+05</td>\n",
       "      <td>11214.00</td>\n",
       "      <td>Weight in kilograms</td>\n",
       "      <td>11214.00</td>\n",
       "      <td>UNdata41</td>\n",
       "      <td>SWE</td>\n",
       "    </tr>\n",
       "  </tbody>\n",
       "</table>\n",
       "<p>8410656 rows × 10 columns</p>\n",
       "</div>"
      ],
      "text/plain": [
       "        COUNTRY_AREA  YEAR                                          COMMODITY  \\\n",
       "0        Afghanistan  2018                 Sweet biscuits, waffles and wafers   \n",
       "1            Albania  2018  Infant foods of cereals, flour, starch or milk...   \n",
       "2            Albania  2018  Mixes and doughs for bread, pastry, biscuits, ...   \n",
       "3            Albania  2018  Malt extract & limited cocoa pastrycooks produ...   \n",
       "4            Albania  2018         Uncooked egg pasta not stuffed or prepared   \n",
       "...              ...   ...                                                ...   \n",
       "8410651       Sweden  2012  Bovine and equine leather, full or split grain...   \n",
       "8410652       Sweden  2012  Bovine and equine leather, full or split grain...   \n",
       "8410653       Sweden  2012                     Bovine and equine leather, nes   \n",
       "8410654       Sweden  2012                     Bovine and equine leather, nes   \n",
       "8410655       Sweden  2012                    Sheep or lamb skin leather, nes   \n",
       "\n",
       "           FLOW      TRADEUSD    WEIGHTKG         QUANTITYNAME    QUANTITY  \\\n",
       "0        Import  9.659279e+06  8310819.00  Weight in kilograms  8310819.00   \n",
       "1        Import  1.034729e+06   104542.60  Weight in kilograms   104542.60   \n",
       "2        Import  1.201180e+06   586785.15  Weight in kilograms   586785.15   \n",
       "3        Import  1.521576e+06   619217.12  Weight in kilograms   619217.12   \n",
       "4        Import  6.307901e+05   290356.00  Weight in kilograms   290356.00   \n",
       "...         ...           ...         ...                  ...         ...   \n",
       "8410651  Import  1.821299e+07   658146.00  Weight in kilograms   658146.00   \n",
       "8410652  Export  5.147759e+07  1089197.00  Weight in kilograms  1089197.00   \n",
       "8410653  Import  3.972237e+06   196520.00  Weight in kilograms   196520.00   \n",
       "8410654  Export  4.652490e+05    10265.00  Weight in kilograms    10265.00   \n",
       "8410655  Import  7.666580e+05    11214.00  Weight in kilograms    11214.00   \n",
       "\n",
       "        ORIGIN_FILE CODE  \n",
       "0          UNdata19  AFG  \n",
       "1          UNdata19  ALB  \n",
       "2          UNdata19  ALB  \n",
       "3          UNdata19  ALB  \n",
       "4          UNdata19  ALB  \n",
       "...             ...  ...  \n",
       "8410651    UNdata41  SWE  \n",
       "8410652    UNdata41  SWE  \n",
       "8410653    UNdata41  SWE  \n",
       "8410654    UNdata41  SWE  \n",
       "8410655    UNdata41  SWE  \n",
       "\n",
       "[8410656 rows x 10 columns]"
      ]
     },
     "execution_count": 3,
     "metadata": {},
     "output_type": "execute_result"
    }
   ],
   "source": [
    "import pycountry \n",
    "\n",
    "def alpha3code(column):\n",
    "    CODE=[]\n",
    "    for country in column:\n",
    "        try:\n",
    "            code=pycountry.countries.get(name=country).alpha_3\n",
    "            CODE.append(code)\n",
    "        except:\n",
    "            CODE.append('None')\n",
    "    return CODE\n",
    "\n",
    "df['CODE']=alpha3code(df['COUNTRY_AREA'])\n",
    "df"
   ]
  },
  {
   "cell_type": "code",
   "execution_count": 4,
   "metadata": {},
   "outputs": [
    {
     "data": {
      "text/html": [
       "<div>\n",
       "<style scoped>\n",
       "    .dataframe tbody tr th:only-of-type {\n",
       "        vertical-align: middle;\n",
       "    }\n",
       "\n",
       "    .dataframe tbody tr th {\n",
       "        vertical-align: top;\n",
       "    }\n",
       "\n",
       "    .dataframe thead th {\n",
       "        text-align: right;\n",
       "    }\n",
       "</style>\n",
       "<table border=\"1\" class=\"dataframe\">\n",
       "  <thead>\n",
       "    <tr style=\"text-align: right;\">\n",
       "      <th></th>\n",
       "      <th>POPULATION_EST</th>\n",
       "      <th>CONTINENT</th>\n",
       "      <th>CODE</th>\n",
       "      <th>GDP_EST</th>\n",
       "      <th>GEOMETRY</th>\n",
       "    </tr>\n",
       "  </thead>\n",
       "  <tbody>\n",
       "    <tr>\n",
       "      <th>0</th>\n",
       "      <td>889953.0</td>\n",
       "      <td>Oceania</td>\n",
       "      <td>FJI</td>\n",
       "      <td>5496</td>\n",
       "      <td>MULTIPOLYGON (((180.00000 -16.06713, 180.00000...</td>\n",
       "    </tr>\n",
       "    <tr>\n",
       "      <th>1</th>\n",
       "      <td>58005463.0</td>\n",
       "      <td>Africa</td>\n",
       "      <td>TZA</td>\n",
       "      <td>63177</td>\n",
       "      <td>POLYGON ((33.90371 -0.95000, 34.07262 -1.05982...</td>\n",
       "    </tr>\n",
       "    <tr>\n",
       "      <th>2</th>\n",
       "      <td>603253.0</td>\n",
       "      <td>Africa</td>\n",
       "      <td>ESH</td>\n",
       "      <td>907</td>\n",
       "      <td>POLYGON ((-8.66559 27.65643, -8.66512 27.58948...</td>\n",
       "    </tr>\n",
       "    <tr>\n",
       "      <th>3</th>\n",
       "      <td>37589262.0</td>\n",
       "      <td>North America</td>\n",
       "      <td>CAN</td>\n",
       "      <td>1736425</td>\n",
       "      <td>MULTIPOLYGON (((-122.84000 49.00000, -122.9742...</td>\n",
       "    </tr>\n",
       "    <tr>\n",
       "      <th>4</th>\n",
       "      <td>328239523.0</td>\n",
       "      <td>North America</td>\n",
       "      <td>USA</td>\n",
       "      <td>21433226</td>\n",
       "      <td>MULTIPOLYGON (((-122.84000 49.00000, -120.0000...</td>\n",
       "    </tr>\n",
       "    <tr>\n",
       "      <th>...</th>\n",
       "      <td>...</td>\n",
       "      <td>...</td>\n",
       "      <td>...</td>\n",
       "      <td>...</td>\n",
       "      <td>...</td>\n",
       "    </tr>\n",
       "    <tr>\n",
       "      <th>172</th>\n",
       "      <td>6944975.0</td>\n",
       "      <td>Europe</td>\n",
       "      <td>SRB</td>\n",
       "      <td>51475</td>\n",
       "      <td>POLYGON ((18.82982 45.90887, 18.82984 45.90888...</td>\n",
       "    </tr>\n",
       "    <tr>\n",
       "      <th>173</th>\n",
       "      <td>622137.0</td>\n",
       "      <td>Europe</td>\n",
       "      <td>MNE</td>\n",
       "      <td>5542</td>\n",
       "      <td>POLYGON ((20.07070 42.58863, 19.80161 42.50009...</td>\n",
       "    </tr>\n",
       "    <tr>\n",
       "      <th>174</th>\n",
       "      <td>1794248.0</td>\n",
       "      <td>Europe</td>\n",
       "      <td>-99</td>\n",
       "      <td>7926</td>\n",
       "      <td>POLYGON ((20.59025 41.85541, 20.52295 42.21787...</td>\n",
       "    </tr>\n",
       "    <tr>\n",
       "      <th>175</th>\n",
       "      <td>1394973.0</td>\n",
       "      <td>North America</td>\n",
       "      <td>TTO</td>\n",
       "      <td>24269</td>\n",
       "      <td>POLYGON ((-61.68000 10.76000, -61.10500 10.890...</td>\n",
       "    </tr>\n",
       "    <tr>\n",
       "      <th>176</th>\n",
       "      <td>11062113.0</td>\n",
       "      <td>Africa</td>\n",
       "      <td>SSD</td>\n",
       "      <td>11998</td>\n",
       "      <td>POLYGON ((30.83385 3.50917, 29.95350 4.17370, ...</td>\n",
       "    </tr>\n",
       "  </tbody>\n",
       "</table>\n",
       "<p>177 rows × 5 columns</p>\n",
       "</div>"
      ],
      "text/plain": [
       "     POPULATION_EST      CONTINENT CODE   GDP_EST  \\\n",
       "0          889953.0        Oceania  FJI      5496   \n",
       "1        58005463.0         Africa  TZA     63177   \n",
       "2          603253.0         Africa  ESH       907   \n",
       "3        37589262.0  North America  CAN   1736425   \n",
       "4       328239523.0  North America  USA  21433226   \n",
       "..              ...            ...  ...       ...   \n",
       "172       6944975.0         Europe  SRB     51475   \n",
       "173        622137.0         Europe  MNE      5542   \n",
       "174       1794248.0         Europe  -99      7926   \n",
       "175       1394973.0  North America  TTO     24269   \n",
       "176      11062113.0         Africa  SSD     11998   \n",
       "\n",
       "                                              GEOMETRY  \n",
       "0    MULTIPOLYGON (((180.00000 -16.06713, 180.00000...  \n",
       "1    POLYGON ((33.90371 -0.95000, 34.07262 -1.05982...  \n",
       "2    POLYGON ((-8.66559 27.65643, -8.66512 27.58948...  \n",
       "3    MULTIPOLYGON (((-122.84000 49.00000, -122.9742...  \n",
       "4    MULTIPOLYGON (((-122.84000 49.00000, -120.0000...  \n",
       "..                                                 ...  \n",
       "172  POLYGON ((18.82982 45.90887, 18.82984 45.90888...  \n",
       "173  POLYGON ((20.07070 42.58863, 19.80161 42.50009...  \n",
       "174  POLYGON ((20.59025 41.85541, 20.52295 42.21787...  \n",
       "175  POLYGON ((-61.68000 10.76000, -61.10500 10.890...  \n",
       "176  POLYGON ((30.83385 3.50917, 29.95350 4.17370, ...  \n",
       "\n",
       "[177 rows x 5 columns]"
      ]
     },
     "execution_count": 4,
     "metadata": {},
     "output_type": "execute_result"
    }
   ],
   "source": [
    "import geopandas\n",
    "world =  geopandas.read_file(geopandas.datasets.get_path('naturalearth_lowres'))\n",
    "world.columns=['POPULATION_EST', 'CONTINENT', 'NAME', 'CODE', 'GDP_EST', 'GEOMETRY']\n",
    "world=pd.DataFrame(world)\n",
    "del world['NAME']\n",
    "world\n",
    "### this data is for the most recent fiscal year but we can look at the current data as being the result of the last years of trade."
   ]
  },
  {
   "cell_type": "code",
   "execution_count": 5,
   "metadata": {},
   "outputs": [
    {
     "data": {
      "text/html": [
       "<div>\n",
       "<style scoped>\n",
       "    .dataframe tbody tr th:only-of-type {\n",
       "        vertical-align: middle;\n",
       "    }\n",
       "\n",
       "    .dataframe tbody tr th {\n",
       "        vertical-align: top;\n",
       "    }\n",
       "\n",
       "    .dataframe thead th {\n",
       "        text-align: right;\n",
       "    }\n",
       "</style>\n",
       "<table border=\"1\" class=\"dataframe\">\n",
       "  <thead>\n",
       "    <tr style=\"text-align: right;\">\n",
       "      <th></th>\n",
       "      <th>COUNTRY_AREA</th>\n",
       "      <th>CODE</th>\n",
       "      <th>YEAR</th>\n",
       "      <th>FLOW</th>\n",
       "      <th>QUANTITYNAME</th>\n",
       "      <th>QUANTITY</th>\n",
       "      <th>WEIGHTKG</th>\n",
       "      <th>TRADEUSD</th>\n",
       "      <th>POPULATION_EST</th>\n",
       "      <th>CONTINENT</th>\n",
       "      <th>GDP_EST</th>\n",
       "      <th>GEOMETRY</th>\n",
       "    </tr>\n",
       "  </thead>\n",
       "  <tbody>\n",
       "    <tr>\n",
       "      <th>0</th>\n",
       "      <td>Afghanistan</td>\n",
       "      <td>AFG</td>\n",
       "      <td>2008</td>\n",
       "      <td>Export</td>\n",
       "      <td>Area in square metres</td>\n",
       "      <td>5.979993e+06</td>\n",
       "      <td>1.351000e+03</td>\n",
       "      <td>1.496229e+08</td>\n",
       "      <td>38041754.0</td>\n",
       "      <td>Asia</td>\n",
       "      <td>19291.0</td>\n",
       "      <td>POLYGON ((66.51861 37.36278, 67.07578 37.35614...</td>\n",
       "    </tr>\n",
       "    <tr>\n",
       "      <th>1</th>\n",
       "      <td>Afghanistan</td>\n",
       "      <td>AFG</td>\n",
       "      <td>2008</td>\n",
       "      <td>Export</td>\n",
       "      <td>No Quantity</td>\n",
       "      <td>0.000000e+00</td>\n",
       "      <td>0.000000e+00</td>\n",
       "      <td>6.122461e+08</td>\n",
       "      <td>38041754.0</td>\n",
       "      <td>Asia</td>\n",
       "      <td>19291.0</td>\n",
       "      <td>POLYGON ((66.51861 37.36278, 67.07578 37.35614...</td>\n",
       "    </tr>\n",
       "    <tr>\n",
       "      <th>2</th>\n",
       "      <td>Afghanistan</td>\n",
       "      <td>AFG</td>\n",
       "      <td>2008</td>\n",
       "      <td>Export</td>\n",
       "      <td>Weight in kilograms</td>\n",
       "      <td>2.454800e+04</td>\n",
       "      <td>2.454800e+04</td>\n",
       "      <td>3.182621e+08</td>\n",
       "      <td>38041754.0</td>\n",
       "      <td>Asia</td>\n",
       "      <td>19291.0</td>\n",
       "      <td>POLYGON ((66.51861 37.36278, 67.07578 37.35614...</td>\n",
       "    </tr>\n",
       "    <tr>\n",
       "      <th>3</th>\n",
       "      <td>Afghanistan</td>\n",
       "      <td>AFG</td>\n",
       "      <td>2008</td>\n",
       "      <td>Import</td>\n",
       "      <td>No Quantity</td>\n",
       "      <td>0.000000e+00</td>\n",
       "      <td>4.631000e+03</td>\n",
       "      <td>4.965180e+09</td>\n",
       "      <td>38041754.0</td>\n",
       "      <td>Asia</td>\n",
       "      <td>19291.0</td>\n",
       "      <td>POLYGON ((66.51861 37.36278, 67.07578 37.35614...</td>\n",
       "    </tr>\n",
       "    <tr>\n",
       "      <th>4</th>\n",
       "      <td>Afghanistan</td>\n",
       "      <td>AFG</td>\n",
       "      <td>2008</td>\n",
       "      <td>Import</td>\n",
       "      <td>Number of items</td>\n",
       "      <td>5.364127e+06</td>\n",
       "      <td>1.668290e+05</td>\n",
       "      <td>1.661671e+08</td>\n",
       "      <td>38041754.0</td>\n",
       "      <td>Asia</td>\n",
       "      <td>19291.0</td>\n",
       "      <td>POLYGON ((66.51861 37.36278, 67.07578 37.35614...</td>\n",
       "    </tr>\n",
       "    <tr>\n",
       "      <th>...</th>\n",
       "      <td>...</td>\n",
       "      <td>...</td>\n",
       "      <td>...</td>\n",
       "      <td>...</td>\n",
       "      <td>...</td>\n",
       "      <td>...</td>\n",
       "      <td>...</td>\n",
       "      <td>...</td>\n",
       "      <td>...</td>\n",
       "      <td>...</td>\n",
       "      <td>...</td>\n",
       "      <td>...</td>\n",
       "    </tr>\n",
       "    <tr>\n",
       "      <th>56786</th>\n",
       "      <td>Zimbabwe</td>\n",
       "      <td>ZWE</td>\n",
       "      <td>2018</td>\n",
       "      <td>Export</td>\n",
       "      <td>Number of items</td>\n",
       "      <td>2.630972e+05</td>\n",
       "      <td>2.173763e+05</td>\n",
       "      <td>6.851796e+06</td>\n",
       "      <td>14645468.0</td>\n",
       "      <td>Africa</td>\n",
       "      <td>21440.0</td>\n",
       "      <td>POLYGON ((31.19141 -22.25151, 30.65987 -22.151...</td>\n",
       "    </tr>\n",
       "    <tr>\n",
       "      <th>56787</th>\n",
       "      <td>Zimbabwe</td>\n",
       "      <td>ZWE</td>\n",
       "      <td>2018</td>\n",
       "      <td>Export</td>\n",
       "      <td>Weight in kilograms</td>\n",
       "      <td>1.394188e+09</td>\n",
       "      <td>1.393277e+09</td>\n",
       "      <td>1.988200e+09</td>\n",
       "      <td>14645468.0</td>\n",
       "      <td>Africa</td>\n",
       "      <td>21440.0</td>\n",
       "      <td>POLYGON ((31.19141 -22.25151, 30.65987 -22.151...</td>\n",
       "    </tr>\n",
       "    <tr>\n",
       "      <th>56788</th>\n",
       "      <td>Zimbabwe</td>\n",
       "      <td>ZWE</td>\n",
       "      <td>2018</td>\n",
       "      <td>Import</td>\n",
       "      <td>No Quantity</td>\n",
       "      <td>0.000000e+00</td>\n",
       "      <td>1.518002e+06</td>\n",
       "      <td>6.331634e+09</td>\n",
       "      <td>14645468.0</td>\n",
       "      <td>Africa</td>\n",
       "      <td>21440.0</td>\n",
       "      <td>POLYGON ((31.19141 -22.25151, 30.65987 -22.151...</td>\n",
       "    </tr>\n",
       "    <tr>\n",
       "      <th>56789</th>\n",
       "      <td>Zimbabwe</td>\n",
       "      <td>ZWE</td>\n",
       "      <td>2018</td>\n",
       "      <td>Import</td>\n",
       "      <td>Number of items</td>\n",
       "      <td>2.182123e+06</td>\n",
       "      <td>7.766519e+06</td>\n",
       "      <td>2.710028e+07</td>\n",
       "      <td>14645468.0</td>\n",
       "      <td>Africa</td>\n",
       "      <td>21440.0</td>\n",
       "      <td>POLYGON ((31.19141 -22.25151, 30.65987 -22.151...</td>\n",
       "    </tr>\n",
       "    <tr>\n",
       "      <th>56790</th>\n",
       "      <td>Zimbabwe</td>\n",
       "      <td>ZWE</td>\n",
       "      <td>2018</td>\n",
       "      <td>Import</td>\n",
       "      <td>Weight in kilograms</td>\n",
       "      <td>7.099204e+08</td>\n",
       "      <td>6.955902e+08</td>\n",
       "      <td>4.451089e+08</td>\n",
       "      <td>14645468.0</td>\n",
       "      <td>Africa</td>\n",
       "      <td>21440.0</td>\n",
       "      <td>POLYGON ((31.19141 -22.25151, 30.65987 -22.151...</td>\n",
       "    </tr>\n",
       "  </tbody>\n",
       "</table>\n",
       "<p>56791 rows × 12 columns</p>\n",
       "</div>"
      ],
      "text/plain": [
       "      COUNTRY_AREA CODE  YEAR    FLOW           QUANTITYNAME      QUANTITY  \\\n",
       "0      Afghanistan  AFG  2008  Export  Area in square metres  5.979993e+06   \n",
       "1      Afghanistan  AFG  2008  Export            No Quantity  0.000000e+00   \n",
       "2      Afghanistan  AFG  2008  Export    Weight in kilograms  2.454800e+04   \n",
       "3      Afghanistan  AFG  2008  Import            No Quantity  0.000000e+00   \n",
       "4      Afghanistan  AFG  2008  Import        Number of items  5.364127e+06   \n",
       "...            ...  ...   ...     ...                    ...           ...   \n",
       "56786     Zimbabwe  ZWE  2018  Export        Number of items  2.630972e+05   \n",
       "56787     Zimbabwe  ZWE  2018  Export    Weight in kilograms  1.394188e+09   \n",
       "56788     Zimbabwe  ZWE  2018  Import            No Quantity  0.000000e+00   \n",
       "56789     Zimbabwe  ZWE  2018  Import        Number of items  2.182123e+06   \n",
       "56790     Zimbabwe  ZWE  2018  Import    Weight in kilograms  7.099204e+08   \n",
       "\n",
       "           WEIGHTKG      TRADEUSD  POPULATION_EST CONTINENT  GDP_EST  \\\n",
       "0      1.351000e+03  1.496229e+08      38041754.0      Asia  19291.0   \n",
       "1      0.000000e+00  6.122461e+08      38041754.0      Asia  19291.0   \n",
       "2      2.454800e+04  3.182621e+08      38041754.0      Asia  19291.0   \n",
       "3      4.631000e+03  4.965180e+09      38041754.0      Asia  19291.0   \n",
       "4      1.668290e+05  1.661671e+08      38041754.0      Asia  19291.0   \n",
       "...             ...           ...             ...       ...      ...   \n",
       "56786  2.173763e+05  6.851796e+06      14645468.0    Africa  21440.0   \n",
       "56787  1.393277e+09  1.988200e+09      14645468.0    Africa  21440.0   \n",
       "56788  1.518002e+06  6.331634e+09      14645468.0    Africa  21440.0   \n",
       "56789  7.766519e+06  2.710028e+07      14645468.0    Africa  21440.0   \n",
       "56790  6.955902e+08  4.451089e+08      14645468.0    Africa  21440.0   \n",
       "\n",
       "                                                GEOMETRY  \n",
       "0      POLYGON ((66.51861 37.36278, 67.07578 37.35614...  \n",
       "1      POLYGON ((66.51861 37.36278, 67.07578 37.35614...  \n",
       "2      POLYGON ((66.51861 37.36278, 67.07578 37.35614...  \n",
       "3      POLYGON ((66.51861 37.36278, 67.07578 37.35614...  \n",
       "4      POLYGON ((66.51861 37.36278, 67.07578 37.35614...  \n",
       "...                                                  ...  \n",
       "56786  POLYGON ((31.19141 -22.25151, 30.65987 -22.151...  \n",
       "56787  POLYGON ((31.19141 -22.25151, 30.65987 -22.151...  \n",
       "56788  POLYGON ((31.19141 -22.25151, 30.65987 -22.151...  \n",
       "56789  POLYGON ((31.19141 -22.25151, 30.65987 -22.151...  \n",
       "56790  POLYGON ((31.19141 -22.25151, 30.65987 -22.151...  \n",
       "\n",
       "[56791 rows x 12 columns]"
      ]
     },
     "execution_count": 5,
     "metadata": {},
     "output_type": "execute_result"
    }
   ],
   "source": [
    "df_agg=df.groupby(['COUNTRY_AREA', 'CODE', 'YEAR', 'FLOW', 'QUANTITYNAME'], as_index=False)[['QUANTITY', 'WEIGHTKG', 'TRADEUSD']].sum()\n",
    "df_agg=pd.merge(df_agg, world, how='left')\n",
    "df_agg"
   ]
  },
  {
   "cell_type": "markdown",
   "metadata": {},
   "source": [
    "### Cleaning Data"
   ]
  },
  {
   "cell_type": "code",
   "execution_count": 6,
   "metadata": {},
   "outputs": [
    {
     "data": {
      "text/plain": [
       "array(['Andorra', 'Anguilla', 'Antigua and Barbuda', 'Aruba', 'Bahrain',\n",
       "       'Barbados', 'Belgium-Luxembourg', 'Bermuda',\n",
       "       'Bolivia (Plurinational State of)', 'Bosnia Herzegovina',\n",
       "       'Cabo Verde', 'Cayman Isds', 'Central African Rep.',\n",
       "       'China, Hong Kong SAR', 'China, Macao SAR', 'Comoros', 'Cook Isds',\n",
       "       'Czech Rep.', 'Dominica', 'Dominican Rep.', 'EU-28',\n",
       "       'FS Micronesia', 'Faeroe Isds', 'Fmr Fed. Rep. of Germany',\n",
       "       'Fmr Sudan', 'French Guiana', 'French Polynesia', 'Grenada',\n",
       "       'Guadeloupe', 'Iran', 'Kiribati', \"Lao People's Dem. Rep.\",\n",
       "       'Maldives', 'Malta', 'Martinique', 'Mauritius', 'Mayotte',\n",
       "       'Montserrat', 'Neth. Antilles', 'Other Asia, nes', 'Palau',\n",
       "       'Rep. of Korea', 'Rep. of Moldova', 'Réunion',\n",
       "       'Saint Kitts and Nevis', 'Saint Lucia',\n",
       "       'Saint Vincent and the Grenadines', 'Samoa',\n",
       "       'Sao Tome and Principe', 'Serbia and Montenegro', 'Seychelles',\n",
       "       'Singapore', 'So. African Customs Union', 'Solomon Isds',\n",
       "       'State of Palestine', 'Swaziland', 'Syria', 'TFYR of Macedonia',\n",
       "       'Tonga', 'Turks and Caicos Isds', 'Tuvalu', 'USA',\n",
       "       'United Rep. of Tanzania', 'Venezuela', 'Wallis and Futuna Isds'],\n",
       "      dtype=object)"
      ]
     },
     "execution_count": 6,
     "metadata": {},
     "output_type": "execute_result"
    }
   ],
   "source": [
    "df_agg[df_agg['GEOMETRY'].isnull()]['COUNTRY_AREA'].unique()"
   ]
  },
  {
   "cell_type": "code",
   "execution_count": 7,
   "metadata": {},
   "outputs": [
    {
     "name": "stderr",
     "output_type": "stream",
     "text": [
      "/tmp/ipykernel_6803/3325820555.py:3: FutureWarning: The default value of regex will change from True to False in a future version.\n",
      "  df['COUNTRY_AREA']=df['COUNTRY_AREA'].str.replace('United Rep. of Tanzania', 'Tanzania')\n",
      "/tmp/ipykernel_6803/3325820555.py:6: FutureWarning: The default value of regex will change from True to False in a future version.\n",
      "  df['COUNTRY_AREA']=df['COUNTRY_AREA'].str.replace('Central African Rep.', 'Central African Republic')\n",
      "/tmp/ipykernel_6803/3325820555.py:15: FutureWarning: The default value of regex will change from True to False in a future version.\n",
      "  df['COUNTRY_AREA']=df['COUNTRY_AREA'].str.replace('Czech Rep.', 'Czech Republic')\n",
      "/tmp/ipykernel_6803/3325820555.py:17: FutureWarning: The default value of regex will change from True to False in a future version.\n",
      "  df['COUNTRY_AREA']=df['COUNTRY_AREA'].str.replace('Dominican Rep.', 'Dominican Republic')\n",
      "/tmp/ipykernel_6803/3325820555.py:27: FutureWarning: The default value of regex will change from True to False in a future version.\n",
      "  df['COUNTRY_AREA']=df['COUNTRY_AREA'].str.replace('Rep.', 'Republic')\n",
      "/tmp/ipykernel_6803/3325820555.py:30: FutureWarning: The default value of regex will change from True to False in a future version.\n",
      "  df['COUNTRY_AREA']=df['COUNTRY_AREA'].str.replace('Fmr Fed. Rep. of Germany', 'Germany')\n",
      "/tmp/ipykernel_6803/3325820555.py:37: FutureWarning: The default value of regex will change from True to False in a future version.\n",
      "  df['COUNTRY_AREA']=df['COUNTRY_AREA'].str.replace(\"Lao People's Dem. Republic\", \"Lao People’s Democratic Republic\")\n",
      "/tmp/ipykernel_6803/3325820555.py:42: FutureWarning: The default value of regex will change from True to False in a future version.\n",
      "  df['COUNTRY_AREA']=df['COUNTRY_AREA'].str.replace('Neth. Antilles', 'Netherlands Antilles')\n"
     ]
    }
   ],
   "source": [
    "## this helps: https://www.un.int/protocol/sites/www.un.int/files/Protocol%20and%20Liaison%20Service/officialnamesofcountries.pdf\n",
    "\n",
    "df['COUNTRY_AREA']=df['COUNTRY_AREA'].str.replace('United Rep. of Tanzania', 'Tanzania')\n",
    "df['COUNTRY_AREA']=df['COUNTRY_AREA'].str.replace('Belgium-Luxembourg', 'Belgium') ### I will count luxembourg as belgium for simplicity\n",
    "df['COUNTRY_AREA']=df['COUNTRY_AREA'].str.replace('Bosnia Herzegovina', 'Bosnia')\n",
    "df['COUNTRY_AREA']=df['COUNTRY_AREA'].str.replace('Central African Rep.', 'Central African Republic')\n",
    "df['COUNTRY_AREA']=df['COUNTRY_AREA'].str.replace('Cayman Isds', 'Cayman Islands')\n",
    "df['COUNTRY_AREA']=df['COUNTRY_AREA'].str.replace('Cabo Verde', 'Cape Verde') ## Fun Fact: As time passed, the name was anglicized to Cape Verde. \n",
    "### Since 2013, the government decided that the Portuguese Cabo Verde would henceforth be used for official purposes, and requests that the rest of the world respects this name change.\n",
    "\n",
    "df['COUNTRY_AREA']=df['COUNTRY_AREA'].str.replace('China, Hong Kong SAR', 'Hong Kong')\n",
    "df['COUNTRY_AREA']=df['COUNTRY_AREA'].str.replace('China, Macao SAR', 'Macao')\n",
    "df['COUNTRY_AREA']=df['COUNTRY_AREA'].str.replace('Comoros', 'Union of the Comoros')\n",
    "df['COUNTRY_AREA']=df['COUNTRY_AREA'].str.replace('Cook Isds', 'Cook Islands')\n",
    "df['COUNTRY_AREA']=df['COUNTRY_AREA'].str.replace('Czech Rep.', 'Czech Republic')\n",
    "df['COUNTRY_AREA']=df['COUNTRY_AREA'].str.replace('Dominica', 'Commonwealth of Dominica')\n",
    "df['COUNTRY_AREA']=df['COUNTRY_AREA'].str.replace('Dominican Rep.', 'Dominican Republic')\n",
    "\n",
    "## it looks like EU-28 which I think is an aggregate of the 28 member countries. I am going to drop it\n",
    "df=df[df['COUNTRY_AREA']!='EU-28'].reset_index(drop=True)\n",
    "\n",
    "\n",
    "df['COUNTRY_AREA']=df['COUNTRY_AREA'].str.replace('FS Micronesia', 'Micronesia')\n",
    "\n",
    "## i am going to replace Isds with Islands and rep. with Republic. I will skip the next ones I see\n",
    "df['COUNTRY_AREA']=df['COUNTRY_AREA'].str.replace('Isds', 'Islands')\n",
    "df['COUNTRY_AREA']=df['COUNTRY_AREA'].str.replace('Rep.', 'Republic')\n",
    "\n",
    "\n",
    "df['COUNTRY_AREA']=df['COUNTRY_AREA'].str.replace('Fmr Fed. Rep. of Germany', 'Germany')\n",
    "df['COUNTRY_AREA']=df['COUNTRY_AREA'].str.replace('Fmr Sudan', 'South Sudan')\n",
    "df['COUNTRY_AREA']=df['COUNTRY_AREA'].str.replace('French Guiana', 'Guyane')\n",
    "df['COUNTRY_AREA']=df['COUNTRY_AREA'].str.replace('French Polynesia', 'Polynesia')\n",
    "df['COUNTRY_AREA']=df['COUNTRY_AREA'].str.replace('Iran', 'Islamic Republic of Iran')\n",
    "\n",
    "df['COUNTRY_AREA']=df['COUNTRY_AREA'].str.replace('Kiribati', 'Republic of Kiribati')\n",
    "df['COUNTRY_AREA']=df['COUNTRY_AREA'].str.replace(\"Lao People's Dem. Republic\", \"Lao People’s Democratic Republic\")\n",
    "df['COUNTRY_AREA']=df['COUNTRY_AREA'].str.replace('Maldives', 'Republic of Maldives')\n",
    "df['COUNTRY_AREA']=df['COUNTRY_AREA'].str.replace('Kiribati', 'Republic of Kiribati')\n",
    "df['COUNTRY_AREA']=df['COUNTRY_AREA'].str.replace('Malta', 'Republic of Malta')\n",
    "df['COUNTRY_AREA']=df['COUNTRY_AREA'].str.replace('Mauritius', 'Republic of Mauritius')\n",
    "df['COUNTRY_AREA']=df['COUNTRY_AREA'].str.replace('Neth. Antilles', 'Netherlands Antilles')\n",
    "df['COUNTRY_AREA']=df['COUNTRY_AREA'].str.replace('Palau', 'Republic of Palau')\n",
    "df['COUNTRY_AREA']=df['COUNTRY_AREA'].str.replace('Republic of Korea', 'Korea')\n",
    "df['COUNTRY_AREA']=df['COUNTRY_AREA'].str.replace('Republic of Moldova', 'Moldova')\n",
    "df['COUNTRY_AREA']=df['COUNTRY_AREA'].str.replace('Réunion', 'France')\n",
    "df['COUNTRY_AREA']=df['COUNTRY_AREA'].str.replace('Saint Kitts and Nevis', 'Saint Kitts')\n",
    "df['COUNTRY_AREA']=df['COUNTRY_AREA'].str.replace('Saint Vincent and the Grenadines', 'St.Vincent and the Grenadines') ## trying whatever I think might work\n",
    "df['COUNTRY_AREA']=df['COUNTRY_AREA'].str.replace('Samoa', 'United States')\n",
    "df['COUNTRY_AREA']=df['COUNTRY_AREA'].str.replace('Sao Tome and Principe', 'São Tomé and Príncipe')\n",
    "df['COUNTRY_AREA']=df['COUNTRY_AREA'].str.replace('Serbia and Montenegro', 'Serbia')\n",
    "df['COUNTRY_AREA']=df['COUNTRY_AREA'].str.replace('Seychelles', 'Republic of Seychelles')\n",
    "df['COUNTRY_AREA']=df['COUNTRY_AREA'].str.replace('Singapore', 'Republic of Singapore')\n",
    "\n",
    "## So. African Customs Union is a union of 5 countries so an aggregate. I am removing it. \n",
    "df=df[df['COUNTRY_AREA']!='So. African Customs Union']\n",
    "\n",
    "\n",
    "df['COUNTRY_AREA']=df['COUNTRY_AREA'].str.replace('State of Palestine', 'Israel') ## no way meant to be political but it would be too hard to differentiate them. \n",
    "df['COUNTRY_AREA']=df['COUNTRY_AREA'].str.replace('Syria', 'Syrian Arab Republic')\n",
    "df['COUNTRY_AREA']=df['COUNTRY_AREA'].str.replace('TFYR of Macedonia', 'North Macedonia')\n",
    "df['COUNTRY_AREA']=df['COUNTRY_AREA'].str.replace('Tonga', 'Kingdom of Tonga')\n",
    "df['COUNTRY_AREA']=df['COUNTRY_AREA'].str.replace('Tuvalu', 'Ellice Islands')\n",
    "df['COUNTRY_AREA']=df['COUNTRY_AREA'].str.replace('USA', 'United States')\n",
    "df['COUNTRY_AREA']=df['COUNTRY_AREA'].str.replace('Venezuela', 'Bolivarian Republic of Venezuela')"
   ]
  },
  {
   "cell_type": "code",
   "execution_count": 8,
   "metadata": {},
   "outputs": [],
   "source": [
    "def null_fix(code, null, new_name):\n",
    "    if null == True:\n",
    "        return pycountry.countries.get(name=new_name).alpha_3\n",
    "    else:\n",
    "        return code\n",
    "df['NULL']=df['CODE'].isnull()\n",
    "df['CODE']=df.apply(\n",
    "    lambda x: null_fix(x['CODE'], x['NULL'], x['COUNTRY_AREA']), axis=1)\n",
    "\n",
    "def usa_fix(code, new_name):\n",
    "    if new_name=='United States':\n",
    "        return('USA')\n",
    "    else:\n",
    "        return code\n",
    "        \n",
    "df['CODE']=df.apply(\n",
    "    lambda x: usa_fix(x['CODE'], x['COUNTRY_AREA']), axis=1)"
   ]
  },
  {
   "cell_type": "code",
   "execution_count": 9,
   "metadata": {},
   "outputs": [
    {
     "data": {
      "text/html": [
       "<div>\n",
       "<style scoped>\n",
       "    .dataframe tbody tr th:only-of-type {\n",
       "        vertical-align: middle;\n",
       "    }\n",
       "\n",
       "    .dataframe tbody tr th {\n",
       "        vertical-align: top;\n",
       "    }\n",
       "\n",
       "    .dataframe thead th {\n",
       "        text-align: right;\n",
       "    }\n",
       "</style>\n",
       "<table border=\"1\" class=\"dataframe\">\n",
       "  <thead>\n",
       "    <tr style=\"text-align: right;\">\n",
       "      <th></th>\n",
       "      <th>COUNTRY_AREA</th>\n",
       "      <th>CODE</th>\n",
       "      <th>FLOW</th>\n",
       "      <th>QUANTITYNAME</th>\n",
       "      <th>QUANTITY</th>\n",
       "      <th>WEIGHTKG</th>\n",
       "      <th>TRADEUSD</th>\n",
       "      <th>POPULATION_EST</th>\n",
       "      <th>CONTINENT</th>\n",
       "      <th>GDP_EST</th>\n",
       "      <th>GEOMETRY</th>\n",
       "    </tr>\n",
       "  </thead>\n",
       "  <tbody>\n",
       "    <tr>\n",
       "      <th>0</th>\n",
       "      <td>Afghanistan</td>\n",
       "      <td>AFG</td>\n",
       "      <td>Export</td>\n",
       "      <td>Area in square metres</td>\n",
       "      <td>6.833587e+05</td>\n",
       "      <td>4.311635e+05</td>\n",
       "      <td>2.233701e+07</td>\n",
       "      <td>38041754.0</td>\n",
       "      <td>Asia</td>\n",
       "      <td>19291.0</td>\n",
       "      <td>POLYGON ((66.51861 37.36278, 67.07578 37.35614...</td>\n",
       "    </tr>\n",
       "    <tr>\n",
       "      <th>1</th>\n",
       "      <td>Afghanistan</td>\n",
       "      <td>AFG</td>\n",
       "      <td>Export</td>\n",
       "      <td>Length in metres</td>\n",
       "      <td>3.901900e+04</td>\n",
       "      <td>0.000000e+00</td>\n",
       "      <td>8.189844e+04</td>\n",
       "      <td>38041754.0</td>\n",
       "      <td>Asia</td>\n",
       "      <td>19291.0</td>\n",
       "      <td>POLYGON ((66.51861 37.36278, 67.07578 37.35614...</td>\n",
       "    </tr>\n",
       "    <tr>\n",
       "      <th>2</th>\n",
       "      <td>Afghanistan</td>\n",
       "      <td>AFG</td>\n",
       "      <td>Export</td>\n",
       "      <td>No Quantity</td>\n",
       "      <td>0.000000e+00</td>\n",
       "      <td>1.530401e+03</td>\n",
       "      <td>1.190941e+09</td>\n",
       "      <td>38041754.0</td>\n",
       "      <td>Asia</td>\n",
       "      <td>19291.0</td>\n",
       "      <td>POLYGON ((66.51861 37.36278, 67.07578 37.35614...</td>\n",
       "    </tr>\n",
       "    <tr>\n",
       "      <th>3</th>\n",
       "      <td>Afghanistan</td>\n",
       "      <td>AFG</td>\n",
       "      <td>Export</td>\n",
       "      <td>Number of items</td>\n",
       "      <td>1.641930e+04</td>\n",
       "      <td>1.903365e+04</td>\n",
       "      <td>9.405982e+05</td>\n",
       "      <td>38041754.0</td>\n",
       "      <td>Asia</td>\n",
       "      <td>19291.0</td>\n",
       "      <td>POLYGON ((66.51861 37.36278, 67.07578 37.35614...</td>\n",
       "    </tr>\n",
       "    <tr>\n",
       "      <th>4</th>\n",
       "      <td>Afghanistan</td>\n",
       "      <td>AFG</td>\n",
       "      <td>Export</td>\n",
       "      <td>Number of pairs</td>\n",
       "      <td>5.993000e+03</td>\n",
       "      <td>0.000000e+00</td>\n",
       "      <td>1.041855e+04</td>\n",
       "      <td>38041754.0</td>\n",
       "      <td>Asia</td>\n",
       "      <td>19291.0</td>\n",
       "      <td>POLYGON ((66.51861 37.36278, 67.07578 37.35614...</td>\n",
       "    </tr>\n",
       "    <tr>\n",
       "      <th>...</th>\n",
       "      <td>...</td>\n",
       "      <td>...</td>\n",
       "      <td>...</td>\n",
       "      <td>...</td>\n",
       "      <td>...</td>\n",
       "      <td>...</td>\n",
       "      <td>...</td>\n",
       "      <td>...</td>\n",
       "      <td>...</td>\n",
       "      <td>...</td>\n",
       "      <td>...</td>\n",
       "    </tr>\n",
       "    <tr>\n",
       "      <th>1674</th>\n",
       "      <td>Zimbabwe</td>\n",
       "      <td>ZWE</td>\n",
       "      <td>Export</td>\n",
       "      <td>Number of items</td>\n",
       "      <td>2.630972e+05</td>\n",
       "      <td>2.173763e+05</td>\n",
       "      <td>6.851796e+06</td>\n",
       "      <td>14645468.0</td>\n",
       "      <td>Africa</td>\n",
       "      <td>21440.0</td>\n",
       "      <td>POLYGON ((31.19141 -22.25151, 30.65987 -22.151...</td>\n",
       "    </tr>\n",
       "    <tr>\n",
       "      <th>1675</th>\n",
       "      <td>Zimbabwe</td>\n",
       "      <td>ZWE</td>\n",
       "      <td>Export</td>\n",
       "      <td>Weight in kilograms</td>\n",
       "      <td>1.394188e+09</td>\n",
       "      <td>1.393277e+09</td>\n",
       "      <td>1.988200e+09</td>\n",
       "      <td>14645468.0</td>\n",
       "      <td>Africa</td>\n",
       "      <td>21440.0</td>\n",
       "      <td>POLYGON ((31.19141 -22.25151, 30.65987 -22.151...</td>\n",
       "    </tr>\n",
       "    <tr>\n",
       "      <th>1676</th>\n",
       "      <td>Zimbabwe</td>\n",
       "      <td>ZWE</td>\n",
       "      <td>Import</td>\n",
       "      <td>No Quantity</td>\n",
       "      <td>0.000000e+00</td>\n",
       "      <td>1.518002e+06</td>\n",
       "      <td>6.331634e+09</td>\n",
       "      <td>14645468.0</td>\n",
       "      <td>Africa</td>\n",
       "      <td>21440.0</td>\n",
       "      <td>POLYGON ((31.19141 -22.25151, 30.65987 -22.151...</td>\n",
       "    </tr>\n",
       "    <tr>\n",
       "      <th>1677</th>\n",
       "      <td>Zimbabwe</td>\n",
       "      <td>ZWE</td>\n",
       "      <td>Import</td>\n",
       "      <td>Number of items</td>\n",
       "      <td>2.182123e+06</td>\n",
       "      <td>7.766519e+06</td>\n",
       "      <td>2.710028e+07</td>\n",
       "      <td>14645468.0</td>\n",
       "      <td>Africa</td>\n",
       "      <td>21440.0</td>\n",
       "      <td>POLYGON ((31.19141 -22.25151, 30.65987 -22.151...</td>\n",
       "    </tr>\n",
       "    <tr>\n",
       "      <th>1678</th>\n",
       "      <td>Zimbabwe</td>\n",
       "      <td>ZWE</td>\n",
       "      <td>Import</td>\n",
       "      <td>Weight in kilograms</td>\n",
       "      <td>7.099204e+08</td>\n",
       "      <td>6.955902e+08</td>\n",
       "      <td>4.451089e+08</td>\n",
       "      <td>14645468.0</td>\n",
       "      <td>Africa</td>\n",
       "      <td>21440.0</td>\n",
       "      <td>POLYGON ((31.19141 -22.25151, 30.65987 -22.151...</td>\n",
       "    </tr>\n",
       "  </tbody>\n",
       "</table>\n",
       "<p>1373 rows × 11 columns</p>\n",
       "</div>"
      ],
      "text/plain": [
       "     COUNTRY_AREA CODE    FLOW           QUANTITYNAME      QUANTITY  \\\n",
       "0     Afghanistan  AFG  Export  Area in square metres  6.833587e+05   \n",
       "1     Afghanistan  AFG  Export       Length in metres  3.901900e+04   \n",
       "2     Afghanistan  AFG  Export            No Quantity  0.000000e+00   \n",
       "3     Afghanistan  AFG  Export        Number of items  1.641930e+04   \n",
       "4     Afghanistan  AFG  Export        Number of pairs  5.993000e+03   \n",
       "...           ...  ...     ...                    ...           ...   \n",
       "1674     Zimbabwe  ZWE  Export        Number of items  2.630972e+05   \n",
       "1675     Zimbabwe  ZWE  Export    Weight in kilograms  1.394188e+09   \n",
       "1676     Zimbabwe  ZWE  Import            No Quantity  0.000000e+00   \n",
       "1677     Zimbabwe  ZWE  Import        Number of items  2.182123e+06   \n",
       "1678     Zimbabwe  ZWE  Import    Weight in kilograms  7.099204e+08   \n",
       "\n",
       "          WEIGHTKG      TRADEUSD  POPULATION_EST CONTINENT  GDP_EST  \\\n",
       "0     4.311635e+05  2.233701e+07      38041754.0      Asia  19291.0   \n",
       "1     0.000000e+00  8.189844e+04      38041754.0      Asia  19291.0   \n",
       "2     1.530401e+03  1.190941e+09      38041754.0      Asia  19291.0   \n",
       "3     1.903365e+04  9.405982e+05      38041754.0      Asia  19291.0   \n",
       "4     0.000000e+00  1.041855e+04      38041754.0      Asia  19291.0   \n",
       "...            ...           ...             ...       ...      ...   \n",
       "1674  2.173763e+05  6.851796e+06      14645468.0    Africa  21440.0   \n",
       "1675  1.393277e+09  1.988200e+09      14645468.0    Africa  21440.0   \n",
       "1676  1.518002e+06  6.331634e+09      14645468.0    Africa  21440.0   \n",
       "1677  7.766519e+06  2.710028e+07      14645468.0    Africa  21440.0   \n",
       "1678  6.955902e+08  4.451089e+08      14645468.0    Africa  21440.0   \n",
       "\n",
       "                                               GEOMETRY  \n",
       "0     POLYGON ((66.51861 37.36278, 67.07578 37.35614...  \n",
       "1     POLYGON ((66.51861 37.36278, 67.07578 37.35614...  \n",
       "2     POLYGON ((66.51861 37.36278, 67.07578 37.35614...  \n",
       "3     POLYGON ((66.51861 37.36278, 67.07578 37.35614...  \n",
       "4     POLYGON ((66.51861 37.36278, 67.07578 37.35614...  \n",
       "...                                                 ...  \n",
       "1674  POLYGON ((31.19141 -22.25151, 30.65987 -22.151...  \n",
       "1675  POLYGON ((31.19141 -22.25151, 30.65987 -22.151...  \n",
       "1676  POLYGON ((31.19141 -22.25151, 30.65987 -22.151...  \n",
       "1677  POLYGON ((31.19141 -22.25151, 30.65987 -22.151...  \n",
       "1678  POLYGON ((31.19141 -22.25151, 30.65987 -22.151...  \n",
       "\n",
       "[1373 rows x 11 columns]"
      ]
     },
     "execution_count": 9,
     "metadata": {},
     "output_type": "execute_result"
    }
   ],
   "source": [
    "### I will focus on 2018.\n",
    "\n",
    "df_agg=df[df['YEAR']==2018]\n",
    "df_agg=df_agg[df_agg['FLOW'].isin(['Import', 'Export'])]\n",
    "\n",
    "df_agg=df_agg.groupby(['COUNTRY_AREA', 'CODE', 'FLOW', 'QUANTITYNAME'], as_index=False)[['QUANTITY', 'WEIGHTKG', 'TRADEUSD']].sum()\n",
    "\n",
    "df_agg=pd.merge(df_agg, world, how='left', left_on='CODE', right_on='CODE')\n",
    "df_agg=df_agg.dropna()\n",
    "df_agg"
   ]
  },
  {
   "cell_type": "code",
   "execution_count": 10,
   "metadata": {},
   "outputs": [
    {
     "data": {
      "text/html": [
       "<div>\n",
       "<style scoped>\n",
       "    .dataframe tbody tr th:only-of-type {\n",
       "        vertical-align: middle;\n",
       "    }\n",
       "\n",
       "    .dataframe tbody tr th {\n",
       "        vertical-align: top;\n",
       "    }\n",
       "\n",
       "    .dataframe thead th {\n",
       "        text-align: right;\n",
       "    }\n",
       "</style>\n",
       "<table border=\"1\" class=\"dataframe\">\n",
       "  <thead>\n",
       "    <tr style=\"text-align: right;\">\n",
       "      <th></th>\n",
       "      <th>COUNTRY_AREA</th>\n",
       "      <th>CODE</th>\n",
       "      <th>FLOW</th>\n",
       "      <th>QUANTITYNAME</th>\n",
       "      <th>QUANTITY</th>\n",
       "      <th>WEIGHTKG</th>\n",
       "      <th>TRADEUSD</th>\n",
       "      <th>POPULATION_EST</th>\n",
       "      <th>CONTINENT</th>\n",
       "      <th>GDP_EST</th>\n",
       "      <th>GEOMETRY</th>\n",
       "    </tr>\n",
       "  </thead>\n",
       "  <tbody>\n",
       "    <tr>\n",
       "      <th>0</th>\n",
       "      <td>Afghanistan</td>\n",
       "      <td>AFG</td>\n",
       "      <td>Export</td>\n",
       "      <td>Area in square metres</td>\n",
       "      <td>683358.70</td>\n",
       "      <td>431163.49</td>\n",
       "      <td>22337014.73</td>\n",
       "      <td>38041754.00</td>\n",
       "      <td>Asia</td>\n",
       "      <td>19291.00</td>\n",
       "      <td>POLYGON ((66.51861 37.36278, 67.07578 37.35614...</td>\n",
       "    </tr>\n",
       "    <tr>\n",
       "      <th>1</th>\n",
       "      <td>Afghanistan</td>\n",
       "      <td>AFG</td>\n",
       "      <td>Export</td>\n",
       "      <td>Length in metres</td>\n",
       "      <td>39019.00</td>\n",
       "      <td>0.00</td>\n",
       "      <td>81898.44</td>\n",
       "      <td>38041754.00</td>\n",
       "      <td>Asia</td>\n",
       "      <td>19291.00</td>\n",
       "      <td>POLYGON ((66.51861 37.36278, 67.07578 37.35614...</td>\n",
       "    </tr>\n",
       "    <tr>\n",
       "      <th>2</th>\n",
       "      <td>Afghanistan</td>\n",
       "      <td>AFG</td>\n",
       "      <td>Export</td>\n",
       "      <td>No Quantity</td>\n",
       "      <td>0.00</td>\n",
       "      <td>1530.40</td>\n",
       "      <td>1190941056.95</td>\n",
       "      <td>38041754.00</td>\n",
       "      <td>Asia</td>\n",
       "      <td>19291.00</td>\n",
       "      <td>POLYGON ((66.51861 37.36278, 67.07578 37.35614...</td>\n",
       "    </tr>\n",
       "    <tr>\n",
       "      <th>3</th>\n",
       "      <td>Afghanistan</td>\n",
       "      <td>AFG</td>\n",
       "      <td>Export</td>\n",
       "      <td>Number of items</td>\n",
       "      <td>16419.30</td>\n",
       "      <td>19033.65</td>\n",
       "      <td>940598.18</td>\n",
       "      <td>38041754.00</td>\n",
       "      <td>Asia</td>\n",
       "      <td>19291.00</td>\n",
       "      <td>POLYGON ((66.51861 37.36278, 67.07578 37.35614...</td>\n",
       "    </tr>\n",
       "    <tr>\n",
       "      <th>4</th>\n",
       "      <td>Afghanistan</td>\n",
       "      <td>AFG</td>\n",
       "      <td>Export</td>\n",
       "      <td>Number of pairs</td>\n",
       "      <td>5993.00</td>\n",
       "      <td>0.00</td>\n",
       "      <td>10418.55</td>\n",
       "      <td>38041754.00</td>\n",
       "      <td>Asia</td>\n",
       "      <td>19291.00</td>\n",
       "      <td>POLYGON ((66.51861 37.36278, 67.07578 37.35614...</td>\n",
       "    </tr>\n",
       "    <tr>\n",
       "      <th>...</th>\n",
       "      <td>...</td>\n",
       "      <td>...</td>\n",
       "      <td>...</td>\n",
       "      <td>...</td>\n",
       "      <td>...</td>\n",
       "      <td>...</td>\n",
       "      <td>...</td>\n",
       "      <td>...</td>\n",
       "      <td>...</td>\n",
       "      <td>...</td>\n",
       "      <td>...</td>\n",
       "    </tr>\n",
       "    <tr>\n",
       "      <th>1674</th>\n",
       "      <td>Zimbabwe</td>\n",
       "      <td>ZWE</td>\n",
       "      <td>Export</td>\n",
       "      <td>Number of items</td>\n",
       "      <td>263097.16</td>\n",
       "      <td>217376.27</td>\n",
       "      <td>6851796.33</td>\n",
       "      <td>14645468.00</td>\n",
       "      <td>Africa</td>\n",
       "      <td>21440.00</td>\n",
       "      <td>POLYGON ((31.19141 -22.25151, 30.65987 -22.151...</td>\n",
       "    </tr>\n",
       "    <tr>\n",
       "      <th>1675</th>\n",
       "      <td>Zimbabwe</td>\n",
       "      <td>ZWE</td>\n",
       "      <td>Export</td>\n",
       "      <td>Weight in kilograms</td>\n",
       "      <td>1394187842.04</td>\n",
       "      <td>1393276874.95</td>\n",
       "      <td>1988200048.67</td>\n",
       "      <td>14645468.00</td>\n",
       "      <td>Africa</td>\n",
       "      <td>21440.00</td>\n",
       "      <td>POLYGON ((31.19141 -22.25151, 30.65987 -22.151...</td>\n",
       "    </tr>\n",
       "    <tr>\n",
       "      <th>1676</th>\n",
       "      <td>Zimbabwe</td>\n",
       "      <td>ZWE</td>\n",
       "      <td>Import</td>\n",
       "      <td>No Quantity</td>\n",
       "      <td>0.00</td>\n",
       "      <td>1518002.36</td>\n",
       "      <td>6331634066.22</td>\n",
       "      <td>14645468.00</td>\n",
       "      <td>Africa</td>\n",
       "      <td>21440.00</td>\n",
       "      <td>POLYGON ((31.19141 -22.25151, 30.65987 -22.151...</td>\n",
       "    </tr>\n",
       "    <tr>\n",
       "      <th>1677</th>\n",
       "      <td>Zimbabwe</td>\n",
       "      <td>ZWE</td>\n",
       "      <td>Import</td>\n",
       "      <td>Number of items</td>\n",
       "      <td>2182122.77</td>\n",
       "      <td>7766518.69</td>\n",
       "      <td>27100281.50</td>\n",
       "      <td>14645468.00</td>\n",
       "      <td>Africa</td>\n",
       "      <td>21440.00</td>\n",
       "      <td>POLYGON ((31.19141 -22.25151, 30.65987 -22.151...</td>\n",
       "    </tr>\n",
       "    <tr>\n",
       "      <th>1678</th>\n",
       "      <td>Zimbabwe</td>\n",
       "      <td>ZWE</td>\n",
       "      <td>Import</td>\n",
       "      <td>Weight in kilograms</td>\n",
       "      <td>709920441.57</td>\n",
       "      <td>695590210.93</td>\n",
       "      <td>445108873.83</td>\n",
       "      <td>14645468.00</td>\n",
       "      <td>Africa</td>\n",
       "      <td>21440.00</td>\n",
       "      <td>POLYGON ((31.19141 -22.25151, 30.65987 -22.151...</td>\n",
       "    </tr>\n",
       "  </tbody>\n",
       "</table>\n",
       "<p>1373 rows × 11 columns</p>\n",
       "</div>"
      ],
      "text/plain": [
       "     COUNTRY_AREA CODE    FLOW           QUANTITYNAME      QUANTITY  \\\n",
       "0     Afghanistan  AFG  Export  Area in square metres     683358.70   \n",
       "1     Afghanistan  AFG  Export       Length in metres      39019.00   \n",
       "2     Afghanistan  AFG  Export            No Quantity          0.00   \n",
       "3     Afghanistan  AFG  Export        Number of items      16419.30   \n",
       "4     Afghanistan  AFG  Export        Number of pairs       5993.00   \n",
       "...           ...  ...     ...                    ...           ...   \n",
       "1674     Zimbabwe  ZWE  Export        Number of items     263097.16   \n",
       "1675     Zimbabwe  ZWE  Export    Weight in kilograms 1394187842.04   \n",
       "1676     Zimbabwe  ZWE  Import            No Quantity          0.00   \n",
       "1677     Zimbabwe  ZWE  Import        Number of items    2182122.77   \n",
       "1678     Zimbabwe  ZWE  Import    Weight in kilograms  709920441.57   \n",
       "\n",
       "          WEIGHTKG      TRADEUSD  POPULATION_EST CONTINENT  GDP_EST  \\\n",
       "0        431163.49   22337014.73     38041754.00      Asia 19291.00   \n",
       "1             0.00      81898.44     38041754.00      Asia 19291.00   \n",
       "2          1530.40 1190941056.95     38041754.00      Asia 19291.00   \n",
       "3         19033.65     940598.18     38041754.00      Asia 19291.00   \n",
       "4             0.00      10418.55     38041754.00      Asia 19291.00   \n",
       "...            ...           ...             ...       ...      ...   \n",
       "1674     217376.27    6851796.33     14645468.00    Africa 21440.00   \n",
       "1675 1393276874.95 1988200048.67     14645468.00    Africa 21440.00   \n",
       "1676    1518002.36 6331634066.22     14645468.00    Africa 21440.00   \n",
       "1677    7766518.69   27100281.50     14645468.00    Africa 21440.00   \n",
       "1678  695590210.93  445108873.83     14645468.00    Africa 21440.00   \n",
       "\n",
       "                                               GEOMETRY  \n",
       "0     POLYGON ((66.51861 37.36278, 67.07578 37.35614...  \n",
       "1     POLYGON ((66.51861 37.36278, 67.07578 37.35614...  \n",
       "2     POLYGON ((66.51861 37.36278, 67.07578 37.35614...  \n",
       "3     POLYGON ((66.51861 37.36278, 67.07578 37.35614...  \n",
       "4     POLYGON ((66.51861 37.36278, 67.07578 37.35614...  \n",
       "...                                                 ...  \n",
       "1674  POLYGON ((31.19141 -22.25151, 30.65987 -22.151...  \n",
       "1675  POLYGON ((31.19141 -22.25151, 30.65987 -22.151...  \n",
       "1676  POLYGON ((31.19141 -22.25151, 30.65987 -22.151...  \n",
       "1677  POLYGON ((31.19141 -22.25151, 30.65987 -22.151...  \n",
       "1678  POLYGON ((31.19141 -22.25151, 30.65987 -22.151...  \n",
       "\n",
       "[1373 rows x 11 columns]"
      ]
     },
     "execution_count": 10,
     "metadata": {},
     "output_type": "execute_result"
    }
   ],
   "source": [
    "for i in ['QUANTITY','WEIGHTKG','TRADEUSD','POPULATION_EST','GDP_EST']:\n",
    "    df_agg[i]=df_agg[i].astype(float)\n",
    "pd.set_option('display.float_format', lambda x: '%.2f' % x)\n",
    "df_agg"
   ]
  },
  {
   "cell_type": "code",
   "execution_count": 11,
   "metadata": {},
   "outputs": [
    {
     "data": {
      "text/html": [
       "<div>\n",
       "<style scoped>\n",
       "    .dataframe tbody tr th:only-of-type {\n",
       "        vertical-align: middle;\n",
       "    }\n",
       "\n",
       "    .dataframe tbody tr th {\n",
       "        vertical-align: top;\n",
       "    }\n",
       "\n",
       "    .dataframe thead th {\n",
       "        text-align: right;\n",
       "    }\n",
       "</style>\n",
       "<table border=\"1\" class=\"dataframe\">\n",
       "  <thead>\n",
       "    <tr style=\"text-align: right;\">\n",
       "      <th></th>\n",
       "      <th>COUNTRY_AREA</th>\n",
       "      <th>CODE</th>\n",
       "      <th>FLOW</th>\n",
       "      <th>QUANTITYNAME</th>\n",
       "      <th>QUANTITY</th>\n",
       "      <th>WEIGHTKG</th>\n",
       "      <th>TRADEUSD</th>\n",
       "      <th>POPULATION_EST</th>\n",
       "      <th>CONTINENT</th>\n",
       "      <th>GDP_EST</th>\n",
       "      <th>GEOMETRY</th>\n",
       "    </tr>\n",
       "  </thead>\n",
       "  <tbody>\n",
       "    <tr>\n",
       "      <th>1647</th>\n",
       "      <td>United States</td>\n",
       "      <td>USA</td>\n",
       "      <td>Export</td>\n",
       "      <td>Area in square metres</td>\n",
       "      <td>634.00</td>\n",
       "      <td>0.00</td>\n",
       "      <td>713.92</td>\n",
       "      <td>328239523.00</td>\n",
       "      <td>North America</td>\n",
       "      <td>21433226.00</td>\n",
       "      <td>MULTIPOLYGON (((-122.84000 49.00000, -120.0000...</td>\n",
       "    </tr>\n",
       "    <tr>\n",
       "      <th>1648</th>\n",
       "      <td>United States</td>\n",
       "      <td>USA</td>\n",
       "      <td>Export</td>\n",
       "      <td>No Quantity</td>\n",
       "      <td>0.00</td>\n",
       "      <td>125957323.73</td>\n",
       "      <td>1878033245333.59</td>\n",
       "      <td>328239523.00</td>\n",
       "      <td>North America</td>\n",
       "      <td>21433226.00</td>\n",
       "      <td>MULTIPOLYGON (((-122.84000 49.00000, -120.0000...</td>\n",
       "    </tr>\n",
       "    <tr>\n",
       "      <th>1649</th>\n",
       "      <td>United States</td>\n",
       "      <td>USA</td>\n",
       "      <td>Export</td>\n",
       "      <td>Number of items</td>\n",
       "      <td>190779089.16</td>\n",
       "      <td>16087623.83</td>\n",
       "      <td>7662348148.22</td>\n",
       "      <td>328239523.00</td>\n",
       "      <td>North America</td>\n",
       "      <td>21433226.00</td>\n",
       "      <td>MULTIPOLYGON (((-122.84000 49.00000, -120.0000...</td>\n",
       "    </tr>\n",
       "    <tr>\n",
       "      <th>1650</th>\n",
       "      <td>United States</td>\n",
       "      <td>USA</td>\n",
       "      <td>Export</td>\n",
       "      <td>Weight in kilograms</td>\n",
       "      <td>167492974551.36</td>\n",
       "      <td>167492933607.95</td>\n",
       "      <td>62079840035.93</td>\n",
       "      <td>328239523.00</td>\n",
       "      <td>North America</td>\n",
       "      <td>21433226.00</td>\n",
       "      <td>MULTIPOLYGON (((-122.84000 49.00000, -120.0000...</td>\n",
       "    </tr>\n",
       "    <tr>\n",
       "      <th>1651</th>\n",
       "      <td>United States</td>\n",
       "      <td>USA</td>\n",
       "      <td>Import</td>\n",
       "      <td>Area in square metres</td>\n",
       "      <td>38077.81</td>\n",
       "      <td>20389.98</td>\n",
       "      <td>146718.85</td>\n",
       "      <td>328239523.00</td>\n",
       "      <td>North America</td>\n",
       "      <td>21433226.00</td>\n",
       "      <td>MULTIPOLYGON (((-122.84000 49.00000, -120.0000...</td>\n",
       "    </tr>\n",
       "    <tr>\n",
       "      <th>1652</th>\n",
       "      <td>United States</td>\n",
       "      <td>USA</td>\n",
       "      <td>Import</td>\n",
       "      <td>No Quantity</td>\n",
       "      <td>0.00</td>\n",
       "      <td>3345167216.11</td>\n",
       "      <td>2734801881692.44</td>\n",
       "      <td>328239523.00</td>\n",
       "      <td>North America</td>\n",
       "      <td>21433226.00</td>\n",
       "      <td>MULTIPOLYGON (((-122.84000 49.00000, -120.0000...</td>\n",
       "    </tr>\n",
       "    <tr>\n",
       "      <th>1653</th>\n",
       "      <td>United States</td>\n",
       "      <td>USA</td>\n",
       "      <td>Import</td>\n",
       "      <td>Number of items</td>\n",
       "      <td>2567612760.66</td>\n",
       "      <td>1309863779.50</td>\n",
       "      <td>20005460824.15</td>\n",
       "      <td>328239523.00</td>\n",
       "      <td>North America</td>\n",
       "      <td>21433226.00</td>\n",
       "      <td>MULTIPOLYGON (((-122.84000 49.00000, -120.0000...</td>\n",
       "    </tr>\n",
       "    <tr>\n",
       "      <th>1654</th>\n",
       "      <td>United States</td>\n",
       "      <td>USA</td>\n",
       "      <td>Import</td>\n",
       "      <td>Weight in kilograms</td>\n",
       "      <td>42312417371.34</td>\n",
       "      <td>41822905234.08</td>\n",
       "      <td>70225683581.77</td>\n",
       "      <td>328239523.00</td>\n",
       "      <td>North America</td>\n",
       "      <td>21433226.00</td>\n",
       "      <td>MULTIPOLYGON (((-122.84000 49.00000, -120.0000...</td>\n",
       "    </tr>\n",
       "  </tbody>\n",
       "</table>\n",
       "</div>"
      ],
      "text/plain": [
       "       COUNTRY_AREA CODE    FLOW           QUANTITYNAME        QUANTITY  \\\n",
       "1647  United States  USA  Export  Area in square metres          634.00   \n",
       "1648  United States  USA  Export            No Quantity            0.00   \n",
       "1649  United States  USA  Export        Number of items    190779089.16   \n",
       "1650  United States  USA  Export    Weight in kilograms 167492974551.36   \n",
       "1651  United States  USA  Import  Area in square metres        38077.81   \n",
       "1652  United States  USA  Import            No Quantity            0.00   \n",
       "1653  United States  USA  Import        Number of items   2567612760.66   \n",
       "1654  United States  USA  Import    Weight in kilograms  42312417371.34   \n",
       "\n",
       "            WEIGHTKG         TRADEUSD  POPULATION_EST      CONTINENT  \\\n",
       "1647            0.00           713.92    328239523.00  North America   \n",
       "1648    125957323.73 1878033245333.59    328239523.00  North America   \n",
       "1649     16087623.83    7662348148.22    328239523.00  North America   \n",
       "1650 167492933607.95   62079840035.93    328239523.00  North America   \n",
       "1651        20389.98        146718.85    328239523.00  North America   \n",
       "1652   3345167216.11 2734801881692.44    328239523.00  North America   \n",
       "1653   1309863779.50   20005460824.15    328239523.00  North America   \n",
       "1654  41822905234.08   70225683581.77    328239523.00  North America   \n",
       "\n",
       "         GDP_EST                                           GEOMETRY  \n",
       "1647 21433226.00  MULTIPOLYGON (((-122.84000 49.00000, -120.0000...  \n",
       "1648 21433226.00  MULTIPOLYGON (((-122.84000 49.00000, -120.0000...  \n",
       "1649 21433226.00  MULTIPOLYGON (((-122.84000 49.00000, -120.0000...  \n",
       "1650 21433226.00  MULTIPOLYGON (((-122.84000 49.00000, -120.0000...  \n",
       "1651 21433226.00  MULTIPOLYGON (((-122.84000 49.00000, -120.0000...  \n",
       "1652 21433226.00  MULTIPOLYGON (((-122.84000 49.00000, -120.0000...  \n",
       "1653 21433226.00  MULTIPOLYGON (((-122.84000 49.00000, -120.0000...  \n",
       "1654 21433226.00  MULTIPOLYGON (((-122.84000 49.00000, -120.0000...  "
      ]
     },
     "execution_count": 11,
     "metadata": {},
     "output_type": "execute_result"
    }
   ],
   "source": [
    "df_agg[df_agg['CODE']=='USA']"
   ]
  },
  {
   "cell_type": "markdown",
   "metadata": {},
   "source": [
    "### Lets see how trade is correlated to various metrics"
   ]
  },
  {
   "cell_type": "code",
   "execution_count": 12,
   "metadata": {},
   "outputs": [
    {
     "data": {
      "application/vnd.plotly.v1+json": {
       "config": {
        "linkText": "Export to plot.ly",
        "plotlyServerURL": "https://plot.ly",
        "showLink": false
       },
       "data": [
        {
         "autocolorscale": false,
         "colorbar": {
          "tickprefix": "$"
         },
         "colorscale": [
          [
           0,
           "rgb(103,0,31)"
          ],
          [
           0.1,
           "rgb(178,24,43)"
          ],
          [
           0.2,
           "rgb(214,96,77)"
          ],
          [
           0.3,
           "rgb(244,165,130)"
          ],
          [
           0.4,
           "rgb(253,219,199)"
          ],
          [
           0.5,
           "rgb(247,247,247)"
          ],
          [
           0.6,
           "rgb(209,229,240)"
          ],
          [
           0.7,
           "rgb(146,197,222)"
          ],
          [
           0.8,
           "rgb(67,147,195)"
          ],
          [
           0.9,
           "rgb(33,102,172)"
          ],
          [
           1,
           "rgb(5,48,97)"
          ]
         ],
         "locations": [
          "AFG",
          "AFG",
          "AFG",
          "AFG",
          "AFG",
          "AFG",
          "AFG",
          "AFG",
          "ALB",
          "ALB",
          "ALB",
          "ALB",
          "ALB",
          "ALB",
          "ALB",
          "ALB",
          "AGO",
          "AGO",
          "AGO",
          "AGO",
          "AGO",
          "AGO",
          "AGO",
          "AGO",
          "AGO",
          "ARG",
          "ARG",
          "ARG",
          "ARG",
          "ARG",
          "ARG",
          "ARG",
          "ARG",
          "ARM",
          "ARM",
          "ARM",
          "ARM",
          "ARM",
          "ARM",
          "ARM",
          "ARM",
          "ARM",
          "AUS",
          "AUS",
          "AUS",
          "AUS",
          "AUS",
          "AUS",
          "AUS",
          "AUS",
          "AUS",
          "AUT",
          "AUT",
          "AUT",
          "AUT",
          "AUT",
          "AUT",
          "AUT",
          "AUT",
          "AUT",
          "AUT",
          "AZE",
          "AZE",
          "AZE",
          "AZE",
          "AZE",
          "AZE",
          "AZE",
          "AZE",
          "AZE",
          "BLR",
          "BLR",
          "BLR",
          "BLR",
          "BLR",
          "BLR",
          "BLR",
          "BLR",
          "BLR",
          "BLR",
          "BEL",
          "BEL",
          "BEL",
          "BEL",
          "BEL",
          "BEL",
          "BEL",
          "BEL",
          "BEL",
          "BEL",
          "BLZ",
          "BLZ",
          "BLZ",
          "BLZ",
          "BLZ",
          "BLZ",
          "BEN",
          "BEN",
          "BEN",
          "BEN",
          "BEN",
          "BEN",
          "BEN",
          "BWA",
          "BWA",
          "BWA",
          "BWA",
          "BWA",
          "BWA",
          "BWA",
          "BWA",
          "BWA",
          "BWA",
          "BRA",
          "BRA",
          "BRA",
          "BRA",
          "BRA",
          "BRA",
          "BRA",
          "BRA",
          "BRA",
          "BRN",
          "BRN",
          "BRN",
          "BRN",
          "BRN",
          "BRN",
          "BRN",
          "BRN",
          "BGR",
          "BGR",
          "BGR",
          "BGR",
          "BGR",
          "BGR",
          "BGR",
          "BGR",
          "BGR",
          "BGR",
          "BFA",
          "BFA",
          "BFA",
          "BFA",
          "BFA",
          "BFA",
          "BFA",
          "BDI",
          "BDI",
          "BDI",
          "BDI",
          "BDI",
          "BDI",
          "BDI",
          "CAN",
          "CAN",
          "CAN",
          "CAN",
          "CAN",
          "CAN",
          "CAN",
          "CAN",
          "CAN",
          "CAN",
          "CAN",
          "CHL",
          "CHL",
          "CHL",
          "CHL",
          "CHL",
          "CHL",
          "CHL",
          "CHL",
          "CHL",
          "CHL",
          "CHN",
          "CHN",
          "CHN",
          "CHN",
          "CHN",
          "CHN",
          "CHN",
          "CHN",
          "CHN",
          "COL",
          "COL",
          "COL",
          "COL",
          "COL",
          "COL",
          "COL",
          "COL",
          "COL",
          "COL",
          "CRI",
          "CRI",
          "CRI",
          "CRI",
          "CRI",
          "CRI",
          "CRI",
          "CRI",
          "HRV",
          "HRV",
          "HRV",
          "HRV",
          "HRV",
          "HRV",
          "HRV",
          "HRV",
          "HRV",
          "HRV",
          "HRV",
          "CYP",
          "CYP",
          "CYP",
          "CYP",
          "CYP",
          "CYP",
          "CYP",
          "CYP",
          "CIV",
          "CIV",
          "CIV",
          "CIV",
          "CIV",
          "CIV",
          "CIV",
          "CIV",
          "CIV",
          "DNK",
          "DNK",
          "DNK",
          "DNK",
          "DNK",
          "DNK",
          "DNK",
          "DNK",
          "DNK",
          "DNK",
          "DNK",
          "ECU",
          "ECU",
          "ECU",
          "ECU",
          "ECU",
          "ECU",
          "ECU",
          "ECU",
          "EGY",
          "EGY",
          "EGY",
          "EGY",
          "EGY",
          "EGY",
          "EGY",
          "EGY",
          "EGY",
          "SLV",
          "SLV",
          "SLV",
          "SLV",
          "SLV",
          "SLV",
          "SLV",
          "SLV",
          "SLV",
          "EST",
          "EST",
          "EST",
          "EST",
          "EST",
          "EST",
          "EST",
          "EST",
          "EST",
          "FJI",
          "FJI",
          "FJI",
          "FJI",
          "FJI",
          "FJI",
          "FJI",
          "FIN",
          "FIN",
          "FIN",
          "FIN",
          "FIN",
          "FIN",
          "FIN",
          "FIN",
          "FIN",
          "FIN",
          "FRA",
          "FRA",
          "FRA",
          "FRA",
          "FRA",
          "FRA",
          "FRA",
          "FRA",
          "FRA",
          "FRA",
          "GMB",
          "GMB",
          "GMB",
          "GMB",
          "GMB",
          "GMB",
          "GEO",
          "GEO",
          "GEO",
          "GEO",
          "GEO",
          "GEO",
          "GEO",
          "GEO",
          "GEO",
          "GEO",
          "DEU",
          "DEU",
          "DEU",
          "DEU",
          "DEU",
          "DEU",
          "DEU",
          "DEU",
          "DEU",
          "DEU",
          "GHA",
          "GHA",
          "GHA",
          "GHA",
          "GHA",
          "GHA",
          "GHA",
          "GRC",
          "GRC",
          "GRC",
          "GRC",
          "GRC",
          "GRC",
          "GRC",
          "GRC",
          "GRC",
          "GRL",
          "GRL",
          "GRL",
          "GRL",
          "GRL",
          "GUY",
          "GUY",
          "GUY",
          "GUY",
          "GUY",
          "GUY",
          "GUY",
          "HUN",
          "HUN",
          "HUN",
          "HUN",
          "HUN",
          "HUN",
          "HUN",
          "HUN",
          "HUN",
          "HUN",
          "ISL",
          "ISL",
          "ISL",
          "ISL",
          "ISL",
          "ISL",
          "IND",
          "IND",
          "IND",
          "IND",
          "IND",
          "IND",
          "IND",
          "IND",
          "IND",
          "IND",
          "IDN",
          "IDN",
          "IDN",
          "IDN",
          "IDN",
          "IDN",
          "IDN",
          "IDN",
          "IRL",
          "IRL",
          "IRL",
          "IRL",
          "IRL",
          "IRL",
          "IRL",
          "IRL",
          "IRL",
          "ISR",
          "ISR",
          "ISR",
          "ISR",
          "ISR",
          "ISR",
          "ISR",
          "ISR",
          "ITA",
          "ITA",
          "ITA",
          "ITA",
          "ITA",
          "ITA",
          "ITA",
          "ITA",
          "ITA",
          "ITA",
          "JPN",
          "JPN",
          "JPN",
          "JPN",
          "JPN",
          "JPN",
          "JPN",
          "JPN",
          "JOR",
          "JOR",
          "JOR",
          "JOR",
          "JOR",
          "JOR",
          "KAZ",
          "KAZ",
          "KAZ",
          "KAZ",
          "KAZ",
          "KAZ",
          "KAZ",
          "KAZ",
          "KEN",
          "KEN",
          "KEN",
          "KEN",
          "KEN",
          "KEN",
          "KEN",
          "KWT",
          "KWT",
          "KWT",
          "KWT",
          "KWT",
          "KWT",
          "KGZ",
          "KGZ",
          "KGZ",
          "KGZ",
          "KGZ",
          "KGZ",
          "KGZ",
          "KGZ",
          "LVA",
          "LVA",
          "LVA",
          "LVA",
          "LVA",
          "LVA",
          "LVA",
          "LVA",
          "LVA",
          "LBN",
          "LBN",
          "LBN",
          "LBN",
          "LBN",
          "LBN",
          "LTU",
          "LTU",
          "LTU",
          "LTU",
          "LTU",
          "LTU",
          "LTU",
          "LTU",
          "LTU",
          "LUX",
          "LUX",
          "LUX",
          "LUX",
          "LUX",
          "LUX",
          "LUX",
          "LUX",
          "MDG",
          "MDG",
          "MDG",
          "MYS",
          "MYS",
          "MYS",
          "MYS",
          "MYS",
          "MYS",
          "MYS",
          "MEX",
          "MEX",
          "MEX",
          "MEX",
          "MEX",
          "MNG",
          "MNG",
          "MNG",
          "MNG",
          "MNG",
          "MNE",
          "MNE",
          "MNE",
          "MNE",
          "MNE",
          "MAR",
          "MAR",
          "MAR",
          "MAR",
          "MAR",
          "MAR",
          "MOZ",
          "MOZ",
          "MOZ",
          "MOZ",
          "MOZ",
          "MMR",
          "MMR",
          "MMR",
          "MMR",
          "MMR",
          "MMR",
          "NAM",
          "NAM",
          "NAM",
          "NAM",
          "NAM",
          "NLD",
          "NLD",
          "NLD",
          "NLD",
          "NLD",
          "NLD",
          "NZL",
          "NZL",
          "NZL",
          "NZL",
          "NZL",
          "NIC",
          "NIC",
          "NIC",
          "NIC",
          "NIC",
          "NGA",
          "NGA",
          "NGA",
          "NGA",
          "NGA",
          "NOR",
          "NOR",
          "NOR",
          "NOR",
          "NOR",
          "OMN",
          "OMN",
          "OMN",
          "PAK",
          "PAK",
          "PAK",
          "PAK",
          "PAK",
          "PRY",
          "PRY",
          "PRY",
          "PRY",
          "PRY",
          "PER",
          "PER",
          "PER",
          "PER",
          "PER",
          "PHL",
          "PHL",
          "PHL",
          "PHL",
          "POL",
          "POL",
          "POL",
          "POL",
          "PRT",
          "PRT",
          "PRT",
          "PRT",
          "QAT",
          "QAT",
          "ROU",
          "ROU",
          "ROU",
          "ROU",
          "RUS",
          "RUS",
          "RUS",
          "RUS",
          "SAU",
          "SAU",
          "SAU",
          "SAU",
          "SEN",
          "SEN",
          "SEN",
          "SRB",
          "SRB",
          "SRB",
          "SVK",
          "SVK",
          "SVK",
          "SVN",
          "SVN",
          "SVN",
          "ZAF",
          "ZAF",
          "ZAF",
          "ESP",
          "ESP",
          "ESP",
          "SUR",
          "SUR",
          "SUR",
          "SWE",
          "SWE",
          "SWE",
          "CHE",
          "CHE",
          "CHE",
          "THA",
          "THA",
          "THA",
          "TUR",
          "TUR",
          "TUR",
          "UGA",
          "UGA",
          "UGA",
          "UKR",
          "UKR",
          "UKR",
          "ARE",
          "ARE",
          "ARE",
          "GBR",
          "GBR",
          "GBR",
          "USA",
          "USA",
          "USA",
          "USA",
          "URY",
          "URY",
          "URY",
          "UZB",
          "UZB",
          "UZB",
          "ZMB",
          "ZMB",
          "ZMB",
          "ZWE",
          "ZWE",
          "ZWE"
         ],
         "marker": {
          "line": {
           "color": "darkgray",
           "width": 0.5
          }
         },
         "reversescale": true,
         "text": [
          "Afghanistan",
          "Afghanistan",
          "Afghanistan",
          "Afghanistan",
          "Afghanistan",
          "Afghanistan",
          "Afghanistan",
          "Afghanistan",
          "Albania",
          "Albania",
          "Albania",
          "Albania",
          "Albania",
          "Albania",
          "Albania",
          "Albania",
          "Angola",
          "Angola",
          "Angola",
          "Angola",
          "Angola",
          "Angola",
          "Angola",
          "Angola",
          "Angola",
          "Argentina",
          "Argentina",
          "Argentina",
          "Argentina",
          "Argentina",
          "Argentina",
          "Argentina",
          "Argentina",
          "Armenia",
          "Armenia",
          "Armenia",
          "Armenia",
          "Armenia",
          "Armenia",
          "Armenia",
          "Armenia",
          "Armenia",
          "Australia",
          "Australia",
          "Australia",
          "Australia",
          "Australia",
          "Australia",
          "Australia",
          "Australia",
          "Australia",
          "Austria",
          "Austria",
          "Austria",
          "Austria",
          "Austria",
          "Austria",
          "Austria",
          "Austria",
          "Austria",
          "Austria",
          "Azerbaijan",
          "Azerbaijan",
          "Azerbaijan",
          "Azerbaijan",
          "Azerbaijan",
          "Azerbaijan",
          "Azerbaijan",
          "Azerbaijan",
          "Azerbaijan",
          "Belarus",
          "Belarus",
          "Belarus",
          "Belarus",
          "Belarus",
          "Belarus",
          "Belarus",
          "Belarus",
          "Belarus",
          "Belarus",
          "Belgium",
          "Belgium",
          "Belgium",
          "Belgium",
          "Belgium",
          "Belgium",
          "Belgium",
          "Belgium",
          "Belgium",
          "Belgium",
          "Belize",
          "Belize",
          "Belize",
          "Belize",
          "Belize",
          "Belize",
          "Benin",
          "Benin",
          "Benin",
          "Benin",
          "Benin",
          "Benin",
          "Benin",
          "Botswana",
          "Botswana",
          "Botswana",
          "Botswana",
          "Botswana",
          "Botswana",
          "Botswana",
          "Botswana",
          "Botswana",
          "Botswana",
          "Brazil",
          "Brazil",
          "Brazil",
          "Brazil",
          "Brazil",
          "Brazil",
          "Brazil",
          "Brazil",
          "Brazil",
          "Brunei Darussalam",
          "Brunei Darussalam",
          "Brunei Darussalam",
          "Brunei Darussalam",
          "Brunei Darussalam",
          "Brunei Darussalam",
          "Brunei Darussalam",
          "Brunei Darussalam",
          "Bulgaria",
          "Bulgaria",
          "Bulgaria",
          "Bulgaria",
          "Bulgaria",
          "Bulgaria",
          "Bulgaria",
          "Bulgaria",
          "Bulgaria",
          "Bulgaria",
          "Burkina Faso",
          "Burkina Faso",
          "Burkina Faso",
          "Burkina Faso",
          "Burkina Faso",
          "Burkina Faso",
          "Burkina Faso",
          "Burundi",
          "Burundi",
          "Burundi",
          "Burundi",
          "Burundi",
          "Burundi",
          "Burundi",
          "Canada",
          "Canada",
          "Canada",
          "Canada",
          "Canada",
          "Canada",
          "Canada",
          "Canada",
          "Canada",
          "Canada",
          "Canada",
          "Chile",
          "Chile",
          "Chile",
          "Chile",
          "Chile",
          "Chile",
          "Chile",
          "Chile",
          "Chile",
          "Chile",
          "China",
          "China",
          "China",
          "China",
          "China",
          "China",
          "China",
          "China",
          "China",
          "Colombia",
          "Colombia",
          "Colombia",
          "Colombia",
          "Colombia",
          "Colombia",
          "Colombia",
          "Colombia",
          "Colombia",
          "Colombia",
          "Costa Rica",
          "Costa Rica",
          "Costa Rica",
          "Costa Rica",
          "Costa Rica",
          "Costa Rica",
          "Costa Rica",
          "Costa Rica",
          "Croatia",
          "Croatia",
          "Croatia",
          "Croatia",
          "Croatia",
          "Croatia",
          "Croatia",
          "Croatia",
          "Croatia",
          "Croatia",
          "Croatia",
          "Cyprus",
          "Cyprus",
          "Cyprus",
          "Cyprus",
          "Cyprus",
          "Cyprus",
          "Cyprus",
          "Cyprus",
          "Côte d'Ivoire",
          "Côte d'Ivoire",
          "Côte d'Ivoire",
          "Côte d'Ivoire",
          "Côte d'Ivoire",
          "Côte d'Ivoire",
          "Côte d'Ivoire",
          "Côte d'Ivoire",
          "Côte d'Ivoire",
          "Denmark",
          "Denmark",
          "Denmark",
          "Denmark",
          "Denmark",
          "Denmark",
          "Denmark",
          "Denmark",
          "Denmark",
          "Denmark",
          "Denmark",
          "Ecuador",
          "Ecuador",
          "Ecuador",
          "Ecuador",
          "Ecuador",
          "Ecuador",
          "Ecuador",
          "Ecuador",
          "Egypt",
          "Egypt",
          "Egypt",
          "Egypt",
          "Egypt",
          "Egypt",
          "Egypt",
          "Egypt",
          "Egypt",
          "El Salvador",
          "El Salvador",
          "El Salvador",
          "El Salvador",
          "El Salvador",
          "El Salvador",
          "El Salvador",
          "El Salvador",
          "El Salvador",
          "Estonia",
          "Estonia",
          "Estonia",
          "Estonia",
          "Estonia",
          "Estonia",
          "Estonia",
          "Estonia",
          "Estonia",
          "Fiji",
          "Fiji",
          "Fiji",
          "Fiji",
          "Fiji",
          "Fiji",
          "Fiji",
          "Finland",
          "Finland",
          "Finland",
          "Finland",
          "Finland",
          "Finland",
          "Finland",
          "Finland",
          "Finland",
          "Finland",
          "France",
          "France",
          "France",
          "France",
          "France",
          "France",
          "France",
          "France",
          "France",
          "France",
          "Gambia",
          "Gambia",
          "Gambia",
          "Gambia",
          "Gambia",
          "Gambia",
          "Georgia",
          "Georgia",
          "Georgia",
          "Georgia",
          "Georgia",
          "Georgia",
          "Georgia",
          "Georgia",
          "Georgia",
          "Georgia",
          "Germany",
          "Germany",
          "Germany",
          "Germany",
          "Germany",
          "Germany",
          "Germany",
          "Germany",
          "Germany",
          "Germany",
          "Ghana",
          "Ghana",
          "Ghana",
          "Ghana",
          "Ghana",
          "Ghana",
          "Ghana",
          "Greece",
          "Greece",
          "Greece",
          "Greece",
          "Greece",
          "Greece",
          "Greece",
          "Greece",
          "Greece",
          "Greenland",
          "Greenland",
          "Greenland",
          "Greenland",
          "Greenland",
          "Guyana",
          "Guyana",
          "Guyana",
          "Guyana",
          "Guyana",
          "Guyana",
          "Guyana",
          "Hungary",
          "Hungary",
          "Hungary",
          "Hungary",
          "Hungary",
          "Hungary",
          "Hungary",
          "Hungary",
          "Hungary",
          "Hungary",
          "Iceland",
          "Iceland",
          "Iceland",
          "Iceland",
          "Iceland",
          "Iceland",
          "India",
          "India",
          "India",
          "India",
          "India",
          "India",
          "India",
          "India",
          "India",
          "India",
          "Indonesia",
          "Indonesia",
          "Indonesia",
          "Indonesia",
          "Indonesia",
          "Indonesia",
          "Indonesia",
          "Indonesia",
          "Ireland",
          "Ireland",
          "Ireland",
          "Ireland",
          "Ireland",
          "Ireland",
          "Ireland",
          "Ireland",
          "Ireland",
          "Israel",
          "Israel",
          "Israel",
          "Israel",
          "Israel",
          "Israel",
          "Israel",
          "Israel",
          "Italy",
          "Italy",
          "Italy",
          "Italy",
          "Italy",
          "Italy",
          "Italy",
          "Italy",
          "Italy",
          "Italy",
          "Japan",
          "Japan",
          "Japan",
          "Japan",
          "Japan",
          "Japan",
          "Japan",
          "Japan",
          "Jordan",
          "Jordan",
          "Jordan",
          "Jordan",
          "Jordan",
          "Jordan",
          "Kazakhstan",
          "Kazakhstan",
          "Kazakhstan",
          "Kazakhstan",
          "Kazakhstan",
          "Kazakhstan",
          "Kazakhstan",
          "Kazakhstan",
          "Kenya",
          "Kenya",
          "Kenya",
          "Kenya",
          "Kenya",
          "Kenya",
          "Kenya",
          "Kuwait",
          "Kuwait",
          "Kuwait",
          "Kuwait",
          "Kuwait",
          "Kuwait",
          "Kyrgyzstan",
          "Kyrgyzstan",
          "Kyrgyzstan",
          "Kyrgyzstan",
          "Kyrgyzstan",
          "Kyrgyzstan",
          "Kyrgyzstan",
          "Kyrgyzstan",
          "Latvia",
          "Latvia",
          "Latvia",
          "Latvia",
          "Latvia",
          "Latvia",
          "Latvia",
          "Latvia",
          "Latvia",
          "Lebanon",
          "Lebanon",
          "Lebanon",
          "Lebanon",
          "Lebanon",
          "Lebanon",
          "Lithuania",
          "Lithuania",
          "Lithuania",
          "Lithuania",
          "Lithuania",
          "Lithuania",
          "Lithuania",
          "Lithuania",
          "Lithuania",
          "Luxembourg",
          "Luxembourg",
          "Luxembourg",
          "Luxembourg",
          "Luxembourg",
          "Luxembourg",
          "Luxembourg",
          "Luxembourg",
          "Madagascar",
          "Madagascar",
          "Madagascar",
          "Malaysia",
          "Malaysia",
          "Malaysia",
          "Malaysia",
          "Malaysia",
          "Malaysia",
          "Malaysia",
          "Mexico",
          "Mexico",
          "Mexico",
          "Mexico",
          "Mexico",
          "Mongolia",
          "Mongolia",
          "Mongolia",
          "Mongolia",
          "Mongolia",
          "Montenegro",
          "Montenegro",
          "Montenegro",
          "Montenegro",
          "Montenegro",
          "Morocco",
          "Morocco",
          "Morocco",
          "Morocco",
          "Morocco",
          "Morocco",
          "Mozambique",
          "Mozambique",
          "Mozambique",
          "Mozambique",
          "Mozambique",
          "Myanmar",
          "Myanmar",
          "Myanmar",
          "Myanmar",
          "Myanmar",
          "Myanmar",
          "Namibia",
          "Namibia",
          "Namibia",
          "Namibia",
          "Namibia",
          "Netherlands",
          "Netherlands",
          "Netherlands",
          "Netherlands",
          "Netherlands",
          "Netherlands",
          "New Zealand",
          "New Zealand",
          "New Zealand",
          "New Zealand",
          "New Zealand",
          "Nicaragua",
          "Nicaragua",
          "Nicaragua",
          "Nicaragua",
          "Nicaragua",
          "Nigeria",
          "Nigeria",
          "Nigeria",
          "Nigeria",
          "Nigeria",
          "Norway",
          "Norway",
          "Norway",
          "Norway",
          "Norway",
          "Oman",
          "Oman",
          "Oman",
          "Pakistan",
          "Pakistan",
          "Pakistan",
          "Pakistan",
          "Pakistan",
          "Paraguay",
          "Paraguay",
          "Paraguay",
          "Paraguay",
          "Paraguay",
          "Peru",
          "Peru",
          "Peru",
          "Peru",
          "Peru",
          "Philippines",
          "Philippines",
          "Philippines",
          "Philippines",
          "Poland",
          "Poland",
          "Poland",
          "Poland",
          "Portugal",
          "Portugal",
          "Portugal",
          "Portugal",
          "Qatar",
          "Qatar",
          "Romania",
          "Romania",
          "Romania",
          "Romania",
          "Russian Federation",
          "Russian Federation",
          "Russian Federation",
          "Russian Federation",
          "Saudi Arabia",
          "Saudi Arabia",
          "Saudi Arabia",
          "Saudi Arabia",
          "Senegal",
          "Senegal",
          "Senegal",
          "Serbia",
          "Serbia",
          "Serbia",
          "Slovakia",
          "Slovakia",
          "Slovakia",
          "Slovenia",
          "Slovenia",
          "Slovenia",
          "South Africa",
          "South Africa",
          "South Africa",
          "Spain",
          "Spain",
          "Spain",
          "Suriname",
          "Suriname",
          "Suriname",
          "Sweden",
          "Sweden",
          "Sweden",
          "Switzerland",
          "Switzerland",
          "Switzerland",
          "Thailand",
          "Thailand",
          "Thailand",
          "Turkey",
          "Turkey",
          "Turkey",
          "Uganda",
          "Uganda",
          "Uganda",
          "Ukraine",
          "Ukraine",
          "Ukraine",
          "United Arab Emirates",
          "United Arab Emirates",
          "United Arab Emirates",
          "United Kingdom",
          "United Kingdom",
          "United Kingdom",
          "United States",
          "United States",
          "United States",
          "United States",
          "Uruguay",
          "Uruguay",
          "Uruguay",
          "Uzbekistan",
          "Uzbekistan",
          "Uzbekistan",
          "Zambia",
          "Zambia",
          "Zambia",
          "Zimbabwe",
          "Zimbabwe",
          "Zimbabwe"
         ],
         "type": "choropleth",
         "z": [
          22337014.73,
          81898.44,
          1190941056.95,
          940598.1799999999,
          10418.55,
          1216834.37,
          56551.89,
          553424619.63,
          118428.74525748,
          47494077.6674559,
          4553523141.704815,
          379421219.3641071,
          192080941.0991046,
          1230850.1920407,
          641281.2852369,
          577209617.4724053,
          23248.55,
          37784076413.560005,
          50703316.81,
          4612424.71,
          1074.96,
          8279315.53,
          16155002.27,
          1010460745.57,
          36495053764.28001,
          6108405.83,
          73634394141.11,
          4989782170.63,
          4350503.81,
          41369811.730000004,
          888524410.6199999,
          665.96,
          43552184732.25,
          1186479.56,
          80036654.4,
          2606105729.4900002,
          288554947.01,
          2949698.6100000003,
          637626.32,
          31349048.26,
          79795825.55,
          1676211590.22,
          40005890.67139745,
          303536593586.659,
          3488441793.7594614,
          58030208.70507016,
          7114736.20503983,
          547902401.1753569,
          2392330602.195174,
          190267143.33857083,
          193205059680.24094,
          146931037.88042602,
          1113694501.3922,
          202023848422.10132,
          21071094343.050156,
          1265994760.966435,
          3788755.52369334,
          1758504108.6429274,
          3123681055.002119,
          4575160.36818474,
          94745396225.22495,
          333839.25,
          65627719.02,
          19507020864.77,
          29448090.34,
          105305.5,
          233534.37,
          55043.54,
          10281524.78,
          19321823763.43,
          261918500,
          54629600,
          21700,
          35319869100,
          3788864000,
          72804900,
          10181300,
          550917900,
          206227700,
          24862076200,
          2001637840.9040182,
          251567504.051733,
          484959440742.2345,
          57111472314.603745,
          6841667699.490684,
          161644083.693104,
          1168128498.3581522,
          4101772592.6593585,
          15043877866.33975,
          317515705812.50275,
          280271959.605,
          72224.195,
          2210047.06,
          1503984.2,
          117102.325,
          195511929.28,
          23675.30710144,
          974085315.44967,
          1637211.26043568,
          11444.40342278,
          2298202.07035416,
          334883.14157086,
          876008618.7823093,
          55659.855384844195,
          297.0096708222,
          12537555614.983992,
          39265899.92626921,
          111.2361246612,
          1121908.3609571836,
          50125.5582562098,
          1105777.025840517,
          707.6108453022,
          375799311.30975205,
          532733086,
          390,
          251842062976,
          18790068288,
          976290969,
          1331554506,
          1045821055,
          151700154,
          183674256443,
          111341.3535616698,
          9285700087.901264,
          13249883.138594279,
          116889.2244980936,
          23498.9028558433,
          174356.756904345,
          3609.34606957,
          3377800084.8493333,
          227104831.65524,
          520428961.699584,
          35269289748.21696,
          2351833274.479494,
          162395410.8839944,
          482361.7760528,
          78186834.5991544,
          167694479.4996632,
          1595807.622528,
          19713505277.03712,
          542.5979819134,
          3285288572.2589164,
          13125441.975152174,
          15481.908509401599,
          42440.205814804,
          3682202.3212781562,
          3201203310.414487,
          15150.09653892,
          214675050.16053918,
          1577544.18232159,
          10404.89276281,
          2775.32082625,
          5263910.49355318,
          108874727.97488604,
          151009452.9544128,
          2247586411.78804,
          18044.1737076,
          663620557942.0898,
          7174789287.955832,
          140364833.81558278,
          1387995.847197,
          119119900.166847,
          339305596.2454636,
          2160576327.90364,
          134589414108.096,
          21694140.716396224,
          903492.94,
          75521074717.78789,
          1198884563.608941,
          68527.39,
          148912415.441685,
          3459.06,
          1419563191.610552,
          2034482773.0934725,
          64944769772.54402,
          7002486579,
          2160779,
          2530969048196,
          171007709733,
          45003314041,
          4041412683,
          2369732540,
          1816875325,
          621424545272,
          61734261.85,
          5293309.38,
          41935555119.15,
          265292033.84,
          28770958.64,
          102579.88,
          24064819.49,
          32945684.71,
          121732806.51,
          36055190761.35,
          2145561.03,
          11273799125.91,
          262425057.7,
          838642.65,
          45134080.07,
          81248150.42,
          323.5,
          5933596004.48,
          17539570,
          309020742,
          3212,
          17327570941,
          809116620,
          254792271,
          8256933,
          486934013,
          178359874,
          874115,
          8343199620,
          321885.1571583,
          5909987064.872756,
          1942352751.266214,
          10551810.6539667,
          205.53393885,
          13575890.89913925,
          701042.99980875,
          1470741572.8393805,
          138170.55992100752,
          167071126.459355,
          15150808679.309044,
          12703219.526893474,
          52115812.22161827,
          75395935.2922999,
          12110160.31117306,
          1427875.68384784,
          7401434135.92256,
          261044858.6455015,
          447525930.023425,
          2534.45024,
          121389504285.12987,
          4798458899.030382,
          402587777.99125487,
          62074070.1835223,
          132916683.04205774,
          1051277032.7469546,
          611643.47011026,
          42002682637.86305,
          10242729.4,
          6057735.95,
          22105944611.541,
          40928202.160000004,
          18658652.400000002,
          171602327.64,
          12145221.209999999,
          20102471568.83,
          107843939.26395614,
          34120516216.257378,
          357522678.6544936,
          76671.49817661,
          4377192.579580921,
          3456.43077129,
          750409.75445385,
          28288702.637559056,
          14976079576.773098,
          269372.17,
          767130.95,
          5937127632.38,
          34127613.53,
          32112899.25,
          29201.45,
          2927582.36,
          143007545.98,
          1879011439.54,
          16666668.026720906,
          280962636.19551,
          18571006052.311607,
          520368428.1103706,
          61565336.6070939,
          3254210.97143367,
          162647964.7575082,
          201350.853550536,
          6302676801.073783,
          12224.76797518,
          1252132052.8242905,
          13473069.409705859,
          735014.2342947,
          2573.71088362,
          134130701.39432196,
          301551506.962609,
          17792093.342881437,
          143418806.035926,
          1577.25826992,
          82384038671.98264,
          1363835859.20153,
          135437655.21474162,
          637307.82529272,
          199313902.68665212,
          177750.40564008,
          19209950000.765633,
          381464019.4799212,
          4202183253.33835,
          324681.64832623996,
          605248444155.8707,
          46357352357.49127,
          2330375720.4051895,
          1945989.98063936,
          13938969333.370773,
          719989649.4989331,
          169885683132.6024,
          268948.48,
          9464593.93,
          9975.539999999999,
          12028,
          48890.770000000004,
          1971272.0899999999,
          2822469.6999999997,
          19907614,
          3555807632.2999997,
          57783212.53,
          1628.81,
          2210994.08,
          25669.75,
          344601837.83,
          28740,
          1294027094.9299998,
          2008119730.6042404,
          3774589125.15268,
          5744497.0864120005,
          1635828775683.7217,
          42894404436.40785,
          8393466227.973368,
          107096307.969675,
          6564284037.565066,
          357035986.9361375,
          329897701984.92804,
          108364.258893184,
          17160202276.730858,
          2334853.8683526786,
          692676.721861465,
          39861606.75640164,
          2112748.75482344,
          15558712207.623804,
          18288057.881798,
          249610213.115764,
          40631817960.34228,
          292571063.123662,
          156022563.523882,
          9066102.155906,
          258503035.78127,
          2970678.5594039997,
          22790924313.46852,
          684692371.62,
          7286.87,
          10524.84,
          1584.8,
          131557270.94,
          865.41145425,
          2181307699.399772,
          208955391.2036798,
          194608.603252574,
          55258313.821116485,
          12282891.12924519,
          327324835.0621466,
          37345144,
          742133915,
          32722,
          131402844206,
          487608022,
          564928777,
          2360674,
          788840645,
          566992,
          18709605252,
          16902.07925796,
          5622126990.735038,
          42946010.27118796,
          251790.86320752001,
          21187057.48208402,
          2826426348.511016,
          2771835916.6043234,
          228773682.81612,
          45723.187089180006,
          324381711604.6439,
          3709379078.728465,
          2494697616.204914,
          2498214.19883426,
          330314268.38288707,
          26032683021.426666,
          119163861200.62201,
          150892676.78,
          180853532525.073,
          531697701.57,
          4971241479.469999,
          47484.5,
          227831510.75,
          30456.87,
          73293410547.852,
          12816580.39582788,
          426770960.61965,
          168436410450.8352,
          5898151538.415318,
          42564326.28567756,
          3951992.35953566,
          1701389351.5279095,
          1886115.6149463998,
          77791908745.03845,
          10604000,
          79258988000,
          28112000,
          24044000,
          4000,
          54171000,
          1092000,
          13744345000,
          4901823420.475814,
          318184907.414861,
          890548.9780506,
          580099959333.1923,
          11487791009.721039,
          7326201650.807288,
          14355024.8283238,
          9777648555.50736,
          415450154.96130073,
          109871061761.24763,
          1069982776.47009,
          13141331.87523,
          804903818516.9506,
          7477339872.067651,
          50834906.29659,
          849571058.41857,
          81614650.37442,
          48487287272.95368,
          119411.292682,
          11262730.534187,
          7787370245.206555,
          99011358.82055001,
          28702494.759917,
          2500761220.934394,
          3108345.05,
          79813153.4,
          61172211205.39,
          59760361.76,
          6950498.38,
          26459,
          49695560.61,
          48398338894.829994,
          4204818.510284838,
          6103398615.784294,
          56748017.18631462,
          33952029.82317794,
          575.0049725,
          51449658.35887159,
          3631942238.6806607,
          3500071,
          72082242342,
          293153224,
          11663070,
          45574041,
          65932527006,
          7366174,
          16339238,
          1846024736,
          43033321,
          22716858,
          2074,
          2899772,
          364158718,
          20327365.115456298,
          244361747.00383,
          4448.81588204,
          15450638818.672787,
          137023190.66997135,
          21662909.786356222,
          5780131.11132989,
          653454693.1335397,
          2990417563.9231515,
          1629381.80886866,
          2965767445.872688,
          11043387.21531078,
          6647925.684661981,
          59456481.132882036,
          610921884.6887418,
          40505536,
          148907099,
          5891,
          34540826140.82001,
          204945838,
          98437999,
          192232,
          251909840.99,
          10964100243.96,
          3043209.4217834454,
          7066812.23938046,
          1527.768068043,
          15696476642.427221,
          95443376.95390327,
          8375.1901533978,
          104733770.011429,
          1852539472.7754111,
          3144661990.6941323,
          2084313.352459459,
          945677842.7000434,
          276213876.11204076,
          14083.15329648,
          248303783524.7854,
          1280267623.252751,
          5577393.486132,
          743505654.7246001,
          15305966355.604578,
          292569,
          488207384438,
          506158922,
          4551336851,
          14508080875,
          2290251.02,
          7011795718.035,
          21247164.45,
          561607.17,
          3162985593.59,
          106898.05917311071,
          467840355.8539815,
          2818400.1850827173,
          21620277.76103176,
          61715119.79919231,
          22935021.873834476,
          53.29669,
          29465185780.96236,
          42477883.3884993,
          30901435.684875466,
          6911401516.895901,
          98846.42,
          5600304389.66,
          3784613.52,
          3697882.34,
          430436868.32,
          1064302.78,
          583902.61,
          16728761361.32,
          798493085.01,
          5742070.42,
          2369608460.67,
          15503.6183722614,
          9017402529.659636,
          175057346.6173423,
          389.67394872,
          768926622.5288194,
          1579556264.4544852,
          193073.21171946,
          559730327606.6724,
          8129054299.348924,
          6044250638.84176,
          68473483714.94089,
          8972407.05914934,
          44107823733.894394,
          318485404.24327254,
          146942349.1040194,
          14538377778.479862,
          7639.54,
          5023072948.1,
          9851469.3,
          49787864.34,
          752844135.59,
          121928.443034054,
          63936288623.52142,
          4591238.6565751,
          21810397.25036475,
          1004558035.478838,
          886628.5851241801,
          128320401361.23949,
          447695059.32627386,
          83068384.48105308,
          4673665775.79377,
          42327161139.8399,
          12496014.48004,
          2400534400.3368,
          71604421.0824225,
          23827655909.044533,
          38816596.623774,
          455266421.88911915,
          3409496879.9675293,
          15745528,
          9069751329,
          61000,
          25906774,
          1794377688,
          949043.96,
          48079601146.28,
          32283750.85,
          110248817.74000001,
          21964951331.65,
          790249,
          67900369821,
          1248999285,
          3824379303,
          275091927,
          262165740010,
          5060926644,
          22047387975,
          102228076.92388903,
          74376916355.63474,
          482500299.4566962,
          6639747239.762743,
          95465875996.64293,
          8698436.894314447,
          21602692.51,
          80766387439.86,
          1329924896.93,
          5540174396.85,
          9649375.98,
          515340918498.5,
          3290654865.05,
          32971365276.29,
          4244694.3972534,
          528278354873.1859,
          290094.4362618,
          4626672601.26733,
          3678700899.1893363,
          11059724.00454096,
          652355299.7359878,
          19911005200,
          95354638,
          1846900665,
          93563851682.29471,
          782585746.1436983,
          2479299961.791171,
          36587572057.479996,
          250348447.99,
          1108960233.75,
          100697755799.53987,
          436034690.64090234,
          10345105337.570686,
          332834887293.0261,
          2447820176.9902444,
          21139741319.79919,
          1856308573.9271321,
          1167351.92671866,
          19181669.497863155,
          173110635100.8792,
          476876501.84834,
          10371704182.7376,
          316998305113.6605,
          1609649354.520496,
          7123824456.834278,
          254791339595.33002,
          1584386130.06,
          15891347130.13,
          170635067204,
          1463771556,
          7745607421,
          3199422482.23,
          62074397.33,
          472963013.45,
          47496401820.1,
          338605416.33,
          12917246862.2,
          490936780591.9469,
          4879.510272,
          7119443117.266461,
          520018864610.00323,
          2987399871.5153065,
          27054987829.91135,
          713.9247351600001,
          1878033245333.595,
          7662348148.220984,
          62079840035.931305,
          7502202002,
          284792633,
          599763066,
          11158657392.14,
          25463409,
          455851459,
          9065012506.32999,
          5613903.73,
          465184880.69,
          4051325558.54,
          6851796.33,
          1988200048.67
         ]
        }
       ],
       "layout": {
        "geo": {
         "projection": {
          "type": "equirectangular"
         },
         "showcoastlines": false,
         "showframe": false
        },
        "height": 800,
        "margin": {
         "b": 0,
         "l": 0,
         "r": 0,
         "t": 100
        },
        "template": {
         "data": {
          "bar": [
           {
            "error_x": {
             "color": "#2a3f5f"
            },
            "error_y": {
             "color": "#2a3f5f"
            },
            "marker": {
             "line": {
              "color": "#E5ECF6",
              "width": 0.5
             },
             "pattern": {
              "fillmode": "overlay",
              "size": 10,
              "solidity": 0.2
             }
            },
            "type": "bar"
           }
          ],
          "barpolar": [
           {
            "marker": {
             "line": {
              "color": "#E5ECF6",
              "width": 0.5
             },
             "pattern": {
              "fillmode": "overlay",
              "size": 10,
              "solidity": 0.2
             }
            },
            "type": "barpolar"
           }
          ],
          "carpet": [
           {
            "aaxis": {
             "endlinecolor": "#2a3f5f",
             "gridcolor": "white",
             "linecolor": "white",
             "minorgridcolor": "white",
             "startlinecolor": "#2a3f5f"
            },
            "baxis": {
             "endlinecolor": "#2a3f5f",
             "gridcolor": "white",
             "linecolor": "white",
             "minorgridcolor": "white",
             "startlinecolor": "#2a3f5f"
            },
            "type": "carpet"
           }
          ],
          "choropleth": [
           {
            "colorbar": {
             "outlinewidth": 0,
             "ticks": ""
            },
            "type": "choropleth"
           }
          ],
          "contour": [
           {
            "colorbar": {
             "outlinewidth": 0,
             "ticks": ""
            },
            "colorscale": [
             [
              0,
              "#0d0887"
             ],
             [
              0.1111111111111111,
              "#46039f"
             ],
             [
              0.2222222222222222,
              "#7201a8"
             ],
             [
              0.3333333333333333,
              "#9c179e"
             ],
             [
              0.4444444444444444,
              "#bd3786"
             ],
             [
              0.5555555555555556,
              "#d8576b"
             ],
             [
              0.6666666666666666,
              "#ed7953"
             ],
             [
              0.7777777777777778,
              "#fb9f3a"
             ],
             [
              0.8888888888888888,
              "#fdca26"
             ],
             [
              1,
              "#f0f921"
             ]
            ],
            "type": "contour"
           }
          ],
          "contourcarpet": [
           {
            "colorbar": {
             "outlinewidth": 0,
             "ticks": ""
            },
            "type": "contourcarpet"
           }
          ],
          "heatmap": [
           {
            "colorbar": {
             "outlinewidth": 0,
             "ticks": ""
            },
            "colorscale": [
             [
              0,
              "#0d0887"
             ],
             [
              0.1111111111111111,
              "#46039f"
             ],
             [
              0.2222222222222222,
              "#7201a8"
             ],
             [
              0.3333333333333333,
              "#9c179e"
             ],
             [
              0.4444444444444444,
              "#bd3786"
             ],
             [
              0.5555555555555556,
              "#d8576b"
             ],
             [
              0.6666666666666666,
              "#ed7953"
             ],
             [
              0.7777777777777778,
              "#fb9f3a"
             ],
             [
              0.8888888888888888,
              "#fdca26"
             ],
             [
              1,
              "#f0f921"
             ]
            ],
            "type": "heatmap"
           }
          ],
          "heatmapgl": [
           {
            "colorbar": {
             "outlinewidth": 0,
             "ticks": ""
            },
            "colorscale": [
             [
              0,
              "#0d0887"
             ],
             [
              0.1111111111111111,
              "#46039f"
             ],
             [
              0.2222222222222222,
              "#7201a8"
             ],
             [
              0.3333333333333333,
              "#9c179e"
             ],
             [
              0.4444444444444444,
              "#bd3786"
             ],
             [
              0.5555555555555556,
              "#d8576b"
             ],
             [
              0.6666666666666666,
              "#ed7953"
             ],
             [
              0.7777777777777778,
              "#fb9f3a"
             ],
             [
              0.8888888888888888,
              "#fdca26"
             ],
             [
              1,
              "#f0f921"
             ]
            ],
            "type": "heatmapgl"
           }
          ],
          "histogram": [
           {
            "marker": {
             "pattern": {
              "fillmode": "overlay",
              "size": 10,
              "solidity": 0.2
             }
            },
            "type": "histogram"
           }
          ],
          "histogram2d": [
           {
            "colorbar": {
             "outlinewidth": 0,
             "ticks": ""
            },
            "colorscale": [
             [
              0,
              "#0d0887"
             ],
             [
              0.1111111111111111,
              "#46039f"
             ],
             [
              0.2222222222222222,
              "#7201a8"
             ],
             [
              0.3333333333333333,
              "#9c179e"
             ],
             [
              0.4444444444444444,
              "#bd3786"
             ],
             [
              0.5555555555555556,
              "#d8576b"
             ],
             [
              0.6666666666666666,
              "#ed7953"
             ],
             [
              0.7777777777777778,
              "#fb9f3a"
             ],
             [
              0.8888888888888888,
              "#fdca26"
             ],
             [
              1,
              "#f0f921"
             ]
            ],
            "type": "histogram2d"
           }
          ],
          "histogram2dcontour": [
           {
            "colorbar": {
             "outlinewidth": 0,
             "ticks": ""
            },
            "colorscale": [
             [
              0,
              "#0d0887"
             ],
             [
              0.1111111111111111,
              "#46039f"
             ],
             [
              0.2222222222222222,
              "#7201a8"
             ],
             [
              0.3333333333333333,
              "#9c179e"
             ],
             [
              0.4444444444444444,
              "#bd3786"
             ],
             [
              0.5555555555555556,
              "#d8576b"
             ],
             [
              0.6666666666666666,
              "#ed7953"
             ],
             [
              0.7777777777777778,
              "#fb9f3a"
             ],
             [
              0.8888888888888888,
              "#fdca26"
             ],
             [
              1,
              "#f0f921"
             ]
            ],
            "type": "histogram2dcontour"
           }
          ],
          "mesh3d": [
           {
            "colorbar": {
             "outlinewidth": 0,
             "ticks": ""
            },
            "type": "mesh3d"
           }
          ],
          "parcoords": [
           {
            "line": {
             "colorbar": {
              "outlinewidth": 0,
              "ticks": ""
             }
            },
            "type": "parcoords"
           }
          ],
          "pie": [
           {
            "automargin": true,
            "type": "pie"
           }
          ],
          "scatter": [
           {
            "fillpattern": {
             "fillmode": "overlay",
             "size": 10,
             "solidity": 0.2
            },
            "type": "scatter"
           }
          ],
          "scatter3d": [
           {
            "line": {
             "colorbar": {
              "outlinewidth": 0,
              "ticks": ""
             }
            },
            "marker": {
             "colorbar": {
              "outlinewidth": 0,
              "ticks": ""
             }
            },
            "type": "scatter3d"
           }
          ],
          "scattercarpet": [
           {
            "marker": {
             "colorbar": {
              "outlinewidth": 0,
              "ticks": ""
             }
            },
            "type": "scattercarpet"
           }
          ],
          "scattergeo": [
           {
            "marker": {
             "colorbar": {
              "outlinewidth": 0,
              "ticks": ""
             }
            },
            "type": "scattergeo"
           }
          ],
          "scattergl": [
           {
            "marker": {
             "colorbar": {
              "outlinewidth": 0,
              "ticks": ""
             }
            },
            "type": "scattergl"
           }
          ],
          "scattermapbox": [
           {
            "marker": {
             "colorbar": {
              "outlinewidth": 0,
              "ticks": ""
             }
            },
            "type": "scattermapbox"
           }
          ],
          "scatterpolar": [
           {
            "marker": {
             "colorbar": {
              "outlinewidth": 0,
              "ticks": ""
             }
            },
            "type": "scatterpolar"
           }
          ],
          "scatterpolargl": [
           {
            "marker": {
             "colorbar": {
              "outlinewidth": 0,
              "ticks": ""
             }
            },
            "type": "scatterpolargl"
           }
          ],
          "scatterternary": [
           {
            "marker": {
             "colorbar": {
              "outlinewidth": 0,
              "ticks": ""
             }
            },
            "type": "scatterternary"
           }
          ],
          "surface": [
           {
            "colorbar": {
             "outlinewidth": 0,
             "ticks": ""
            },
            "colorscale": [
             [
              0,
              "#0d0887"
             ],
             [
              0.1111111111111111,
              "#46039f"
             ],
             [
              0.2222222222222222,
              "#7201a8"
             ],
             [
              0.3333333333333333,
              "#9c179e"
             ],
             [
              0.4444444444444444,
              "#bd3786"
             ],
             [
              0.5555555555555556,
              "#d8576b"
             ],
             [
              0.6666666666666666,
              "#ed7953"
             ],
             [
              0.7777777777777778,
              "#fb9f3a"
             ],
             [
              0.8888888888888888,
              "#fdca26"
             ],
             [
              1,
              "#f0f921"
             ]
            ],
            "type": "surface"
           }
          ],
          "table": [
           {
            "cells": {
             "fill": {
              "color": "#EBF0F8"
             },
             "line": {
              "color": "white"
             }
            },
            "header": {
             "fill": {
              "color": "#C8D4E3"
             },
             "line": {
              "color": "white"
             }
            },
            "type": "table"
           }
          ]
         },
         "layout": {
          "annotationdefaults": {
           "arrowcolor": "#2a3f5f",
           "arrowhead": 0,
           "arrowwidth": 1
          },
          "autotypenumbers": "strict",
          "coloraxis": {
           "colorbar": {
            "outlinewidth": 0,
            "ticks": ""
           }
          },
          "colorscale": {
           "diverging": [
            [
             0,
             "#8e0152"
            ],
            [
             0.1,
             "#c51b7d"
            ],
            [
             0.2,
             "#de77ae"
            ],
            [
             0.3,
             "#f1b6da"
            ],
            [
             0.4,
             "#fde0ef"
            ],
            [
             0.5,
             "#f7f7f7"
            ],
            [
             0.6,
             "#e6f5d0"
            ],
            [
             0.7,
             "#b8e186"
            ],
            [
             0.8,
             "#7fbc41"
            ],
            [
             0.9,
             "#4d9221"
            ],
            [
             1,
             "#276419"
            ]
           ],
           "sequential": [
            [
             0,
             "#0d0887"
            ],
            [
             0.1111111111111111,
             "#46039f"
            ],
            [
             0.2222222222222222,
             "#7201a8"
            ],
            [
             0.3333333333333333,
             "#9c179e"
            ],
            [
             0.4444444444444444,
             "#bd3786"
            ],
            [
             0.5555555555555556,
             "#d8576b"
            ],
            [
             0.6666666666666666,
             "#ed7953"
            ],
            [
             0.7777777777777778,
             "#fb9f3a"
            ],
            [
             0.8888888888888888,
             "#fdca26"
            ],
            [
             1,
             "#f0f921"
            ]
           ],
           "sequentialminus": [
            [
             0,
             "#0d0887"
            ],
            [
             0.1111111111111111,
             "#46039f"
            ],
            [
             0.2222222222222222,
             "#7201a8"
            ],
            [
             0.3333333333333333,
             "#9c179e"
            ],
            [
             0.4444444444444444,
             "#bd3786"
            ],
            [
             0.5555555555555556,
             "#d8576b"
            ],
            [
             0.6666666666666666,
             "#ed7953"
            ],
            [
             0.7777777777777778,
             "#fb9f3a"
            ],
            [
             0.8888888888888888,
             "#fdca26"
            ],
            [
             1,
             "#f0f921"
            ]
           ]
          },
          "colorway": [
           "#636efa",
           "#EF553B",
           "#00cc96",
           "#ab63fa",
           "#FFA15A",
           "#19d3f3",
           "#FF6692",
           "#B6E880",
           "#FF97FF",
           "#FECB52"
          ],
          "font": {
           "color": "#2a3f5f"
          },
          "geo": {
           "bgcolor": "white",
           "lakecolor": "white",
           "landcolor": "#E5ECF6",
           "showlakes": true,
           "showland": true,
           "subunitcolor": "white"
          },
          "hoverlabel": {
           "align": "left"
          },
          "hovermode": "closest",
          "mapbox": {
           "style": "light"
          },
          "paper_bgcolor": "white",
          "plot_bgcolor": "#E5ECF6",
          "polar": {
           "angularaxis": {
            "gridcolor": "white",
            "linecolor": "white",
            "ticks": ""
           },
           "bgcolor": "#E5ECF6",
           "radialaxis": {
            "gridcolor": "white",
            "linecolor": "white",
            "ticks": ""
           }
          },
          "scene": {
           "xaxis": {
            "backgroundcolor": "#E5ECF6",
            "gridcolor": "white",
            "gridwidth": 2,
            "linecolor": "white",
            "showbackground": true,
            "ticks": "",
            "zerolinecolor": "white"
           },
           "yaxis": {
            "backgroundcolor": "#E5ECF6",
            "gridcolor": "white",
            "gridwidth": 2,
            "linecolor": "white",
            "showbackground": true,
            "ticks": "",
            "zerolinecolor": "white"
           },
           "zaxis": {
            "backgroundcolor": "#E5ECF6",
            "gridcolor": "white",
            "gridwidth": 2,
            "linecolor": "white",
            "showbackground": true,
            "ticks": "",
            "zerolinecolor": "white"
           }
          },
          "shapedefaults": {
           "line": {
            "color": "#2a3f5f"
           }
          },
          "ternary": {
           "aaxis": {
            "gridcolor": "white",
            "linecolor": "white",
            "ticks": ""
           },
           "baxis": {
            "gridcolor": "white",
            "linecolor": "white",
            "ticks": ""
           },
           "bgcolor": "#E5ECF6",
           "caxis": {
            "gridcolor": "white",
            "linecolor": "white",
            "ticks": ""
           }
          },
          "title": {
           "x": 0.05
          },
          "xaxis": {
           "automargin": true,
           "gridcolor": "white",
           "linecolor": "white",
           "ticks": "",
           "title": {
            "standoff": 15
           },
           "zerolinecolor": "white",
           "zerolinewidth": 2
          },
          "yaxis": {
           "automargin": true,
           "gridcolor": "white",
           "linecolor": "white",
           "ticks": "",
           "title": {
            "standoff": 15
           },
           "zerolinecolor": "white",
           "zerolinewidth": 2
          }
         }
        },
        "title": {
         "text": "Trade Export by Country"
        }
       }
      },
      "text/html": [
       "<div>                            <div id=\"1fb812a2-37d8-4eae-91ab-a172cc84e96a\" class=\"plotly-graph-div\" style=\"height:800px; width:100%;\"></div>            <script type=\"text/javascript\">                require([\"plotly\"], function(Plotly) {                    window.PLOTLYENV=window.PLOTLYENV || {};                                    if (document.getElementById(\"1fb812a2-37d8-4eae-91ab-a172cc84e96a\")) {                    Plotly.newPlot(                        \"1fb812a2-37d8-4eae-91ab-a172cc84e96a\",                        [{\"autocolorscale\":false,\"colorbar\":{\"tickprefix\":\"$\"},\"colorscale\":[[0.0,\"rgb(103,0,31)\"],[0.1,\"rgb(178,24,43)\"],[0.2,\"rgb(214,96,77)\"],[0.3,\"rgb(244,165,130)\"],[0.4,\"rgb(253,219,199)\"],[0.5,\"rgb(247,247,247)\"],[0.6,\"rgb(209,229,240)\"],[0.7,\"rgb(146,197,222)\"],[0.8,\"rgb(67,147,195)\"],[0.9,\"rgb(33,102,172)\"],[1.0,\"rgb(5,48,97)\"]],\"locations\":[\"AFG\",\"AFG\",\"AFG\",\"AFG\",\"AFG\",\"AFG\",\"AFG\",\"AFG\",\"ALB\",\"ALB\",\"ALB\",\"ALB\",\"ALB\",\"ALB\",\"ALB\",\"ALB\",\"AGO\",\"AGO\",\"AGO\",\"AGO\",\"AGO\",\"AGO\",\"AGO\",\"AGO\",\"AGO\",\"ARG\",\"ARG\",\"ARG\",\"ARG\",\"ARG\",\"ARG\",\"ARG\",\"ARG\",\"ARM\",\"ARM\",\"ARM\",\"ARM\",\"ARM\",\"ARM\",\"ARM\",\"ARM\",\"ARM\",\"AUS\",\"AUS\",\"AUS\",\"AUS\",\"AUS\",\"AUS\",\"AUS\",\"AUS\",\"AUS\",\"AUT\",\"AUT\",\"AUT\",\"AUT\",\"AUT\",\"AUT\",\"AUT\",\"AUT\",\"AUT\",\"AUT\",\"AZE\",\"AZE\",\"AZE\",\"AZE\",\"AZE\",\"AZE\",\"AZE\",\"AZE\",\"AZE\",\"BLR\",\"BLR\",\"BLR\",\"BLR\",\"BLR\",\"BLR\",\"BLR\",\"BLR\",\"BLR\",\"BLR\",\"BEL\",\"BEL\",\"BEL\",\"BEL\",\"BEL\",\"BEL\",\"BEL\",\"BEL\",\"BEL\",\"BEL\",\"BLZ\",\"BLZ\",\"BLZ\",\"BLZ\",\"BLZ\",\"BLZ\",\"BEN\",\"BEN\",\"BEN\",\"BEN\",\"BEN\",\"BEN\",\"BEN\",\"BWA\",\"BWA\",\"BWA\",\"BWA\",\"BWA\",\"BWA\",\"BWA\",\"BWA\",\"BWA\",\"BWA\",\"BRA\",\"BRA\",\"BRA\",\"BRA\",\"BRA\",\"BRA\",\"BRA\",\"BRA\",\"BRA\",\"BRN\",\"BRN\",\"BRN\",\"BRN\",\"BRN\",\"BRN\",\"BRN\",\"BRN\",\"BGR\",\"BGR\",\"BGR\",\"BGR\",\"BGR\",\"BGR\",\"BGR\",\"BGR\",\"BGR\",\"BGR\",\"BFA\",\"BFA\",\"BFA\",\"BFA\",\"BFA\",\"BFA\",\"BFA\",\"BDI\",\"BDI\",\"BDI\",\"BDI\",\"BDI\",\"BDI\",\"BDI\",\"CAN\",\"CAN\",\"CAN\",\"CAN\",\"CAN\",\"CAN\",\"CAN\",\"CAN\",\"CAN\",\"CAN\",\"CAN\",\"CHL\",\"CHL\",\"CHL\",\"CHL\",\"CHL\",\"CHL\",\"CHL\",\"CHL\",\"CHL\",\"CHL\",\"CHN\",\"CHN\",\"CHN\",\"CHN\",\"CHN\",\"CHN\",\"CHN\",\"CHN\",\"CHN\",\"COL\",\"COL\",\"COL\",\"COL\",\"COL\",\"COL\",\"COL\",\"COL\",\"COL\",\"COL\",\"CRI\",\"CRI\",\"CRI\",\"CRI\",\"CRI\",\"CRI\",\"CRI\",\"CRI\",\"HRV\",\"HRV\",\"HRV\",\"HRV\",\"HRV\",\"HRV\",\"HRV\",\"HRV\",\"HRV\",\"HRV\",\"HRV\",\"CYP\",\"CYP\",\"CYP\",\"CYP\",\"CYP\",\"CYP\",\"CYP\",\"CYP\",\"CIV\",\"CIV\",\"CIV\",\"CIV\",\"CIV\",\"CIV\",\"CIV\",\"CIV\",\"CIV\",\"DNK\",\"DNK\",\"DNK\",\"DNK\",\"DNK\",\"DNK\",\"DNK\",\"DNK\",\"DNK\",\"DNK\",\"DNK\",\"ECU\",\"ECU\",\"ECU\",\"ECU\",\"ECU\",\"ECU\",\"ECU\",\"ECU\",\"EGY\",\"EGY\",\"EGY\",\"EGY\",\"EGY\",\"EGY\",\"EGY\",\"EGY\",\"EGY\",\"SLV\",\"SLV\",\"SLV\",\"SLV\",\"SLV\",\"SLV\",\"SLV\",\"SLV\",\"SLV\",\"EST\",\"EST\",\"EST\",\"EST\",\"EST\",\"EST\",\"EST\",\"EST\",\"EST\",\"FJI\",\"FJI\",\"FJI\",\"FJI\",\"FJI\",\"FJI\",\"FJI\",\"FIN\",\"FIN\",\"FIN\",\"FIN\",\"FIN\",\"FIN\",\"FIN\",\"FIN\",\"FIN\",\"FIN\",\"FRA\",\"FRA\",\"FRA\",\"FRA\",\"FRA\",\"FRA\",\"FRA\",\"FRA\",\"FRA\",\"FRA\",\"GMB\",\"GMB\",\"GMB\",\"GMB\",\"GMB\",\"GMB\",\"GEO\",\"GEO\",\"GEO\",\"GEO\",\"GEO\",\"GEO\",\"GEO\",\"GEO\",\"GEO\",\"GEO\",\"DEU\",\"DEU\",\"DEU\",\"DEU\",\"DEU\",\"DEU\",\"DEU\",\"DEU\",\"DEU\",\"DEU\",\"GHA\",\"GHA\",\"GHA\",\"GHA\",\"GHA\",\"GHA\",\"GHA\",\"GRC\",\"GRC\",\"GRC\",\"GRC\",\"GRC\",\"GRC\",\"GRC\",\"GRC\",\"GRC\",\"GRL\",\"GRL\",\"GRL\",\"GRL\",\"GRL\",\"GUY\",\"GUY\",\"GUY\",\"GUY\",\"GUY\",\"GUY\",\"GUY\",\"HUN\",\"HUN\",\"HUN\",\"HUN\",\"HUN\",\"HUN\",\"HUN\",\"HUN\",\"HUN\",\"HUN\",\"ISL\",\"ISL\",\"ISL\",\"ISL\",\"ISL\",\"ISL\",\"IND\",\"IND\",\"IND\",\"IND\",\"IND\",\"IND\",\"IND\",\"IND\",\"IND\",\"IND\",\"IDN\",\"IDN\",\"IDN\",\"IDN\",\"IDN\",\"IDN\",\"IDN\",\"IDN\",\"IRL\",\"IRL\",\"IRL\",\"IRL\",\"IRL\",\"IRL\",\"IRL\",\"IRL\",\"IRL\",\"ISR\",\"ISR\",\"ISR\",\"ISR\",\"ISR\",\"ISR\",\"ISR\",\"ISR\",\"ITA\",\"ITA\",\"ITA\",\"ITA\",\"ITA\",\"ITA\",\"ITA\",\"ITA\",\"ITA\",\"ITA\",\"JPN\",\"JPN\",\"JPN\",\"JPN\",\"JPN\",\"JPN\",\"JPN\",\"JPN\",\"JOR\",\"JOR\",\"JOR\",\"JOR\",\"JOR\",\"JOR\",\"KAZ\",\"KAZ\",\"KAZ\",\"KAZ\",\"KAZ\",\"KAZ\",\"KAZ\",\"KAZ\",\"KEN\",\"KEN\",\"KEN\",\"KEN\",\"KEN\",\"KEN\",\"KEN\",\"KWT\",\"KWT\",\"KWT\",\"KWT\",\"KWT\",\"KWT\",\"KGZ\",\"KGZ\",\"KGZ\",\"KGZ\",\"KGZ\",\"KGZ\",\"KGZ\",\"KGZ\",\"LVA\",\"LVA\",\"LVA\",\"LVA\",\"LVA\",\"LVA\",\"LVA\",\"LVA\",\"LVA\",\"LBN\",\"LBN\",\"LBN\",\"LBN\",\"LBN\",\"LBN\",\"LTU\",\"LTU\",\"LTU\",\"LTU\",\"LTU\",\"LTU\",\"LTU\",\"LTU\",\"LTU\",\"LUX\",\"LUX\",\"LUX\",\"LUX\",\"LUX\",\"LUX\",\"LUX\",\"LUX\",\"MDG\",\"MDG\",\"MDG\",\"MYS\",\"MYS\",\"MYS\",\"MYS\",\"MYS\",\"MYS\",\"MYS\",\"MEX\",\"MEX\",\"MEX\",\"MEX\",\"MEX\",\"MNG\",\"MNG\",\"MNG\",\"MNG\",\"MNG\",\"MNE\",\"MNE\",\"MNE\",\"MNE\",\"MNE\",\"MAR\",\"MAR\",\"MAR\",\"MAR\",\"MAR\",\"MAR\",\"MOZ\",\"MOZ\",\"MOZ\",\"MOZ\",\"MOZ\",\"MMR\",\"MMR\",\"MMR\",\"MMR\",\"MMR\",\"MMR\",\"NAM\",\"NAM\",\"NAM\",\"NAM\",\"NAM\",\"NLD\",\"NLD\",\"NLD\",\"NLD\",\"NLD\",\"NLD\",\"NZL\",\"NZL\",\"NZL\",\"NZL\",\"NZL\",\"NIC\",\"NIC\",\"NIC\",\"NIC\",\"NIC\",\"NGA\",\"NGA\",\"NGA\",\"NGA\",\"NGA\",\"NOR\",\"NOR\",\"NOR\",\"NOR\",\"NOR\",\"OMN\",\"OMN\",\"OMN\",\"PAK\",\"PAK\",\"PAK\",\"PAK\",\"PAK\",\"PRY\",\"PRY\",\"PRY\",\"PRY\",\"PRY\",\"PER\",\"PER\",\"PER\",\"PER\",\"PER\",\"PHL\",\"PHL\",\"PHL\",\"PHL\",\"POL\",\"POL\",\"POL\",\"POL\",\"PRT\",\"PRT\",\"PRT\",\"PRT\",\"QAT\",\"QAT\",\"ROU\",\"ROU\",\"ROU\",\"ROU\",\"RUS\",\"RUS\",\"RUS\",\"RUS\",\"SAU\",\"SAU\",\"SAU\",\"SAU\",\"SEN\",\"SEN\",\"SEN\",\"SRB\",\"SRB\",\"SRB\",\"SVK\",\"SVK\",\"SVK\",\"SVN\",\"SVN\",\"SVN\",\"ZAF\",\"ZAF\",\"ZAF\",\"ESP\",\"ESP\",\"ESP\",\"SUR\",\"SUR\",\"SUR\",\"SWE\",\"SWE\",\"SWE\",\"CHE\",\"CHE\",\"CHE\",\"THA\",\"THA\",\"THA\",\"TUR\",\"TUR\",\"TUR\",\"UGA\",\"UGA\",\"UGA\",\"UKR\",\"UKR\",\"UKR\",\"ARE\",\"ARE\",\"ARE\",\"GBR\",\"GBR\",\"GBR\",\"USA\",\"USA\",\"USA\",\"USA\",\"URY\",\"URY\",\"URY\",\"UZB\",\"UZB\",\"UZB\",\"ZMB\",\"ZMB\",\"ZMB\",\"ZWE\",\"ZWE\",\"ZWE\"],\"marker\":{\"line\":{\"color\":\"darkgray\",\"width\":0.5}},\"reversescale\":true,\"text\":[\"Afghanistan\",\"Afghanistan\",\"Afghanistan\",\"Afghanistan\",\"Afghanistan\",\"Afghanistan\",\"Afghanistan\",\"Afghanistan\",\"Albania\",\"Albania\",\"Albania\",\"Albania\",\"Albania\",\"Albania\",\"Albania\",\"Albania\",\"Angola\",\"Angola\",\"Angola\",\"Angola\",\"Angola\",\"Angola\",\"Angola\",\"Angola\",\"Angola\",\"Argentina\",\"Argentina\",\"Argentina\",\"Argentina\",\"Argentina\",\"Argentina\",\"Argentina\",\"Argentina\",\"Armenia\",\"Armenia\",\"Armenia\",\"Armenia\",\"Armenia\",\"Armenia\",\"Armenia\",\"Armenia\",\"Armenia\",\"Australia\",\"Australia\",\"Australia\",\"Australia\",\"Australia\",\"Australia\",\"Australia\",\"Australia\",\"Australia\",\"Austria\",\"Austria\",\"Austria\",\"Austria\",\"Austria\",\"Austria\",\"Austria\",\"Austria\",\"Austria\",\"Austria\",\"Azerbaijan\",\"Azerbaijan\",\"Azerbaijan\",\"Azerbaijan\",\"Azerbaijan\",\"Azerbaijan\",\"Azerbaijan\",\"Azerbaijan\",\"Azerbaijan\",\"Belarus\",\"Belarus\",\"Belarus\",\"Belarus\",\"Belarus\",\"Belarus\",\"Belarus\",\"Belarus\",\"Belarus\",\"Belarus\",\"Belgium\",\"Belgium\",\"Belgium\",\"Belgium\",\"Belgium\",\"Belgium\",\"Belgium\",\"Belgium\",\"Belgium\",\"Belgium\",\"Belize\",\"Belize\",\"Belize\",\"Belize\",\"Belize\",\"Belize\",\"Benin\",\"Benin\",\"Benin\",\"Benin\",\"Benin\",\"Benin\",\"Benin\",\"Botswana\",\"Botswana\",\"Botswana\",\"Botswana\",\"Botswana\",\"Botswana\",\"Botswana\",\"Botswana\",\"Botswana\",\"Botswana\",\"Brazil\",\"Brazil\",\"Brazil\",\"Brazil\",\"Brazil\",\"Brazil\",\"Brazil\",\"Brazil\",\"Brazil\",\"Brunei Darussalam\",\"Brunei Darussalam\",\"Brunei Darussalam\",\"Brunei Darussalam\",\"Brunei Darussalam\",\"Brunei Darussalam\",\"Brunei Darussalam\",\"Brunei Darussalam\",\"Bulgaria\",\"Bulgaria\",\"Bulgaria\",\"Bulgaria\",\"Bulgaria\",\"Bulgaria\",\"Bulgaria\",\"Bulgaria\",\"Bulgaria\",\"Bulgaria\",\"Burkina Faso\",\"Burkina Faso\",\"Burkina Faso\",\"Burkina Faso\",\"Burkina Faso\",\"Burkina Faso\",\"Burkina Faso\",\"Burundi\",\"Burundi\",\"Burundi\",\"Burundi\",\"Burundi\",\"Burundi\",\"Burundi\",\"Canada\",\"Canada\",\"Canada\",\"Canada\",\"Canada\",\"Canada\",\"Canada\",\"Canada\",\"Canada\",\"Canada\",\"Canada\",\"Chile\",\"Chile\",\"Chile\",\"Chile\",\"Chile\",\"Chile\",\"Chile\",\"Chile\",\"Chile\",\"Chile\",\"China\",\"China\",\"China\",\"China\",\"China\",\"China\",\"China\",\"China\",\"China\",\"Colombia\",\"Colombia\",\"Colombia\",\"Colombia\",\"Colombia\",\"Colombia\",\"Colombia\",\"Colombia\",\"Colombia\",\"Colombia\",\"Costa Rica\",\"Costa Rica\",\"Costa Rica\",\"Costa Rica\",\"Costa Rica\",\"Costa Rica\",\"Costa Rica\",\"Costa Rica\",\"Croatia\",\"Croatia\",\"Croatia\",\"Croatia\",\"Croatia\",\"Croatia\",\"Croatia\",\"Croatia\",\"Croatia\",\"Croatia\",\"Croatia\",\"Cyprus\",\"Cyprus\",\"Cyprus\",\"Cyprus\",\"Cyprus\",\"Cyprus\",\"Cyprus\",\"Cyprus\",\"C\\u00f4te d'Ivoire\",\"C\\u00f4te d'Ivoire\",\"C\\u00f4te d'Ivoire\",\"C\\u00f4te d'Ivoire\",\"C\\u00f4te d'Ivoire\",\"C\\u00f4te d'Ivoire\",\"C\\u00f4te d'Ivoire\",\"C\\u00f4te d'Ivoire\",\"C\\u00f4te d'Ivoire\",\"Denmark\",\"Denmark\",\"Denmark\",\"Denmark\",\"Denmark\",\"Denmark\",\"Denmark\",\"Denmark\",\"Denmark\",\"Denmark\",\"Denmark\",\"Ecuador\",\"Ecuador\",\"Ecuador\",\"Ecuador\",\"Ecuador\",\"Ecuador\",\"Ecuador\",\"Ecuador\",\"Egypt\",\"Egypt\",\"Egypt\",\"Egypt\",\"Egypt\",\"Egypt\",\"Egypt\",\"Egypt\",\"Egypt\",\"El Salvador\",\"El Salvador\",\"El Salvador\",\"El Salvador\",\"El Salvador\",\"El Salvador\",\"El Salvador\",\"El Salvador\",\"El Salvador\",\"Estonia\",\"Estonia\",\"Estonia\",\"Estonia\",\"Estonia\",\"Estonia\",\"Estonia\",\"Estonia\",\"Estonia\",\"Fiji\",\"Fiji\",\"Fiji\",\"Fiji\",\"Fiji\",\"Fiji\",\"Fiji\",\"Finland\",\"Finland\",\"Finland\",\"Finland\",\"Finland\",\"Finland\",\"Finland\",\"Finland\",\"Finland\",\"Finland\",\"France\",\"France\",\"France\",\"France\",\"France\",\"France\",\"France\",\"France\",\"France\",\"France\",\"Gambia\",\"Gambia\",\"Gambia\",\"Gambia\",\"Gambia\",\"Gambia\",\"Georgia\",\"Georgia\",\"Georgia\",\"Georgia\",\"Georgia\",\"Georgia\",\"Georgia\",\"Georgia\",\"Georgia\",\"Georgia\",\"Germany\",\"Germany\",\"Germany\",\"Germany\",\"Germany\",\"Germany\",\"Germany\",\"Germany\",\"Germany\",\"Germany\",\"Ghana\",\"Ghana\",\"Ghana\",\"Ghana\",\"Ghana\",\"Ghana\",\"Ghana\",\"Greece\",\"Greece\",\"Greece\",\"Greece\",\"Greece\",\"Greece\",\"Greece\",\"Greece\",\"Greece\",\"Greenland\",\"Greenland\",\"Greenland\",\"Greenland\",\"Greenland\",\"Guyana\",\"Guyana\",\"Guyana\",\"Guyana\",\"Guyana\",\"Guyana\",\"Guyana\",\"Hungary\",\"Hungary\",\"Hungary\",\"Hungary\",\"Hungary\",\"Hungary\",\"Hungary\",\"Hungary\",\"Hungary\",\"Hungary\",\"Iceland\",\"Iceland\",\"Iceland\",\"Iceland\",\"Iceland\",\"Iceland\",\"India\",\"India\",\"India\",\"India\",\"India\",\"India\",\"India\",\"India\",\"India\",\"India\",\"Indonesia\",\"Indonesia\",\"Indonesia\",\"Indonesia\",\"Indonesia\",\"Indonesia\",\"Indonesia\",\"Indonesia\",\"Ireland\",\"Ireland\",\"Ireland\",\"Ireland\",\"Ireland\",\"Ireland\",\"Ireland\",\"Ireland\",\"Ireland\",\"Israel\",\"Israel\",\"Israel\",\"Israel\",\"Israel\",\"Israel\",\"Israel\",\"Israel\",\"Italy\",\"Italy\",\"Italy\",\"Italy\",\"Italy\",\"Italy\",\"Italy\",\"Italy\",\"Italy\",\"Italy\",\"Japan\",\"Japan\",\"Japan\",\"Japan\",\"Japan\",\"Japan\",\"Japan\",\"Japan\",\"Jordan\",\"Jordan\",\"Jordan\",\"Jordan\",\"Jordan\",\"Jordan\",\"Kazakhstan\",\"Kazakhstan\",\"Kazakhstan\",\"Kazakhstan\",\"Kazakhstan\",\"Kazakhstan\",\"Kazakhstan\",\"Kazakhstan\",\"Kenya\",\"Kenya\",\"Kenya\",\"Kenya\",\"Kenya\",\"Kenya\",\"Kenya\",\"Kuwait\",\"Kuwait\",\"Kuwait\",\"Kuwait\",\"Kuwait\",\"Kuwait\",\"Kyrgyzstan\",\"Kyrgyzstan\",\"Kyrgyzstan\",\"Kyrgyzstan\",\"Kyrgyzstan\",\"Kyrgyzstan\",\"Kyrgyzstan\",\"Kyrgyzstan\",\"Latvia\",\"Latvia\",\"Latvia\",\"Latvia\",\"Latvia\",\"Latvia\",\"Latvia\",\"Latvia\",\"Latvia\",\"Lebanon\",\"Lebanon\",\"Lebanon\",\"Lebanon\",\"Lebanon\",\"Lebanon\",\"Lithuania\",\"Lithuania\",\"Lithuania\",\"Lithuania\",\"Lithuania\",\"Lithuania\",\"Lithuania\",\"Lithuania\",\"Lithuania\",\"Luxembourg\",\"Luxembourg\",\"Luxembourg\",\"Luxembourg\",\"Luxembourg\",\"Luxembourg\",\"Luxembourg\",\"Luxembourg\",\"Madagascar\",\"Madagascar\",\"Madagascar\",\"Malaysia\",\"Malaysia\",\"Malaysia\",\"Malaysia\",\"Malaysia\",\"Malaysia\",\"Malaysia\",\"Mexico\",\"Mexico\",\"Mexico\",\"Mexico\",\"Mexico\",\"Mongolia\",\"Mongolia\",\"Mongolia\",\"Mongolia\",\"Mongolia\",\"Montenegro\",\"Montenegro\",\"Montenegro\",\"Montenegro\",\"Montenegro\",\"Morocco\",\"Morocco\",\"Morocco\",\"Morocco\",\"Morocco\",\"Morocco\",\"Mozambique\",\"Mozambique\",\"Mozambique\",\"Mozambique\",\"Mozambique\",\"Myanmar\",\"Myanmar\",\"Myanmar\",\"Myanmar\",\"Myanmar\",\"Myanmar\",\"Namibia\",\"Namibia\",\"Namibia\",\"Namibia\",\"Namibia\",\"Netherlands\",\"Netherlands\",\"Netherlands\",\"Netherlands\",\"Netherlands\",\"Netherlands\",\"New Zealand\",\"New Zealand\",\"New Zealand\",\"New Zealand\",\"New Zealand\",\"Nicaragua\",\"Nicaragua\",\"Nicaragua\",\"Nicaragua\",\"Nicaragua\",\"Nigeria\",\"Nigeria\",\"Nigeria\",\"Nigeria\",\"Nigeria\",\"Norway\",\"Norway\",\"Norway\",\"Norway\",\"Norway\",\"Oman\",\"Oman\",\"Oman\",\"Pakistan\",\"Pakistan\",\"Pakistan\",\"Pakistan\",\"Pakistan\",\"Paraguay\",\"Paraguay\",\"Paraguay\",\"Paraguay\",\"Paraguay\",\"Peru\",\"Peru\",\"Peru\",\"Peru\",\"Peru\",\"Philippines\",\"Philippines\",\"Philippines\",\"Philippines\",\"Poland\",\"Poland\",\"Poland\",\"Poland\",\"Portugal\",\"Portugal\",\"Portugal\",\"Portugal\",\"Qatar\",\"Qatar\",\"Romania\",\"Romania\",\"Romania\",\"Romania\",\"Russian Federation\",\"Russian Federation\",\"Russian Federation\",\"Russian Federation\",\"Saudi Arabia\",\"Saudi Arabia\",\"Saudi Arabia\",\"Saudi Arabia\",\"Senegal\",\"Senegal\",\"Senegal\",\"Serbia\",\"Serbia\",\"Serbia\",\"Slovakia\",\"Slovakia\",\"Slovakia\",\"Slovenia\",\"Slovenia\",\"Slovenia\",\"South Africa\",\"South Africa\",\"South Africa\",\"Spain\",\"Spain\",\"Spain\",\"Suriname\",\"Suriname\",\"Suriname\",\"Sweden\",\"Sweden\",\"Sweden\",\"Switzerland\",\"Switzerland\",\"Switzerland\",\"Thailand\",\"Thailand\",\"Thailand\",\"Turkey\",\"Turkey\",\"Turkey\",\"Uganda\",\"Uganda\",\"Uganda\",\"Ukraine\",\"Ukraine\",\"Ukraine\",\"United Arab Emirates\",\"United Arab Emirates\",\"United Arab Emirates\",\"United Kingdom\",\"United Kingdom\",\"United Kingdom\",\"United States\",\"United States\",\"United States\",\"United States\",\"Uruguay\",\"Uruguay\",\"Uruguay\",\"Uzbekistan\",\"Uzbekistan\",\"Uzbekistan\",\"Zambia\",\"Zambia\",\"Zambia\",\"Zimbabwe\",\"Zimbabwe\",\"Zimbabwe\"],\"z\":[22337014.73,81898.44,1190941056.95,940598.1799999999,10418.55,1216834.37,56551.89,553424619.63,118428.74525748,47494077.6674559,4553523141.704815,379421219.3641071,192080941.0991046,1230850.1920407,641281.2852369,577209617.4724053,23248.55,37784076413.560005,50703316.81,4612424.71,1074.96,8279315.53,16155002.27,1010460745.57,36495053764.28001,6108405.83,73634394141.11,4989782170.63,4350503.81,41369811.730000004,888524410.6199999,665.96,43552184732.25,1186479.56,80036654.4,2606105729.4900002,288554947.01,2949698.6100000003,637626.32,31349048.26,79795825.55,1676211590.22,40005890.67139745,303536593586.659,3488441793.7594614,58030208.70507016,7114736.20503983,547902401.1753569,2392330602.195174,190267143.33857083,193205059680.24094,146931037.88042602,1113694501.3922,202023848422.10132,21071094343.050156,1265994760.966435,3788755.52369334,1758504108.6429274,3123681055.002119,4575160.36818474,94745396225.22495,333839.25,65627719.02,19507020864.77,29448090.34,105305.5,233534.37,55043.54,10281524.78,19321823763.43,261918500.0,54629600.0,21700.0,35319869100.0,3788864000.0,72804900.0,10181300.0,550917900.0,206227700.0,24862076200.0,2001637840.9040182,251567504.051733,484959440742.2345,57111472314.603745,6841667699.490684,161644083.693104,1168128498.3581522,4101772592.6593585,15043877866.33975,317515705812.50275,280271959.605,72224.195,2210047.06,1503984.2,117102.325,195511929.28,23675.30710144,974085315.44967,1637211.26043568,11444.40342278,2298202.07035416,334883.14157086,876008618.7823093,55659.855384844195,297.0096708222,12537555614.983992,39265899.92626921,111.2361246612,1121908.3609571836,50125.5582562098,1105777.025840517,707.6108453022,375799311.30975205,532733086.0,390.0,251842062976.0,18790068288.0,976290969.0,1331554506.0,1045821055.0,151700154.0,183674256443.0,111341.3535616698,9285700087.901264,13249883.138594279,116889.2244980936,23498.9028558433,174356.756904345,3609.34606957,3377800084.8493333,227104831.65524,520428961.699584,35269289748.21696,2351833274.479494,162395410.8839944,482361.7760528,78186834.5991544,167694479.4996632,1595807.622528,19713505277.03712,542.5979819134,3285288572.2589164,13125441.975152174,15481.908509401599,42440.205814804,3682202.3212781562,3201203310.414487,15150.09653892,214675050.16053918,1577544.18232159,10404.89276281,2775.32082625,5263910.49355318,108874727.97488604,151009452.9544128,2247586411.78804,18044.1737076,663620557942.0898,7174789287.955832,140364833.81558278,1387995.847197,119119900.166847,339305596.2454636,2160576327.90364,134589414108.096,21694140.716396224,903492.94,75521074717.78789,1198884563.608941,68527.39,148912415.441685,3459.06,1419563191.610552,2034482773.0934725,64944769772.54402,7002486579.0,2160779.0,2530969048196.0,171007709733.0,45003314041.0,4041412683.0,2369732540.0,1816875325.0,621424545272.0,61734261.85,5293309.38,41935555119.15,265292033.84,28770958.64,102579.88,24064819.49,32945684.71,121732806.51,36055190761.35,2145561.03,11273799125.91,262425057.7,838642.65,45134080.07,81248150.42,323.5,5933596004.48,17539570.0,309020742.0,3212.0,17327570941.0,809116620.0,254792271.0,8256933.0,486934013.0,178359874.0,874115.0,8343199620.0,321885.1571583,5909987064.872756,1942352751.266214,10551810.6539667,205.53393885,13575890.89913925,701042.99980875,1470741572.8393805,138170.55992100752,167071126.459355,15150808679.309044,12703219.526893474,52115812.22161827,75395935.2922999,12110160.31117306,1427875.68384784,7401434135.92256,261044858.6455015,447525930.023425,2534.45024,121389504285.12987,4798458899.030382,402587777.99125487,62074070.1835223,132916683.04205774,1051277032.7469546,611643.47011026,42002682637.86305,10242729.4,6057735.95,22105944611.541,40928202.160000004,18658652.400000002,171602327.64,12145221.209999999,20102471568.83,107843939.26395614,34120516216.257378,357522678.6544936,76671.49817661,4377192.579580921,3456.43077129,750409.75445385,28288702.637559056,14976079576.773098,269372.17,767130.95,5937127632.38,34127613.53,32112899.25,29201.45,2927582.36,143007545.98,1879011439.54,16666668.026720906,280962636.19551,18571006052.311607,520368428.1103706,61565336.6070939,3254210.97143367,162647964.7575082,201350.853550536,6302676801.073783,12224.76797518,1252132052.8242905,13473069.409705859,735014.2342947,2573.71088362,134130701.39432196,301551506.962609,17792093.342881437,143418806.035926,1577.25826992,82384038671.98264,1363835859.20153,135437655.21474162,637307.82529272,199313902.68665212,177750.40564008,19209950000.765633,381464019.4799212,4202183253.33835,324681.64832623996,605248444155.8707,46357352357.49127,2330375720.4051895,1945989.98063936,13938969333.370773,719989649.4989331,169885683132.6024,268948.48,9464593.93,9975.539999999999,12028.0,48890.770000000004,1971272.0899999999,2822469.6999999997,19907614.0,3555807632.2999997,57783212.53,1628.81,2210994.08,25669.75,344601837.83,28740.0,1294027094.9299998,2008119730.6042404,3774589125.15268,5744497.0864120005,1635828775683.7217,42894404436.40785,8393466227.973368,107096307.969675,6564284037.565066,357035986.9361375,329897701984.92804,108364.258893184,17160202276.730858,2334853.8683526786,692676.721861465,39861606.75640164,2112748.75482344,15558712207.623804,18288057.881798,249610213.115764,40631817960.34228,292571063.123662,156022563.523882,9066102.155906,258503035.78127,2970678.5594039997,22790924313.46852,684692371.62,7286.87,10524.84,1584.8,131557270.94,865.41145425,2181307699.399772,208955391.2036798,194608.603252574,55258313.821116485,12282891.12924519,327324835.0621466,37345144.0,742133915.0,32722.0,131402844206.0,487608022.0,564928777.0,2360674.0,788840645.0,566992.0,18709605252.0,16902.07925796,5622126990.735038,42946010.27118796,251790.86320752001,21187057.48208402,2826426348.511016,2771835916.6043234,228773682.81612,45723.187089180006,324381711604.6439,3709379078.728465,2494697616.204914,2498214.19883426,330314268.38288707,26032683021.426666,119163861200.62201,150892676.78,180853532525.073,531697701.57,4971241479.469999,47484.5,227831510.75,30456.87,73293410547.852,12816580.39582788,426770960.61965,168436410450.8352,5898151538.415318,42564326.28567756,3951992.35953566,1701389351.5279095,1886115.6149463998,77791908745.03845,10604000.0,79258988000.0,28112000.0,24044000.0,4000.0,54171000.0,1092000.0,13744345000.0,4901823420.475814,318184907.414861,890548.9780506,580099959333.1923,11487791009.721039,7326201650.807288,14355024.8283238,9777648555.50736,415450154.96130073,109871061761.24763,1069982776.47009,13141331.87523,804903818516.9506,7477339872.067651,50834906.29659,849571058.41857,81614650.37442,48487287272.95368,119411.292682,11262730.534187,7787370245.206555,99011358.82055001,28702494.759917,2500761220.934394,3108345.05,79813153.4,61172211205.39,59760361.76,6950498.38,26459.0,49695560.61,48398338894.829994,4204818.510284838,6103398615.784294,56748017.18631462,33952029.82317794,575.0049725,51449658.35887159,3631942238.6806607,3500071.0,72082242342.0,293153224.0,11663070.0,45574041.0,65932527006.0,7366174.0,16339238.0,1846024736.0,43033321.0,22716858.0,2074.0,2899772.0,364158718.0,20327365.115456298,244361747.00383,4448.81588204,15450638818.672787,137023190.66997135,21662909.786356222,5780131.11132989,653454693.1335397,2990417563.9231515,1629381.80886866,2965767445.872688,11043387.21531078,6647925.684661981,59456481.132882036,610921884.6887418,40505536.0,148907099.0,5891.0,34540826140.82001,204945838.0,98437999.0,192232.0,251909840.99,10964100243.96,3043209.4217834454,7066812.23938046,1527.768068043,15696476642.427221,95443376.95390327,8375.1901533978,104733770.011429,1852539472.7754111,3144661990.6941323,2084313.352459459,945677842.7000434,276213876.11204076,14083.15329648,248303783524.7854,1280267623.252751,5577393.486132,743505654.7246001,15305966355.604578,292569.0,488207384438.0,506158922.0,4551336851.0,14508080875.0,2290251.02,7011795718.035,21247164.45,561607.17,3162985593.59,106898.05917311071,467840355.8539815,2818400.1850827173,21620277.76103176,61715119.79919231,22935021.873834476,53.29669,29465185780.96236,42477883.3884993,30901435.684875466,6911401516.895901,98846.42,5600304389.66,3784613.52,3697882.34,430436868.32,1064302.78,583902.61,16728761361.32,798493085.01,5742070.42,2369608460.67,15503.6183722614,9017402529.659636,175057346.6173423,389.67394872,768926622.5288194,1579556264.4544852,193073.21171946,559730327606.6724,8129054299.348924,6044250638.84176,68473483714.94089,8972407.05914934,44107823733.894394,318485404.24327254,146942349.1040194,14538377778.479862,7639.54,5023072948.1,9851469.3,49787864.34,752844135.59,121928.443034054,63936288623.52142,4591238.6565751,21810397.25036475,1004558035.478838,886628.5851241801,128320401361.23949,447695059.32627386,83068384.48105308,4673665775.79377,42327161139.8399,12496014.48004,2400534400.3368,71604421.0824225,23827655909.044533,38816596.623774,455266421.88911915,3409496879.9675293,15745528.0,9069751329.0,61000.0,25906774.0,1794377688.0,949043.96,48079601146.28,32283750.85,110248817.74000001,21964951331.65,790249.0,67900369821.0,1248999285.0,3824379303.0,275091927.0,262165740010.0,5060926644.0,22047387975.0,102228076.92388903,74376916355.63474,482500299.4566962,6639747239.762743,95465875996.64293,8698436.894314447,21602692.51,80766387439.86,1329924896.93,5540174396.85,9649375.98,515340918498.5,3290654865.05,32971365276.29,4244694.3972534,528278354873.1859,290094.4362618,4626672601.26733,3678700899.1893363,11059724.00454096,652355299.7359878,19911005200.0,95354638.0,1846900665.0,93563851682.29471,782585746.1436983,2479299961.791171,36587572057.479996,250348447.99,1108960233.75,100697755799.53987,436034690.64090234,10345105337.570686,332834887293.0261,2447820176.9902444,21139741319.79919,1856308573.9271321,1167351.92671866,19181669.497863155,173110635100.8792,476876501.84834,10371704182.7376,316998305113.6605,1609649354.520496,7123824456.834278,254791339595.33002,1584386130.06,15891347130.13,170635067204.0,1463771556.0,7745607421.0,3199422482.23,62074397.33,472963013.45,47496401820.1,338605416.33,12917246862.2,490936780591.9469,4879.510272,7119443117.266461,520018864610.00323,2987399871.5153065,27054987829.91135,713.9247351600001,1878033245333.595,7662348148.220984,62079840035.931305,7502202002.0,284792633.0,599763066.0,11158657392.14,25463409.0,455851459.0,9065012506.32999,5613903.73,465184880.69,4051325558.54,6851796.33,1988200048.67],\"type\":\"choropleth\"}],                        {\"geo\":{\"projection\":{\"type\":\"equirectangular\"},\"showcoastlines\":false,\"showframe\":false},\"height\":800,\"margin\":{\"b\":0,\"l\":0,\"r\":0,\"t\":100},\"template\":{\"data\":{\"barpolar\":[{\"marker\":{\"line\":{\"color\":\"#E5ECF6\",\"width\":0.5},\"pattern\":{\"fillmode\":\"overlay\",\"size\":10,\"solidity\":0.2}},\"type\":\"barpolar\"}],\"bar\":[{\"error_x\":{\"color\":\"#2a3f5f\"},\"error_y\":{\"color\":\"#2a3f5f\"},\"marker\":{\"line\":{\"color\":\"#E5ECF6\",\"width\":0.5},\"pattern\":{\"fillmode\":\"overlay\",\"size\":10,\"solidity\":0.2}},\"type\":\"bar\"}],\"carpet\":[{\"aaxis\":{\"endlinecolor\":\"#2a3f5f\",\"gridcolor\":\"white\",\"linecolor\":\"white\",\"minorgridcolor\":\"white\",\"startlinecolor\":\"#2a3f5f\"},\"baxis\":{\"endlinecolor\":\"#2a3f5f\",\"gridcolor\":\"white\",\"linecolor\":\"white\",\"minorgridcolor\":\"white\",\"startlinecolor\":\"#2a3f5f\"},\"type\":\"carpet\"}],\"choropleth\":[{\"colorbar\":{\"outlinewidth\":0,\"ticks\":\"\"},\"type\":\"choropleth\"}],\"contourcarpet\":[{\"colorbar\":{\"outlinewidth\":0,\"ticks\":\"\"},\"type\":\"contourcarpet\"}],\"contour\":[{\"colorbar\":{\"outlinewidth\":0,\"ticks\":\"\"},\"colorscale\":[[0.0,\"#0d0887\"],[0.1111111111111111,\"#46039f\"],[0.2222222222222222,\"#7201a8\"],[0.3333333333333333,\"#9c179e\"],[0.4444444444444444,\"#bd3786\"],[0.5555555555555556,\"#d8576b\"],[0.6666666666666666,\"#ed7953\"],[0.7777777777777778,\"#fb9f3a\"],[0.8888888888888888,\"#fdca26\"],[1.0,\"#f0f921\"]],\"type\":\"contour\"}],\"heatmapgl\":[{\"colorbar\":{\"outlinewidth\":0,\"ticks\":\"\"},\"colorscale\":[[0.0,\"#0d0887\"],[0.1111111111111111,\"#46039f\"],[0.2222222222222222,\"#7201a8\"],[0.3333333333333333,\"#9c179e\"],[0.4444444444444444,\"#bd3786\"],[0.5555555555555556,\"#d8576b\"],[0.6666666666666666,\"#ed7953\"],[0.7777777777777778,\"#fb9f3a\"],[0.8888888888888888,\"#fdca26\"],[1.0,\"#f0f921\"]],\"type\":\"heatmapgl\"}],\"heatmap\":[{\"colorbar\":{\"outlinewidth\":0,\"ticks\":\"\"},\"colorscale\":[[0.0,\"#0d0887\"],[0.1111111111111111,\"#46039f\"],[0.2222222222222222,\"#7201a8\"],[0.3333333333333333,\"#9c179e\"],[0.4444444444444444,\"#bd3786\"],[0.5555555555555556,\"#d8576b\"],[0.6666666666666666,\"#ed7953\"],[0.7777777777777778,\"#fb9f3a\"],[0.8888888888888888,\"#fdca26\"],[1.0,\"#f0f921\"]],\"type\":\"heatmap\"}],\"histogram2dcontour\":[{\"colorbar\":{\"outlinewidth\":0,\"ticks\":\"\"},\"colorscale\":[[0.0,\"#0d0887\"],[0.1111111111111111,\"#46039f\"],[0.2222222222222222,\"#7201a8\"],[0.3333333333333333,\"#9c179e\"],[0.4444444444444444,\"#bd3786\"],[0.5555555555555556,\"#d8576b\"],[0.6666666666666666,\"#ed7953\"],[0.7777777777777778,\"#fb9f3a\"],[0.8888888888888888,\"#fdca26\"],[1.0,\"#f0f921\"]],\"type\":\"histogram2dcontour\"}],\"histogram2d\":[{\"colorbar\":{\"outlinewidth\":0,\"ticks\":\"\"},\"colorscale\":[[0.0,\"#0d0887\"],[0.1111111111111111,\"#46039f\"],[0.2222222222222222,\"#7201a8\"],[0.3333333333333333,\"#9c179e\"],[0.4444444444444444,\"#bd3786\"],[0.5555555555555556,\"#d8576b\"],[0.6666666666666666,\"#ed7953\"],[0.7777777777777778,\"#fb9f3a\"],[0.8888888888888888,\"#fdca26\"],[1.0,\"#f0f921\"]],\"type\":\"histogram2d\"}],\"histogram\":[{\"marker\":{\"pattern\":{\"fillmode\":\"overlay\",\"size\":10,\"solidity\":0.2}},\"type\":\"histogram\"}],\"mesh3d\":[{\"colorbar\":{\"outlinewidth\":0,\"ticks\":\"\"},\"type\":\"mesh3d\"}],\"parcoords\":[{\"line\":{\"colorbar\":{\"outlinewidth\":0,\"ticks\":\"\"}},\"type\":\"parcoords\"}],\"pie\":[{\"automargin\":true,\"type\":\"pie\"}],\"scatter3d\":[{\"line\":{\"colorbar\":{\"outlinewidth\":0,\"ticks\":\"\"}},\"marker\":{\"colorbar\":{\"outlinewidth\":0,\"ticks\":\"\"}},\"type\":\"scatter3d\"}],\"scattercarpet\":[{\"marker\":{\"colorbar\":{\"outlinewidth\":0,\"ticks\":\"\"}},\"type\":\"scattercarpet\"}],\"scattergeo\":[{\"marker\":{\"colorbar\":{\"outlinewidth\":0,\"ticks\":\"\"}},\"type\":\"scattergeo\"}],\"scattergl\":[{\"marker\":{\"colorbar\":{\"outlinewidth\":0,\"ticks\":\"\"}},\"type\":\"scattergl\"}],\"scattermapbox\":[{\"marker\":{\"colorbar\":{\"outlinewidth\":0,\"ticks\":\"\"}},\"type\":\"scattermapbox\"}],\"scatterpolargl\":[{\"marker\":{\"colorbar\":{\"outlinewidth\":0,\"ticks\":\"\"}},\"type\":\"scatterpolargl\"}],\"scatterpolar\":[{\"marker\":{\"colorbar\":{\"outlinewidth\":0,\"ticks\":\"\"}},\"type\":\"scatterpolar\"}],\"scatter\":[{\"fillpattern\":{\"fillmode\":\"overlay\",\"size\":10,\"solidity\":0.2},\"type\":\"scatter\"}],\"scatterternary\":[{\"marker\":{\"colorbar\":{\"outlinewidth\":0,\"ticks\":\"\"}},\"type\":\"scatterternary\"}],\"surface\":[{\"colorbar\":{\"outlinewidth\":0,\"ticks\":\"\"},\"colorscale\":[[0.0,\"#0d0887\"],[0.1111111111111111,\"#46039f\"],[0.2222222222222222,\"#7201a8\"],[0.3333333333333333,\"#9c179e\"],[0.4444444444444444,\"#bd3786\"],[0.5555555555555556,\"#d8576b\"],[0.6666666666666666,\"#ed7953\"],[0.7777777777777778,\"#fb9f3a\"],[0.8888888888888888,\"#fdca26\"],[1.0,\"#f0f921\"]],\"type\":\"surface\"}],\"table\":[{\"cells\":{\"fill\":{\"color\":\"#EBF0F8\"},\"line\":{\"color\":\"white\"}},\"header\":{\"fill\":{\"color\":\"#C8D4E3\"},\"line\":{\"color\":\"white\"}},\"type\":\"table\"}]},\"layout\":{\"annotationdefaults\":{\"arrowcolor\":\"#2a3f5f\",\"arrowhead\":0,\"arrowwidth\":1},\"autotypenumbers\":\"strict\",\"coloraxis\":{\"colorbar\":{\"outlinewidth\":0,\"ticks\":\"\"}},\"colorscale\":{\"diverging\":[[0,\"#8e0152\"],[0.1,\"#c51b7d\"],[0.2,\"#de77ae\"],[0.3,\"#f1b6da\"],[0.4,\"#fde0ef\"],[0.5,\"#f7f7f7\"],[0.6,\"#e6f5d0\"],[0.7,\"#b8e186\"],[0.8,\"#7fbc41\"],[0.9,\"#4d9221\"],[1,\"#276419\"]],\"sequential\":[[0.0,\"#0d0887\"],[0.1111111111111111,\"#46039f\"],[0.2222222222222222,\"#7201a8\"],[0.3333333333333333,\"#9c179e\"],[0.4444444444444444,\"#bd3786\"],[0.5555555555555556,\"#d8576b\"],[0.6666666666666666,\"#ed7953\"],[0.7777777777777778,\"#fb9f3a\"],[0.8888888888888888,\"#fdca26\"],[1.0,\"#f0f921\"]],\"sequentialminus\":[[0.0,\"#0d0887\"],[0.1111111111111111,\"#46039f\"],[0.2222222222222222,\"#7201a8\"],[0.3333333333333333,\"#9c179e\"],[0.4444444444444444,\"#bd3786\"],[0.5555555555555556,\"#d8576b\"],[0.6666666666666666,\"#ed7953\"],[0.7777777777777778,\"#fb9f3a\"],[0.8888888888888888,\"#fdca26\"],[1.0,\"#f0f921\"]]},\"colorway\":[\"#636efa\",\"#EF553B\",\"#00cc96\",\"#ab63fa\",\"#FFA15A\",\"#19d3f3\",\"#FF6692\",\"#B6E880\",\"#FF97FF\",\"#FECB52\"],\"font\":{\"color\":\"#2a3f5f\"},\"geo\":{\"bgcolor\":\"white\",\"lakecolor\":\"white\",\"landcolor\":\"#E5ECF6\",\"showlakes\":true,\"showland\":true,\"subunitcolor\":\"white\"},\"hoverlabel\":{\"align\":\"left\"},\"hovermode\":\"closest\",\"mapbox\":{\"style\":\"light\"},\"paper_bgcolor\":\"white\",\"plot_bgcolor\":\"#E5ECF6\",\"polar\":{\"angularaxis\":{\"gridcolor\":\"white\",\"linecolor\":\"white\",\"ticks\":\"\"},\"bgcolor\":\"#E5ECF6\",\"radialaxis\":{\"gridcolor\":\"white\",\"linecolor\":\"white\",\"ticks\":\"\"}},\"scene\":{\"xaxis\":{\"backgroundcolor\":\"#E5ECF6\",\"gridcolor\":\"white\",\"gridwidth\":2,\"linecolor\":\"white\",\"showbackground\":true,\"ticks\":\"\",\"zerolinecolor\":\"white\"},\"yaxis\":{\"backgroundcolor\":\"#E5ECF6\",\"gridcolor\":\"white\",\"gridwidth\":2,\"linecolor\":\"white\",\"showbackground\":true,\"ticks\":\"\",\"zerolinecolor\":\"white\"},\"zaxis\":{\"backgroundcolor\":\"#E5ECF6\",\"gridcolor\":\"white\",\"gridwidth\":2,\"linecolor\":\"white\",\"showbackground\":true,\"ticks\":\"\",\"zerolinecolor\":\"white\"}},\"shapedefaults\":{\"line\":{\"color\":\"#2a3f5f\"}},\"ternary\":{\"aaxis\":{\"gridcolor\":\"white\",\"linecolor\":\"white\",\"ticks\":\"\"},\"baxis\":{\"gridcolor\":\"white\",\"linecolor\":\"white\",\"ticks\":\"\"},\"bgcolor\":\"#E5ECF6\",\"caxis\":{\"gridcolor\":\"white\",\"linecolor\":\"white\",\"ticks\":\"\"}},\"title\":{\"x\":0.05},\"xaxis\":{\"automargin\":true,\"gridcolor\":\"white\",\"linecolor\":\"white\",\"ticks\":\"\",\"title\":{\"standoff\":15},\"zerolinecolor\":\"white\",\"zerolinewidth\":2},\"yaxis\":{\"automargin\":true,\"gridcolor\":\"white\",\"linecolor\":\"white\",\"ticks\":\"\",\"title\":{\"standoff\":15},\"zerolinecolor\":\"white\",\"zerolinewidth\":2}}},\"title\":{\"text\":\"Trade Export by Country\"}},                        {\"responsive\": true}                    ).then(function(){\n",
       "                            \n",
       "var gd = document.getElementById('1fb812a2-37d8-4eae-91ab-a172cc84e96a');\n",
       "var x = new MutationObserver(function (mutations, observer) {{\n",
       "        var display = window.getComputedStyle(gd).display;\n",
       "        if (!display || display === 'none') {{\n",
       "            console.log([gd, 'removed!']);\n",
       "            Plotly.purge(gd);\n",
       "            observer.disconnect();\n",
       "        }}\n",
       "}});\n",
       "\n",
       "// Listen for the removal of the full notebook cells\n",
       "var notebookContainer = gd.closest('#notebook-container');\n",
       "if (notebookContainer) {{\n",
       "    x.observe(notebookContainer, {childList: true});\n",
       "}}\n",
       "\n",
       "// Listen for the clearing of the current output cell\n",
       "var outputEl = gd.closest('.output');\n",
       "if (outputEl) {{\n",
       "    x.observe(outputEl, {childList: true});\n",
       "}}\n",
       "\n",
       "                        })                };                });            </script>        </div>"
      ]
     },
     "metadata": {},
     "output_type": "display_data"
    }
   ],
   "source": [
    "import plotly.graph_objects as go\n",
    "import plotly.offline as py\n",
    "from IPython.display import clear_output\n",
    "import pandas as pd\n",
    "from ipywidgets import interactive, HBox, VBox, widgets, interact\n",
    "py.init_notebook_mode()\n",
    "\n",
    "fig = go.Figure(data=go.Choropleth(\n",
    "    locations = df_agg[df_agg['FLOW']=='Export']['CODE'],\n",
    "    z = df_agg[df_agg['FLOW']=='Export']['TRADEUSD'],\n",
    "    text = df_agg[df_agg['FLOW']=='Export']['COUNTRY_AREA'],\n",
    "    colorscale = 'RdBu',\n",
    "    autocolorscale=False,\n",
    "    reversescale=True,\n",
    "    marker_line_color='darkgray',\n",
    "    marker_line_width=0.5,\n",
    "    colorbar_tickprefix = '$'))\n",
    "\n",
    "fig.update_layout(\n",
    "    height=800,\n",
    "    title=\"Trade Export by Country\",\n",
    "    margin={\"r\":0,\"t\":100,\"l\":0,\"b\":0},\n",
    "    geo=dict(\n",
    "        showframe=False,\n",
    "        showcoastlines=False,\n",
    "        projection_type='equirectangular',\n",
    "        \n",
    "    )\n",
    ")\n",
    "clear_output()\n",
    "py.iplot(fig)\n"
   ]
  },
  {
   "cell_type": "code",
   "execution_count": 13,
   "metadata": {},
   "outputs": [
    {
     "data": {
      "application/vnd.plotly.v1+json": {
       "config": {
        "linkText": "Export to plot.ly",
        "plotlyServerURL": "https://plot.ly",
        "showLink": false
       },
       "data": [
        {
         "autocolorscale": false,
         "colorbar": {
          "tickprefix": "$"
         },
         "colorscale": [
          [
           0,
           "rgb(103,0,31)"
          ],
          [
           0.1,
           "rgb(178,24,43)"
          ],
          [
           0.2,
           "rgb(214,96,77)"
          ],
          [
           0.3,
           "rgb(244,165,130)"
          ],
          [
           0.4,
           "rgb(253,219,199)"
          ],
          [
           0.5,
           "rgb(247,247,247)"
          ],
          [
           0.6,
           "rgb(209,229,240)"
          ],
          [
           0.7,
           "rgb(146,197,222)"
          ],
          [
           0.8,
           "rgb(67,147,195)"
          ],
          [
           0.9,
           "rgb(33,102,172)"
          ],
          [
           1,
           "rgb(5,48,97)"
          ]
         ],
         "locations": [
          "AFG",
          "AFG",
          "AFG",
          "AFG",
          "AFG",
          "AFG",
          "ALB",
          "ALB",
          "ALB",
          "ALB",
          "ALB",
          "ALB",
          "ALB",
          "ALB",
          "ALB",
          "AGO",
          "AGO",
          "AGO",
          "AGO",
          "AGO",
          "AGO",
          "AGO",
          "AGO",
          "ARG",
          "ARG",
          "ARG",
          "ARG",
          "ARG",
          "ARG",
          "ARG",
          "ARG",
          "ARG",
          "ARG",
          "ARG",
          "ARM",
          "ARM",
          "ARM",
          "ARM",
          "ARM",
          "ARM",
          "ARM",
          "ARM",
          "ARM",
          "ARM",
          "ARM",
          "AUS",
          "AUS",
          "AUS",
          "AUS",
          "AUS",
          "AUS",
          "AUS",
          "AUS",
          "AUT",
          "AUT",
          "AUT",
          "AUT",
          "AUT",
          "AUT",
          "AUT",
          "AUT",
          "AUT",
          "AZE",
          "AZE",
          "AZE",
          "AZE",
          "AZE",
          "AZE",
          "AZE",
          "AZE",
          "AZE",
          "AZE",
          "BLR",
          "BLR",
          "BLR",
          "BLR",
          "BLR",
          "BLR",
          "BLR",
          "BLR",
          "BLR",
          "BLR",
          "BEL",
          "BEL",
          "BEL",
          "BEL",
          "BEL",
          "BEL",
          "BEL",
          "BEL",
          "BEL",
          "BLZ",
          "BLZ",
          "BLZ",
          "BLZ",
          "BLZ",
          "BLZ",
          "BLZ",
          "BLZ",
          "BEN",
          "BEN",
          "BEN",
          "BEN",
          "BEN",
          "BEN",
          "BEN",
          "BEN",
          "BEN",
          "BWA",
          "BWA",
          "BWA",
          "BWA",
          "BWA",
          "BWA",
          "BWA",
          "BWA",
          "BWA",
          "BWA",
          "BWA",
          "BRA",
          "BRA",
          "BRA",
          "BRA",
          "BRA",
          "BRA",
          "BRA",
          "BRA",
          "BRA",
          "BRA",
          "BRA",
          "BRN",
          "BRN",
          "BRN",
          "BRN",
          "BRN",
          "BRN",
          "BRN",
          "BRN",
          "BGR",
          "BGR",
          "BGR",
          "BGR",
          "BGR",
          "BGR",
          "BGR",
          "BGR",
          "BGR",
          "BGR",
          "BGR",
          "BFA",
          "BFA",
          "BFA",
          "BFA",
          "BFA",
          "BFA",
          "BFA",
          "BFA",
          "BFA",
          "BDI",
          "BDI",
          "BDI",
          "BDI",
          "BDI",
          "BDI",
          "BDI",
          "BDI",
          "BDI",
          "CAN",
          "CAN",
          "CAN",
          "CAN",
          "CAN",
          "CAN",
          "CAN",
          "CAN",
          "CAN",
          "CHL",
          "CHL",
          "CHL",
          "CHL",
          "CHL",
          "CHL",
          "CHL",
          "CHL",
          "CHL",
          "CHL",
          "CHN",
          "CHN",
          "CHN",
          "CHN",
          "CHN",
          "CHN",
          "CHN",
          "CHN",
          "CHN",
          "CHN",
          "COL",
          "COL",
          "COL",
          "COL",
          "COL",
          "COL",
          "COL",
          "COL",
          "COL",
          "COL",
          "CRI",
          "CRI",
          "CRI",
          "CRI",
          "CRI",
          "CRI",
          "CRI",
          "CRI",
          "HRV",
          "HRV",
          "HRV",
          "HRV",
          "HRV",
          "HRV",
          "HRV",
          "HRV",
          "HRV",
          "HRV",
          "HRV",
          "CYP",
          "CYP",
          "CYP",
          "CYP",
          "CYP",
          "CYP",
          "CYP",
          "CYP",
          "CYP",
          "CYP",
          "CIV",
          "CIV",
          "CIV",
          "CIV",
          "CIV",
          "CIV",
          "CIV",
          "CIV",
          "CIV",
          "DNK",
          "DNK",
          "DNK",
          "DNK",
          "DNK",
          "DNK",
          "DNK",
          "DNK",
          "DNK",
          "DNK",
          "DNK",
          "ECU",
          "ECU",
          "ECU",
          "ECU",
          "ECU",
          "ECU",
          "ECU",
          "ECU",
          "ECU",
          "ECU",
          "EGY",
          "EGY",
          "EGY",
          "EGY",
          "EGY",
          "EGY",
          "EGY",
          "EGY",
          "EGY",
          "SLV",
          "SLV",
          "SLV",
          "SLV",
          "SLV",
          "SLV",
          "SLV",
          "SLV",
          "SLV",
          "EST",
          "EST",
          "EST",
          "EST",
          "EST",
          "EST",
          "EST",
          "EST",
          "EST",
          "EST",
          "FJI",
          "FJI",
          "FJI",
          "FJI",
          "FJI",
          "FJI",
          "FJI",
          "FJI",
          "FJI",
          "FIN",
          "FIN",
          "FIN",
          "FIN",
          "FIN",
          "FIN",
          "FIN",
          "FIN",
          "FIN",
          "FIN",
          "FRA",
          "FRA",
          "FRA",
          "FRA",
          "FRA",
          "FRA",
          "FRA",
          "FRA",
          "FRA",
          "FRA",
          "GMB",
          "GMB",
          "GMB",
          "GMB",
          "GMB",
          "GMB",
          "GMB",
          "GMB",
          "GEO",
          "GEO",
          "GEO",
          "GEO",
          "GEO",
          "GEO",
          "GEO",
          "GEO",
          "GEO",
          "GEO",
          "DEU",
          "DEU",
          "DEU",
          "DEU",
          "DEU",
          "DEU",
          "DEU",
          "DEU",
          "DEU",
          "DEU",
          "GHA",
          "GHA",
          "GHA",
          "GHA",
          "GHA",
          "GHA",
          "GHA",
          "GHA",
          "GRC",
          "GRC",
          "GRC",
          "GRC",
          "GRC",
          "GRC",
          "GRC",
          "GRC",
          "GRC",
          "GRC",
          "GRL",
          "GRL",
          "GRL",
          "GRL",
          "GRL",
          "GRL",
          "GRL",
          "GUY",
          "GUY",
          "GUY",
          "GUY",
          "GUY",
          "GUY",
          "GUY",
          "GUY",
          "HUN",
          "HUN",
          "HUN",
          "HUN",
          "HUN",
          "HUN",
          "HUN",
          "HUN",
          "HUN",
          "HUN",
          "ISL",
          "ISL",
          "ISL",
          "ISL",
          "ISL",
          "ISL",
          "ISL",
          "IND",
          "IND",
          "IND",
          "IND",
          "IND",
          "IND",
          "IND",
          "IND",
          "IND",
          "IND",
          "IDN",
          "IDN",
          "IDN",
          "IDN",
          "IDN",
          "IDN",
          "IDN",
          "IDN",
          "IRL",
          "IRL",
          "IRL",
          "IRL",
          "IRL",
          "IRL",
          "IRL",
          "IRL",
          "ISR",
          "ISR",
          "ISR",
          "ISR",
          "ISR",
          "ISR",
          "ISR",
          "ITA",
          "ITA",
          "ITA",
          "ITA",
          "ITA",
          "ITA",
          "ITA",
          "ITA",
          "ITA",
          "ITA",
          "JPN",
          "JPN",
          "JPN",
          "JPN",
          "JPN",
          "JPN",
          "JPN",
          "JPN",
          "JOR",
          "JOR",
          "JOR",
          "JOR",
          "JOR",
          "JOR",
          "JOR",
          "KAZ",
          "KAZ",
          "KAZ",
          "KAZ",
          "KAZ",
          "KAZ",
          "KAZ",
          "KEN",
          "KEN",
          "KEN",
          "KEN",
          "KEN",
          "KEN",
          "KEN",
          "KWT",
          "KWT",
          "KWT",
          "KWT",
          "KWT",
          "KWT",
          "KWT",
          "KWT",
          "KGZ",
          "KGZ",
          "KGZ",
          "KGZ",
          "KGZ",
          "KGZ",
          "KGZ",
          "KGZ",
          "LVA",
          "LVA",
          "LVA",
          "LVA",
          "LVA",
          "LVA",
          "LVA",
          "LVA",
          "LVA",
          "LBN",
          "LBN",
          "LBN",
          "LBN",
          "LBN",
          "LBN",
          "LTU",
          "LTU",
          "LTU",
          "LTU",
          "LTU",
          "LTU",
          "LTU",
          "LTU",
          "LTU",
          "LUX",
          "LUX",
          "LUX",
          "LUX",
          "LUX",
          "LUX",
          "LUX",
          "MDG",
          "MDG",
          "MDG",
          "MDG",
          "MDG",
          "MYS",
          "MYS",
          "MYS",
          "MYS",
          "MYS",
          "MYS",
          "MYS",
          "MEX",
          "MEX",
          "MEX",
          "MEX",
          "MEX",
          "MNG",
          "MNG",
          "MNG",
          "MNG",
          "MNG",
          "MNE",
          "MNE",
          "MNE",
          "MNE",
          "MNE",
          "MNE",
          "MAR",
          "MAR",
          "MAR",
          "MAR",
          "MAR",
          "MOZ",
          "MOZ",
          "MOZ",
          "MOZ",
          "MOZ",
          "MOZ",
          "MMR",
          "MMR",
          "MMR",
          "MMR",
          "MMR",
          "MMR",
          "NAM",
          "NAM",
          "NAM",
          "NAM",
          "NAM",
          "NLD",
          "NLD",
          "NLD",
          "NLD",
          "NLD",
          "NLD",
          "NZL",
          "NZL",
          "NZL",
          "NZL",
          "NZL",
          "NIC",
          "NIC",
          "NIC",
          "NIC",
          "NIC",
          "NGA",
          "NGA",
          "NGA",
          "NGA",
          "NGA",
          "NOR",
          "NOR",
          "NOR",
          "NOR",
          "NOR",
          "OMN",
          "OMN",
          "OMN",
          "PAK",
          "PAK",
          "PAK",
          "PAK",
          "PAK",
          "PAK",
          "PRY",
          "PRY",
          "PRY",
          "PRY",
          "PRY",
          "PER",
          "PER",
          "PER",
          "PER",
          "PER",
          "PER",
          "PHL",
          "PHL",
          "PHL",
          "PHL",
          "POL",
          "POL",
          "POL",
          "POL",
          "PRT",
          "PRT",
          "PRT",
          "PRT",
          "QAT",
          "QAT",
          "ROU",
          "ROU",
          "ROU",
          "ROU",
          "RUS",
          "RUS",
          "RUS",
          "RUS",
          "SAU",
          "SAU",
          "SAU",
          "SAU",
          "SEN",
          "SEN",
          "SEN",
          "SRB",
          "SRB",
          "SRB",
          "SVK",
          "SVK",
          "SVK",
          "SVN",
          "SVN",
          "SVN",
          "ZAF",
          "ZAF",
          "ZAF",
          "ESP",
          "ESP",
          "ESP",
          "SUR",
          "SUR",
          "SUR",
          "SWE",
          "SWE",
          "SWE",
          "CHE",
          "CHE",
          "CHE",
          "THA",
          "THA",
          "THA",
          "TUR",
          "TUR",
          "TUR",
          "UGA",
          "UGA",
          "UGA",
          "UKR",
          "UKR",
          "UKR",
          "ARE",
          "ARE",
          "ARE",
          "GBR",
          "GBR",
          "GBR",
          "USA",
          "USA",
          "USA",
          "USA",
          "URY",
          "URY",
          "URY",
          "UZB",
          "UZB",
          "UZB",
          "ZMB",
          "ZMB",
          "ZMB",
          "ZWE",
          "ZWE",
          "ZWE"
         ],
         "marker": {
          "line": {
           "color": "darkgray",
           "width": 0.5
          }
         },
         "reversescale": true,
         "text": [
          "Afghanistan",
          "Afghanistan",
          "Afghanistan",
          "Afghanistan",
          "Afghanistan",
          "Afghanistan",
          "Albania",
          "Albania",
          "Albania",
          "Albania",
          "Albania",
          "Albania",
          "Albania",
          "Albania",
          "Albania",
          "Angola",
          "Angola",
          "Angola",
          "Angola",
          "Angola",
          "Angola",
          "Angola",
          "Angola",
          "Argentina",
          "Argentina",
          "Argentina",
          "Argentina",
          "Argentina",
          "Argentina",
          "Argentina",
          "Argentina",
          "Argentina",
          "Argentina",
          "Argentina",
          "Armenia",
          "Armenia",
          "Armenia",
          "Armenia",
          "Armenia",
          "Armenia",
          "Armenia",
          "Armenia",
          "Armenia",
          "Armenia",
          "Armenia",
          "Australia",
          "Australia",
          "Australia",
          "Australia",
          "Australia",
          "Australia",
          "Australia",
          "Australia",
          "Austria",
          "Austria",
          "Austria",
          "Austria",
          "Austria",
          "Austria",
          "Austria",
          "Austria",
          "Austria",
          "Azerbaijan",
          "Azerbaijan",
          "Azerbaijan",
          "Azerbaijan",
          "Azerbaijan",
          "Azerbaijan",
          "Azerbaijan",
          "Azerbaijan",
          "Azerbaijan",
          "Azerbaijan",
          "Belarus",
          "Belarus",
          "Belarus",
          "Belarus",
          "Belarus",
          "Belarus",
          "Belarus",
          "Belarus",
          "Belarus",
          "Belarus",
          "Belgium",
          "Belgium",
          "Belgium",
          "Belgium",
          "Belgium",
          "Belgium",
          "Belgium",
          "Belgium",
          "Belgium",
          "Belize",
          "Belize",
          "Belize",
          "Belize",
          "Belize",
          "Belize",
          "Belize",
          "Belize",
          "Benin",
          "Benin",
          "Benin",
          "Benin",
          "Benin",
          "Benin",
          "Benin",
          "Benin",
          "Benin",
          "Botswana",
          "Botswana",
          "Botswana",
          "Botswana",
          "Botswana",
          "Botswana",
          "Botswana",
          "Botswana",
          "Botswana",
          "Botswana",
          "Botswana",
          "Brazil",
          "Brazil",
          "Brazil",
          "Brazil",
          "Brazil",
          "Brazil",
          "Brazil",
          "Brazil",
          "Brazil",
          "Brazil",
          "Brazil",
          "Brunei Darussalam",
          "Brunei Darussalam",
          "Brunei Darussalam",
          "Brunei Darussalam",
          "Brunei Darussalam",
          "Brunei Darussalam",
          "Brunei Darussalam",
          "Brunei Darussalam",
          "Bulgaria",
          "Bulgaria",
          "Bulgaria",
          "Bulgaria",
          "Bulgaria",
          "Bulgaria",
          "Bulgaria",
          "Bulgaria",
          "Bulgaria",
          "Bulgaria",
          "Bulgaria",
          "Burkina Faso",
          "Burkina Faso",
          "Burkina Faso",
          "Burkina Faso",
          "Burkina Faso",
          "Burkina Faso",
          "Burkina Faso",
          "Burkina Faso",
          "Burkina Faso",
          "Burundi",
          "Burundi",
          "Burundi",
          "Burundi",
          "Burundi",
          "Burundi",
          "Burundi",
          "Burundi",
          "Burundi",
          "Canada",
          "Canada",
          "Canada",
          "Canada",
          "Canada",
          "Canada",
          "Canada",
          "Canada",
          "Canada",
          "Chile",
          "Chile",
          "Chile",
          "Chile",
          "Chile",
          "Chile",
          "Chile",
          "Chile",
          "Chile",
          "Chile",
          "China",
          "China",
          "China",
          "China",
          "China",
          "China",
          "China",
          "China",
          "China",
          "China",
          "Colombia",
          "Colombia",
          "Colombia",
          "Colombia",
          "Colombia",
          "Colombia",
          "Colombia",
          "Colombia",
          "Colombia",
          "Colombia",
          "Costa Rica",
          "Costa Rica",
          "Costa Rica",
          "Costa Rica",
          "Costa Rica",
          "Costa Rica",
          "Costa Rica",
          "Costa Rica",
          "Croatia",
          "Croatia",
          "Croatia",
          "Croatia",
          "Croatia",
          "Croatia",
          "Croatia",
          "Croatia",
          "Croatia",
          "Croatia",
          "Croatia",
          "Cyprus",
          "Cyprus",
          "Cyprus",
          "Cyprus",
          "Cyprus",
          "Cyprus",
          "Cyprus",
          "Cyprus",
          "Cyprus",
          "Cyprus",
          "Côte d'Ivoire",
          "Côte d'Ivoire",
          "Côte d'Ivoire",
          "Côte d'Ivoire",
          "Côte d'Ivoire",
          "Côte d'Ivoire",
          "Côte d'Ivoire",
          "Côte d'Ivoire",
          "Côte d'Ivoire",
          "Denmark",
          "Denmark",
          "Denmark",
          "Denmark",
          "Denmark",
          "Denmark",
          "Denmark",
          "Denmark",
          "Denmark",
          "Denmark",
          "Denmark",
          "Ecuador",
          "Ecuador",
          "Ecuador",
          "Ecuador",
          "Ecuador",
          "Ecuador",
          "Ecuador",
          "Ecuador",
          "Ecuador",
          "Ecuador",
          "Egypt",
          "Egypt",
          "Egypt",
          "Egypt",
          "Egypt",
          "Egypt",
          "Egypt",
          "Egypt",
          "Egypt",
          "El Salvador",
          "El Salvador",
          "El Salvador",
          "El Salvador",
          "El Salvador",
          "El Salvador",
          "El Salvador",
          "El Salvador",
          "El Salvador",
          "Estonia",
          "Estonia",
          "Estonia",
          "Estonia",
          "Estonia",
          "Estonia",
          "Estonia",
          "Estonia",
          "Estonia",
          "Estonia",
          "Fiji",
          "Fiji",
          "Fiji",
          "Fiji",
          "Fiji",
          "Fiji",
          "Fiji",
          "Fiji",
          "Fiji",
          "Finland",
          "Finland",
          "Finland",
          "Finland",
          "Finland",
          "Finland",
          "Finland",
          "Finland",
          "Finland",
          "Finland",
          "France",
          "France",
          "France",
          "France",
          "France",
          "France",
          "France",
          "France",
          "France",
          "France",
          "Gambia",
          "Gambia",
          "Gambia",
          "Gambia",
          "Gambia",
          "Gambia",
          "Gambia",
          "Gambia",
          "Georgia",
          "Georgia",
          "Georgia",
          "Georgia",
          "Georgia",
          "Georgia",
          "Georgia",
          "Georgia",
          "Georgia",
          "Georgia",
          "Germany",
          "Germany",
          "Germany",
          "Germany",
          "Germany",
          "Germany",
          "Germany",
          "Germany",
          "Germany",
          "Germany",
          "Ghana",
          "Ghana",
          "Ghana",
          "Ghana",
          "Ghana",
          "Ghana",
          "Ghana",
          "Ghana",
          "Greece",
          "Greece",
          "Greece",
          "Greece",
          "Greece",
          "Greece",
          "Greece",
          "Greece",
          "Greece",
          "Greece",
          "Greenland",
          "Greenland",
          "Greenland",
          "Greenland",
          "Greenland",
          "Greenland",
          "Greenland",
          "Guyana",
          "Guyana",
          "Guyana",
          "Guyana",
          "Guyana",
          "Guyana",
          "Guyana",
          "Guyana",
          "Hungary",
          "Hungary",
          "Hungary",
          "Hungary",
          "Hungary",
          "Hungary",
          "Hungary",
          "Hungary",
          "Hungary",
          "Hungary",
          "Iceland",
          "Iceland",
          "Iceland",
          "Iceland",
          "Iceland",
          "Iceland",
          "Iceland",
          "India",
          "India",
          "India",
          "India",
          "India",
          "India",
          "India",
          "India",
          "India",
          "India",
          "Indonesia",
          "Indonesia",
          "Indonesia",
          "Indonesia",
          "Indonesia",
          "Indonesia",
          "Indonesia",
          "Indonesia",
          "Ireland",
          "Ireland",
          "Ireland",
          "Ireland",
          "Ireland",
          "Ireland",
          "Ireland",
          "Ireland",
          "Israel",
          "Israel",
          "Israel",
          "Israel",
          "Israel",
          "Israel",
          "Israel",
          "Italy",
          "Italy",
          "Italy",
          "Italy",
          "Italy",
          "Italy",
          "Italy",
          "Italy",
          "Italy",
          "Italy",
          "Japan",
          "Japan",
          "Japan",
          "Japan",
          "Japan",
          "Japan",
          "Japan",
          "Japan",
          "Jordan",
          "Jordan",
          "Jordan",
          "Jordan",
          "Jordan",
          "Jordan",
          "Jordan",
          "Kazakhstan",
          "Kazakhstan",
          "Kazakhstan",
          "Kazakhstan",
          "Kazakhstan",
          "Kazakhstan",
          "Kazakhstan",
          "Kenya",
          "Kenya",
          "Kenya",
          "Kenya",
          "Kenya",
          "Kenya",
          "Kenya",
          "Kuwait",
          "Kuwait",
          "Kuwait",
          "Kuwait",
          "Kuwait",
          "Kuwait",
          "Kuwait",
          "Kuwait",
          "Kyrgyzstan",
          "Kyrgyzstan",
          "Kyrgyzstan",
          "Kyrgyzstan",
          "Kyrgyzstan",
          "Kyrgyzstan",
          "Kyrgyzstan",
          "Kyrgyzstan",
          "Latvia",
          "Latvia",
          "Latvia",
          "Latvia",
          "Latvia",
          "Latvia",
          "Latvia",
          "Latvia",
          "Latvia",
          "Lebanon",
          "Lebanon",
          "Lebanon",
          "Lebanon",
          "Lebanon",
          "Lebanon",
          "Lithuania",
          "Lithuania",
          "Lithuania",
          "Lithuania",
          "Lithuania",
          "Lithuania",
          "Lithuania",
          "Lithuania",
          "Lithuania",
          "Luxembourg",
          "Luxembourg",
          "Luxembourg",
          "Luxembourg",
          "Luxembourg",
          "Luxembourg",
          "Luxembourg",
          "Madagascar",
          "Madagascar",
          "Madagascar",
          "Madagascar",
          "Madagascar",
          "Malaysia",
          "Malaysia",
          "Malaysia",
          "Malaysia",
          "Malaysia",
          "Malaysia",
          "Malaysia",
          "Mexico",
          "Mexico",
          "Mexico",
          "Mexico",
          "Mexico",
          "Mongolia",
          "Mongolia",
          "Mongolia",
          "Mongolia",
          "Mongolia",
          "Montenegro",
          "Montenegro",
          "Montenegro",
          "Montenegro",
          "Montenegro",
          "Montenegro",
          "Morocco",
          "Morocco",
          "Morocco",
          "Morocco",
          "Morocco",
          "Mozambique",
          "Mozambique",
          "Mozambique",
          "Mozambique",
          "Mozambique",
          "Mozambique",
          "Myanmar",
          "Myanmar",
          "Myanmar",
          "Myanmar",
          "Myanmar",
          "Myanmar",
          "Namibia",
          "Namibia",
          "Namibia",
          "Namibia",
          "Namibia",
          "Netherlands",
          "Netherlands",
          "Netherlands",
          "Netherlands",
          "Netherlands",
          "Netherlands",
          "New Zealand",
          "New Zealand",
          "New Zealand",
          "New Zealand",
          "New Zealand",
          "Nicaragua",
          "Nicaragua",
          "Nicaragua",
          "Nicaragua",
          "Nicaragua",
          "Nigeria",
          "Nigeria",
          "Nigeria",
          "Nigeria",
          "Nigeria",
          "Norway",
          "Norway",
          "Norway",
          "Norway",
          "Norway",
          "Oman",
          "Oman",
          "Oman",
          "Pakistan",
          "Pakistan",
          "Pakistan",
          "Pakistan",
          "Pakistan",
          "Pakistan",
          "Paraguay",
          "Paraguay",
          "Paraguay",
          "Paraguay",
          "Paraguay",
          "Peru",
          "Peru",
          "Peru",
          "Peru",
          "Peru",
          "Peru",
          "Philippines",
          "Philippines",
          "Philippines",
          "Philippines",
          "Poland",
          "Poland",
          "Poland",
          "Poland",
          "Portugal",
          "Portugal",
          "Portugal",
          "Portugal",
          "Qatar",
          "Qatar",
          "Romania",
          "Romania",
          "Romania",
          "Romania",
          "Russian Federation",
          "Russian Federation",
          "Russian Federation",
          "Russian Federation",
          "Saudi Arabia",
          "Saudi Arabia",
          "Saudi Arabia",
          "Saudi Arabia",
          "Senegal",
          "Senegal",
          "Senegal",
          "Serbia",
          "Serbia",
          "Serbia",
          "Slovakia",
          "Slovakia",
          "Slovakia",
          "Slovenia",
          "Slovenia",
          "Slovenia",
          "South Africa",
          "South Africa",
          "South Africa",
          "Spain",
          "Spain",
          "Spain",
          "Suriname",
          "Suriname",
          "Suriname",
          "Sweden",
          "Sweden",
          "Sweden",
          "Switzerland",
          "Switzerland",
          "Switzerland",
          "Thailand",
          "Thailand",
          "Thailand",
          "Turkey",
          "Turkey",
          "Turkey",
          "Uganda",
          "Uganda",
          "Uganda",
          "Ukraine",
          "Ukraine",
          "Ukraine",
          "United Arab Emirates",
          "United Arab Emirates",
          "United Arab Emirates",
          "United Kingdom",
          "United Kingdom",
          "United Kingdom",
          "United States",
          "United States",
          "United States",
          "United States",
          "Uruguay",
          "Uruguay",
          "Uruguay",
          "Uzbekistan",
          "Uzbekistan",
          "Uzbekistan",
          "Zambia",
          "Zambia",
          "Zambia",
          "Zimbabwe",
          "Zimbabwe",
          "Zimbabwe"
         ],
         "type": "choropleth",
         "z": [
          371807.73000000004,
          9529603106.32,
          596877409.64,
          37787683.89,
          16508957.709999999,
          4632031684.21,
          46541110.15985355,
          59979596.5987501,
          8742441353.38436,
          840734265.6057243,
          32220391.941656407,
          327922.121526026,
          12418990.728184924,
          63762464.0746494,
          2084147804.3592176,
          17073394.96,
          21057655258.44,
          1353756196.04,
          74326684.37,
          2394003.32,
          156254804.29,
          542.39,
          10044660551.65,
          152084063.65,
          384864082.75,
          170745.43,
          67007611662.28,
          21178392537.24,
          512787794.88,
          1283943.74,
          14225048.51,
          138553099.74,
          102990.71,
          41491856362.35,
          30712377.85,
          8383543,
          77.66,
          5032116640.46,
          1149434953.64,
          52308173.28,
          187.55,
          7123078.62,
          19158878.11,
          178135915.14000002,
          3222495369.21,
          900277320.7575519,
          282962349441.1005,
          46496665882.33256,
          1604100164.148803,
          639175348.0735524,
          1932679178.7827556,
          7376790.949435908,
          122538884427.1368,
          533943027.8499017,
          1351344845.14204,
          203989345878.18286,
          24262274225.433144,
          1957089374.7300768,
          1465425353.8898633,
          893110323.0571121,
          14575988.99571092,
          109759176943.05188,
          37572262.02,
          5269999.32,
          11712311356.27,
          1893434675.56,
          78771828.59,
          408793.13,
          169341544.42,
          83593180.09,
          30528.64,
          7127121581.08,
          105871100,
          2182400,
          25500,
          40296282400,
          2588832100,
          257021700,
          6386200,
          31146200,
          192879100,
          27138524900,
          696054568.7014024,
          1359440283.63081,
          475343443025.1252,
          54586258700.57112,
          4779710339.91149,
          1105179415.753661,
          3300732803.2755218,
          13892679376.676102,
          300225834181.3683,
          864479.32,
          1017783949.685,
          102971237.72,
          20500073.265,
          9108010.925,
          19186885.275,
          129641.095,
          599662367.705,
          16156172.95117435,
          142370612.909845,
          3325469069.014506,
          184160513.0244161,
          10301.23432487,
          3763655.08789064,
          1976511.10976997,
          15417247.00415898,
          2655052127.5257235,
          6327285.789977789,
          6855.7745909744,
          11795.912736571598,
          9033044462.259018,
          525909645.8678352,
          15463.1725317784,
          40990328.21447194,
          7129857.54714244,
          86693846.36739574,
          5702.7091818996,
          1732025779.5536819,
          42859335,
          142230489,
          126668,
          211474590626,
          17275354462,
          357524924,
          674308,
          8320253,
          1384548731,
          21713151,
          74835397943,
          9403952.337850679,
          2253.83753943,
          4230211469.8275185,
          302658061.2336814,
          9102854.30771043,
          4365081.895511791,
          37364109.10005146,
          1556258061.2538245,
          125376605.832397,
          155550875.283171,
          3003.4846595,
          40184044759.835915,
          2998677287.624369,
          183649847.8286415,
          11322643.1205355,
          37211516.04733,
          261232054.7554685,
          1927866.1646415,
          22891083152.298172,
          2346374.132528741,
          89067281.0976826,
          4389081251.753064,
          268569306.7057519,
          44555.1538874164,
          10459106.33081029,
          2483857.8211238068,
          11708264.91697969,
          2505516365.4346695,
          4783456.30352008,
          155.72373224,
          838856001.6715641,
          63501233.53678784,
          7479.09637408,
          5056926.1526962,
          223529.31017232002,
          4088723.5626283996,
          465383688.8947751,
          141680290.201175,
          393492190.457383,
          296961.6530406,
          718763345528.4207,
          4205911997.507137,
          895412.597199,
          26717.386983,
          1580321.6694204,
          13314408708.23387,
          157118523.14,
          221625.23,
          78435777160.88968,
          10878209619.128242,
          1212686098.07,
          93380.42,
          15773666.780000001,
          434708428.78999996,
          630818.2899999999,
          27995429737.914692,
          4542401350,
          9103328,
          2165540685287,
          91787280333,
          4154553980,
          1007228,
          21234587647,
          6433892024,
          9284676578,
          939506559757,
          221706964.54000002,
          4525311.28,
          53486997485.50001,
          2320633449.2,
          392395211.75,
          568462.07,
          23659567.31,
          552231788.37,
          663050.5700000001,
          17857648812.1,
          79150410.12,
          16777013339.160002,
          197845237.96,
          130710267.69,
          64736371.72,
          135267852.98,
          133501.25,
          6946708573.99,
          188830674,
          651371262,
          35729,
          28422101588,
          884514444,
          331606554,
          4351265,
          156919963,
          254914654,
          952012,
          12316184257,
          64034057.4268321,
          48141.5754228,
          11057584568.158691,
          2563800908.694377,
          87133347.4378885,
          134954.60076468,
          20163699.85032992,
          163385061.4500103,
          4083576.67095936,
          4640863747.561444,
          48739827.59597532,
          4155.6425637968,
          11267065630.075426,
          92629936.4178652,
          23861152.23395106,
          1296753.5405230252,
          97712122.03896812,
          26930.4047305592,
          6330764945.92955,
          243632382.26969722,
          734304211.337379,
          19484.87142082,
          105311477458.52452,
          5619701184.276577,
          1019918448.7112771,
          436163.70672212,
          589477520.3513308,
          1321767756.8957834,
          3305992.2779959403,
          37081457265.84486,
          133880200.72,
          2992794.51,
          25251736931.070004,
          235543264.26,
          159710958.15,
          2795.4,
          4734357.640000001,
          83839456.12,
          107434.56,
          8585669619.27,
          138917400.4089913,
          90263213452.03471,
          283748894.890907,
          1108118.42147448,
          116382498.78733802,
          1336731049.423562,
          39257907.20522084,
          1009759.9583007,
          32044856648.00101,
          43861560.14,
          166983088.58,
          11951059276.240002,
          56881744.71,
          86697193.56,
          21643972.91,
          119626857.57,
          248646.94,
          5743988780.44,
          30077128.26661305,
          173288924.133472,
          746.016202344,
          21412942186.146824,
          243351224.13950333,
          114720129.53510989,
          1509198.92085053,
          228307220.49650714,
          304090.177864112,
          6820388840.588174,
          2999136.3332964,
          26912.723463,
          3278943507.6889315,
          146475790.7588277,
          10305125.303231701,
          47367.2526687,
          22238434.0913025,
          13398.5927136,
          753221926.1730672,
          167871001.3663648,
          1207481312.39789,
          5335.06690006,
          86642627923.18152,
          962627384.4260384,
          337709173.68412834,
          1724880.40873281,
          408633555.4110461,
          4770307.75121147,
          27015711260.47835,
          1644581938.0654562,
          886838836.663173,
          762437.83012527,
          676973854479.1582,
          10726906048.903795,
          2463452870.722967,
          22363034.195333,
          4512171193.198548,
          1446706554.92374,
          234095059713.97144,
          535710.46,
          613072490.4,
          1584208.0999999999,
          1075.87,
          1170034.8800000001,
          2653693.16,
          1397.32,
          447616631.01,
          68039058.3,
          75773964,
          15.55,
          10433651383.23,
          173418364.74,
          534003.14,
          81658975.47,
          637493.72,
          81809727.35,
          2834931478.57,
          2302861715.5083084,
          1575890396.87079,
          3581346.631437,
          1375714543345.8433,
          17722228950.231747,
          12196836697.91503,
          50927937.329868,
          5222744210.712297,
          532102891.07524645,
          360487947767.724,
          4916998.561788135,
          32714.9289980919,
          12209628367.49098,
          20347839.14447796,
          42617108.24062289,
          125987576.90570307,
          1047.8103778629,
          3097151720.028684,
          69297099.273522,
          499458912.163404,
          129079.05581199999,
          67381110120.59547,
          1860050864.810618,
          550437779.552314,
          80978.652312,
          320138766.525724,
          9726750.279482,
          32543429738.58563,
          829476.64,
          955607417.71,
          1492513.49,
          2915444.12,
          16629450.91,
          26471.11,
          335321625.05,
          8827931.24598586,
          4028785269.2891927,
          1649055124.0457578,
          69458.5630337346,
          8760632.057273775,
          17894.245637367,
          31855736.913486887,
          816913467.635039,
          94538817,
          1562386858,
          241,
          128753147947,
          374372308,
          634627545,
          5441467,
          364727505,
          1431168,
          22157837193,
          13812531.29677575,
          7714974487.825313,
          181591579.83338913,
          37398086.59728735,
          79441485.28511715,
          374653.68691995,
          2119201082.2980182,
          315549903.6946249,
          31071417.4605946,
          1084190.79433788,
          511208639007.54956,
          7564828225.809469,
          669140739.3491437,
          65888.65034712,
          738986544.8716741,
          27085912268.693333,
          241751464542.03015,
          410443919,
          106627825,
          191283421371,
          1171465116,
          467431422,
          208618389,
          34813454,
          66794688982,
          96801441.09124614,
          368978274.087824,
          110050880434.60953,
          24147839243.89756,
          452900738.31031114,
          1048002516.1945789,
          55518645.8295943,
          31976831698.21287,
          390906000,
          81215975000,
          1728657000,
          507485000,
          366268000,
          3162953000,
          20240638000,
          541645305.797233,
          3094352077.42386,
          16094.134602560001,
          515929588651.5442,
          5109110329.093009,
          3224268241.513777,
          5757478.07778696,
          1499683620.985705,
          1215294448.292303,
          160063493828.34476,
          563211226.89468,
          1717990.21912,
          883839948786.5149,
          5088417786.6284,
          4937065787.22476,
          3411560669.66792,
          1075353686.16774,
          177745082841.4189,
          188162846.556443,
          18738458.864653,
          20735825027.761818,
          127139795.71343601,
          59000177.178767,
          129412760.979491,
          8512582970.740645,
          181250307.29,
          52985472.86,
          34149629787.55,
          640668289.82,
          255472703.61,
          262356128.14000002,
          7770533685.42,
          73326238.72135195,
          1090.8472493008999,
          17510469485.89199,
          466695123.4047614,
          50581408.3681866,
          97372248.46065784,
          6179685374.164787,
          158085644,
          5940,
          35931731979,
          740830077,
          291189817,
          409940,
          166431419,
          5288855981,
          16865501,
          41,
          5316940142,
          92780807,
          304469874,
          98222,
          54029888,
          1756873693,
          49555335.03994265,
          310741249.334447,
          3108.02376159,
          19479087379.5327,
          592587970.2183288,
          123327339.90020008,
          259603.0768782,
          612277135.7410514,
          4262814074.1307673,
          192089776.08622414,
          20110132076.623474,
          452228705.34445596,
          105966184.80606538,
          136013490.59511307,
          8060904372.416943,
          84640489,
          714366771,
          2014,
          38633574006.57,
          156335343,
          221495439,
          4340696,
          490593317,
          10169179762,
          11988619.168212,
          24968.092245676402,
          24450497859.323273,
          371536693.52360046,
          3593258.93340397,
          357905459.35365385,
          4559827473.025362,
          11288961.405626848,
          4106074796.473855,
          9271780.060504502,
          31012689.867751397,
          1047992133.04033,
          351371550.32370204,
          558142.75931216,
          218843989767.95132,
          3782340518.5099354,
          530434.87915264,
          726265613.1855496,
          18194668814.67012,
          19942143,
          518844860911,
          282327680,
          296604512,
          7341965681,
          3419347.13,
          5879103958.83,
          63031198.010000005,
          44723161.05,
          612743647.75,
          4369311.190688549,
          1549.1626997204999,
          3042511899.9312468,
          47874865.81818865,
          66050266.5042156,
          373218457.23062706,
          73113707.86822271,
          52126896713.34289,
          822262195.6069914,
          104280654.2295548,
          6729707969.131738,
          2583557.66,
          155.34,
          7349636008.46,
          55262884.79,
          28284062.52,
          338811997.89,
          9569335.36,
          1073658.8,
          19432535714.93909,
          583373073.84,
          105837059.97,
          2558830091.94,
          3439753.973375892,
          9200722216.648806,
          54867213.58436183,
          142447392.22278962,
          1052476136.7787455,
          442330800.5456989,
          1470628.71059979,
          501451499826.7881,
          5680610918.209937,
          4221594710.9102716,
          47554552291.08606,
          100829021.01057866,
          44494185979.16942,
          1085827054.572597,
          437325373.520623,
          4931759955.792024,
          997630.86,
          7372864403.139999,
          4843307.02,
          71629125.85,
          1437439694.84,
          709553.62142896,
          48479998504.48325,
          41817713.90585976,
          236733302.14815927,
          2262543298.8397827,
          103903734.78806812,
          89324000929.69553,
          2296967431.062694,
          864190577.2785233,
          8428827403.148643,
          26065294569.597878,
          122793531.21126,
          2328651652.57998,
          22531307.731,
          399.5527,
          60477016400.87213,
          1007447314.849705,
          9020199.87998,
          2537556386.295165,
          9618815,
          13403842003,
          36821755,
          262166545,
          1306005848,
          9818098.66,
          43569553622.202,
          361097721.12,
          2025373.55,
          207203341.21,
          3994006541.152,
          37223424.93,
          115438919170.61,
          2391962546.95,
          11433988327.72,
          288273868,
          271767823190,
          4728651175,
          17263649270,
          94066914.3201892,
          95799410842.84117,
          1101148379.0465596,
          6788000461.799205,
          35435925329.70619,
          2845594916.1597595,
          98918941.28,
          98291655743.42001,
          505491195.16999996,
          6918842765.22,
          213593582.41,
          242913661798.12,
          8573913400.07,
          11988174882.71,
          371503657.1046179,
          149280778777.1612,
          806186474.9066302,
          13205042221.830067,
          8201594905.718742,
          2736158.3302163,
          1191973313.7087293,
          28933819574,
          119586340,
          2019337996,
          93094709412.40208,
          384769037.3686072,
          3788826080.9252152,
          36335060303.16,
          224225501.94,
          2322673133.62,
          100124804840.59587,
          933266305.2936839,
          5283522548.935812,
          376484946711.45166,
          2839730588.692999,
          28717262411.942364,
          2171897724.9134574,
          2082192.0021421397,
          78740212.92073376,
          178353799934.5093,
          2032090909.93066,
          6809049266.14595,
          279149905735.57623,
          5567587785.45966,
          7254699090.181971,
          253521972704.94998,
          1900624655.21,
          7217356854.51,
          248936710556,
          4742544561,
          11648928819,
          6824244391.52,
          10781398.299999999,
          453790922.01,
          57742706608.159996,
          320654069.73,
          2479958406.73,
          246642264794.81165,
          3584258481.411093,
          10326008874.757318,
          688761232010.386,
          8885560551.53445,
          26589602656.693916,
          146718.8541755,
          2734801881692.444,
          20005460824.14731,
          70225683581.76888,
          8895132728.33,
          62465484.01,
          491897734.72,
          17529529750.57,
          154688060,
          1145974454,
          9553847527.72,
          11602916,
          1457304363,
          6331634066.22001,
          27100281.5,
          445108873.83
         ]
        }
       ],
       "layout": {
        "geo": {
         "projection": {
          "type": "equirectangular"
         },
         "showcoastlines": false,
         "showframe": false
        },
        "height": 800,
        "margin": {
         "b": 0,
         "l": 0,
         "r": 0,
         "t": 100
        },
        "template": {
         "data": {
          "bar": [
           {
            "error_x": {
             "color": "#2a3f5f"
            },
            "error_y": {
             "color": "#2a3f5f"
            },
            "marker": {
             "line": {
              "color": "#E5ECF6",
              "width": 0.5
             },
             "pattern": {
              "fillmode": "overlay",
              "size": 10,
              "solidity": 0.2
             }
            },
            "type": "bar"
           }
          ],
          "barpolar": [
           {
            "marker": {
             "line": {
              "color": "#E5ECF6",
              "width": 0.5
             },
             "pattern": {
              "fillmode": "overlay",
              "size": 10,
              "solidity": 0.2
             }
            },
            "type": "barpolar"
           }
          ],
          "carpet": [
           {
            "aaxis": {
             "endlinecolor": "#2a3f5f",
             "gridcolor": "white",
             "linecolor": "white",
             "minorgridcolor": "white",
             "startlinecolor": "#2a3f5f"
            },
            "baxis": {
             "endlinecolor": "#2a3f5f",
             "gridcolor": "white",
             "linecolor": "white",
             "minorgridcolor": "white",
             "startlinecolor": "#2a3f5f"
            },
            "type": "carpet"
           }
          ],
          "choropleth": [
           {
            "colorbar": {
             "outlinewidth": 0,
             "ticks": ""
            },
            "type": "choropleth"
           }
          ],
          "contour": [
           {
            "colorbar": {
             "outlinewidth": 0,
             "ticks": ""
            },
            "colorscale": [
             [
              0,
              "#0d0887"
             ],
             [
              0.1111111111111111,
              "#46039f"
             ],
             [
              0.2222222222222222,
              "#7201a8"
             ],
             [
              0.3333333333333333,
              "#9c179e"
             ],
             [
              0.4444444444444444,
              "#bd3786"
             ],
             [
              0.5555555555555556,
              "#d8576b"
             ],
             [
              0.6666666666666666,
              "#ed7953"
             ],
             [
              0.7777777777777778,
              "#fb9f3a"
             ],
             [
              0.8888888888888888,
              "#fdca26"
             ],
             [
              1,
              "#f0f921"
             ]
            ],
            "type": "contour"
           }
          ],
          "contourcarpet": [
           {
            "colorbar": {
             "outlinewidth": 0,
             "ticks": ""
            },
            "type": "contourcarpet"
           }
          ],
          "heatmap": [
           {
            "colorbar": {
             "outlinewidth": 0,
             "ticks": ""
            },
            "colorscale": [
             [
              0,
              "#0d0887"
             ],
             [
              0.1111111111111111,
              "#46039f"
             ],
             [
              0.2222222222222222,
              "#7201a8"
             ],
             [
              0.3333333333333333,
              "#9c179e"
             ],
             [
              0.4444444444444444,
              "#bd3786"
             ],
             [
              0.5555555555555556,
              "#d8576b"
             ],
             [
              0.6666666666666666,
              "#ed7953"
             ],
             [
              0.7777777777777778,
              "#fb9f3a"
             ],
             [
              0.8888888888888888,
              "#fdca26"
             ],
             [
              1,
              "#f0f921"
             ]
            ],
            "type": "heatmap"
           }
          ],
          "heatmapgl": [
           {
            "colorbar": {
             "outlinewidth": 0,
             "ticks": ""
            },
            "colorscale": [
             [
              0,
              "#0d0887"
             ],
             [
              0.1111111111111111,
              "#46039f"
             ],
             [
              0.2222222222222222,
              "#7201a8"
             ],
             [
              0.3333333333333333,
              "#9c179e"
             ],
             [
              0.4444444444444444,
              "#bd3786"
             ],
             [
              0.5555555555555556,
              "#d8576b"
             ],
             [
              0.6666666666666666,
              "#ed7953"
             ],
             [
              0.7777777777777778,
              "#fb9f3a"
             ],
             [
              0.8888888888888888,
              "#fdca26"
             ],
             [
              1,
              "#f0f921"
             ]
            ],
            "type": "heatmapgl"
           }
          ],
          "histogram": [
           {
            "marker": {
             "pattern": {
              "fillmode": "overlay",
              "size": 10,
              "solidity": 0.2
             }
            },
            "type": "histogram"
           }
          ],
          "histogram2d": [
           {
            "colorbar": {
             "outlinewidth": 0,
             "ticks": ""
            },
            "colorscale": [
             [
              0,
              "#0d0887"
             ],
             [
              0.1111111111111111,
              "#46039f"
             ],
             [
              0.2222222222222222,
              "#7201a8"
             ],
             [
              0.3333333333333333,
              "#9c179e"
             ],
             [
              0.4444444444444444,
              "#bd3786"
             ],
             [
              0.5555555555555556,
              "#d8576b"
             ],
             [
              0.6666666666666666,
              "#ed7953"
             ],
             [
              0.7777777777777778,
              "#fb9f3a"
             ],
             [
              0.8888888888888888,
              "#fdca26"
             ],
             [
              1,
              "#f0f921"
             ]
            ],
            "type": "histogram2d"
           }
          ],
          "histogram2dcontour": [
           {
            "colorbar": {
             "outlinewidth": 0,
             "ticks": ""
            },
            "colorscale": [
             [
              0,
              "#0d0887"
             ],
             [
              0.1111111111111111,
              "#46039f"
             ],
             [
              0.2222222222222222,
              "#7201a8"
             ],
             [
              0.3333333333333333,
              "#9c179e"
             ],
             [
              0.4444444444444444,
              "#bd3786"
             ],
             [
              0.5555555555555556,
              "#d8576b"
             ],
             [
              0.6666666666666666,
              "#ed7953"
             ],
             [
              0.7777777777777778,
              "#fb9f3a"
             ],
             [
              0.8888888888888888,
              "#fdca26"
             ],
             [
              1,
              "#f0f921"
             ]
            ],
            "type": "histogram2dcontour"
           }
          ],
          "mesh3d": [
           {
            "colorbar": {
             "outlinewidth": 0,
             "ticks": ""
            },
            "type": "mesh3d"
           }
          ],
          "parcoords": [
           {
            "line": {
             "colorbar": {
              "outlinewidth": 0,
              "ticks": ""
             }
            },
            "type": "parcoords"
           }
          ],
          "pie": [
           {
            "automargin": true,
            "type": "pie"
           }
          ],
          "scatter": [
           {
            "fillpattern": {
             "fillmode": "overlay",
             "size": 10,
             "solidity": 0.2
            },
            "type": "scatter"
           }
          ],
          "scatter3d": [
           {
            "line": {
             "colorbar": {
              "outlinewidth": 0,
              "ticks": ""
             }
            },
            "marker": {
             "colorbar": {
              "outlinewidth": 0,
              "ticks": ""
             }
            },
            "type": "scatter3d"
           }
          ],
          "scattercarpet": [
           {
            "marker": {
             "colorbar": {
              "outlinewidth": 0,
              "ticks": ""
             }
            },
            "type": "scattercarpet"
           }
          ],
          "scattergeo": [
           {
            "marker": {
             "colorbar": {
              "outlinewidth": 0,
              "ticks": ""
             }
            },
            "type": "scattergeo"
           }
          ],
          "scattergl": [
           {
            "marker": {
             "colorbar": {
              "outlinewidth": 0,
              "ticks": ""
             }
            },
            "type": "scattergl"
           }
          ],
          "scattermapbox": [
           {
            "marker": {
             "colorbar": {
              "outlinewidth": 0,
              "ticks": ""
             }
            },
            "type": "scattermapbox"
           }
          ],
          "scatterpolar": [
           {
            "marker": {
             "colorbar": {
              "outlinewidth": 0,
              "ticks": ""
             }
            },
            "type": "scatterpolar"
           }
          ],
          "scatterpolargl": [
           {
            "marker": {
             "colorbar": {
              "outlinewidth": 0,
              "ticks": ""
             }
            },
            "type": "scatterpolargl"
           }
          ],
          "scatterternary": [
           {
            "marker": {
             "colorbar": {
              "outlinewidth": 0,
              "ticks": ""
             }
            },
            "type": "scatterternary"
           }
          ],
          "surface": [
           {
            "colorbar": {
             "outlinewidth": 0,
             "ticks": ""
            },
            "colorscale": [
             [
              0,
              "#0d0887"
             ],
             [
              0.1111111111111111,
              "#46039f"
             ],
             [
              0.2222222222222222,
              "#7201a8"
             ],
             [
              0.3333333333333333,
              "#9c179e"
             ],
             [
              0.4444444444444444,
              "#bd3786"
             ],
             [
              0.5555555555555556,
              "#d8576b"
             ],
             [
              0.6666666666666666,
              "#ed7953"
             ],
             [
              0.7777777777777778,
              "#fb9f3a"
             ],
             [
              0.8888888888888888,
              "#fdca26"
             ],
             [
              1,
              "#f0f921"
             ]
            ],
            "type": "surface"
           }
          ],
          "table": [
           {
            "cells": {
             "fill": {
              "color": "#EBF0F8"
             },
             "line": {
              "color": "white"
             }
            },
            "header": {
             "fill": {
              "color": "#C8D4E3"
             },
             "line": {
              "color": "white"
             }
            },
            "type": "table"
           }
          ]
         },
         "layout": {
          "annotationdefaults": {
           "arrowcolor": "#2a3f5f",
           "arrowhead": 0,
           "arrowwidth": 1
          },
          "autotypenumbers": "strict",
          "coloraxis": {
           "colorbar": {
            "outlinewidth": 0,
            "ticks": ""
           }
          },
          "colorscale": {
           "diverging": [
            [
             0,
             "#8e0152"
            ],
            [
             0.1,
             "#c51b7d"
            ],
            [
             0.2,
             "#de77ae"
            ],
            [
             0.3,
             "#f1b6da"
            ],
            [
             0.4,
             "#fde0ef"
            ],
            [
             0.5,
             "#f7f7f7"
            ],
            [
             0.6,
             "#e6f5d0"
            ],
            [
             0.7,
             "#b8e186"
            ],
            [
             0.8,
             "#7fbc41"
            ],
            [
             0.9,
             "#4d9221"
            ],
            [
             1,
             "#276419"
            ]
           ],
           "sequential": [
            [
             0,
             "#0d0887"
            ],
            [
             0.1111111111111111,
             "#46039f"
            ],
            [
             0.2222222222222222,
             "#7201a8"
            ],
            [
             0.3333333333333333,
             "#9c179e"
            ],
            [
             0.4444444444444444,
             "#bd3786"
            ],
            [
             0.5555555555555556,
             "#d8576b"
            ],
            [
             0.6666666666666666,
             "#ed7953"
            ],
            [
             0.7777777777777778,
             "#fb9f3a"
            ],
            [
             0.8888888888888888,
             "#fdca26"
            ],
            [
             1,
             "#f0f921"
            ]
           ],
           "sequentialminus": [
            [
             0,
             "#0d0887"
            ],
            [
             0.1111111111111111,
             "#46039f"
            ],
            [
             0.2222222222222222,
             "#7201a8"
            ],
            [
             0.3333333333333333,
             "#9c179e"
            ],
            [
             0.4444444444444444,
             "#bd3786"
            ],
            [
             0.5555555555555556,
             "#d8576b"
            ],
            [
             0.6666666666666666,
             "#ed7953"
            ],
            [
             0.7777777777777778,
             "#fb9f3a"
            ],
            [
             0.8888888888888888,
             "#fdca26"
            ],
            [
             1,
             "#f0f921"
            ]
           ]
          },
          "colorway": [
           "#636efa",
           "#EF553B",
           "#00cc96",
           "#ab63fa",
           "#FFA15A",
           "#19d3f3",
           "#FF6692",
           "#B6E880",
           "#FF97FF",
           "#FECB52"
          ],
          "font": {
           "color": "#2a3f5f"
          },
          "geo": {
           "bgcolor": "white",
           "lakecolor": "white",
           "landcolor": "#E5ECF6",
           "showlakes": true,
           "showland": true,
           "subunitcolor": "white"
          },
          "hoverlabel": {
           "align": "left"
          },
          "hovermode": "closest",
          "mapbox": {
           "style": "light"
          },
          "paper_bgcolor": "white",
          "plot_bgcolor": "#E5ECF6",
          "polar": {
           "angularaxis": {
            "gridcolor": "white",
            "linecolor": "white",
            "ticks": ""
           },
           "bgcolor": "#E5ECF6",
           "radialaxis": {
            "gridcolor": "white",
            "linecolor": "white",
            "ticks": ""
           }
          },
          "scene": {
           "xaxis": {
            "backgroundcolor": "#E5ECF6",
            "gridcolor": "white",
            "gridwidth": 2,
            "linecolor": "white",
            "showbackground": true,
            "ticks": "",
            "zerolinecolor": "white"
           },
           "yaxis": {
            "backgroundcolor": "#E5ECF6",
            "gridcolor": "white",
            "gridwidth": 2,
            "linecolor": "white",
            "showbackground": true,
            "ticks": "",
            "zerolinecolor": "white"
           },
           "zaxis": {
            "backgroundcolor": "#E5ECF6",
            "gridcolor": "white",
            "gridwidth": 2,
            "linecolor": "white",
            "showbackground": true,
            "ticks": "",
            "zerolinecolor": "white"
           }
          },
          "shapedefaults": {
           "line": {
            "color": "#2a3f5f"
           }
          },
          "ternary": {
           "aaxis": {
            "gridcolor": "white",
            "linecolor": "white",
            "ticks": ""
           },
           "baxis": {
            "gridcolor": "white",
            "linecolor": "white",
            "ticks": ""
           },
           "bgcolor": "#E5ECF6",
           "caxis": {
            "gridcolor": "white",
            "linecolor": "white",
            "ticks": ""
           }
          },
          "title": {
           "x": 0.05
          },
          "xaxis": {
           "automargin": true,
           "gridcolor": "white",
           "linecolor": "white",
           "ticks": "",
           "title": {
            "standoff": 15
           },
           "zerolinecolor": "white",
           "zerolinewidth": 2
          },
          "yaxis": {
           "automargin": true,
           "gridcolor": "white",
           "linecolor": "white",
           "ticks": "",
           "title": {
            "standoff": 15
           },
           "zerolinecolor": "white",
           "zerolinewidth": 2
          }
         }
        },
        "title": {
         "text": "Trade Import by Country"
        }
       }
      },
      "text/html": [
       "<div>                            <div id=\"e99064a1-1fe2-4a0b-b771-42615f8899bb\" class=\"plotly-graph-div\" style=\"height:800px; width:100%;\"></div>            <script type=\"text/javascript\">                require([\"plotly\"], function(Plotly) {                    window.PLOTLYENV=window.PLOTLYENV || {};                                    if (document.getElementById(\"e99064a1-1fe2-4a0b-b771-42615f8899bb\")) {                    Plotly.newPlot(                        \"e99064a1-1fe2-4a0b-b771-42615f8899bb\",                        [{\"autocolorscale\":false,\"colorbar\":{\"tickprefix\":\"$\"},\"colorscale\":[[0.0,\"rgb(103,0,31)\"],[0.1,\"rgb(178,24,43)\"],[0.2,\"rgb(214,96,77)\"],[0.3,\"rgb(244,165,130)\"],[0.4,\"rgb(253,219,199)\"],[0.5,\"rgb(247,247,247)\"],[0.6,\"rgb(209,229,240)\"],[0.7,\"rgb(146,197,222)\"],[0.8,\"rgb(67,147,195)\"],[0.9,\"rgb(33,102,172)\"],[1.0,\"rgb(5,48,97)\"]],\"locations\":[\"AFG\",\"AFG\",\"AFG\",\"AFG\",\"AFG\",\"AFG\",\"ALB\",\"ALB\",\"ALB\",\"ALB\",\"ALB\",\"ALB\",\"ALB\",\"ALB\",\"ALB\",\"AGO\",\"AGO\",\"AGO\",\"AGO\",\"AGO\",\"AGO\",\"AGO\",\"AGO\",\"ARG\",\"ARG\",\"ARG\",\"ARG\",\"ARG\",\"ARG\",\"ARG\",\"ARG\",\"ARG\",\"ARG\",\"ARG\",\"ARM\",\"ARM\",\"ARM\",\"ARM\",\"ARM\",\"ARM\",\"ARM\",\"ARM\",\"ARM\",\"ARM\",\"ARM\",\"AUS\",\"AUS\",\"AUS\",\"AUS\",\"AUS\",\"AUS\",\"AUS\",\"AUS\",\"AUT\",\"AUT\",\"AUT\",\"AUT\",\"AUT\",\"AUT\",\"AUT\",\"AUT\",\"AUT\",\"AZE\",\"AZE\",\"AZE\",\"AZE\",\"AZE\",\"AZE\",\"AZE\",\"AZE\",\"AZE\",\"AZE\",\"BLR\",\"BLR\",\"BLR\",\"BLR\",\"BLR\",\"BLR\",\"BLR\",\"BLR\",\"BLR\",\"BLR\",\"BEL\",\"BEL\",\"BEL\",\"BEL\",\"BEL\",\"BEL\",\"BEL\",\"BEL\",\"BEL\",\"BLZ\",\"BLZ\",\"BLZ\",\"BLZ\",\"BLZ\",\"BLZ\",\"BLZ\",\"BLZ\",\"BEN\",\"BEN\",\"BEN\",\"BEN\",\"BEN\",\"BEN\",\"BEN\",\"BEN\",\"BEN\",\"BWA\",\"BWA\",\"BWA\",\"BWA\",\"BWA\",\"BWA\",\"BWA\",\"BWA\",\"BWA\",\"BWA\",\"BWA\",\"BRA\",\"BRA\",\"BRA\",\"BRA\",\"BRA\",\"BRA\",\"BRA\",\"BRA\",\"BRA\",\"BRA\",\"BRA\",\"BRN\",\"BRN\",\"BRN\",\"BRN\",\"BRN\",\"BRN\",\"BRN\",\"BRN\",\"BGR\",\"BGR\",\"BGR\",\"BGR\",\"BGR\",\"BGR\",\"BGR\",\"BGR\",\"BGR\",\"BGR\",\"BGR\",\"BFA\",\"BFA\",\"BFA\",\"BFA\",\"BFA\",\"BFA\",\"BFA\",\"BFA\",\"BFA\",\"BDI\",\"BDI\",\"BDI\",\"BDI\",\"BDI\",\"BDI\",\"BDI\",\"BDI\",\"BDI\",\"CAN\",\"CAN\",\"CAN\",\"CAN\",\"CAN\",\"CAN\",\"CAN\",\"CAN\",\"CAN\",\"CHL\",\"CHL\",\"CHL\",\"CHL\",\"CHL\",\"CHL\",\"CHL\",\"CHL\",\"CHL\",\"CHL\",\"CHN\",\"CHN\",\"CHN\",\"CHN\",\"CHN\",\"CHN\",\"CHN\",\"CHN\",\"CHN\",\"CHN\",\"COL\",\"COL\",\"COL\",\"COL\",\"COL\",\"COL\",\"COL\",\"COL\",\"COL\",\"COL\",\"CRI\",\"CRI\",\"CRI\",\"CRI\",\"CRI\",\"CRI\",\"CRI\",\"CRI\",\"HRV\",\"HRV\",\"HRV\",\"HRV\",\"HRV\",\"HRV\",\"HRV\",\"HRV\",\"HRV\",\"HRV\",\"HRV\",\"CYP\",\"CYP\",\"CYP\",\"CYP\",\"CYP\",\"CYP\",\"CYP\",\"CYP\",\"CYP\",\"CYP\",\"CIV\",\"CIV\",\"CIV\",\"CIV\",\"CIV\",\"CIV\",\"CIV\",\"CIV\",\"CIV\",\"DNK\",\"DNK\",\"DNK\",\"DNK\",\"DNK\",\"DNK\",\"DNK\",\"DNK\",\"DNK\",\"DNK\",\"DNK\",\"ECU\",\"ECU\",\"ECU\",\"ECU\",\"ECU\",\"ECU\",\"ECU\",\"ECU\",\"ECU\",\"ECU\",\"EGY\",\"EGY\",\"EGY\",\"EGY\",\"EGY\",\"EGY\",\"EGY\",\"EGY\",\"EGY\",\"SLV\",\"SLV\",\"SLV\",\"SLV\",\"SLV\",\"SLV\",\"SLV\",\"SLV\",\"SLV\",\"EST\",\"EST\",\"EST\",\"EST\",\"EST\",\"EST\",\"EST\",\"EST\",\"EST\",\"EST\",\"FJI\",\"FJI\",\"FJI\",\"FJI\",\"FJI\",\"FJI\",\"FJI\",\"FJI\",\"FJI\",\"FIN\",\"FIN\",\"FIN\",\"FIN\",\"FIN\",\"FIN\",\"FIN\",\"FIN\",\"FIN\",\"FIN\",\"FRA\",\"FRA\",\"FRA\",\"FRA\",\"FRA\",\"FRA\",\"FRA\",\"FRA\",\"FRA\",\"FRA\",\"GMB\",\"GMB\",\"GMB\",\"GMB\",\"GMB\",\"GMB\",\"GMB\",\"GMB\",\"GEO\",\"GEO\",\"GEO\",\"GEO\",\"GEO\",\"GEO\",\"GEO\",\"GEO\",\"GEO\",\"GEO\",\"DEU\",\"DEU\",\"DEU\",\"DEU\",\"DEU\",\"DEU\",\"DEU\",\"DEU\",\"DEU\",\"DEU\",\"GHA\",\"GHA\",\"GHA\",\"GHA\",\"GHA\",\"GHA\",\"GHA\",\"GHA\",\"GRC\",\"GRC\",\"GRC\",\"GRC\",\"GRC\",\"GRC\",\"GRC\",\"GRC\",\"GRC\",\"GRC\",\"GRL\",\"GRL\",\"GRL\",\"GRL\",\"GRL\",\"GRL\",\"GRL\",\"GUY\",\"GUY\",\"GUY\",\"GUY\",\"GUY\",\"GUY\",\"GUY\",\"GUY\",\"HUN\",\"HUN\",\"HUN\",\"HUN\",\"HUN\",\"HUN\",\"HUN\",\"HUN\",\"HUN\",\"HUN\",\"ISL\",\"ISL\",\"ISL\",\"ISL\",\"ISL\",\"ISL\",\"ISL\",\"IND\",\"IND\",\"IND\",\"IND\",\"IND\",\"IND\",\"IND\",\"IND\",\"IND\",\"IND\",\"IDN\",\"IDN\",\"IDN\",\"IDN\",\"IDN\",\"IDN\",\"IDN\",\"IDN\",\"IRL\",\"IRL\",\"IRL\",\"IRL\",\"IRL\",\"IRL\",\"IRL\",\"IRL\",\"ISR\",\"ISR\",\"ISR\",\"ISR\",\"ISR\",\"ISR\",\"ISR\",\"ITA\",\"ITA\",\"ITA\",\"ITA\",\"ITA\",\"ITA\",\"ITA\",\"ITA\",\"ITA\",\"ITA\",\"JPN\",\"JPN\",\"JPN\",\"JPN\",\"JPN\",\"JPN\",\"JPN\",\"JPN\",\"JOR\",\"JOR\",\"JOR\",\"JOR\",\"JOR\",\"JOR\",\"JOR\",\"KAZ\",\"KAZ\",\"KAZ\",\"KAZ\",\"KAZ\",\"KAZ\",\"KAZ\",\"KEN\",\"KEN\",\"KEN\",\"KEN\",\"KEN\",\"KEN\",\"KEN\",\"KWT\",\"KWT\",\"KWT\",\"KWT\",\"KWT\",\"KWT\",\"KWT\",\"KWT\",\"KGZ\",\"KGZ\",\"KGZ\",\"KGZ\",\"KGZ\",\"KGZ\",\"KGZ\",\"KGZ\",\"LVA\",\"LVA\",\"LVA\",\"LVA\",\"LVA\",\"LVA\",\"LVA\",\"LVA\",\"LVA\",\"LBN\",\"LBN\",\"LBN\",\"LBN\",\"LBN\",\"LBN\",\"LTU\",\"LTU\",\"LTU\",\"LTU\",\"LTU\",\"LTU\",\"LTU\",\"LTU\",\"LTU\",\"LUX\",\"LUX\",\"LUX\",\"LUX\",\"LUX\",\"LUX\",\"LUX\",\"MDG\",\"MDG\",\"MDG\",\"MDG\",\"MDG\",\"MYS\",\"MYS\",\"MYS\",\"MYS\",\"MYS\",\"MYS\",\"MYS\",\"MEX\",\"MEX\",\"MEX\",\"MEX\",\"MEX\",\"MNG\",\"MNG\",\"MNG\",\"MNG\",\"MNG\",\"MNE\",\"MNE\",\"MNE\",\"MNE\",\"MNE\",\"MNE\",\"MAR\",\"MAR\",\"MAR\",\"MAR\",\"MAR\",\"MOZ\",\"MOZ\",\"MOZ\",\"MOZ\",\"MOZ\",\"MOZ\",\"MMR\",\"MMR\",\"MMR\",\"MMR\",\"MMR\",\"MMR\",\"NAM\",\"NAM\",\"NAM\",\"NAM\",\"NAM\",\"NLD\",\"NLD\",\"NLD\",\"NLD\",\"NLD\",\"NLD\",\"NZL\",\"NZL\",\"NZL\",\"NZL\",\"NZL\",\"NIC\",\"NIC\",\"NIC\",\"NIC\",\"NIC\",\"NGA\",\"NGA\",\"NGA\",\"NGA\",\"NGA\",\"NOR\",\"NOR\",\"NOR\",\"NOR\",\"NOR\",\"OMN\",\"OMN\",\"OMN\",\"PAK\",\"PAK\",\"PAK\",\"PAK\",\"PAK\",\"PAK\",\"PRY\",\"PRY\",\"PRY\",\"PRY\",\"PRY\",\"PER\",\"PER\",\"PER\",\"PER\",\"PER\",\"PER\",\"PHL\",\"PHL\",\"PHL\",\"PHL\",\"POL\",\"POL\",\"POL\",\"POL\",\"PRT\",\"PRT\",\"PRT\",\"PRT\",\"QAT\",\"QAT\",\"ROU\",\"ROU\",\"ROU\",\"ROU\",\"RUS\",\"RUS\",\"RUS\",\"RUS\",\"SAU\",\"SAU\",\"SAU\",\"SAU\",\"SEN\",\"SEN\",\"SEN\",\"SRB\",\"SRB\",\"SRB\",\"SVK\",\"SVK\",\"SVK\",\"SVN\",\"SVN\",\"SVN\",\"ZAF\",\"ZAF\",\"ZAF\",\"ESP\",\"ESP\",\"ESP\",\"SUR\",\"SUR\",\"SUR\",\"SWE\",\"SWE\",\"SWE\",\"CHE\",\"CHE\",\"CHE\",\"THA\",\"THA\",\"THA\",\"TUR\",\"TUR\",\"TUR\",\"UGA\",\"UGA\",\"UGA\",\"UKR\",\"UKR\",\"UKR\",\"ARE\",\"ARE\",\"ARE\",\"GBR\",\"GBR\",\"GBR\",\"USA\",\"USA\",\"USA\",\"USA\",\"URY\",\"URY\",\"URY\",\"UZB\",\"UZB\",\"UZB\",\"ZMB\",\"ZMB\",\"ZMB\",\"ZWE\",\"ZWE\",\"ZWE\"],\"marker\":{\"line\":{\"color\":\"darkgray\",\"width\":0.5}},\"reversescale\":true,\"text\":[\"Afghanistan\",\"Afghanistan\",\"Afghanistan\",\"Afghanistan\",\"Afghanistan\",\"Afghanistan\",\"Albania\",\"Albania\",\"Albania\",\"Albania\",\"Albania\",\"Albania\",\"Albania\",\"Albania\",\"Albania\",\"Angola\",\"Angola\",\"Angola\",\"Angola\",\"Angola\",\"Angola\",\"Angola\",\"Angola\",\"Argentina\",\"Argentina\",\"Argentina\",\"Argentina\",\"Argentina\",\"Argentina\",\"Argentina\",\"Argentina\",\"Argentina\",\"Argentina\",\"Argentina\",\"Armenia\",\"Armenia\",\"Armenia\",\"Armenia\",\"Armenia\",\"Armenia\",\"Armenia\",\"Armenia\",\"Armenia\",\"Armenia\",\"Armenia\",\"Australia\",\"Australia\",\"Australia\",\"Australia\",\"Australia\",\"Australia\",\"Australia\",\"Australia\",\"Austria\",\"Austria\",\"Austria\",\"Austria\",\"Austria\",\"Austria\",\"Austria\",\"Austria\",\"Austria\",\"Azerbaijan\",\"Azerbaijan\",\"Azerbaijan\",\"Azerbaijan\",\"Azerbaijan\",\"Azerbaijan\",\"Azerbaijan\",\"Azerbaijan\",\"Azerbaijan\",\"Azerbaijan\",\"Belarus\",\"Belarus\",\"Belarus\",\"Belarus\",\"Belarus\",\"Belarus\",\"Belarus\",\"Belarus\",\"Belarus\",\"Belarus\",\"Belgium\",\"Belgium\",\"Belgium\",\"Belgium\",\"Belgium\",\"Belgium\",\"Belgium\",\"Belgium\",\"Belgium\",\"Belize\",\"Belize\",\"Belize\",\"Belize\",\"Belize\",\"Belize\",\"Belize\",\"Belize\",\"Benin\",\"Benin\",\"Benin\",\"Benin\",\"Benin\",\"Benin\",\"Benin\",\"Benin\",\"Benin\",\"Botswana\",\"Botswana\",\"Botswana\",\"Botswana\",\"Botswana\",\"Botswana\",\"Botswana\",\"Botswana\",\"Botswana\",\"Botswana\",\"Botswana\",\"Brazil\",\"Brazil\",\"Brazil\",\"Brazil\",\"Brazil\",\"Brazil\",\"Brazil\",\"Brazil\",\"Brazil\",\"Brazil\",\"Brazil\",\"Brunei Darussalam\",\"Brunei Darussalam\",\"Brunei Darussalam\",\"Brunei Darussalam\",\"Brunei Darussalam\",\"Brunei Darussalam\",\"Brunei Darussalam\",\"Brunei Darussalam\",\"Bulgaria\",\"Bulgaria\",\"Bulgaria\",\"Bulgaria\",\"Bulgaria\",\"Bulgaria\",\"Bulgaria\",\"Bulgaria\",\"Bulgaria\",\"Bulgaria\",\"Bulgaria\",\"Burkina Faso\",\"Burkina Faso\",\"Burkina Faso\",\"Burkina Faso\",\"Burkina Faso\",\"Burkina Faso\",\"Burkina Faso\",\"Burkina Faso\",\"Burkina Faso\",\"Burundi\",\"Burundi\",\"Burundi\",\"Burundi\",\"Burundi\",\"Burundi\",\"Burundi\",\"Burundi\",\"Burundi\",\"Canada\",\"Canada\",\"Canada\",\"Canada\",\"Canada\",\"Canada\",\"Canada\",\"Canada\",\"Canada\",\"Chile\",\"Chile\",\"Chile\",\"Chile\",\"Chile\",\"Chile\",\"Chile\",\"Chile\",\"Chile\",\"Chile\",\"China\",\"China\",\"China\",\"China\",\"China\",\"China\",\"China\",\"China\",\"China\",\"China\",\"Colombia\",\"Colombia\",\"Colombia\",\"Colombia\",\"Colombia\",\"Colombia\",\"Colombia\",\"Colombia\",\"Colombia\",\"Colombia\",\"Costa Rica\",\"Costa Rica\",\"Costa Rica\",\"Costa Rica\",\"Costa Rica\",\"Costa Rica\",\"Costa Rica\",\"Costa Rica\",\"Croatia\",\"Croatia\",\"Croatia\",\"Croatia\",\"Croatia\",\"Croatia\",\"Croatia\",\"Croatia\",\"Croatia\",\"Croatia\",\"Croatia\",\"Cyprus\",\"Cyprus\",\"Cyprus\",\"Cyprus\",\"Cyprus\",\"Cyprus\",\"Cyprus\",\"Cyprus\",\"Cyprus\",\"Cyprus\",\"C\\u00f4te d'Ivoire\",\"C\\u00f4te d'Ivoire\",\"C\\u00f4te d'Ivoire\",\"C\\u00f4te d'Ivoire\",\"C\\u00f4te d'Ivoire\",\"C\\u00f4te d'Ivoire\",\"C\\u00f4te d'Ivoire\",\"C\\u00f4te d'Ivoire\",\"C\\u00f4te d'Ivoire\",\"Denmark\",\"Denmark\",\"Denmark\",\"Denmark\",\"Denmark\",\"Denmark\",\"Denmark\",\"Denmark\",\"Denmark\",\"Denmark\",\"Denmark\",\"Ecuador\",\"Ecuador\",\"Ecuador\",\"Ecuador\",\"Ecuador\",\"Ecuador\",\"Ecuador\",\"Ecuador\",\"Ecuador\",\"Ecuador\",\"Egypt\",\"Egypt\",\"Egypt\",\"Egypt\",\"Egypt\",\"Egypt\",\"Egypt\",\"Egypt\",\"Egypt\",\"El Salvador\",\"El Salvador\",\"El Salvador\",\"El Salvador\",\"El Salvador\",\"El Salvador\",\"El Salvador\",\"El Salvador\",\"El Salvador\",\"Estonia\",\"Estonia\",\"Estonia\",\"Estonia\",\"Estonia\",\"Estonia\",\"Estonia\",\"Estonia\",\"Estonia\",\"Estonia\",\"Fiji\",\"Fiji\",\"Fiji\",\"Fiji\",\"Fiji\",\"Fiji\",\"Fiji\",\"Fiji\",\"Fiji\",\"Finland\",\"Finland\",\"Finland\",\"Finland\",\"Finland\",\"Finland\",\"Finland\",\"Finland\",\"Finland\",\"Finland\",\"France\",\"France\",\"France\",\"France\",\"France\",\"France\",\"France\",\"France\",\"France\",\"France\",\"Gambia\",\"Gambia\",\"Gambia\",\"Gambia\",\"Gambia\",\"Gambia\",\"Gambia\",\"Gambia\",\"Georgia\",\"Georgia\",\"Georgia\",\"Georgia\",\"Georgia\",\"Georgia\",\"Georgia\",\"Georgia\",\"Georgia\",\"Georgia\",\"Germany\",\"Germany\",\"Germany\",\"Germany\",\"Germany\",\"Germany\",\"Germany\",\"Germany\",\"Germany\",\"Germany\",\"Ghana\",\"Ghana\",\"Ghana\",\"Ghana\",\"Ghana\",\"Ghana\",\"Ghana\",\"Ghana\",\"Greece\",\"Greece\",\"Greece\",\"Greece\",\"Greece\",\"Greece\",\"Greece\",\"Greece\",\"Greece\",\"Greece\",\"Greenland\",\"Greenland\",\"Greenland\",\"Greenland\",\"Greenland\",\"Greenland\",\"Greenland\",\"Guyana\",\"Guyana\",\"Guyana\",\"Guyana\",\"Guyana\",\"Guyana\",\"Guyana\",\"Guyana\",\"Hungary\",\"Hungary\",\"Hungary\",\"Hungary\",\"Hungary\",\"Hungary\",\"Hungary\",\"Hungary\",\"Hungary\",\"Hungary\",\"Iceland\",\"Iceland\",\"Iceland\",\"Iceland\",\"Iceland\",\"Iceland\",\"Iceland\",\"India\",\"India\",\"India\",\"India\",\"India\",\"India\",\"India\",\"India\",\"India\",\"India\",\"Indonesia\",\"Indonesia\",\"Indonesia\",\"Indonesia\",\"Indonesia\",\"Indonesia\",\"Indonesia\",\"Indonesia\",\"Ireland\",\"Ireland\",\"Ireland\",\"Ireland\",\"Ireland\",\"Ireland\",\"Ireland\",\"Ireland\",\"Israel\",\"Israel\",\"Israel\",\"Israel\",\"Israel\",\"Israel\",\"Israel\",\"Italy\",\"Italy\",\"Italy\",\"Italy\",\"Italy\",\"Italy\",\"Italy\",\"Italy\",\"Italy\",\"Italy\",\"Japan\",\"Japan\",\"Japan\",\"Japan\",\"Japan\",\"Japan\",\"Japan\",\"Japan\",\"Jordan\",\"Jordan\",\"Jordan\",\"Jordan\",\"Jordan\",\"Jordan\",\"Jordan\",\"Kazakhstan\",\"Kazakhstan\",\"Kazakhstan\",\"Kazakhstan\",\"Kazakhstan\",\"Kazakhstan\",\"Kazakhstan\",\"Kenya\",\"Kenya\",\"Kenya\",\"Kenya\",\"Kenya\",\"Kenya\",\"Kenya\",\"Kuwait\",\"Kuwait\",\"Kuwait\",\"Kuwait\",\"Kuwait\",\"Kuwait\",\"Kuwait\",\"Kuwait\",\"Kyrgyzstan\",\"Kyrgyzstan\",\"Kyrgyzstan\",\"Kyrgyzstan\",\"Kyrgyzstan\",\"Kyrgyzstan\",\"Kyrgyzstan\",\"Kyrgyzstan\",\"Latvia\",\"Latvia\",\"Latvia\",\"Latvia\",\"Latvia\",\"Latvia\",\"Latvia\",\"Latvia\",\"Latvia\",\"Lebanon\",\"Lebanon\",\"Lebanon\",\"Lebanon\",\"Lebanon\",\"Lebanon\",\"Lithuania\",\"Lithuania\",\"Lithuania\",\"Lithuania\",\"Lithuania\",\"Lithuania\",\"Lithuania\",\"Lithuania\",\"Lithuania\",\"Luxembourg\",\"Luxembourg\",\"Luxembourg\",\"Luxembourg\",\"Luxembourg\",\"Luxembourg\",\"Luxembourg\",\"Madagascar\",\"Madagascar\",\"Madagascar\",\"Madagascar\",\"Madagascar\",\"Malaysia\",\"Malaysia\",\"Malaysia\",\"Malaysia\",\"Malaysia\",\"Malaysia\",\"Malaysia\",\"Mexico\",\"Mexico\",\"Mexico\",\"Mexico\",\"Mexico\",\"Mongolia\",\"Mongolia\",\"Mongolia\",\"Mongolia\",\"Mongolia\",\"Montenegro\",\"Montenegro\",\"Montenegro\",\"Montenegro\",\"Montenegro\",\"Montenegro\",\"Morocco\",\"Morocco\",\"Morocco\",\"Morocco\",\"Morocco\",\"Mozambique\",\"Mozambique\",\"Mozambique\",\"Mozambique\",\"Mozambique\",\"Mozambique\",\"Myanmar\",\"Myanmar\",\"Myanmar\",\"Myanmar\",\"Myanmar\",\"Myanmar\",\"Namibia\",\"Namibia\",\"Namibia\",\"Namibia\",\"Namibia\",\"Netherlands\",\"Netherlands\",\"Netherlands\",\"Netherlands\",\"Netherlands\",\"Netherlands\",\"New Zealand\",\"New Zealand\",\"New Zealand\",\"New Zealand\",\"New Zealand\",\"Nicaragua\",\"Nicaragua\",\"Nicaragua\",\"Nicaragua\",\"Nicaragua\",\"Nigeria\",\"Nigeria\",\"Nigeria\",\"Nigeria\",\"Nigeria\",\"Norway\",\"Norway\",\"Norway\",\"Norway\",\"Norway\",\"Oman\",\"Oman\",\"Oman\",\"Pakistan\",\"Pakistan\",\"Pakistan\",\"Pakistan\",\"Pakistan\",\"Pakistan\",\"Paraguay\",\"Paraguay\",\"Paraguay\",\"Paraguay\",\"Paraguay\",\"Peru\",\"Peru\",\"Peru\",\"Peru\",\"Peru\",\"Peru\",\"Philippines\",\"Philippines\",\"Philippines\",\"Philippines\",\"Poland\",\"Poland\",\"Poland\",\"Poland\",\"Portugal\",\"Portugal\",\"Portugal\",\"Portugal\",\"Qatar\",\"Qatar\",\"Romania\",\"Romania\",\"Romania\",\"Romania\",\"Russian Federation\",\"Russian Federation\",\"Russian Federation\",\"Russian Federation\",\"Saudi Arabia\",\"Saudi Arabia\",\"Saudi Arabia\",\"Saudi Arabia\",\"Senegal\",\"Senegal\",\"Senegal\",\"Serbia\",\"Serbia\",\"Serbia\",\"Slovakia\",\"Slovakia\",\"Slovakia\",\"Slovenia\",\"Slovenia\",\"Slovenia\",\"South Africa\",\"South Africa\",\"South Africa\",\"Spain\",\"Spain\",\"Spain\",\"Suriname\",\"Suriname\",\"Suriname\",\"Sweden\",\"Sweden\",\"Sweden\",\"Switzerland\",\"Switzerland\",\"Switzerland\",\"Thailand\",\"Thailand\",\"Thailand\",\"Turkey\",\"Turkey\",\"Turkey\",\"Uganda\",\"Uganda\",\"Uganda\",\"Ukraine\",\"Ukraine\",\"Ukraine\",\"United Arab Emirates\",\"United Arab Emirates\",\"United Arab Emirates\",\"United Kingdom\",\"United Kingdom\",\"United Kingdom\",\"United States\",\"United States\",\"United States\",\"United States\",\"Uruguay\",\"Uruguay\",\"Uruguay\",\"Uzbekistan\",\"Uzbekistan\",\"Uzbekistan\",\"Zambia\",\"Zambia\",\"Zambia\",\"Zimbabwe\",\"Zimbabwe\",\"Zimbabwe\"],\"z\":[371807.73000000004,9529603106.32,596877409.64,37787683.89,16508957.709999999,4632031684.21,46541110.15985355,59979596.5987501,8742441353.38436,840734265.6057243,32220391.941656407,327922.121526026,12418990.728184924,63762464.0746494,2084147804.3592176,17073394.96,21057655258.44,1353756196.04,74326684.37,2394003.32,156254804.29,542.39,10044660551.65,152084063.65,384864082.75,170745.43,67007611662.28,21178392537.24,512787794.88,1283943.74,14225048.51,138553099.74,102990.71,41491856362.35,30712377.85,8383543.0,77.66,5032116640.46,1149434953.64,52308173.28,187.55,7123078.62,19158878.11,178135915.14000002,3222495369.21,900277320.7575519,282962349441.1005,46496665882.33256,1604100164.148803,639175348.0735524,1932679178.7827556,7376790.949435908,122538884427.1368,533943027.8499017,1351344845.14204,203989345878.18286,24262274225.433144,1957089374.7300768,1465425353.8898633,893110323.0571121,14575988.99571092,109759176943.05188,37572262.02,5269999.32,11712311356.27,1893434675.56,78771828.59,408793.13,169341544.42,83593180.09,30528.64,7127121581.08,105871100.0,2182400.0,25500.0,40296282400.0,2588832100.0,257021700.0,6386200.0,31146200.0,192879100.0,27138524900.0,696054568.7014024,1359440283.63081,475343443025.1252,54586258700.57112,4779710339.91149,1105179415.753661,3300732803.2755218,13892679376.676102,300225834181.3683,864479.32,1017783949.685,102971237.72,20500073.265,9108010.925,19186885.275,129641.095,599662367.705,16156172.95117435,142370612.909845,3325469069.014506,184160513.0244161,10301.23432487,3763655.08789064,1976511.10976997,15417247.00415898,2655052127.5257235,6327285.789977789,6855.7745909744,11795.912736571598,9033044462.259018,525909645.8678352,15463.1725317784,40990328.21447194,7129857.54714244,86693846.36739574,5702.7091818996,1732025779.5536819,42859335.0,142230489.0,126668.0,211474590626.0,17275354462.0,357524924.0,674308.0,8320253.0,1384548731.0,21713151.0,74835397943.0,9403952.337850679,2253.83753943,4230211469.8275185,302658061.2336814,9102854.30771043,4365081.895511791,37364109.10005146,1556258061.2538245,125376605.832397,155550875.283171,3003.4846595,40184044759.835915,2998677287.624369,183649847.8286415,11322643.1205355,37211516.04733,261232054.7554685,1927866.1646415,22891083152.298172,2346374.132528741,89067281.0976826,4389081251.753064,268569306.7057519,44555.1538874164,10459106.33081029,2483857.8211238068,11708264.91697969,2505516365.4346695,4783456.30352008,155.72373224,838856001.6715641,63501233.53678784,7479.09637408,5056926.1526962,223529.31017232002,4088723.5626283996,465383688.8947751,141680290.201175,393492190.457383,296961.6530406,718763345528.4207,4205911997.507137,895412.597199,26717.386983,1580321.6694204,13314408708.23387,157118523.14,221625.23,78435777160.88968,10878209619.128242,1212686098.07,93380.42,15773666.780000001,434708428.78999996,630818.2899999999,27995429737.914692,4542401350.0,9103328.0,2165540685287.0,91787280333.0,4154553980.0,1007228.0,21234587647.0,6433892024.0,9284676578.0,939506559757.0,221706964.54000002,4525311.28,53486997485.50001,2320633449.2,392395211.75,568462.07,23659567.31,552231788.37,663050.5700000001,17857648812.1,79150410.12,16777013339.160002,197845237.96,130710267.69,64736371.72,135267852.98,133501.25,6946708573.99,188830674.0,651371262.0,35729.0,28422101588.0,884514444.0,331606554.0,4351265.0,156919963.0,254914654.0,952012.0,12316184257.0,64034057.4268321,48141.5754228,11057584568.158691,2563800908.694377,87133347.4378885,134954.60076468,20163699.85032992,163385061.4500103,4083576.67095936,4640863747.561444,48739827.59597532,4155.6425637968,11267065630.075426,92629936.4178652,23861152.23395106,1296753.5405230252,97712122.03896812,26930.4047305592,6330764945.92955,243632382.26969722,734304211.337379,19484.87142082,105311477458.52452,5619701184.276577,1019918448.7112771,436163.70672212,589477520.3513308,1321767756.8957834,3305992.2779959403,37081457265.84486,133880200.72,2992794.51,25251736931.070004,235543264.26,159710958.15,2795.4,4734357.640000001,83839456.12,107434.56,8585669619.27,138917400.4089913,90263213452.03471,283748894.890907,1108118.42147448,116382498.78733802,1336731049.423562,39257907.20522084,1009759.9583007,32044856648.00101,43861560.14,166983088.58,11951059276.240002,56881744.71,86697193.56,21643972.91,119626857.57,248646.94,5743988780.44,30077128.26661305,173288924.133472,746.016202344,21412942186.146824,243351224.13950333,114720129.53510989,1509198.92085053,228307220.49650714,304090.177864112,6820388840.588174,2999136.3332964,26912.723463,3278943507.6889315,146475790.7588277,10305125.303231701,47367.2526687,22238434.0913025,13398.5927136,753221926.1730672,167871001.3663648,1207481312.39789,5335.06690006,86642627923.18152,962627384.4260384,337709173.68412834,1724880.40873281,408633555.4110461,4770307.75121147,27015711260.47835,1644581938.0654562,886838836.663173,762437.83012527,676973854479.1582,10726906048.903795,2463452870.722967,22363034.195333,4512171193.198548,1446706554.92374,234095059713.97144,535710.46,613072490.4,1584208.0999999999,1075.87,1170034.8800000001,2653693.16,1397.32,447616631.01,68039058.3,75773964.0,15.55,10433651383.23,173418364.74,534003.14,81658975.47,637493.72,81809727.35,2834931478.57,2302861715.5083084,1575890396.87079,3581346.631437,1375714543345.8433,17722228950.231747,12196836697.91503,50927937.329868,5222744210.712297,532102891.07524645,360487947767.724,4916998.561788135,32714.9289980919,12209628367.49098,20347839.14447796,42617108.24062289,125987576.90570307,1047.8103778629,3097151720.028684,69297099.273522,499458912.163404,129079.05581199999,67381110120.59547,1860050864.810618,550437779.552314,80978.652312,320138766.525724,9726750.279482,32543429738.58563,829476.64,955607417.71,1492513.49,2915444.12,16629450.91,26471.11,335321625.05,8827931.24598586,4028785269.2891927,1649055124.0457578,69458.5630337346,8760632.057273775,17894.245637367,31855736.913486887,816913467.635039,94538817.0,1562386858.0,241.0,128753147947.0,374372308.0,634627545.0,5441467.0,364727505.0,1431168.0,22157837193.0,13812531.29677575,7714974487.825313,181591579.83338913,37398086.59728735,79441485.28511715,374653.68691995,2119201082.2980182,315549903.6946249,31071417.4605946,1084190.79433788,511208639007.54956,7564828225.809469,669140739.3491437,65888.65034712,738986544.8716741,27085912268.693333,241751464542.03015,410443919.0,106627825.0,191283421371.0,1171465116.0,467431422.0,208618389.0,34813454.0,66794688982.0,96801441.09124614,368978274.087824,110050880434.60953,24147839243.89756,452900738.31031114,1048002516.1945789,55518645.8295943,31976831698.21287,390906000.0,81215975000.0,1728657000.0,507485000.0,366268000.0,3162953000.0,20240638000.0,541645305.797233,3094352077.42386,16094.134602560001,515929588651.5442,5109110329.093009,3224268241.513777,5757478.07778696,1499683620.985705,1215294448.292303,160063493828.34476,563211226.89468,1717990.21912,883839948786.5149,5088417786.6284,4937065787.22476,3411560669.66792,1075353686.16774,177745082841.4189,188162846.556443,18738458.864653,20735825027.761818,127139795.71343601,59000177.178767,129412760.979491,8512582970.740645,181250307.29,52985472.86,34149629787.55,640668289.82,255472703.61,262356128.14000002,7770533685.42,73326238.72135195,1090.8472493008999,17510469485.89199,466695123.4047614,50581408.3681866,97372248.46065784,6179685374.164787,158085644.0,5940.0,35931731979.0,740830077.0,291189817.0,409940.0,166431419.0,5288855981.0,16865501.0,41.0,5316940142.0,92780807.0,304469874.0,98222.0,54029888.0,1756873693.0,49555335.03994265,310741249.334447,3108.02376159,19479087379.5327,592587970.2183288,123327339.90020008,259603.0768782,612277135.7410514,4262814074.1307673,192089776.08622414,20110132076.623474,452228705.34445596,105966184.80606538,136013490.59511307,8060904372.416943,84640489.0,714366771.0,2014.0,38633574006.57,156335343.0,221495439.0,4340696.0,490593317.0,10169179762.0,11988619.168212,24968.092245676402,24450497859.323273,371536693.52360046,3593258.93340397,357905459.35365385,4559827473.025362,11288961.405626848,4106074796.473855,9271780.060504502,31012689.867751397,1047992133.04033,351371550.32370204,558142.75931216,218843989767.95132,3782340518.5099354,530434.87915264,726265613.1855496,18194668814.67012,19942143.0,518844860911.0,282327680.0,296604512.0,7341965681.0,3419347.13,5879103958.83,63031198.010000005,44723161.05,612743647.75,4369311.190688549,1549.1626997204999,3042511899.9312468,47874865.81818865,66050266.5042156,373218457.23062706,73113707.86822271,52126896713.34289,822262195.6069914,104280654.2295548,6729707969.131738,2583557.66,155.34,7349636008.46,55262884.79,28284062.52,338811997.89,9569335.36,1073658.8,19432535714.93909,583373073.84,105837059.97,2558830091.94,3439753.973375892,9200722216.648806,54867213.58436183,142447392.22278962,1052476136.7787455,442330800.5456989,1470628.71059979,501451499826.7881,5680610918.209937,4221594710.9102716,47554552291.08606,100829021.01057866,44494185979.16942,1085827054.572597,437325373.520623,4931759955.792024,997630.86,7372864403.139999,4843307.02,71629125.85,1437439694.84,709553.62142896,48479998504.48325,41817713.90585976,236733302.14815927,2262543298.8397827,103903734.78806812,89324000929.69553,2296967431.062694,864190577.2785233,8428827403.148643,26065294569.597878,122793531.21126,2328651652.57998,22531307.731,399.5527,60477016400.87213,1007447314.849705,9020199.87998,2537556386.295165,9618815.0,13403842003.0,36821755.0,262166545.0,1306005848.0,9818098.66,43569553622.202,361097721.12,2025373.55,207203341.21,3994006541.152,37223424.93,115438919170.61,2391962546.95,11433988327.72,288273868.0,271767823190.0,4728651175.0,17263649270.0,94066914.3201892,95799410842.84117,1101148379.0465596,6788000461.799205,35435925329.70619,2845594916.1597595,98918941.28,98291655743.42001,505491195.16999996,6918842765.22,213593582.41,242913661798.12,8573913400.07,11988174882.71,371503657.1046179,149280778777.1612,806186474.9066302,13205042221.830067,8201594905.718742,2736158.3302163,1191973313.7087293,28933819574.0,119586340.0,2019337996.0,93094709412.40208,384769037.3686072,3788826080.9252152,36335060303.16,224225501.94,2322673133.62,100124804840.59587,933266305.2936839,5283522548.935812,376484946711.45166,2839730588.692999,28717262411.942364,2171897724.9134574,2082192.0021421397,78740212.92073376,178353799934.5093,2032090909.93066,6809049266.14595,279149905735.57623,5567587785.45966,7254699090.181971,253521972704.94998,1900624655.21,7217356854.51,248936710556.0,4742544561.0,11648928819.0,6824244391.52,10781398.299999999,453790922.01,57742706608.159996,320654069.73,2479958406.73,246642264794.81165,3584258481.411093,10326008874.757318,688761232010.386,8885560551.53445,26589602656.693916,146718.8541755,2734801881692.444,20005460824.14731,70225683581.76888,8895132728.33,62465484.01,491897734.72,17529529750.57,154688060.0,1145974454.0,9553847527.72,11602916.0,1457304363.0,6331634066.22001,27100281.5,445108873.83],\"type\":\"choropleth\"}],                        {\"geo\":{\"projection\":{\"type\":\"equirectangular\"},\"showcoastlines\":false,\"showframe\":false},\"height\":800,\"margin\":{\"b\":0,\"l\":0,\"r\":0,\"t\":100},\"template\":{\"data\":{\"barpolar\":[{\"marker\":{\"line\":{\"color\":\"#E5ECF6\",\"width\":0.5},\"pattern\":{\"fillmode\":\"overlay\",\"size\":10,\"solidity\":0.2}},\"type\":\"barpolar\"}],\"bar\":[{\"error_x\":{\"color\":\"#2a3f5f\"},\"error_y\":{\"color\":\"#2a3f5f\"},\"marker\":{\"line\":{\"color\":\"#E5ECF6\",\"width\":0.5},\"pattern\":{\"fillmode\":\"overlay\",\"size\":10,\"solidity\":0.2}},\"type\":\"bar\"}],\"carpet\":[{\"aaxis\":{\"endlinecolor\":\"#2a3f5f\",\"gridcolor\":\"white\",\"linecolor\":\"white\",\"minorgridcolor\":\"white\",\"startlinecolor\":\"#2a3f5f\"},\"baxis\":{\"endlinecolor\":\"#2a3f5f\",\"gridcolor\":\"white\",\"linecolor\":\"white\",\"minorgridcolor\":\"white\",\"startlinecolor\":\"#2a3f5f\"},\"type\":\"carpet\"}],\"choropleth\":[{\"colorbar\":{\"outlinewidth\":0,\"ticks\":\"\"},\"type\":\"choropleth\"}],\"contourcarpet\":[{\"colorbar\":{\"outlinewidth\":0,\"ticks\":\"\"},\"type\":\"contourcarpet\"}],\"contour\":[{\"colorbar\":{\"outlinewidth\":0,\"ticks\":\"\"},\"colorscale\":[[0.0,\"#0d0887\"],[0.1111111111111111,\"#46039f\"],[0.2222222222222222,\"#7201a8\"],[0.3333333333333333,\"#9c179e\"],[0.4444444444444444,\"#bd3786\"],[0.5555555555555556,\"#d8576b\"],[0.6666666666666666,\"#ed7953\"],[0.7777777777777778,\"#fb9f3a\"],[0.8888888888888888,\"#fdca26\"],[1.0,\"#f0f921\"]],\"type\":\"contour\"}],\"heatmapgl\":[{\"colorbar\":{\"outlinewidth\":0,\"ticks\":\"\"},\"colorscale\":[[0.0,\"#0d0887\"],[0.1111111111111111,\"#46039f\"],[0.2222222222222222,\"#7201a8\"],[0.3333333333333333,\"#9c179e\"],[0.4444444444444444,\"#bd3786\"],[0.5555555555555556,\"#d8576b\"],[0.6666666666666666,\"#ed7953\"],[0.7777777777777778,\"#fb9f3a\"],[0.8888888888888888,\"#fdca26\"],[1.0,\"#f0f921\"]],\"type\":\"heatmapgl\"}],\"heatmap\":[{\"colorbar\":{\"outlinewidth\":0,\"ticks\":\"\"},\"colorscale\":[[0.0,\"#0d0887\"],[0.1111111111111111,\"#46039f\"],[0.2222222222222222,\"#7201a8\"],[0.3333333333333333,\"#9c179e\"],[0.4444444444444444,\"#bd3786\"],[0.5555555555555556,\"#d8576b\"],[0.6666666666666666,\"#ed7953\"],[0.7777777777777778,\"#fb9f3a\"],[0.8888888888888888,\"#fdca26\"],[1.0,\"#f0f921\"]],\"type\":\"heatmap\"}],\"histogram2dcontour\":[{\"colorbar\":{\"outlinewidth\":0,\"ticks\":\"\"},\"colorscale\":[[0.0,\"#0d0887\"],[0.1111111111111111,\"#46039f\"],[0.2222222222222222,\"#7201a8\"],[0.3333333333333333,\"#9c179e\"],[0.4444444444444444,\"#bd3786\"],[0.5555555555555556,\"#d8576b\"],[0.6666666666666666,\"#ed7953\"],[0.7777777777777778,\"#fb9f3a\"],[0.8888888888888888,\"#fdca26\"],[1.0,\"#f0f921\"]],\"type\":\"histogram2dcontour\"}],\"histogram2d\":[{\"colorbar\":{\"outlinewidth\":0,\"ticks\":\"\"},\"colorscale\":[[0.0,\"#0d0887\"],[0.1111111111111111,\"#46039f\"],[0.2222222222222222,\"#7201a8\"],[0.3333333333333333,\"#9c179e\"],[0.4444444444444444,\"#bd3786\"],[0.5555555555555556,\"#d8576b\"],[0.6666666666666666,\"#ed7953\"],[0.7777777777777778,\"#fb9f3a\"],[0.8888888888888888,\"#fdca26\"],[1.0,\"#f0f921\"]],\"type\":\"histogram2d\"}],\"histogram\":[{\"marker\":{\"pattern\":{\"fillmode\":\"overlay\",\"size\":10,\"solidity\":0.2}},\"type\":\"histogram\"}],\"mesh3d\":[{\"colorbar\":{\"outlinewidth\":0,\"ticks\":\"\"},\"type\":\"mesh3d\"}],\"parcoords\":[{\"line\":{\"colorbar\":{\"outlinewidth\":0,\"ticks\":\"\"}},\"type\":\"parcoords\"}],\"pie\":[{\"automargin\":true,\"type\":\"pie\"}],\"scatter3d\":[{\"line\":{\"colorbar\":{\"outlinewidth\":0,\"ticks\":\"\"}},\"marker\":{\"colorbar\":{\"outlinewidth\":0,\"ticks\":\"\"}},\"type\":\"scatter3d\"}],\"scattercarpet\":[{\"marker\":{\"colorbar\":{\"outlinewidth\":0,\"ticks\":\"\"}},\"type\":\"scattercarpet\"}],\"scattergeo\":[{\"marker\":{\"colorbar\":{\"outlinewidth\":0,\"ticks\":\"\"}},\"type\":\"scattergeo\"}],\"scattergl\":[{\"marker\":{\"colorbar\":{\"outlinewidth\":0,\"ticks\":\"\"}},\"type\":\"scattergl\"}],\"scattermapbox\":[{\"marker\":{\"colorbar\":{\"outlinewidth\":0,\"ticks\":\"\"}},\"type\":\"scattermapbox\"}],\"scatterpolargl\":[{\"marker\":{\"colorbar\":{\"outlinewidth\":0,\"ticks\":\"\"}},\"type\":\"scatterpolargl\"}],\"scatterpolar\":[{\"marker\":{\"colorbar\":{\"outlinewidth\":0,\"ticks\":\"\"}},\"type\":\"scatterpolar\"}],\"scatter\":[{\"fillpattern\":{\"fillmode\":\"overlay\",\"size\":10,\"solidity\":0.2},\"type\":\"scatter\"}],\"scatterternary\":[{\"marker\":{\"colorbar\":{\"outlinewidth\":0,\"ticks\":\"\"}},\"type\":\"scatterternary\"}],\"surface\":[{\"colorbar\":{\"outlinewidth\":0,\"ticks\":\"\"},\"colorscale\":[[0.0,\"#0d0887\"],[0.1111111111111111,\"#46039f\"],[0.2222222222222222,\"#7201a8\"],[0.3333333333333333,\"#9c179e\"],[0.4444444444444444,\"#bd3786\"],[0.5555555555555556,\"#d8576b\"],[0.6666666666666666,\"#ed7953\"],[0.7777777777777778,\"#fb9f3a\"],[0.8888888888888888,\"#fdca26\"],[1.0,\"#f0f921\"]],\"type\":\"surface\"}],\"table\":[{\"cells\":{\"fill\":{\"color\":\"#EBF0F8\"},\"line\":{\"color\":\"white\"}},\"header\":{\"fill\":{\"color\":\"#C8D4E3\"},\"line\":{\"color\":\"white\"}},\"type\":\"table\"}]},\"layout\":{\"annotationdefaults\":{\"arrowcolor\":\"#2a3f5f\",\"arrowhead\":0,\"arrowwidth\":1},\"autotypenumbers\":\"strict\",\"coloraxis\":{\"colorbar\":{\"outlinewidth\":0,\"ticks\":\"\"}},\"colorscale\":{\"diverging\":[[0,\"#8e0152\"],[0.1,\"#c51b7d\"],[0.2,\"#de77ae\"],[0.3,\"#f1b6da\"],[0.4,\"#fde0ef\"],[0.5,\"#f7f7f7\"],[0.6,\"#e6f5d0\"],[0.7,\"#b8e186\"],[0.8,\"#7fbc41\"],[0.9,\"#4d9221\"],[1,\"#276419\"]],\"sequential\":[[0.0,\"#0d0887\"],[0.1111111111111111,\"#46039f\"],[0.2222222222222222,\"#7201a8\"],[0.3333333333333333,\"#9c179e\"],[0.4444444444444444,\"#bd3786\"],[0.5555555555555556,\"#d8576b\"],[0.6666666666666666,\"#ed7953\"],[0.7777777777777778,\"#fb9f3a\"],[0.8888888888888888,\"#fdca26\"],[1.0,\"#f0f921\"]],\"sequentialminus\":[[0.0,\"#0d0887\"],[0.1111111111111111,\"#46039f\"],[0.2222222222222222,\"#7201a8\"],[0.3333333333333333,\"#9c179e\"],[0.4444444444444444,\"#bd3786\"],[0.5555555555555556,\"#d8576b\"],[0.6666666666666666,\"#ed7953\"],[0.7777777777777778,\"#fb9f3a\"],[0.8888888888888888,\"#fdca26\"],[1.0,\"#f0f921\"]]},\"colorway\":[\"#636efa\",\"#EF553B\",\"#00cc96\",\"#ab63fa\",\"#FFA15A\",\"#19d3f3\",\"#FF6692\",\"#B6E880\",\"#FF97FF\",\"#FECB52\"],\"font\":{\"color\":\"#2a3f5f\"},\"geo\":{\"bgcolor\":\"white\",\"lakecolor\":\"white\",\"landcolor\":\"#E5ECF6\",\"showlakes\":true,\"showland\":true,\"subunitcolor\":\"white\"},\"hoverlabel\":{\"align\":\"left\"},\"hovermode\":\"closest\",\"mapbox\":{\"style\":\"light\"},\"paper_bgcolor\":\"white\",\"plot_bgcolor\":\"#E5ECF6\",\"polar\":{\"angularaxis\":{\"gridcolor\":\"white\",\"linecolor\":\"white\",\"ticks\":\"\"},\"bgcolor\":\"#E5ECF6\",\"radialaxis\":{\"gridcolor\":\"white\",\"linecolor\":\"white\",\"ticks\":\"\"}},\"scene\":{\"xaxis\":{\"backgroundcolor\":\"#E5ECF6\",\"gridcolor\":\"white\",\"gridwidth\":2,\"linecolor\":\"white\",\"showbackground\":true,\"ticks\":\"\",\"zerolinecolor\":\"white\"},\"yaxis\":{\"backgroundcolor\":\"#E5ECF6\",\"gridcolor\":\"white\",\"gridwidth\":2,\"linecolor\":\"white\",\"showbackground\":true,\"ticks\":\"\",\"zerolinecolor\":\"white\"},\"zaxis\":{\"backgroundcolor\":\"#E5ECF6\",\"gridcolor\":\"white\",\"gridwidth\":2,\"linecolor\":\"white\",\"showbackground\":true,\"ticks\":\"\",\"zerolinecolor\":\"white\"}},\"shapedefaults\":{\"line\":{\"color\":\"#2a3f5f\"}},\"ternary\":{\"aaxis\":{\"gridcolor\":\"white\",\"linecolor\":\"white\",\"ticks\":\"\"},\"baxis\":{\"gridcolor\":\"white\",\"linecolor\":\"white\",\"ticks\":\"\"},\"bgcolor\":\"#E5ECF6\",\"caxis\":{\"gridcolor\":\"white\",\"linecolor\":\"white\",\"ticks\":\"\"}},\"title\":{\"x\":0.05},\"xaxis\":{\"automargin\":true,\"gridcolor\":\"white\",\"linecolor\":\"white\",\"ticks\":\"\",\"title\":{\"standoff\":15},\"zerolinecolor\":\"white\",\"zerolinewidth\":2},\"yaxis\":{\"automargin\":true,\"gridcolor\":\"white\",\"linecolor\":\"white\",\"ticks\":\"\",\"title\":{\"standoff\":15},\"zerolinecolor\":\"white\",\"zerolinewidth\":2}}},\"title\":{\"text\":\"Trade Import by Country\"}},                        {\"responsive\": true}                    ).then(function(){\n",
       "                            \n",
       "var gd = document.getElementById('e99064a1-1fe2-4a0b-b771-42615f8899bb');\n",
       "var x = new MutationObserver(function (mutations, observer) {{\n",
       "        var display = window.getComputedStyle(gd).display;\n",
       "        if (!display || display === 'none') {{\n",
       "            console.log([gd, 'removed!']);\n",
       "            Plotly.purge(gd);\n",
       "            observer.disconnect();\n",
       "        }}\n",
       "}});\n",
       "\n",
       "// Listen for the removal of the full notebook cells\n",
       "var notebookContainer = gd.closest('#notebook-container');\n",
       "if (notebookContainer) {{\n",
       "    x.observe(notebookContainer, {childList: true});\n",
       "}}\n",
       "\n",
       "// Listen for the clearing of the current output cell\n",
       "var outputEl = gd.closest('.output');\n",
       "if (outputEl) {{\n",
       "    x.observe(outputEl, {childList: true});\n",
       "}}\n",
       "\n",
       "                        })                };                });            </script>        </div>"
      ]
     },
     "metadata": {},
     "output_type": "display_data"
    }
   ],
   "source": [
    "import plotly.graph_objects as go\n",
    "import plotly.offline as py\n",
    "from IPython.display import clear_output\n",
    "import pandas as pd\n",
    "from ipywidgets import interactive, HBox, VBox, widgets, interact\n",
    "py.init_notebook_mode()\n",
    "\n",
    "fig = go.Figure(data=go.Choropleth(\n",
    "    locations = df_agg[df_agg['FLOW']=='Import']['CODE'],\n",
    "    z = df_agg[df_agg['FLOW']=='Import']['TRADEUSD'],\n",
    "    text = df_agg[df_agg['FLOW']=='Import']['COUNTRY_AREA'],\n",
    "    colorscale = 'RdBu',\n",
    "    autocolorscale=False,\n",
    "    reversescale=True,\n",
    "    marker_line_color='darkgray',\n",
    "    marker_line_width=0.5,\n",
    "    colorbar_tickprefix = '$'))\n",
    "\n",
    "fig.update_layout(\n",
    "    height=800,\n",
    "    title=\"Trade Import by Country\",\n",
    "    margin={\"r\":0,\"t\":100,\"l\":0,\"b\":0},\n",
    "    geo=dict(\n",
    "        showframe=False,\n",
    "        showcoastlines=False,\n",
    "        projection_type='equirectangular',\n",
    "        \n",
    "    )\n",
    ")\n",
    "clear_output()\n",
    "py.iplot(fig)\n"
   ]
  },
  {
   "cell_type": "code",
   "execution_count": 14,
   "metadata": {},
   "outputs": [
    {
     "data": {
      "application/vnd.plotly.v1+json": {
       "config": {
        "linkText": "Export to plot.ly",
        "plotlyServerURL": "https://plot.ly",
        "showLink": false
       },
       "data": [
        {
         "autocolorscale": false,
         "colorbar": {
          "tickprefix": "$"
         },
         "colorscale": [
          [
           0,
           "rgb(103,0,31)"
          ],
          [
           0.1,
           "rgb(178,24,43)"
          ],
          [
           0.2,
           "rgb(214,96,77)"
          ],
          [
           0.3,
           "rgb(244,165,130)"
          ],
          [
           0.4,
           "rgb(253,219,199)"
          ],
          [
           0.5,
           "rgb(247,247,247)"
          ],
          [
           0.6,
           "rgb(209,229,240)"
          ],
          [
           0.7,
           "rgb(146,197,222)"
          ],
          [
           0.8,
           "rgb(67,147,195)"
          ],
          [
           0.9,
           "rgb(33,102,172)"
          ],
          [
           1,
           "rgb(5,48,97)"
          ]
         ],
         "locations": [
          "AFG",
          "ALB",
          "AGO",
          "ARG",
          "ARM",
          "AUS",
          "AUT",
          "AZE",
          "BLR",
          "BEL",
          "BLZ",
          "BEN",
          "BWA",
          "BRA",
          "BRN",
          "BGR",
          "BFA",
          "BDI",
          "CAN",
          "CHL",
          "CHN",
          "COL",
          "CRI",
          "HRV",
          "CYP",
          "CIV",
          "DNK",
          "ECU",
          "EGY",
          "SLV",
          "EST",
          "FJI",
          "FIN",
          "FRA",
          "GMB",
          "GEO",
          "DEU",
          "GHA",
          "GRC",
          "GRL",
          "GUY",
          "HUN",
          "ISL",
          "IND",
          "IDN",
          "IRL",
          "ISR",
          "ITA",
          "JPN",
          "JOR",
          "KAZ",
          "KEN",
          "KWT",
          "KGZ",
          "LVA",
          "LBN",
          "LTU",
          "LUX",
          "MDG",
          "MYS",
          "MEX",
          "MNG",
          "MNE",
          "MAR",
          "MOZ",
          "MMR",
          "NAM",
          "NLD",
          "NZL",
          "NIC",
          "NGA",
          "NOR",
          "OMN",
          "PAK",
          "PRY",
          "PER",
          "PHL",
          "POL",
          "PRT",
          "QAT",
          "ROU",
          "RUS",
          "SAU",
          "SEN",
          "SRB",
          "SVK",
          "SVN",
          "ZAF",
          "ESP",
          "SUR",
          "SWE",
          "CHE",
          "THA",
          "TUR",
          "UGA",
          "UKR",
          "ARE",
          "GBR",
          "USA",
          "URY",
          "UZB",
          "ZMB",
          "ZWE"
         ],
         "marker": {
          "line": {
           "color": "darkgray",
           "width": 0.5
          }
         },
         "reversescale": true,
         "text": [
          "Afghanistan",
          "Albania",
          "Angola",
          "Argentina",
          "Armenia",
          "Australia",
          "Austria",
          "Azerbaijan",
          "Belarus",
          "Belgium",
          "Belize",
          "Benin",
          "Botswana",
          "Brazil",
          "Brunei Darussalam",
          "Bulgaria",
          "Burkina Faso",
          "Burundi",
          "Canada",
          "Chile",
          "China",
          "Colombia",
          "Costa Rica",
          "Croatia",
          "Cyprus",
          "Côte d'Ivoire",
          "Denmark",
          "Ecuador",
          "Egypt",
          "El Salvador",
          "Estonia",
          "Fiji",
          "Finland",
          "France",
          "Gambia",
          "Georgia",
          "Germany",
          "Ghana",
          "Greece",
          "Greenland",
          "Guyana",
          "Hungary",
          "Iceland",
          "India",
          "Indonesia",
          "Ireland",
          "Israel",
          "Italy",
          "Japan",
          "Jordan",
          "Kazakhstan",
          "Kenya",
          "Kuwait",
          "Kyrgyzstan",
          "Latvia",
          "Lebanon",
          "Lithuania",
          "Luxembourg",
          "Madagascar",
          "Malaysia",
          "Mexico",
          "Mongolia",
          "Montenegro",
          "Morocco",
          "Mozambique",
          "Myanmar",
          "Namibia",
          "Netherlands",
          "New Zealand",
          "Nicaragua",
          "Nigeria",
          "Norway",
          "Oman",
          "Pakistan",
          "Paraguay",
          "Peru",
          "Philippines",
          "Poland",
          "Portugal",
          "Qatar",
          "Romania",
          "Russian Federation",
          "Saudi Arabia",
          "Senegal",
          "Serbia",
          "Slovakia",
          "Slovenia",
          "South Africa",
          "Spain",
          "Suriname",
          "Sweden",
          "Switzerland",
          "Thailand",
          "Turkey",
          "Uganda",
          "Ukraine",
          "United Arab Emirates",
          "United Kingdom",
          "United States",
          "Uruguay",
          "Uzbekistan",
          "Zambia",
          "Zimbabwe"
         ],
         "type": "choropleth",
         "z": [
          19291,
          15279,
          88815,
          445445,
          13672,
          1396567,
          445075,
          48047,
          63080,
          533097,
          1879,
          14390,
          18340,
          1839758,
          13469,
          68558,
          15990,
          3012,
          1736425,
          282318,
          14342903,
          323615,
          61801,
          60752,
          24948,
          58539,
          350104,
          107435,
          303092,
          27022,
          31471,
          5496,
          269296,
          2715518,
          1826,
          17477,
          3861123,
          66983,
          209852,
          3051,
          5173,
          163469,
          24188,
          2868929,
          1119190,
          388698,
          394652,
          2003576,
          5081769,
          44502,
          181665,
          95503,
          134628,
          8454,
          34102,
          51991,
          54627,
          71104,
          14114,
          364681,
          1268870,
          13996,
          5542,
          119700,
          15291,
          76085,
          12366,
          907050,
          206928,
          12520,
          448120,
          403336,
          76331,
          278221,
          38145,
          226848,
          376795,
          595858,
          238785,
          175837,
          250077,
          1699876,
          792966,
          23578,
          51475,
          105079,
          54174,
          351431,
          1393490,
          3697,
          530883,
          703082,
          543548,
          761425,
          35165,
          153781,
          421142,
          2829108,
          21433226,
          56045,
          57921,
          23309,
          21440
         ]
        }
       ],
       "layout": {
        "geo": {
         "projection": {
          "type": "equirectangular"
         },
         "showcoastlines": false,
         "showframe": false
        },
        "height": 800,
        "margin": {
         "b": 0,
         "l": 0,
         "r": 0,
         "t": 100
        },
        "template": {
         "data": {
          "bar": [
           {
            "error_x": {
             "color": "#2a3f5f"
            },
            "error_y": {
             "color": "#2a3f5f"
            },
            "marker": {
             "line": {
              "color": "#E5ECF6",
              "width": 0.5
             },
             "pattern": {
              "fillmode": "overlay",
              "size": 10,
              "solidity": 0.2
             }
            },
            "type": "bar"
           }
          ],
          "barpolar": [
           {
            "marker": {
             "line": {
              "color": "#E5ECF6",
              "width": 0.5
             },
             "pattern": {
              "fillmode": "overlay",
              "size": 10,
              "solidity": 0.2
             }
            },
            "type": "barpolar"
           }
          ],
          "carpet": [
           {
            "aaxis": {
             "endlinecolor": "#2a3f5f",
             "gridcolor": "white",
             "linecolor": "white",
             "minorgridcolor": "white",
             "startlinecolor": "#2a3f5f"
            },
            "baxis": {
             "endlinecolor": "#2a3f5f",
             "gridcolor": "white",
             "linecolor": "white",
             "minorgridcolor": "white",
             "startlinecolor": "#2a3f5f"
            },
            "type": "carpet"
           }
          ],
          "choropleth": [
           {
            "colorbar": {
             "outlinewidth": 0,
             "ticks": ""
            },
            "type": "choropleth"
           }
          ],
          "contour": [
           {
            "colorbar": {
             "outlinewidth": 0,
             "ticks": ""
            },
            "colorscale": [
             [
              0,
              "#0d0887"
             ],
             [
              0.1111111111111111,
              "#46039f"
             ],
             [
              0.2222222222222222,
              "#7201a8"
             ],
             [
              0.3333333333333333,
              "#9c179e"
             ],
             [
              0.4444444444444444,
              "#bd3786"
             ],
             [
              0.5555555555555556,
              "#d8576b"
             ],
             [
              0.6666666666666666,
              "#ed7953"
             ],
             [
              0.7777777777777778,
              "#fb9f3a"
             ],
             [
              0.8888888888888888,
              "#fdca26"
             ],
             [
              1,
              "#f0f921"
             ]
            ],
            "type": "contour"
           }
          ],
          "contourcarpet": [
           {
            "colorbar": {
             "outlinewidth": 0,
             "ticks": ""
            },
            "type": "contourcarpet"
           }
          ],
          "heatmap": [
           {
            "colorbar": {
             "outlinewidth": 0,
             "ticks": ""
            },
            "colorscale": [
             [
              0,
              "#0d0887"
             ],
             [
              0.1111111111111111,
              "#46039f"
             ],
             [
              0.2222222222222222,
              "#7201a8"
             ],
             [
              0.3333333333333333,
              "#9c179e"
             ],
             [
              0.4444444444444444,
              "#bd3786"
             ],
             [
              0.5555555555555556,
              "#d8576b"
             ],
             [
              0.6666666666666666,
              "#ed7953"
             ],
             [
              0.7777777777777778,
              "#fb9f3a"
             ],
             [
              0.8888888888888888,
              "#fdca26"
             ],
             [
              1,
              "#f0f921"
             ]
            ],
            "type": "heatmap"
           }
          ],
          "heatmapgl": [
           {
            "colorbar": {
             "outlinewidth": 0,
             "ticks": ""
            },
            "colorscale": [
             [
              0,
              "#0d0887"
             ],
             [
              0.1111111111111111,
              "#46039f"
             ],
             [
              0.2222222222222222,
              "#7201a8"
             ],
             [
              0.3333333333333333,
              "#9c179e"
             ],
             [
              0.4444444444444444,
              "#bd3786"
             ],
             [
              0.5555555555555556,
              "#d8576b"
             ],
             [
              0.6666666666666666,
              "#ed7953"
             ],
             [
              0.7777777777777778,
              "#fb9f3a"
             ],
             [
              0.8888888888888888,
              "#fdca26"
             ],
             [
              1,
              "#f0f921"
             ]
            ],
            "type": "heatmapgl"
           }
          ],
          "histogram": [
           {
            "marker": {
             "pattern": {
              "fillmode": "overlay",
              "size": 10,
              "solidity": 0.2
             }
            },
            "type": "histogram"
           }
          ],
          "histogram2d": [
           {
            "colorbar": {
             "outlinewidth": 0,
             "ticks": ""
            },
            "colorscale": [
             [
              0,
              "#0d0887"
             ],
             [
              0.1111111111111111,
              "#46039f"
             ],
             [
              0.2222222222222222,
              "#7201a8"
             ],
             [
              0.3333333333333333,
              "#9c179e"
             ],
             [
              0.4444444444444444,
              "#bd3786"
             ],
             [
              0.5555555555555556,
              "#d8576b"
             ],
             [
              0.6666666666666666,
              "#ed7953"
             ],
             [
              0.7777777777777778,
              "#fb9f3a"
             ],
             [
              0.8888888888888888,
              "#fdca26"
             ],
             [
              1,
              "#f0f921"
             ]
            ],
            "type": "histogram2d"
           }
          ],
          "histogram2dcontour": [
           {
            "colorbar": {
             "outlinewidth": 0,
             "ticks": ""
            },
            "colorscale": [
             [
              0,
              "#0d0887"
             ],
             [
              0.1111111111111111,
              "#46039f"
             ],
             [
              0.2222222222222222,
              "#7201a8"
             ],
             [
              0.3333333333333333,
              "#9c179e"
             ],
             [
              0.4444444444444444,
              "#bd3786"
             ],
             [
              0.5555555555555556,
              "#d8576b"
             ],
             [
              0.6666666666666666,
              "#ed7953"
             ],
             [
              0.7777777777777778,
              "#fb9f3a"
             ],
             [
              0.8888888888888888,
              "#fdca26"
             ],
             [
              1,
              "#f0f921"
             ]
            ],
            "type": "histogram2dcontour"
           }
          ],
          "mesh3d": [
           {
            "colorbar": {
             "outlinewidth": 0,
             "ticks": ""
            },
            "type": "mesh3d"
           }
          ],
          "parcoords": [
           {
            "line": {
             "colorbar": {
              "outlinewidth": 0,
              "ticks": ""
             }
            },
            "type": "parcoords"
           }
          ],
          "pie": [
           {
            "automargin": true,
            "type": "pie"
           }
          ],
          "scatter": [
           {
            "fillpattern": {
             "fillmode": "overlay",
             "size": 10,
             "solidity": 0.2
            },
            "type": "scatter"
           }
          ],
          "scatter3d": [
           {
            "line": {
             "colorbar": {
              "outlinewidth": 0,
              "ticks": ""
             }
            },
            "marker": {
             "colorbar": {
              "outlinewidth": 0,
              "ticks": ""
             }
            },
            "type": "scatter3d"
           }
          ],
          "scattercarpet": [
           {
            "marker": {
             "colorbar": {
              "outlinewidth": 0,
              "ticks": ""
             }
            },
            "type": "scattercarpet"
           }
          ],
          "scattergeo": [
           {
            "marker": {
             "colorbar": {
              "outlinewidth": 0,
              "ticks": ""
             }
            },
            "type": "scattergeo"
           }
          ],
          "scattergl": [
           {
            "marker": {
             "colorbar": {
              "outlinewidth": 0,
              "ticks": ""
             }
            },
            "type": "scattergl"
           }
          ],
          "scattermapbox": [
           {
            "marker": {
             "colorbar": {
              "outlinewidth": 0,
              "ticks": ""
             }
            },
            "type": "scattermapbox"
           }
          ],
          "scatterpolar": [
           {
            "marker": {
             "colorbar": {
              "outlinewidth": 0,
              "ticks": ""
             }
            },
            "type": "scatterpolar"
           }
          ],
          "scatterpolargl": [
           {
            "marker": {
             "colorbar": {
              "outlinewidth": 0,
              "ticks": ""
             }
            },
            "type": "scatterpolargl"
           }
          ],
          "scatterternary": [
           {
            "marker": {
             "colorbar": {
              "outlinewidth": 0,
              "ticks": ""
             }
            },
            "type": "scatterternary"
           }
          ],
          "surface": [
           {
            "colorbar": {
             "outlinewidth": 0,
             "ticks": ""
            },
            "colorscale": [
             [
              0,
              "#0d0887"
             ],
             [
              0.1111111111111111,
              "#46039f"
             ],
             [
              0.2222222222222222,
              "#7201a8"
             ],
             [
              0.3333333333333333,
              "#9c179e"
             ],
             [
              0.4444444444444444,
              "#bd3786"
             ],
             [
              0.5555555555555556,
              "#d8576b"
             ],
             [
              0.6666666666666666,
              "#ed7953"
             ],
             [
              0.7777777777777778,
              "#fb9f3a"
             ],
             [
              0.8888888888888888,
              "#fdca26"
             ],
             [
              1,
              "#f0f921"
             ]
            ],
            "type": "surface"
           }
          ],
          "table": [
           {
            "cells": {
             "fill": {
              "color": "#EBF0F8"
             },
             "line": {
              "color": "white"
             }
            },
            "header": {
             "fill": {
              "color": "#C8D4E3"
             },
             "line": {
              "color": "white"
             }
            },
            "type": "table"
           }
          ]
         },
         "layout": {
          "annotationdefaults": {
           "arrowcolor": "#2a3f5f",
           "arrowhead": 0,
           "arrowwidth": 1
          },
          "autotypenumbers": "strict",
          "coloraxis": {
           "colorbar": {
            "outlinewidth": 0,
            "ticks": ""
           }
          },
          "colorscale": {
           "diverging": [
            [
             0,
             "#8e0152"
            ],
            [
             0.1,
             "#c51b7d"
            ],
            [
             0.2,
             "#de77ae"
            ],
            [
             0.3,
             "#f1b6da"
            ],
            [
             0.4,
             "#fde0ef"
            ],
            [
             0.5,
             "#f7f7f7"
            ],
            [
             0.6,
             "#e6f5d0"
            ],
            [
             0.7,
             "#b8e186"
            ],
            [
             0.8,
             "#7fbc41"
            ],
            [
             0.9,
             "#4d9221"
            ],
            [
             1,
             "#276419"
            ]
           ],
           "sequential": [
            [
             0,
             "#0d0887"
            ],
            [
             0.1111111111111111,
             "#46039f"
            ],
            [
             0.2222222222222222,
             "#7201a8"
            ],
            [
             0.3333333333333333,
             "#9c179e"
            ],
            [
             0.4444444444444444,
             "#bd3786"
            ],
            [
             0.5555555555555556,
             "#d8576b"
            ],
            [
             0.6666666666666666,
             "#ed7953"
            ],
            [
             0.7777777777777778,
             "#fb9f3a"
            ],
            [
             0.8888888888888888,
             "#fdca26"
            ],
            [
             1,
             "#f0f921"
            ]
           ],
           "sequentialminus": [
            [
             0,
             "#0d0887"
            ],
            [
             0.1111111111111111,
             "#46039f"
            ],
            [
             0.2222222222222222,
             "#7201a8"
            ],
            [
             0.3333333333333333,
             "#9c179e"
            ],
            [
             0.4444444444444444,
             "#bd3786"
            ],
            [
             0.5555555555555556,
             "#d8576b"
            ],
            [
             0.6666666666666666,
             "#ed7953"
            ],
            [
             0.7777777777777778,
             "#fb9f3a"
            ],
            [
             0.8888888888888888,
             "#fdca26"
            ],
            [
             1,
             "#f0f921"
            ]
           ]
          },
          "colorway": [
           "#636efa",
           "#EF553B",
           "#00cc96",
           "#ab63fa",
           "#FFA15A",
           "#19d3f3",
           "#FF6692",
           "#B6E880",
           "#FF97FF",
           "#FECB52"
          ],
          "font": {
           "color": "#2a3f5f"
          },
          "geo": {
           "bgcolor": "white",
           "lakecolor": "white",
           "landcolor": "#E5ECF6",
           "showlakes": true,
           "showland": true,
           "subunitcolor": "white"
          },
          "hoverlabel": {
           "align": "left"
          },
          "hovermode": "closest",
          "mapbox": {
           "style": "light"
          },
          "paper_bgcolor": "white",
          "plot_bgcolor": "#E5ECF6",
          "polar": {
           "angularaxis": {
            "gridcolor": "white",
            "linecolor": "white",
            "ticks": ""
           },
           "bgcolor": "#E5ECF6",
           "radialaxis": {
            "gridcolor": "white",
            "linecolor": "white",
            "ticks": ""
           }
          },
          "scene": {
           "xaxis": {
            "backgroundcolor": "#E5ECF6",
            "gridcolor": "white",
            "gridwidth": 2,
            "linecolor": "white",
            "showbackground": true,
            "ticks": "",
            "zerolinecolor": "white"
           },
           "yaxis": {
            "backgroundcolor": "#E5ECF6",
            "gridcolor": "white",
            "gridwidth": 2,
            "linecolor": "white",
            "showbackground": true,
            "ticks": "",
            "zerolinecolor": "white"
           },
           "zaxis": {
            "backgroundcolor": "#E5ECF6",
            "gridcolor": "white",
            "gridwidth": 2,
            "linecolor": "white",
            "showbackground": true,
            "ticks": "",
            "zerolinecolor": "white"
           }
          },
          "shapedefaults": {
           "line": {
            "color": "#2a3f5f"
           }
          },
          "ternary": {
           "aaxis": {
            "gridcolor": "white",
            "linecolor": "white",
            "ticks": ""
           },
           "baxis": {
            "gridcolor": "white",
            "linecolor": "white",
            "ticks": ""
           },
           "bgcolor": "#E5ECF6",
           "caxis": {
            "gridcolor": "white",
            "linecolor": "white",
            "ticks": ""
           }
          },
          "title": {
           "x": 0.05
          },
          "xaxis": {
           "automargin": true,
           "gridcolor": "white",
           "linecolor": "white",
           "ticks": "",
           "title": {
            "standoff": 15
           },
           "zerolinecolor": "white",
           "zerolinewidth": 2
          },
          "yaxis": {
           "automargin": true,
           "gridcolor": "white",
           "linecolor": "white",
           "ticks": "",
           "title": {
            "standoff": 15
           },
           "zerolinecolor": "white",
           "zerolinewidth": 2
          }
         }
        },
        "title": {
         "text": "GDP by Country"
        }
       }
      },
      "text/html": [
       "<div>                            <div id=\"2de605ca-c90e-452e-95db-5e594d3dc2c4\" class=\"plotly-graph-div\" style=\"height:800px; width:100%;\"></div>            <script type=\"text/javascript\">                require([\"plotly\"], function(Plotly) {                    window.PLOTLYENV=window.PLOTLYENV || {};                                    if (document.getElementById(\"2de605ca-c90e-452e-95db-5e594d3dc2c4\")) {                    Plotly.newPlot(                        \"2de605ca-c90e-452e-95db-5e594d3dc2c4\",                        [{\"autocolorscale\":false,\"colorbar\":{\"tickprefix\":\"$\"},\"colorscale\":[[0.0,\"rgb(103,0,31)\"],[0.1,\"rgb(178,24,43)\"],[0.2,\"rgb(214,96,77)\"],[0.3,\"rgb(244,165,130)\"],[0.4,\"rgb(253,219,199)\"],[0.5,\"rgb(247,247,247)\"],[0.6,\"rgb(209,229,240)\"],[0.7,\"rgb(146,197,222)\"],[0.8,\"rgb(67,147,195)\"],[0.9,\"rgb(33,102,172)\"],[1.0,\"rgb(5,48,97)\"]],\"locations\":[\"AFG\",\"ALB\",\"AGO\",\"ARG\",\"ARM\",\"AUS\",\"AUT\",\"AZE\",\"BLR\",\"BEL\",\"BLZ\",\"BEN\",\"BWA\",\"BRA\",\"BRN\",\"BGR\",\"BFA\",\"BDI\",\"CAN\",\"CHL\",\"CHN\",\"COL\",\"CRI\",\"HRV\",\"CYP\",\"CIV\",\"DNK\",\"ECU\",\"EGY\",\"SLV\",\"EST\",\"FJI\",\"FIN\",\"FRA\",\"GMB\",\"GEO\",\"DEU\",\"GHA\",\"GRC\",\"GRL\",\"GUY\",\"HUN\",\"ISL\",\"IND\",\"IDN\",\"IRL\",\"ISR\",\"ITA\",\"JPN\",\"JOR\",\"KAZ\",\"KEN\",\"KWT\",\"KGZ\",\"LVA\",\"LBN\",\"LTU\",\"LUX\",\"MDG\",\"MYS\",\"MEX\",\"MNG\",\"MNE\",\"MAR\",\"MOZ\",\"MMR\",\"NAM\",\"NLD\",\"NZL\",\"NIC\",\"NGA\",\"NOR\",\"OMN\",\"PAK\",\"PRY\",\"PER\",\"PHL\",\"POL\",\"PRT\",\"QAT\",\"ROU\",\"RUS\",\"SAU\",\"SEN\",\"SRB\",\"SVK\",\"SVN\",\"ZAF\",\"ESP\",\"SUR\",\"SWE\",\"CHE\",\"THA\",\"TUR\",\"UGA\",\"UKR\",\"ARE\",\"GBR\",\"USA\",\"URY\",\"UZB\",\"ZMB\",\"ZWE\"],\"marker\":{\"line\":{\"color\":\"darkgray\",\"width\":0.5}},\"reversescale\":true,\"text\":[\"Afghanistan\",\"Albania\",\"Angola\",\"Argentina\",\"Armenia\",\"Australia\",\"Austria\",\"Azerbaijan\",\"Belarus\",\"Belgium\",\"Belize\",\"Benin\",\"Botswana\",\"Brazil\",\"Brunei Darussalam\",\"Bulgaria\",\"Burkina Faso\",\"Burundi\",\"Canada\",\"Chile\",\"China\",\"Colombia\",\"Costa Rica\",\"Croatia\",\"Cyprus\",\"C\\u00f4te d'Ivoire\",\"Denmark\",\"Ecuador\",\"Egypt\",\"El Salvador\",\"Estonia\",\"Fiji\",\"Finland\",\"France\",\"Gambia\",\"Georgia\",\"Germany\",\"Ghana\",\"Greece\",\"Greenland\",\"Guyana\",\"Hungary\",\"Iceland\",\"India\",\"Indonesia\",\"Ireland\",\"Israel\",\"Italy\",\"Japan\",\"Jordan\",\"Kazakhstan\",\"Kenya\",\"Kuwait\",\"Kyrgyzstan\",\"Latvia\",\"Lebanon\",\"Lithuania\",\"Luxembourg\",\"Madagascar\",\"Malaysia\",\"Mexico\",\"Mongolia\",\"Montenegro\",\"Morocco\",\"Mozambique\",\"Myanmar\",\"Namibia\",\"Netherlands\",\"New Zealand\",\"Nicaragua\",\"Nigeria\",\"Norway\",\"Oman\",\"Pakistan\",\"Paraguay\",\"Peru\",\"Philippines\",\"Poland\",\"Portugal\",\"Qatar\",\"Romania\",\"Russian Federation\",\"Saudi Arabia\",\"Senegal\",\"Serbia\",\"Slovakia\",\"Slovenia\",\"South Africa\",\"Spain\",\"Suriname\",\"Sweden\",\"Switzerland\",\"Thailand\",\"Turkey\",\"Uganda\",\"Ukraine\",\"United Arab Emirates\",\"United Kingdom\",\"United States\",\"Uruguay\",\"Uzbekistan\",\"Zambia\",\"Zimbabwe\"],\"z\":[19291.0,15279.0,88815.0,445445.0,13672.0,1396567.0,445075.0,48047.0,63080.0,533097.0,1879.0,14390.0,18340.0,1839758.0,13469.0,68558.0,15990.0,3012.0,1736425.0,282318.0,14342903.0,323615.0,61801.0,60752.0,24948.0,58539.0,350104.0,107435.0,303092.0,27022.0,31471.0,5496.0,269296.0,2715518.0,1826.0,17477.0,3861123.0,66983.0,209852.0,3051.0,5173.0,163469.0,24188.0,2868929.0,1119190.0,388698.0,394652.0,2003576.0,5081769.0,44502.0,181665.0,95503.0,134628.0,8454.0,34102.0,51991.0,54627.0,71104.0,14114.0,364681.0,1268870.0,13996.0,5542.0,119700.0,15291.0,76085.0,12366.0,907050.0,206928.0,12520.0,448120.0,403336.0,76331.0,278221.0,38145.0,226848.0,376795.0,595858.0,238785.0,175837.0,250077.0,1699876.0,792966.0,23578.0,51475.0,105079.0,54174.0,351431.0,1393490.0,3697.0,530883.0,703082.0,543548.0,761425.0,35165.0,153781.0,421142.0,2829108.0,21433226.0,56045.0,57921.0,23309.0,21440.0],\"type\":\"choropleth\"}],                        {\"geo\":{\"projection\":{\"type\":\"equirectangular\"},\"showcoastlines\":false,\"showframe\":false},\"height\":800,\"margin\":{\"b\":0,\"l\":0,\"r\":0,\"t\":100},\"template\":{\"data\":{\"barpolar\":[{\"marker\":{\"line\":{\"color\":\"#E5ECF6\",\"width\":0.5},\"pattern\":{\"fillmode\":\"overlay\",\"size\":10,\"solidity\":0.2}},\"type\":\"barpolar\"}],\"bar\":[{\"error_x\":{\"color\":\"#2a3f5f\"},\"error_y\":{\"color\":\"#2a3f5f\"},\"marker\":{\"line\":{\"color\":\"#E5ECF6\",\"width\":0.5},\"pattern\":{\"fillmode\":\"overlay\",\"size\":10,\"solidity\":0.2}},\"type\":\"bar\"}],\"carpet\":[{\"aaxis\":{\"endlinecolor\":\"#2a3f5f\",\"gridcolor\":\"white\",\"linecolor\":\"white\",\"minorgridcolor\":\"white\",\"startlinecolor\":\"#2a3f5f\"},\"baxis\":{\"endlinecolor\":\"#2a3f5f\",\"gridcolor\":\"white\",\"linecolor\":\"white\",\"minorgridcolor\":\"white\",\"startlinecolor\":\"#2a3f5f\"},\"type\":\"carpet\"}],\"choropleth\":[{\"colorbar\":{\"outlinewidth\":0,\"ticks\":\"\"},\"type\":\"choropleth\"}],\"contourcarpet\":[{\"colorbar\":{\"outlinewidth\":0,\"ticks\":\"\"},\"type\":\"contourcarpet\"}],\"contour\":[{\"colorbar\":{\"outlinewidth\":0,\"ticks\":\"\"},\"colorscale\":[[0.0,\"#0d0887\"],[0.1111111111111111,\"#46039f\"],[0.2222222222222222,\"#7201a8\"],[0.3333333333333333,\"#9c179e\"],[0.4444444444444444,\"#bd3786\"],[0.5555555555555556,\"#d8576b\"],[0.6666666666666666,\"#ed7953\"],[0.7777777777777778,\"#fb9f3a\"],[0.8888888888888888,\"#fdca26\"],[1.0,\"#f0f921\"]],\"type\":\"contour\"}],\"heatmapgl\":[{\"colorbar\":{\"outlinewidth\":0,\"ticks\":\"\"},\"colorscale\":[[0.0,\"#0d0887\"],[0.1111111111111111,\"#46039f\"],[0.2222222222222222,\"#7201a8\"],[0.3333333333333333,\"#9c179e\"],[0.4444444444444444,\"#bd3786\"],[0.5555555555555556,\"#d8576b\"],[0.6666666666666666,\"#ed7953\"],[0.7777777777777778,\"#fb9f3a\"],[0.8888888888888888,\"#fdca26\"],[1.0,\"#f0f921\"]],\"type\":\"heatmapgl\"}],\"heatmap\":[{\"colorbar\":{\"outlinewidth\":0,\"ticks\":\"\"},\"colorscale\":[[0.0,\"#0d0887\"],[0.1111111111111111,\"#46039f\"],[0.2222222222222222,\"#7201a8\"],[0.3333333333333333,\"#9c179e\"],[0.4444444444444444,\"#bd3786\"],[0.5555555555555556,\"#d8576b\"],[0.6666666666666666,\"#ed7953\"],[0.7777777777777778,\"#fb9f3a\"],[0.8888888888888888,\"#fdca26\"],[1.0,\"#f0f921\"]],\"type\":\"heatmap\"}],\"histogram2dcontour\":[{\"colorbar\":{\"outlinewidth\":0,\"ticks\":\"\"},\"colorscale\":[[0.0,\"#0d0887\"],[0.1111111111111111,\"#46039f\"],[0.2222222222222222,\"#7201a8\"],[0.3333333333333333,\"#9c179e\"],[0.4444444444444444,\"#bd3786\"],[0.5555555555555556,\"#d8576b\"],[0.6666666666666666,\"#ed7953\"],[0.7777777777777778,\"#fb9f3a\"],[0.8888888888888888,\"#fdca26\"],[1.0,\"#f0f921\"]],\"type\":\"histogram2dcontour\"}],\"histogram2d\":[{\"colorbar\":{\"outlinewidth\":0,\"ticks\":\"\"},\"colorscale\":[[0.0,\"#0d0887\"],[0.1111111111111111,\"#46039f\"],[0.2222222222222222,\"#7201a8\"],[0.3333333333333333,\"#9c179e\"],[0.4444444444444444,\"#bd3786\"],[0.5555555555555556,\"#d8576b\"],[0.6666666666666666,\"#ed7953\"],[0.7777777777777778,\"#fb9f3a\"],[0.8888888888888888,\"#fdca26\"],[1.0,\"#f0f921\"]],\"type\":\"histogram2d\"}],\"histogram\":[{\"marker\":{\"pattern\":{\"fillmode\":\"overlay\",\"size\":10,\"solidity\":0.2}},\"type\":\"histogram\"}],\"mesh3d\":[{\"colorbar\":{\"outlinewidth\":0,\"ticks\":\"\"},\"type\":\"mesh3d\"}],\"parcoords\":[{\"line\":{\"colorbar\":{\"outlinewidth\":0,\"ticks\":\"\"}},\"type\":\"parcoords\"}],\"pie\":[{\"automargin\":true,\"type\":\"pie\"}],\"scatter3d\":[{\"line\":{\"colorbar\":{\"outlinewidth\":0,\"ticks\":\"\"}},\"marker\":{\"colorbar\":{\"outlinewidth\":0,\"ticks\":\"\"}},\"type\":\"scatter3d\"}],\"scattercarpet\":[{\"marker\":{\"colorbar\":{\"outlinewidth\":0,\"ticks\":\"\"}},\"type\":\"scattercarpet\"}],\"scattergeo\":[{\"marker\":{\"colorbar\":{\"outlinewidth\":0,\"ticks\":\"\"}},\"type\":\"scattergeo\"}],\"scattergl\":[{\"marker\":{\"colorbar\":{\"outlinewidth\":0,\"ticks\":\"\"}},\"type\":\"scattergl\"}],\"scattermapbox\":[{\"marker\":{\"colorbar\":{\"outlinewidth\":0,\"ticks\":\"\"}},\"type\":\"scattermapbox\"}],\"scatterpolargl\":[{\"marker\":{\"colorbar\":{\"outlinewidth\":0,\"ticks\":\"\"}},\"type\":\"scatterpolargl\"}],\"scatterpolar\":[{\"marker\":{\"colorbar\":{\"outlinewidth\":0,\"ticks\":\"\"}},\"type\":\"scatterpolar\"}],\"scatter\":[{\"fillpattern\":{\"fillmode\":\"overlay\",\"size\":10,\"solidity\":0.2},\"type\":\"scatter\"}],\"scatterternary\":[{\"marker\":{\"colorbar\":{\"outlinewidth\":0,\"ticks\":\"\"}},\"type\":\"scatterternary\"}],\"surface\":[{\"colorbar\":{\"outlinewidth\":0,\"ticks\":\"\"},\"colorscale\":[[0.0,\"#0d0887\"],[0.1111111111111111,\"#46039f\"],[0.2222222222222222,\"#7201a8\"],[0.3333333333333333,\"#9c179e\"],[0.4444444444444444,\"#bd3786\"],[0.5555555555555556,\"#d8576b\"],[0.6666666666666666,\"#ed7953\"],[0.7777777777777778,\"#fb9f3a\"],[0.8888888888888888,\"#fdca26\"],[1.0,\"#f0f921\"]],\"type\":\"surface\"}],\"table\":[{\"cells\":{\"fill\":{\"color\":\"#EBF0F8\"},\"line\":{\"color\":\"white\"}},\"header\":{\"fill\":{\"color\":\"#C8D4E3\"},\"line\":{\"color\":\"white\"}},\"type\":\"table\"}]},\"layout\":{\"annotationdefaults\":{\"arrowcolor\":\"#2a3f5f\",\"arrowhead\":0,\"arrowwidth\":1},\"autotypenumbers\":\"strict\",\"coloraxis\":{\"colorbar\":{\"outlinewidth\":0,\"ticks\":\"\"}},\"colorscale\":{\"diverging\":[[0,\"#8e0152\"],[0.1,\"#c51b7d\"],[0.2,\"#de77ae\"],[0.3,\"#f1b6da\"],[0.4,\"#fde0ef\"],[0.5,\"#f7f7f7\"],[0.6,\"#e6f5d0\"],[0.7,\"#b8e186\"],[0.8,\"#7fbc41\"],[0.9,\"#4d9221\"],[1,\"#276419\"]],\"sequential\":[[0.0,\"#0d0887\"],[0.1111111111111111,\"#46039f\"],[0.2222222222222222,\"#7201a8\"],[0.3333333333333333,\"#9c179e\"],[0.4444444444444444,\"#bd3786\"],[0.5555555555555556,\"#d8576b\"],[0.6666666666666666,\"#ed7953\"],[0.7777777777777778,\"#fb9f3a\"],[0.8888888888888888,\"#fdca26\"],[1.0,\"#f0f921\"]],\"sequentialminus\":[[0.0,\"#0d0887\"],[0.1111111111111111,\"#46039f\"],[0.2222222222222222,\"#7201a8\"],[0.3333333333333333,\"#9c179e\"],[0.4444444444444444,\"#bd3786\"],[0.5555555555555556,\"#d8576b\"],[0.6666666666666666,\"#ed7953\"],[0.7777777777777778,\"#fb9f3a\"],[0.8888888888888888,\"#fdca26\"],[1.0,\"#f0f921\"]]},\"colorway\":[\"#636efa\",\"#EF553B\",\"#00cc96\",\"#ab63fa\",\"#FFA15A\",\"#19d3f3\",\"#FF6692\",\"#B6E880\",\"#FF97FF\",\"#FECB52\"],\"font\":{\"color\":\"#2a3f5f\"},\"geo\":{\"bgcolor\":\"white\",\"lakecolor\":\"white\",\"landcolor\":\"#E5ECF6\",\"showlakes\":true,\"showland\":true,\"subunitcolor\":\"white\"},\"hoverlabel\":{\"align\":\"left\"},\"hovermode\":\"closest\",\"mapbox\":{\"style\":\"light\"},\"paper_bgcolor\":\"white\",\"plot_bgcolor\":\"#E5ECF6\",\"polar\":{\"angularaxis\":{\"gridcolor\":\"white\",\"linecolor\":\"white\",\"ticks\":\"\"},\"bgcolor\":\"#E5ECF6\",\"radialaxis\":{\"gridcolor\":\"white\",\"linecolor\":\"white\",\"ticks\":\"\"}},\"scene\":{\"xaxis\":{\"backgroundcolor\":\"#E5ECF6\",\"gridcolor\":\"white\",\"gridwidth\":2,\"linecolor\":\"white\",\"showbackground\":true,\"ticks\":\"\",\"zerolinecolor\":\"white\"},\"yaxis\":{\"backgroundcolor\":\"#E5ECF6\",\"gridcolor\":\"white\",\"gridwidth\":2,\"linecolor\":\"white\",\"showbackground\":true,\"ticks\":\"\",\"zerolinecolor\":\"white\"},\"zaxis\":{\"backgroundcolor\":\"#E5ECF6\",\"gridcolor\":\"white\",\"gridwidth\":2,\"linecolor\":\"white\",\"showbackground\":true,\"ticks\":\"\",\"zerolinecolor\":\"white\"}},\"shapedefaults\":{\"line\":{\"color\":\"#2a3f5f\"}},\"ternary\":{\"aaxis\":{\"gridcolor\":\"white\",\"linecolor\":\"white\",\"ticks\":\"\"},\"baxis\":{\"gridcolor\":\"white\",\"linecolor\":\"white\",\"ticks\":\"\"},\"bgcolor\":\"#E5ECF6\",\"caxis\":{\"gridcolor\":\"white\",\"linecolor\":\"white\",\"ticks\":\"\"}},\"title\":{\"x\":0.05},\"xaxis\":{\"automargin\":true,\"gridcolor\":\"white\",\"linecolor\":\"white\",\"ticks\":\"\",\"title\":{\"standoff\":15},\"zerolinecolor\":\"white\",\"zerolinewidth\":2},\"yaxis\":{\"automargin\":true,\"gridcolor\":\"white\",\"linecolor\":\"white\",\"ticks\":\"\",\"title\":{\"standoff\":15},\"zerolinecolor\":\"white\",\"zerolinewidth\":2}}},\"title\":{\"text\":\"GDP by Country\"}},                        {\"responsive\": true}                    ).then(function(){\n",
       "                            \n",
       "var gd = document.getElementById('2de605ca-c90e-452e-95db-5e594d3dc2c4');\n",
       "var x = new MutationObserver(function (mutations, observer) {{\n",
       "        var display = window.getComputedStyle(gd).display;\n",
       "        if (!display || display === 'none') {{\n",
       "            console.log([gd, 'removed!']);\n",
       "            Plotly.purge(gd);\n",
       "            observer.disconnect();\n",
       "        }}\n",
       "}});\n",
       "\n",
       "// Listen for the removal of the full notebook cells\n",
       "var notebookContainer = gd.closest('#notebook-container');\n",
       "if (notebookContainer) {{\n",
       "    x.observe(notebookContainer, {childList: true});\n",
       "}}\n",
       "\n",
       "// Listen for the clearing of the current output cell\n",
       "var outputEl = gd.closest('.output');\n",
       "if (outputEl) {{\n",
       "    x.observe(outputEl, {childList: true});\n",
       "}}\n",
       "\n",
       "                        })                };                });            </script>        </div>"
      ]
     },
     "metadata": {},
     "output_type": "display_data"
    }
   ],
   "source": [
    "import plotly.graph_objects as go\n",
    "import plotly.offline as py\n",
    "from IPython.display import clear_output\n",
    "import pandas as pd\n",
    "from ipywidgets import interactive, HBox, VBox, widgets, interact\n",
    "py.init_notebook_mode()\n",
    "gdp=df_agg[['CODE', 'COUNTRY_AREA', 'GDP_EST', 'POPULATION_EST']].drop_duplicates()\n",
    "fig = go.Figure(data=go.Choropleth(\n",
    "    locations = gdp['CODE'],\n",
    "    z = gdp['GDP_EST'],\n",
    "    text = gdp['COUNTRY_AREA'],\n",
    "    colorscale = 'RdBu',\n",
    "    autocolorscale=False,\n",
    "    reversescale=True,\n",
    "    marker_line_color='darkgray',\n",
    "    marker_line_width=0.5,\n",
    "    colorbar_tickprefix = '$'))\n",
    "\n",
    "fig.update_layout(\n",
    "    height=800,\n",
    "    title=\"GDP by Country\",\n",
    "    margin={\"r\":0,\"t\":100,\"l\":0,\"b\":0},\n",
    "    geo=dict(\n",
    "        showframe=False,\n",
    "        showcoastlines=False,\n",
    "        projection_type='equirectangular',\n",
    "        \n",
    "    )\n",
    ")\n",
    "clear_output()\n",
    "py.iplot(fig)\n"
   ]
  },
  {
   "cell_type": "code",
   "execution_count": 15,
   "metadata": {},
   "outputs": [
    {
     "data": {
      "application/vnd.plotly.v1+json": {
       "config": {
        "linkText": "Export to plot.ly",
        "plotlyServerURL": "https://plot.ly",
        "showLink": false
       },
       "data": [
        {
         "autocolorscale": false,
         "colorbar": {
          "tickprefix": "$"
         },
         "colorscale": [
          [
           0,
           "rgb(103,0,31)"
          ],
          [
           0.1,
           "rgb(178,24,43)"
          ],
          [
           0.2,
           "rgb(214,96,77)"
          ],
          [
           0.3,
           "rgb(244,165,130)"
          ],
          [
           0.4,
           "rgb(253,219,199)"
          ],
          [
           0.5,
           "rgb(247,247,247)"
          ],
          [
           0.6,
           "rgb(209,229,240)"
          ],
          [
           0.7,
           "rgb(146,197,222)"
          ],
          [
           0.8,
           "rgb(67,147,195)"
          ],
          [
           0.9,
           "rgb(33,102,172)"
          ],
          [
           1,
           "rgb(5,48,97)"
          ]
         ],
         "locations": [
          "AFG",
          "ALB",
          "AGO",
          "ARG",
          "ARM",
          "AUS",
          "AUT",
          "AZE",
          "BLR",
          "BEL",
          "BLZ",
          "BEN",
          "BWA",
          "BRA",
          "BRN",
          "BGR",
          "BFA",
          "BDI",
          "CAN",
          "CHL",
          "CHN",
          "COL",
          "CRI",
          "HRV",
          "CYP",
          "CIV",
          "DNK",
          "ECU",
          "EGY",
          "SLV",
          "EST",
          "FJI",
          "FIN",
          "FRA",
          "GMB",
          "GEO",
          "DEU",
          "GHA",
          "GRC",
          "GRL",
          "GUY",
          "HUN",
          "ISL",
          "IND",
          "IDN",
          "IRL",
          "ISR",
          "ITA",
          "JPN",
          "JOR",
          "KAZ",
          "KEN",
          "KWT",
          "KGZ",
          "LVA",
          "LBN",
          "LTU",
          "LUX",
          "MDG",
          "MYS",
          "MEX",
          "MNG",
          "MNE",
          "MAR",
          "MOZ",
          "MMR",
          "NAM",
          "NLD",
          "NZL",
          "NIC",
          "NGA",
          "NOR",
          "OMN",
          "PAK",
          "PRY",
          "PER",
          "PHL",
          "POL",
          "PRT",
          "QAT",
          "ROU",
          "RUS",
          "SAU",
          "SEN",
          "SRB",
          "SVK",
          "SVN",
          "ZAF",
          "ESP",
          "SUR",
          "SWE",
          "CHE",
          "THA",
          "TUR",
          "UGA",
          "UKR",
          "ARE",
          "GBR",
          "USA",
          "URY",
          "UZB",
          "ZMB",
          "ZWE"
         ],
         "marker": {
          "line": {
           "color": "darkgray",
           "width": 0.5
          }
         },
         "reversescale": true,
         "text": [
          "Afghanistan",
          "Albania",
          "Angola",
          "Argentina",
          "Armenia",
          "Australia",
          "Austria",
          "Azerbaijan",
          "Belarus",
          "Belgium",
          "Belize",
          "Benin",
          "Botswana",
          "Brazil",
          "Brunei Darussalam",
          "Bulgaria",
          "Burkina Faso",
          "Burundi",
          "Canada",
          "Chile",
          "China",
          "Colombia",
          "Costa Rica",
          "Croatia",
          "Cyprus",
          "Côte d'Ivoire",
          "Denmark",
          "Ecuador",
          "Egypt",
          "El Salvador",
          "Estonia",
          "Fiji",
          "Finland",
          "France",
          "Gambia",
          "Georgia",
          "Germany",
          "Ghana",
          "Greece",
          "Greenland",
          "Guyana",
          "Hungary",
          "Iceland",
          "India",
          "Indonesia",
          "Ireland",
          "Israel",
          "Italy",
          "Japan",
          "Jordan",
          "Kazakhstan",
          "Kenya",
          "Kuwait",
          "Kyrgyzstan",
          "Latvia",
          "Lebanon",
          "Lithuania",
          "Luxembourg",
          "Madagascar",
          "Malaysia",
          "Mexico",
          "Mongolia",
          "Montenegro",
          "Morocco",
          "Mozambique",
          "Myanmar",
          "Namibia",
          "Netherlands",
          "New Zealand",
          "Nicaragua",
          "Nigeria",
          "Norway",
          "Oman",
          "Pakistan",
          "Paraguay",
          "Peru",
          "Philippines",
          "Poland",
          "Portugal",
          "Qatar",
          "Romania",
          "Russian Federation",
          "Saudi Arabia",
          "Senegal",
          "Serbia",
          "Slovakia",
          "Slovenia",
          "South Africa",
          "Spain",
          "Suriname",
          "Sweden",
          "Switzerland",
          "Thailand",
          "Turkey",
          "Uganda",
          "Ukraine",
          "United Arab Emirates",
          "United Kingdom",
          "United States",
          "Uruguay",
          "Uzbekistan",
          "Zambia",
          "Zimbabwe"
         ],
         "type": "choropleth",
         "z": [
          38041754,
          2854191,
          31825295,
          44938712,
          2957731,
          25364307,
          8877067,
          10023318,
          9466856,
          11484055,
          390353,
          11801151,
          2303697,
          211049527,
          433285,
          6975761,
          20321378,
          11530580,
          37589262,
          18952038,
          1397715000,
          50339443,
          5047561,
          4067500,
          1198575,
          25716544,
          5818553,
          17373662,
          100388073,
          6453553,
          1326590,
          889953,
          5520314,
          67059887,
          2347706,
          3720382,
          83132799,
          30417856,
          10716322,
          56225,
          782766,
          9769949,
          361313,
          1366417754,
          270625568,
          4941444,
          9053300,
          60297396,
          126264931,
          10101694,
          18513930,
          52573973,
          4207083,
          6456900,
          1912789,
          6855713,
          2786844,
          619896,
          26969307,
          31949777,
          127575529,
          3225167,
          622137,
          36471769,
          30366036,
          54045420,
          2494530,
          17332850,
          4917000,
          6545502,
          200963599,
          5347896,
          4974986,
          216565318,
          7044636,
          32510453,
          108116615,
          37970874,
          10269417,
          2832067,
          19356544,
          144373535,
          34268528,
          16296364,
          6944975,
          5454073,
          2087946,
          58558270,
          47076781,
          581363,
          10285453,
          8574832,
          69625582,
          83429615,
          44269594,
          44385155,
          9770529,
          66834405,
          328239523,
          3461734,
          33580650,
          17861030,
          14645468
         ]
        }
       ],
       "layout": {
        "geo": {
         "projection": {
          "type": "equirectangular"
         },
         "showcoastlines": false,
         "showframe": false
        },
        "height": 800,
        "margin": {
         "b": 0,
         "l": 0,
         "r": 0,
         "t": 100
        },
        "template": {
         "data": {
          "bar": [
           {
            "error_x": {
             "color": "#2a3f5f"
            },
            "error_y": {
             "color": "#2a3f5f"
            },
            "marker": {
             "line": {
              "color": "#E5ECF6",
              "width": 0.5
             },
             "pattern": {
              "fillmode": "overlay",
              "size": 10,
              "solidity": 0.2
             }
            },
            "type": "bar"
           }
          ],
          "barpolar": [
           {
            "marker": {
             "line": {
              "color": "#E5ECF6",
              "width": 0.5
             },
             "pattern": {
              "fillmode": "overlay",
              "size": 10,
              "solidity": 0.2
             }
            },
            "type": "barpolar"
           }
          ],
          "carpet": [
           {
            "aaxis": {
             "endlinecolor": "#2a3f5f",
             "gridcolor": "white",
             "linecolor": "white",
             "minorgridcolor": "white",
             "startlinecolor": "#2a3f5f"
            },
            "baxis": {
             "endlinecolor": "#2a3f5f",
             "gridcolor": "white",
             "linecolor": "white",
             "minorgridcolor": "white",
             "startlinecolor": "#2a3f5f"
            },
            "type": "carpet"
           }
          ],
          "choropleth": [
           {
            "colorbar": {
             "outlinewidth": 0,
             "ticks": ""
            },
            "type": "choropleth"
           }
          ],
          "contour": [
           {
            "colorbar": {
             "outlinewidth": 0,
             "ticks": ""
            },
            "colorscale": [
             [
              0,
              "#0d0887"
             ],
             [
              0.1111111111111111,
              "#46039f"
             ],
             [
              0.2222222222222222,
              "#7201a8"
             ],
             [
              0.3333333333333333,
              "#9c179e"
             ],
             [
              0.4444444444444444,
              "#bd3786"
             ],
             [
              0.5555555555555556,
              "#d8576b"
             ],
             [
              0.6666666666666666,
              "#ed7953"
             ],
             [
              0.7777777777777778,
              "#fb9f3a"
             ],
             [
              0.8888888888888888,
              "#fdca26"
             ],
             [
              1,
              "#f0f921"
             ]
            ],
            "type": "contour"
           }
          ],
          "contourcarpet": [
           {
            "colorbar": {
             "outlinewidth": 0,
             "ticks": ""
            },
            "type": "contourcarpet"
           }
          ],
          "heatmap": [
           {
            "colorbar": {
             "outlinewidth": 0,
             "ticks": ""
            },
            "colorscale": [
             [
              0,
              "#0d0887"
             ],
             [
              0.1111111111111111,
              "#46039f"
             ],
             [
              0.2222222222222222,
              "#7201a8"
             ],
             [
              0.3333333333333333,
              "#9c179e"
             ],
             [
              0.4444444444444444,
              "#bd3786"
             ],
             [
              0.5555555555555556,
              "#d8576b"
             ],
             [
              0.6666666666666666,
              "#ed7953"
             ],
             [
              0.7777777777777778,
              "#fb9f3a"
             ],
             [
              0.8888888888888888,
              "#fdca26"
             ],
             [
              1,
              "#f0f921"
             ]
            ],
            "type": "heatmap"
           }
          ],
          "heatmapgl": [
           {
            "colorbar": {
             "outlinewidth": 0,
             "ticks": ""
            },
            "colorscale": [
             [
              0,
              "#0d0887"
             ],
             [
              0.1111111111111111,
              "#46039f"
             ],
             [
              0.2222222222222222,
              "#7201a8"
             ],
             [
              0.3333333333333333,
              "#9c179e"
             ],
             [
              0.4444444444444444,
              "#bd3786"
             ],
             [
              0.5555555555555556,
              "#d8576b"
             ],
             [
              0.6666666666666666,
              "#ed7953"
             ],
             [
              0.7777777777777778,
              "#fb9f3a"
             ],
             [
              0.8888888888888888,
              "#fdca26"
             ],
             [
              1,
              "#f0f921"
             ]
            ],
            "type": "heatmapgl"
           }
          ],
          "histogram": [
           {
            "marker": {
             "pattern": {
              "fillmode": "overlay",
              "size": 10,
              "solidity": 0.2
             }
            },
            "type": "histogram"
           }
          ],
          "histogram2d": [
           {
            "colorbar": {
             "outlinewidth": 0,
             "ticks": ""
            },
            "colorscale": [
             [
              0,
              "#0d0887"
             ],
             [
              0.1111111111111111,
              "#46039f"
             ],
             [
              0.2222222222222222,
              "#7201a8"
             ],
             [
              0.3333333333333333,
              "#9c179e"
             ],
             [
              0.4444444444444444,
              "#bd3786"
             ],
             [
              0.5555555555555556,
              "#d8576b"
             ],
             [
              0.6666666666666666,
              "#ed7953"
             ],
             [
              0.7777777777777778,
              "#fb9f3a"
             ],
             [
              0.8888888888888888,
              "#fdca26"
             ],
             [
              1,
              "#f0f921"
             ]
            ],
            "type": "histogram2d"
           }
          ],
          "histogram2dcontour": [
           {
            "colorbar": {
             "outlinewidth": 0,
             "ticks": ""
            },
            "colorscale": [
             [
              0,
              "#0d0887"
             ],
             [
              0.1111111111111111,
              "#46039f"
             ],
             [
              0.2222222222222222,
              "#7201a8"
             ],
             [
              0.3333333333333333,
              "#9c179e"
             ],
             [
              0.4444444444444444,
              "#bd3786"
             ],
             [
              0.5555555555555556,
              "#d8576b"
             ],
             [
              0.6666666666666666,
              "#ed7953"
             ],
             [
              0.7777777777777778,
              "#fb9f3a"
             ],
             [
              0.8888888888888888,
              "#fdca26"
             ],
             [
              1,
              "#f0f921"
             ]
            ],
            "type": "histogram2dcontour"
           }
          ],
          "mesh3d": [
           {
            "colorbar": {
             "outlinewidth": 0,
             "ticks": ""
            },
            "type": "mesh3d"
           }
          ],
          "parcoords": [
           {
            "line": {
             "colorbar": {
              "outlinewidth": 0,
              "ticks": ""
             }
            },
            "type": "parcoords"
           }
          ],
          "pie": [
           {
            "automargin": true,
            "type": "pie"
           }
          ],
          "scatter": [
           {
            "fillpattern": {
             "fillmode": "overlay",
             "size": 10,
             "solidity": 0.2
            },
            "type": "scatter"
           }
          ],
          "scatter3d": [
           {
            "line": {
             "colorbar": {
              "outlinewidth": 0,
              "ticks": ""
             }
            },
            "marker": {
             "colorbar": {
              "outlinewidth": 0,
              "ticks": ""
             }
            },
            "type": "scatter3d"
           }
          ],
          "scattercarpet": [
           {
            "marker": {
             "colorbar": {
              "outlinewidth": 0,
              "ticks": ""
             }
            },
            "type": "scattercarpet"
           }
          ],
          "scattergeo": [
           {
            "marker": {
             "colorbar": {
              "outlinewidth": 0,
              "ticks": ""
             }
            },
            "type": "scattergeo"
           }
          ],
          "scattergl": [
           {
            "marker": {
             "colorbar": {
              "outlinewidth": 0,
              "ticks": ""
             }
            },
            "type": "scattergl"
           }
          ],
          "scattermapbox": [
           {
            "marker": {
             "colorbar": {
              "outlinewidth": 0,
              "ticks": ""
             }
            },
            "type": "scattermapbox"
           }
          ],
          "scatterpolar": [
           {
            "marker": {
             "colorbar": {
              "outlinewidth": 0,
              "ticks": ""
             }
            },
            "type": "scatterpolar"
           }
          ],
          "scatterpolargl": [
           {
            "marker": {
             "colorbar": {
              "outlinewidth": 0,
              "ticks": ""
             }
            },
            "type": "scatterpolargl"
           }
          ],
          "scatterternary": [
           {
            "marker": {
             "colorbar": {
              "outlinewidth": 0,
              "ticks": ""
             }
            },
            "type": "scatterternary"
           }
          ],
          "surface": [
           {
            "colorbar": {
             "outlinewidth": 0,
             "ticks": ""
            },
            "colorscale": [
             [
              0,
              "#0d0887"
             ],
             [
              0.1111111111111111,
              "#46039f"
             ],
             [
              0.2222222222222222,
              "#7201a8"
             ],
             [
              0.3333333333333333,
              "#9c179e"
             ],
             [
              0.4444444444444444,
              "#bd3786"
             ],
             [
              0.5555555555555556,
              "#d8576b"
             ],
             [
              0.6666666666666666,
              "#ed7953"
             ],
             [
              0.7777777777777778,
              "#fb9f3a"
             ],
             [
              0.8888888888888888,
              "#fdca26"
             ],
             [
              1,
              "#f0f921"
             ]
            ],
            "type": "surface"
           }
          ],
          "table": [
           {
            "cells": {
             "fill": {
              "color": "#EBF0F8"
             },
             "line": {
              "color": "white"
             }
            },
            "header": {
             "fill": {
              "color": "#C8D4E3"
             },
             "line": {
              "color": "white"
             }
            },
            "type": "table"
           }
          ]
         },
         "layout": {
          "annotationdefaults": {
           "arrowcolor": "#2a3f5f",
           "arrowhead": 0,
           "arrowwidth": 1
          },
          "autotypenumbers": "strict",
          "coloraxis": {
           "colorbar": {
            "outlinewidth": 0,
            "ticks": ""
           }
          },
          "colorscale": {
           "diverging": [
            [
             0,
             "#8e0152"
            ],
            [
             0.1,
             "#c51b7d"
            ],
            [
             0.2,
             "#de77ae"
            ],
            [
             0.3,
             "#f1b6da"
            ],
            [
             0.4,
             "#fde0ef"
            ],
            [
             0.5,
             "#f7f7f7"
            ],
            [
             0.6,
             "#e6f5d0"
            ],
            [
             0.7,
             "#b8e186"
            ],
            [
             0.8,
             "#7fbc41"
            ],
            [
             0.9,
             "#4d9221"
            ],
            [
             1,
             "#276419"
            ]
           ],
           "sequential": [
            [
             0,
             "#0d0887"
            ],
            [
             0.1111111111111111,
             "#46039f"
            ],
            [
             0.2222222222222222,
             "#7201a8"
            ],
            [
             0.3333333333333333,
             "#9c179e"
            ],
            [
             0.4444444444444444,
             "#bd3786"
            ],
            [
             0.5555555555555556,
             "#d8576b"
            ],
            [
             0.6666666666666666,
             "#ed7953"
            ],
            [
             0.7777777777777778,
             "#fb9f3a"
            ],
            [
             0.8888888888888888,
             "#fdca26"
            ],
            [
             1,
             "#f0f921"
            ]
           ],
           "sequentialminus": [
            [
             0,
             "#0d0887"
            ],
            [
             0.1111111111111111,
             "#46039f"
            ],
            [
             0.2222222222222222,
             "#7201a8"
            ],
            [
             0.3333333333333333,
             "#9c179e"
            ],
            [
             0.4444444444444444,
             "#bd3786"
            ],
            [
             0.5555555555555556,
             "#d8576b"
            ],
            [
             0.6666666666666666,
             "#ed7953"
            ],
            [
             0.7777777777777778,
             "#fb9f3a"
            ],
            [
             0.8888888888888888,
             "#fdca26"
            ],
            [
             1,
             "#f0f921"
            ]
           ]
          },
          "colorway": [
           "#636efa",
           "#EF553B",
           "#00cc96",
           "#ab63fa",
           "#FFA15A",
           "#19d3f3",
           "#FF6692",
           "#B6E880",
           "#FF97FF",
           "#FECB52"
          ],
          "font": {
           "color": "#2a3f5f"
          },
          "geo": {
           "bgcolor": "white",
           "lakecolor": "white",
           "landcolor": "#E5ECF6",
           "showlakes": true,
           "showland": true,
           "subunitcolor": "white"
          },
          "hoverlabel": {
           "align": "left"
          },
          "hovermode": "closest",
          "mapbox": {
           "style": "light"
          },
          "paper_bgcolor": "white",
          "plot_bgcolor": "#E5ECF6",
          "polar": {
           "angularaxis": {
            "gridcolor": "white",
            "linecolor": "white",
            "ticks": ""
           },
           "bgcolor": "#E5ECF6",
           "radialaxis": {
            "gridcolor": "white",
            "linecolor": "white",
            "ticks": ""
           }
          },
          "scene": {
           "xaxis": {
            "backgroundcolor": "#E5ECF6",
            "gridcolor": "white",
            "gridwidth": 2,
            "linecolor": "white",
            "showbackground": true,
            "ticks": "",
            "zerolinecolor": "white"
           },
           "yaxis": {
            "backgroundcolor": "#E5ECF6",
            "gridcolor": "white",
            "gridwidth": 2,
            "linecolor": "white",
            "showbackground": true,
            "ticks": "",
            "zerolinecolor": "white"
           },
           "zaxis": {
            "backgroundcolor": "#E5ECF6",
            "gridcolor": "white",
            "gridwidth": 2,
            "linecolor": "white",
            "showbackground": true,
            "ticks": "",
            "zerolinecolor": "white"
           }
          },
          "shapedefaults": {
           "line": {
            "color": "#2a3f5f"
           }
          },
          "ternary": {
           "aaxis": {
            "gridcolor": "white",
            "linecolor": "white",
            "ticks": ""
           },
           "baxis": {
            "gridcolor": "white",
            "linecolor": "white",
            "ticks": ""
           },
           "bgcolor": "#E5ECF6",
           "caxis": {
            "gridcolor": "white",
            "linecolor": "white",
            "ticks": ""
           }
          },
          "title": {
           "x": 0.05
          },
          "xaxis": {
           "automargin": true,
           "gridcolor": "white",
           "linecolor": "white",
           "ticks": "",
           "title": {
            "standoff": 15
           },
           "zerolinecolor": "white",
           "zerolinewidth": 2
          },
          "yaxis": {
           "automargin": true,
           "gridcolor": "white",
           "linecolor": "white",
           "ticks": "",
           "title": {
            "standoff": 15
           },
           "zerolinecolor": "white",
           "zerolinewidth": 2
          }
         }
        },
        "title": {
         "text": "Population by Country"
        }
       }
      },
      "text/html": [
       "<div>                            <div id=\"756e7815-fbcf-4257-b672-ceea16e9dfee\" class=\"plotly-graph-div\" style=\"height:800px; width:100%;\"></div>            <script type=\"text/javascript\">                require([\"plotly\"], function(Plotly) {                    window.PLOTLYENV=window.PLOTLYENV || {};                                    if (document.getElementById(\"756e7815-fbcf-4257-b672-ceea16e9dfee\")) {                    Plotly.newPlot(                        \"756e7815-fbcf-4257-b672-ceea16e9dfee\",                        [{\"autocolorscale\":false,\"colorbar\":{\"tickprefix\":\"$\"},\"colorscale\":[[0.0,\"rgb(103,0,31)\"],[0.1,\"rgb(178,24,43)\"],[0.2,\"rgb(214,96,77)\"],[0.3,\"rgb(244,165,130)\"],[0.4,\"rgb(253,219,199)\"],[0.5,\"rgb(247,247,247)\"],[0.6,\"rgb(209,229,240)\"],[0.7,\"rgb(146,197,222)\"],[0.8,\"rgb(67,147,195)\"],[0.9,\"rgb(33,102,172)\"],[1.0,\"rgb(5,48,97)\"]],\"locations\":[\"AFG\",\"ALB\",\"AGO\",\"ARG\",\"ARM\",\"AUS\",\"AUT\",\"AZE\",\"BLR\",\"BEL\",\"BLZ\",\"BEN\",\"BWA\",\"BRA\",\"BRN\",\"BGR\",\"BFA\",\"BDI\",\"CAN\",\"CHL\",\"CHN\",\"COL\",\"CRI\",\"HRV\",\"CYP\",\"CIV\",\"DNK\",\"ECU\",\"EGY\",\"SLV\",\"EST\",\"FJI\",\"FIN\",\"FRA\",\"GMB\",\"GEO\",\"DEU\",\"GHA\",\"GRC\",\"GRL\",\"GUY\",\"HUN\",\"ISL\",\"IND\",\"IDN\",\"IRL\",\"ISR\",\"ITA\",\"JPN\",\"JOR\",\"KAZ\",\"KEN\",\"KWT\",\"KGZ\",\"LVA\",\"LBN\",\"LTU\",\"LUX\",\"MDG\",\"MYS\",\"MEX\",\"MNG\",\"MNE\",\"MAR\",\"MOZ\",\"MMR\",\"NAM\",\"NLD\",\"NZL\",\"NIC\",\"NGA\",\"NOR\",\"OMN\",\"PAK\",\"PRY\",\"PER\",\"PHL\",\"POL\",\"PRT\",\"QAT\",\"ROU\",\"RUS\",\"SAU\",\"SEN\",\"SRB\",\"SVK\",\"SVN\",\"ZAF\",\"ESP\",\"SUR\",\"SWE\",\"CHE\",\"THA\",\"TUR\",\"UGA\",\"UKR\",\"ARE\",\"GBR\",\"USA\",\"URY\",\"UZB\",\"ZMB\",\"ZWE\"],\"marker\":{\"line\":{\"color\":\"darkgray\",\"width\":0.5}},\"reversescale\":true,\"text\":[\"Afghanistan\",\"Albania\",\"Angola\",\"Argentina\",\"Armenia\",\"Australia\",\"Austria\",\"Azerbaijan\",\"Belarus\",\"Belgium\",\"Belize\",\"Benin\",\"Botswana\",\"Brazil\",\"Brunei Darussalam\",\"Bulgaria\",\"Burkina Faso\",\"Burundi\",\"Canada\",\"Chile\",\"China\",\"Colombia\",\"Costa Rica\",\"Croatia\",\"Cyprus\",\"C\\u00f4te d'Ivoire\",\"Denmark\",\"Ecuador\",\"Egypt\",\"El Salvador\",\"Estonia\",\"Fiji\",\"Finland\",\"France\",\"Gambia\",\"Georgia\",\"Germany\",\"Ghana\",\"Greece\",\"Greenland\",\"Guyana\",\"Hungary\",\"Iceland\",\"India\",\"Indonesia\",\"Ireland\",\"Israel\",\"Italy\",\"Japan\",\"Jordan\",\"Kazakhstan\",\"Kenya\",\"Kuwait\",\"Kyrgyzstan\",\"Latvia\",\"Lebanon\",\"Lithuania\",\"Luxembourg\",\"Madagascar\",\"Malaysia\",\"Mexico\",\"Mongolia\",\"Montenegro\",\"Morocco\",\"Mozambique\",\"Myanmar\",\"Namibia\",\"Netherlands\",\"New Zealand\",\"Nicaragua\",\"Nigeria\",\"Norway\",\"Oman\",\"Pakistan\",\"Paraguay\",\"Peru\",\"Philippines\",\"Poland\",\"Portugal\",\"Qatar\",\"Romania\",\"Russian Federation\",\"Saudi Arabia\",\"Senegal\",\"Serbia\",\"Slovakia\",\"Slovenia\",\"South Africa\",\"Spain\",\"Suriname\",\"Sweden\",\"Switzerland\",\"Thailand\",\"Turkey\",\"Uganda\",\"Ukraine\",\"United Arab Emirates\",\"United Kingdom\",\"United States\",\"Uruguay\",\"Uzbekistan\",\"Zambia\",\"Zimbabwe\"],\"z\":[38041754.0,2854191.0,31825295.0,44938712.0,2957731.0,25364307.0,8877067.0,10023318.0,9466856.0,11484055.0,390353.0,11801151.0,2303697.0,211049527.0,433285.0,6975761.0,20321378.0,11530580.0,37589262.0,18952038.0,1397715000.0,50339443.0,5047561.0,4067500.0,1198575.0,25716544.0,5818553.0,17373662.0,100388073.0,6453553.0,1326590.0,889953.0,5520314.0,67059887.0,2347706.0,3720382.0,83132799.0,30417856.0,10716322.0,56225.0,782766.0,9769949.0,361313.0,1366417754.0,270625568.0,4941444.0,9053300.0,60297396.0,126264931.0,10101694.0,18513930.0,52573973.0,4207083.0,6456900.0,1912789.0,6855713.0,2786844.0,619896.0,26969307.0,31949777.0,127575529.0,3225167.0,622137.0,36471769.0,30366036.0,54045420.0,2494530.0,17332850.0,4917000.0,6545502.0,200963599.0,5347896.0,4974986.0,216565318.0,7044636.0,32510453.0,108116615.0,37970874.0,10269417.0,2832067.0,19356544.0,144373535.0,34268528.0,16296364.0,6944975.0,5454073.0,2087946.0,58558270.0,47076781.0,581363.0,10285453.0,8574832.0,69625582.0,83429615.0,44269594.0,44385155.0,9770529.0,66834405.0,328239523.0,3461734.0,33580650.0,17861030.0,14645468.0],\"type\":\"choropleth\"}],                        {\"geo\":{\"projection\":{\"type\":\"equirectangular\"},\"showcoastlines\":false,\"showframe\":false},\"height\":800,\"margin\":{\"b\":0,\"l\":0,\"r\":0,\"t\":100},\"template\":{\"data\":{\"barpolar\":[{\"marker\":{\"line\":{\"color\":\"#E5ECF6\",\"width\":0.5},\"pattern\":{\"fillmode\":\"overlay\",\"size\":10,\"solidity\":0.2}},\"type\":\"barpolar\"}],\"bar\":[{\"error_x\":{\"color\":\"#2a3f5f\"},\"error_y\":{\"color\":\"#2a3f5f\"},\"marker\":{\"line\":{\"color\":\"#E5ECF6\",\"width\":0.5},\"pattern\":{\"fillmode\":\"overlay\",\"size\":10,\"solidity\":0.2}},\"type\":\"bar\"}],\"carpet\":[{\"aaxis\":{\"endlinecolor\":\"#2a3f5f\",\"gridcolor\":\"white\",\"linecolor\":\"white\",\"minorgridcolor\":\"white\",\"startlinecolor\":\"#2a3f5f\"},\"baxis\":{\"endlinecolor\":\"#2a3f5f\",\"gridcolor\":\"white\",\"linecolor\":\"white\",\"minorgridcolor\":\"white\",\"startlinecolor\":\"#2a3f5f\"},\"type\":\"carpet\"}],\"choropleth\":[{\"colorbar\":{\"outlinewidth\":0,\"ticks\":\"\"},\"type\":\"choropleth\"}],\"contourcarpet\":[{\"colorbar\":{\"outlinewidth\":0,\"ticks\":\"\"},\"type\":\"contourcarpet\"}],\"contour\":[{\"colorbar\":{\"outlinewidth\":0,\"ticks\":\"\"},\"colorscale\":[[0.0,\"#0d0887\"],[0.1111111111111111,\"#46039f\"],[0.2222222222222222,\"#7201a8\"],[0.3333333333333333,\"#9c179e\"],[0.4444444444444444,\"#bd3786\"],[0.5555555555555556,\"#d8576b\"],[0.6666666666666666,\"#ed7953\"],[0.7777777777777778,\"#fb9f3a\"],[0.8888888888888888,\"#fdca26\"],[1.0,\"#f0f921\"]],\"type\":\"contour\"}],\"heatmapgl\":[{\"colorbar\":{\"outlinewidth\":0,\"ticks\":\"\"},\"colorscale\":[[0.0,\"#0d0887\"],[0.1111111111111111,\"#46039f\"],[0.2222222222222222,\"#7201a8\"],[0.3333333333333333,\"#9c179e\"],[0.4444444444444444,\"#bd3786\"],[0.5555555555555556,\"#d8576b\"],[0.6666666666666666,\"#ed7953\"],[0.7777777777777778,\"#fb9f3a\"],[0.8888888888888888,\"#fdca26\"],[1.0,\"#f0f921\"]],\"type\":\"heatmapgl\"}],\"heatmap\":[{\"colorbar\":{\"outlinewidth\":0,\"ticks\":\"\"},\"colorscale\":[[0.0,\"#0d0887\"],[0.1111111111111111,\"#46039f\"],[0.2222222222222222,\"#7201a8\"],[0.3333333333333333,\"#9c179e\"],[0.4444444444444444,\"#bd3786\"],[0.5555555555555556,\"#d8576b\"],[0.6666666666666666,\"#ed7953\"],[0.7777777777777778,\"#fb9f3a\"],[0.8888888888888888,\"#fdca26\"],[1.0,\"#f0f921\"]],\"type\":\"heatmap\"}],\"histogram2dcontour\":[{\"colorbar\":{\"outlinewidth\":0,\"ticks\":\"\"},\"colorscale\":[[0.0,\"#0d0887\"],[0.1111111111111111,\"#46039f\"],[0.2222222222222222,\"#7201a8\"],[0.3333333333333333,\"#9c179e\"],[0.4444444444444444,\"#bd3786\"],[0.5555555555555556,\"#d8576b\"],[0.6666666666666666,\"#ed7953\"],[0.7777777777777778,\"#fb9f3a\"],[0.8888888888888888,\"#fdca26\"],[1.0,\"#f0f921\"]],\"type\":\"histogram2dcontour\"}],\"histogram2d\":[{\"colorbar\":{\"outlinewidth\":0,\"ticks\":\"\"},\"colorscale\":[[0.0,\"#0d0887\"],[0.1111111111111111,\"#46039f\"],[0.2222222222222222,\"#7201a8\"],[0.3333333333333333,\"#9c179e\"],[0.4444444444444444,\"#bd3786\"],[0.5555555555555556,\"#d8576b\"],[0.6666666666666666,\"#ed7953\"],[0.7777777777777778,\"#fb9f3a\"],[0.8888888888888888,\"#fdca26\"],[1.0,\"#f0f921\"]],\"type\":\"histogram2d\"}],\"histogram\":[{\"marker\":{\"pattern\":{\"fillmode\":\"overlay\",\"size\":10,\"solidity\":0.2}},\"type\":\"histogram\"}],\"mesh3d\":[{\"colorbar\":{\"outlinewidth\":0,\"ticks\":\"\"},\"type\":\"mesh3d\"}],\"parcoords\":[{\"line\":{\"colorbar\":{\"outlinewidth\":0,\"ticks\":\"\"}},\"type\":\"parcoords\"}],\"pie\":[{\"automargin\":true,\"type\":\"pie\"}],\"scatter3d\":[{\"line\":{\"colorbar\":{\"outlinewidth\":0,\"ticks\":\"\"}},\"marker\":{\"colorbar\":{\"outlinewidth\":0,\"ticks\":\"\"}},\"type\":\"scatter3d\"}],\"scattercarpet\":[{\"marker\":{\"colorbar\":{\"outlinewidth\":0,\"ticks\":\"\"}},\"type\":\"scattercarpet\"}],\"scattergeo\":[{\"marker\":{\"colorbar\":{\"outlinewidth\":0,\"ticks\":\"\"}},\"type\":\"scattergeo\"}],\"scattergl\":[{\"marker\":{\"colorbar\":{\"outlinewidth\":0,\"ticks\":\"\"}},\"type\":\"scattergl\"}],\"scattermapbox\":[{\"marker\":{\"colorbar\":{\"outlinewidth\":0,\"ticks\":\"\"}},\"type\":\"scattermapbox\"}],\"scatterpolargl\":[{\"marker\":{\"colorbar\":{\"outlinewidth\":0,\"ticks\":\"\"}},\"type\":\"scatterpolargl\"}],\"scatterpolar\":[{\"marker\":{\"colorbar\":{\"outlinewidth\":0,\"ticks\":\"\"}},\"type\":\"scatterpolar\"}],\"scatter\":[{\"fillpattern\":{\"fillmode\":\"overlay\",\"size\":10,\"solidity\":0.2},\"type\":\"scatter\"}],\"scatterternary\":[{\"marker\":{\"colorbar\":{\"outlinewidth\":0,\"ticks\":\"\"}},\"type\":\"scatterternary\"}],\"surface\":[{\"colorbar\":{\"outlinewidth\":0,\"ticks\":\"\"},\"colorscale\":[[0.0,\"#0d0887\"],[0.1111111111111111,\"#46039f\"],[0.2222222222222222,\"#7201a8\"],[0.3333333333333333,\"#9c179e\"],[0.4444444444444444,\"#bd3786\"],[0.5555555555555556,\"#d8576b\"],[0.6666666666666666,\"#ed7953\"],[0.7777777777777778,\"#fb9f3a\"],[0.8888888888888888,\"#fdca26\"],[1.0,\"#f0f921\"]],\"type\":\"surface\"}],\"table\":[{\"cells\":{\"fill\":{\"color\":\"#EBF0F8\"},\"line\":{\"color\":\"white\"}},\"header\":{\"fill\":{\"color\":\"#C8D4E3\"},\"line\":{\"color\":\"white\"}},\"type\":\"table\"}]},\"layout\":{\"annotationdefaults\":{\"arrowcolor\":\"#2a3f5f\",\"arrowhead\":0,\"arrowwidth\":1},\"autotypenumbers\":\"strict\",\"coloraxis\":{\"colorbar\":{\"outlinewidth\":0,\"ticks\":\"\"}},\"colorscale\":{\"diverging\":[[0,\"#8e0152\"],[0.1,\"#c51b7d\"],[0.2,\"#de77ae\"],[0.3,\"#f1b6da\"],[0.4,\"#fde0ef\"],[0.5,\"#f7f7f7\"],[0.6,\"#e6f5d0\"],[0.7,\"#b8e186\"],[0.8,\"#7fbc41\"],[0.9,\"#4d9221\"],[1,\"#276419\"]],\"sequential\":[[0.0,\"#0d0887\"],[0.1111111111111111,\"#46039f\"],[0.2222222222222222,\"#7201a8\"],[0.3333333333333333,\"#9c179e\"],[0.4444444444444444,\"#bd3786\"],[0.5555555555555556,\"#d8576b\"],[0.6666666666666666,\"#ed7953\"],[0.7777777777777778,\"#fb9f3a\"],[0.8888888888888888,\"#fdca26\"],[1.0,\"#f0f921\"]],\"sequentialminus\":[[0.0,\"#0d0887\"],[0.1111111111111111,\"#46039f\"],[0.2222222222222222,\"#7201a8\"],[0.3333333333333333,\"#9c179e\"],[0.4444444444444444,\"#bd3786\"],[0.5555555555555556,\"#d8576b\"],[0.6666666666666666,\"#ed7953\"],[0.7777777777777778,\"#fb9f3a\"],[0.8888888888888888,\"#fdca26\"],[1.0,\"#f0f921\"]]},\"colorway\":[\"#636efa\",\"#EF553B\",\"#00cc96\",\"#ab63fa\",\"#FFA15A\",\"#19d3f3\",\"#FF6692\",\"#B6E880\",\"#FF97FF\",\"#FECB52\"],\"font\":{\"color\":\"#2a3f5f\"},\"geo\":{\"bgcolor\":\"white\",\"lakecolor\":\"white\",\"landcolor\":\"#E5ECF6\",\"showlakes\":true,\"showland\":true,\"subunitcolor\":\"white\"},\"hoverlabel\":{\"align\":\"left\"},\"hovermode\":\"closest\",\"mapbox\":{\"style\":\"light\"},\"paper_bgcolor\":\"white\",\"plot_bgcolor\":\"#E5ECF6\",\"polar\":{\"angularaxis\":{\"gridcolor\":\"white\",\"linecolor\":\"white\",\"ticks\":\"\"},\"bgcolor\":\"#E5ECF6\",\"radialaxis\":{\"gridcolor\":\"white\",\"linecolor\":\"white\",\"ticks\":\"\"}},\"scene\":{\"xaxis\":{\"backgroundcolor\":\"#E5ECF6\",\"gridcolor\":\"white\",\"gridwidth\":2,\"linecolor\":\"white\",\"showbackground\":true,\"ticks\":\"\",\"zerolinecolor\":\"white\"},\"yaxis\":{\"backgroundcolor\":\"#E5ECF6\",\"gridcolor\":\"white\",\"gridwidth\":2,\"linecolor\":\"white\",\"showbackground\":true,\"ticks\":\"\",\"zerolinecolor\":\"white\"},\"zaxis\":{\"backgroundcolor\":\"#E5ECF6\",\"gridcolor\":\"white\",\"gridwidth\":2,\"linecolor\":\"white\",\"showbackground\":true,\"ticks\":\"\",\"zerolinecolor\":\"white\"}},\"shapedefaults\":{\"line\":{\"color\":\"#2a3f5f\"}},\"ternary\":{\"aaxis\":{\"gridcolor\":\"white\",\"linecolor\":\"white\",\"ticks\":\"\"},\"baxis\":{\"gridcolor\":\"white\",\"linecolor\":\"white\",\"ticks\":\"\"},\"bgcolor\":\"#E5ECF6\",\"caxis\":{\"gridcolor\":\"white\",\"linecolor\":\"white\",\"ticks\":\"\"}},\"title\":{\"x\":0.05},\"xaxis\":{\"automargin\":true,\"gridcolor\":\"white\",\"linecolor\":\"white\",\"ticks\":\"\",\"title\":{\"standoff\":15},\"zerolinecolor\":\"white\",\"zerolinewidth\":2},\"yaxis\":{\"automargin\":true,\"gridcolor\":\"white\",\"linecolor\":\"white\",\"ticks\":\"\",\"title\":{\"standoff\":15},\"zerolinecolor\":\"white\",\"zerolinewidth\":2}}},\"title\":{\"text\":\"Population by Country\"}},                        {\"responsive\": true}                    ).then(function(){\n",
       "                            \n",
       "var gd = document.getElementById('756e7815-fbcf-4257-b672-ceea16e9dfee');\n",
       "var x = new MutationObserver(function (mutations, observer) {{\n",
       "        var display = window.getComputedStyle(gd).display;\n",
       "        if (!display || display === 'none') {{\n",
       "            console.log([gd, 'removed!']);\n",
       "            Plotly.purge(gd);\n",
       "            observer.disconnect();\n",
       "        }}\n",
       "}});\n",
       "\n",
       "// Listen for the removal of the full notebook cells\n",
       "var notebookContainer = gd.closest('#notebook-container');\n",
       "if (notebookContainer) {{\n",
       "    x.observe(notebookContainer, {childList: true});\n",
       "}}\n",
       "\n",
       "// Listen for the clearing of the current output cell\n",
       "var outputEl = gd.closest('.output');\n",
       "if (outputEl) {{\n",
       "    x.observe(outputEl, {childList: true});\n",
       "}}\n",
       "\n",
       "                        })                };                });            </script>        </div>"
      ]
     },
     "metadata": {},
     "output_type": "display_data"
    }
   ],
   "source": [
    "import plotly.graph_objects as go\n",
    "import plotly.offline as py\n",
    "from IPython.display import clear_output\n",
    "import pandas as pd\n",
    "from ipywidgets import interactive, HBox, VBox, widgets, interact\n",
    "py.init_notebook_mode()\n",
    "\n",
    "fig = go.Figure(data=go.Choropleth(\n",
    "    locations = gdp['CODE'],\n",
    "    z = gdp['POPULATION_EST'],\n",
    "    text = gdp['COUNTRY_AREA'],\n",
    "    colorscale = 'RdBu',\n",
    "    autocolorscale=False,\n",
    "    reversescale=True,\n",
    "    marker_line_color='darkgray',\n",
    "    marker_line_width=0.5,\n",
    "    colorbar_tickprefix = '$'))\n",
    "\n",
    "fig.update_layout(\n",
    "    height=800,\n",
    "    title=\"Population by Country\",\n",
    "    margin={\"r\":0,\"t\":100,\"l\":0,\"b\":0},\n",
    "    geo=dict(\n",
    "        showframe=False,\n",
    "        showcoastlines=False,\n",
    "        projection_type='equirectangular',\n",
    "        \n",
    "    )\n",
    ")\n",
    "clear_output()\n",
    "py.iplot(fig)\n"
   ]
  },
  {
   "cell_type": "code",
   "execution_count": 16,
   "metadata": {},
   "outputs": [
    {
     "data": {
      "text/html": [
       "<div>\n",
       "<style scoped>\n",
       "    .dataframe tbody tr th:only-of-type {\n",
       "        vertical-align: middle;\n",
       "    }\n",
       "\n",
       "    .dataframe tbody tr th {\n",
       "        vertical-align: top;\n",
       "    }\n",
       "\n",
       "    .dataframe thead th {\n",
       "        text-align: right;\n",
       "    }\n",
       "</style>\n",
       "<table border=\"1\" class=\"dataframe\">\n",
       "  <thead>\n",
       "    <tr style=\"text-align: right;\">\n",
       "      <th></th>\n",
       "      <th>CODE</th>\n",
       "      <th>CONTINENT</th>\n",
       "      <th>GDP_EST</th>\n",
       "      <th>POPULATION_EST</th>\n",
       "      <th>TRADEUSD</th>\n",
       "    </tr>\n",
       "  </thead>\n",
       "  <tbody>\n",
       "    <tr>\n",
       "      <th>0</th>\n",
       "      <td>AFG</td>\n",
       "      <td>Asia</td>\n",
       "      <td>19291.00</td>\n",
       "      <td>38041754.00</td>\n",
       "      <td>14813180649.50</td>\n",
       "    </tr>\n",
       "    <tr>\n",
       "      <th>1</th>\n",
       "      <td>AGO</td>\n",
       "      <td>Africa</td>\n",
       "      <td>88815.00</td>\n",
       "      <td>31825295.00</td>\n",
       "      <td>32706121435.46</td>\n",
       "    </tr>\n",
       "    <tr>\n",
       "      <th>2</th>\n",
       "      <td>ALB</td>\n",
       "      <td>Europe</td>\n",
       "      <td>15279.00</td>\n",
       "      <td>2854191.00</td>\n",
       "      <td>11882573898.97</td>\n",
       "    </tr>\n",
       "    <tr>\n",
       "      <th>3</th>\n",
       "      <td>ARE</td>\n",
       "      <td>Asia</td>\n",
       "      <td>421142.00</td>\n",
       "      <td>9770529.00</td>\n",
       "      <td>260552532150.98</td>\n",
       "    </tr>\n",
       "    <tr>\n",
       "      <th>4</th>\n",
       "      <td>ARG</td>\n",
       "      <td>South America</td>\n",
       "      <td>445445.00</td>\n",
       "      <td>44938712.00</td>\n",
       "      <td>130881932331.28</td>\n",
       "    </tr>\n",
       "    <tr>\n",
       "      <th>...</th>\n",
       "      <td>...</td>\n",
       "      <td>...</td>\n",
       "      <td>...</td>\n",
       "      <td>...</td>\n",
       "      <td>...</td>\n",
       "    </tr>\n",
       "    <tr>\n",
       "      <th>98</th>\n",
       "      <td>USA</td>\n",
       "      <td>North America</td>\n",
       "      <td>21433226.00</td>\n",
       "      <td>328239523.00</td>\n",
       "      <td>2825033172817.21</td>\n",
       "    </tr>\n",
       "    <tr>\n",
       "      <th>99</th>\n",
       "      <td>UZB</td>\n",
       "      <td>Asia</td>\n",
       "      <td>57921.00</td>\n",
       "      <td>33580650.00</td>\n",
       "      <td>18830192264.57</td>\n",
       "    </tr>\n",
       "    <tr>\n",
       "      <th>100</th>\n",
       "      <td>ZAF</td>\n",
       "      <td>Africa</td>\n",
       "      <td>351431.00</td>\n",
       "      <td>58558270.00</td>\n",
       "      <td>106341593694.83</td>\n",
       "    </tr>\n",
       "    <tr>\n",
       "      <th>101</th>\n",
       "      <td>ZMB</td>\n",
       "      <td>Africa</td>\n",
       "      <td>23309.00</td>\n",
       "      <td>17861030.00</td>\n",
       "      <td>11022754806.72</td>\n",
       "    </tr>\n",
       "    <tr>\n",
       "      <th>102</th>\n",
       "      <td>ZWE</td>\n",
       "      <td>Africa</td>\n",
       "      <td>21440.00</td>\n",
       "      <td>14645468.00</td>\n",
       "      <td>6803843221.55</td>\n",
       "    </tr>\n",
       "  </tbody>\n",
       "</table>\n",
       "<p>103 rows × 5 columns</p>\n",
       "</div>"
      ],
      "text/plain": [
       "    CODE      CONTINENT     GDP_EST  POPULATION_EST         TRADEUSD\n",
       "0    AFG           Asia    19291.00     38041754.00   14813180649.50\n",
       "1    AGO         Africa    88815.00     31825295.00   32706121435.46\n",
       "2    ALB         Europe    15279.00      2854191.00   11882573898.97\n",
       "3    ARE           Asia   421142.00      9770529.00  260552532150.98\n",
       "4    ARG  South America   445445.00     44938712.00  130881932331.28\n",
       "..   ...            ...         ...             ...              ...\n",
       "98   USA  North America 21433226.00    328239523.00 2825033172817.21\n",
       "99   UZB           Asia    57921.00     33580650.00   18830192264.57\n",
       "100  ZAF         Africa   351431.00     58558270.00  106341593694.83\n",
       "101  ZMB         Africa    23309.00     17861030.00   11022754806.72\n",
       "102  ZWE         Africa    21440.00     14645468.00    6803843221.55\n",
       "\n",
       "[103 rows x 5 columns]"
      ]
     },
     "execution_count": 16,
     "metadata": {},
     "output_type": "execute_result"
    }
   ],
   "source": [
    "import seaborn as sns\n",
    "import_df=df_agg[df_agg['FLOW']=='Import'].groupby(['CODE', 'CONTINENT', 'GDP_EST', 'POPULATION_EST'], as_index=False)[['TRADEUSD']].sum()\n",
    "export_df=df_agg[df_agg['FLOW']=='Export'].groupby(['CODE', 'CONTINENT', 'GDP_EST', 'POPULATION_EST'], as_index=False)[['TRADEUSD']].sum()\n",
    "import_df"
   ]
  },
  {
   "cell_type": "code",
   "execution_count": 17,
   "metadata": {},
   "outputs": [
    {
     "data": {
      "text/plain": [
       "Text(0.5, 0.98, 'IMPORT CORRELATIONS')"
      ]
     },
     "execution_count": 17,
     "metadata": {},
     "output_type": "execute_result"
    },
    {
     "data": {
      "image/png": "[encoded data removed]",
      "text/plain": [
       "<Figure size 902x750 with 12 Axes>"
      ]
     },
     "metadata": {},
     "output_type": "display_data"
    }
   ],
   "source": [
    "g=sns.pairplot(import_df, hue=\"CONTINENT\", diag_kind=\"hist\")\n",
    "g.fig.suptitle(\"IMPORT CORRELATIONS\")"
   ]
  },
  {
   "cell_type": "code",
   "execution_count": 18,
   "metadata": {},
   "outputs": [
    {
     "data": {
      "text/plain": [
       "Text(0.5, 0.98, 'EXPORT CORRELATIONS')"
      ]
     },
     "execution_count": 18,
     "metadata": {},
     "output_type": "execute_result"
    },
    {
     "data": {
      "image/png": "[encoded data removed]",
      "text/plain": [
       "<Figure size 902x750 with 12 Axes>"
      ]
     },
     "metadata": {},
     "output_type": "display_data"
    }
   ],
   "source": [
    "g=sns.pairplot(export_df, hue=\"CONTINENT\", diag_kind=\"hist\")\n",
    "g.fig.suptitle(\"EXPORT CORRELATIONS\")"
   ]
  },
  {
   "cell_type": "code",
   "execution_count": 19,
   "metadata": {},
   "outputs": [
    {
     "data": {
      "text/plain": [
       "Text(0.5, 0.98, 'IMPORT CONTINENT CORRELATIONS')"
      ]
     },
     "execution_count": 19,
     "metadata": {},
     "output_type": "execute_result"
    },
    {
     "data": {
      "text/plain": [
       "<seaborn.axisgrid.FacetGrid at 0x7f38cdc9efb0>"
      ]
     },
     "execution_count": 19,
     "metadata": {},
     "output_type": "execute_result"
    },
    {
     "data": {
      "image/png": "[encoded data removed]",
      "text/plain": [
       "<Figure size 500x500 with 1 Axes>"
      ]
     },
     "metadata": {},
     "output_type": "display_data"
    }
   ],
   "source": [
    "g = sns.catplot(data=import_df, x=\"CONTINENT\", y=\"TRADEUSD\")\n",
    "g.fig.suptitle(\"IMPORT CONTINENT CORRELATIONS\")\n",
    "g.set_xticklabels(rotation=-30)\n"
   ]
  },
  {
   "cell_type": "code",
   "execution_count": 20,
   "metadata": {},
   "outputs": [
    {
     "data": {
      "text/plain": [
       "Text(0.5, 0.98, 'EXPORT CONTINENT CORRELATIONS')"
      ]
     },
     "execution_count": 20,
     "metadata": {},
     "output_type": "execute_result"
    },
    {
     "data": {
      "text/plain": [
       "<seaborn.axisgrid.FacetGrid at 0x7f38cdcfe170>"
      ]
     },
     "execution_count": 20,
     "metadata": {},
     "output_type": "execute_result"
    },
    {
     "data": {
      "image/png": "[encoded data removed]",
      "text/plain": [
       "<Figure size 500x500 with 1 Axes>"
      ]
     },
     "metadata": {},
     "output_type": "display_data"
    }
   ],
   "source": [
    "g = sns.catplot(data=export_df, x=\"CONTINENT\", y=\"TRADEUSD\")\n",
    "g.fig.suptitle(\"EXPORT CONTINENT CORRELATIONS\")\n",
    "g.set_xticklabels(rotation=-30)\n"
   ]
  },
  {
   "cell_type": "markdown",
   "metadata": {},
   "source": [
    "### V.SUMMARY"
   ]
  },
  {
   "cell_type": "markdown",
   "metadata": {},
   "source": [
    "### Summary of Project\n",
    "#### This project turned out to be quite difficult. It was hard to denoise the data and I had to move to a simpler hypothesis. \n",
    "#### I could have employed some dimensionality reduction techniques but that would have taken quite some time. \n",
    "#### Additionally, preparing computing resources for this large dataset turned out to be quite difficult as well. "
   ]
  },
  {
   "cell_type": "markdown",
   "metadata": {},
   "source": [
    "### Some final Conclusions\n",
    "##### It looks like there are a number of obvious factors that have an impact on a country's import and exports. The primary one being pretty obvious, a countries gross domestic product. \n",
    "##### It also appears that there are additional factors such as a countries population and Continent have some impact.\n",
    "##### The primary issue with this data is the dimensionality of the various trading categories and it is quite hare to look at as a whole.\n",
    "##### this makes sense because it is excompassing so complex as a whole. Global trading. "
   ]
  },
  {
   "cell_type": "markdown",
   "metadata": {},
   "source": [
    "### Next Steps\n",
    "##### The most prudent next step for any data scientist will be isolating factors if they were creating a model.\n",
    "##### I would personally use some dimensionality reduction methods next. \n",
    "##### Additionally, unsupervised learning methods should be used to identify those factors."
   ]
  }
 ],
 "metadata": {
  "kernelspec": {
   "display_name": "Python 3.10.6 64-bit",
   "language": "python",
   "name": "python3"
  },
  "language_info": {
   "codemirror_mode": {
    "name": "ipython",
    "version": 3
   },
   "file_extension": ".py",
   "mimetype": "text/x-python",
   "name": "python",
   "nbconvert_exporter": "python",
   "pygments_lexer": "ipython3",
   "version": "3.10.6"
  },
  "orig_nbformat": 4,
  "vscode": {
   "interpreter": {
    "hash": "31f2aee4e71d21fbe5cf8b01ff0e069b9275f58929596ceb00d14d90e3e16cd6"
   }
  }
 },
 "nbformat": 4,
 "nbformat_minor": 2
}
